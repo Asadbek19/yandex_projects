{
 "cells": [
  {
   "cell_type": "markdown",
   "id": "551ab3e6",
   "metadata": {},
   "source": [
    "# Статистический анализ данных #\n",
    "\n",
    "Вы аналитик популярного сервиса аренды самокатов GoFast. Вам передали данные о некоторых пользователях из нескольких городов, а также об их поездках. Проанализируйте данные и проверьте некоторые гипотезы, которые могут помочь бизнесу вырасти.\n",
    "\n",
    "Чтобы совершать поездки по городу, пользователи сервиса GoFast пользуются мобильным приложением. Сервисом можно пользоваться:\n",
    "- без подписки\n",
    "  - абонентская плата отсутствует;\n",
    "  - стоимость одной минуты поездки — `8` рублей;\n",
    "  - стоимость старта (начала поездки) — `50` рублей;\n",
    "- с подпиской Ultra\n",
    "  - абонентская плата — `199` рублей в месяц;\n",
    "  - стоимость одной минуты поездки — `6` рублей;\n",
    "  - стоимость старта — бесплатно.\n",
    "\n",
    "\n",
    "**Цель исследования**\n",
    "\n",
    "Проанализировать данные и проверить такие гипотезы как:\n",
    " 1. Тратят ли пользователи с подпиской больше времени на поездки, чем пользователи без подписки.\n",
    " 2. Не превышает ли среднее расстояние 3130 метров за одну поездку, у пользователей с подпиской, т.к. оптимальное с точки зрения износа самоката - 3130 метров. \n",
    " 3. Будет ли помесячная выручка от пользователей с подпиской по месяцам выше, чем выручка от пользователей без подписки.\n",
    " 4. Какой тест понадобится для проверки гипотезы, чтобы узнать, снизилось ли количество обращений в техподдержку после обновления сервера, с которым взаимодействует мобильное приложение?\n",
    " \n",
    " **Ход исследования**\n",
    "\n",
    "Данные о пользователях сервиса получу из файла `/datasets/users_go.csv`, данные о поездках из файла `/datasets/rides_go.csv` и данные о подписках из файла `/datasets/subscriptions_go.csv`. О качестве данных в файлах пока не известно и по этой причине, перед проведением исследований, необходимо провести обзор данных.\n",
    "\n",
    "Я проверю данные на пропущенные значения, ошибки и дублированные значения. На этапе предобработки данных, я поищу возможность исправить все ошибки в данных, которые могут привести к искажению конечного результата исследования. После чего, создам необходимые столбцы, исправлю формат некоторых столбцов в датафреймах и приступлю к проведению исследовательского анализа.\n",
    "\n",
    "Моё исследование будет проходить через следующие этапы:\n",
    "- Обзор данных;\n",
    "- Предобработка данных;\n",
    "- Описание и визуализация:\n",
    "  - частоты встречаемости городов;\n",
    "  - соотношения пользователей с подпиской и без подписки;\n",
    "  - возраста пользователей;\n",
    "  - расстояния, преодоленное пользователем за одну поездку;\n",
    "  - продолжительности поездок.\n",
    "- Объединение данных;\n",
    "- Подсчёт выручки:\n",
    "- Проверка гипотез.\n",
    "\n"
   ]
  },
  {
   "cell_type": "markdown",
   "id": "48a1d6e5",
   "metadata": {},
   "source": [
    "# Начало исследования #"
   ]
  },
  {
   "cell_type": "code",
   "execution_count": 1,
   "id": "72576667",
   "metadata": {},
   "outputs": [],
   "source": [
    "#imports\n",
    "import pandas as pd\n",
    "import matplotlib.pyplot as plt\n",
    "import numpy as np\n",
    "from scipy import stats as st\n",
    "from scipy.stats import (\n",
    "    ttest_ind, \n",
    "    ttest_1samp\n",
    ")"
   ]
  },
  {
   "cell_type": "markdown",
   "id": "c42cbe00",
   "metadata": {},
   "source": [
    "#### Шаг 1. Загрузка данных"
   ]
  },
  {
   "cell_type": "code",
   "execution_count": 2,
   "id": "eff9f206",
   "metadata": {
    "scrolled": false
   },
   "outputs": [],
   "source": [
    "users = pd.read_csv('/datasets/users_go.csv')\n",
    "rides = pd.read_csv('/datasets/rides_go.csv')\n",
    "subscriptions = pd.read_csv('/datasets/subscriptions_go.csv')"
   ]
  },
  {
   "cell_type": "code",
   "execution_count": 3,
   "id": "500c3161",
   "metadata": {},
   "outputs": [
    {
     "data": {
      "text/html": [
       "<div>\n",
       "<style scoped>\n",
       "    .dataframe tbody tr th:only-of-type {\n",
       "        vertical-align: middle;\n",
       "    }\n",
       "\n",
       "    .dataframe tbody tr th {\n",
       "        vertical-align: top;\n",
       "    }\n",
       "\n",
       "    .dataframe thead th {\n",
       "        text-align: right;\n",
       "    }\n",
       "</style>\n",
       "<table border=\"1\" class=\"dataframe\">\n",
       "  <thead>\n",
       "    <tr style=\"text-align: right;\">\n",
       "      <th></th>\n",
       "      <th>user_id</th>\n",
       "      <th>name</th>\n",
       "      <th>age</th>\n",
       "      <th>city</th>\n",
       "      <th>subscription_type</th>\n",
       "    </tr>\n",
       "  </thead>\n",
       "  <tbody>\n",
       "    <tr>\n",
       "      <th>0</th>\n",
       "      <td>1</td>\n",
       "      <td>Кира</td>\n",
       "      <td>22</td>\n",
       "      <td>Тюмень</td>\n",
       "      <td>ultra</td>\n",
       "    </tr>\n",
       "    <tr>\n",
       "      <th>1</th>\n",
       "      <td>2</td>\n",
       "      <td>Станислав</td>\n",
       "      <td>31</td>\n",
       "      <td>Омск</td>\n",
       "      <td>ultra</td>\n",
       "    </tr>\n",
       "    <tr>\n",
       "      <th>2</th>\n",
       "      <td>3</td>\n",
       "      <td>Алексей</td>\n",
       "      <td>20</td>\n",
       "      <td>Москва</td>\n",
       "      <td>ultra</td>\n",
       "    </tr>\n",
       "    <tr>\n",
       "      <th>3</th>\n",
       "      <td>4</td>\n",
       "      <td>Константин</td>\n",
       "      <td>26</td>\n",
       "      <td>Ростов-на-Дону</td>\n",
       "      <td>ultra</td>\n",
       "    </tr>\n",
       "    <tr>\n",
       "      <th>4</th>\n",
       "      <td>5</td>\n",
       "      <td>Адель</td>\n",
       "      <td>28</td>\n",
       "      <td>Омск</td>\n",
       "      <td>ultra</td>\n",
       "    </tr>\n",
       "  </tbody>\n",
       "</table>\n",
       "</div>"
      ],
      "text/plain": [
       "   user_id        name  age            city subscription_type\n",
       "0        1        Кира   22          Тюмень             ultra\n",
       "1        2   Станислав   31            Омск             ultra\n",
       "2        3     Алексей   20          Москва             ultra\n",
       "3        4  Константин   26  Ростов-на-Дону             ultra\n",
       "4        5       Адель   28            Омск             ultra"
      ]
     },
     "metadata": {},
     "output_type": "display_data"
    },
    {
     "data": {
      "text/html": [
       "<div>\n",
       "<style scoped>\n",
       "    .dataframe tbody tr th:only-of-type {\n",
       "        vertical-align: middle;\n",
       "    }\n",
       "\n",
       "    .dataframe tbody tr th {\n",
       "        vertical-align: top;\n",
       "    }\n",
       "\n",
       "    .dataframe thead th {\n",
       "        text-align: right;\n",
       "    }\n",
       "</style>\n",
       "<table border=\"1\" class=\"dataframe\">\n",
       "  <thead>\n",
       "    <tr style=\"text-align: right;\">\n",
       "      <th></th>\n",
       "      <th>user_id</th>\n",
       "      <th>distance</th>\n",
       "      <th>duration</th>\n",
       "      <th>date</th>\n",
       "    </tr>\n",
       "  </thead>\n",
       "  <tbody>\n",
       "    <tr>\n",
       "      <th>0</th>\n",
       "      <td>1</td>\n",
       "      <td>4409.919140</td>\n",
       "      <td>25.599769</td>\n",
       "      <td>2021-01-01</td>\n",
       "    </tr>\n",
       "    <tr>\n",
       "      <th>1</th>\n",
       "      <td>1</td>\n",
       "      <td>2617.592153</td>\n",
       "      <td>15.816871</td>\n",
       "      <td>2021-01-18</td>\n",
       "    </tr>\n",
       "    <tr>\n",
       "      <th>2</th>\n",
       "      <td>1</td>\n",
       "      <td>754.159807</td>\n",
       "      <td>6.232113</td>\n",
       "      <td>2021-04-20</td>\n",
       "    </tr>\n",
       "    <tr>\n",
       "      <th>3</th>\n",
       "      <td>1</td>\n",
       "      <td>2694.783254</td>\n",
       "      <td>18.511000</td>\n",
       "      <td>2021-08-11</td>\n",
       "    </tr>\n",
       "    <tr>\n",
       "      <th>4</th>\n",
       "      <td>1</td>\n",
       "      <td>4028.687306</td>\n",
       "      <td>26.265803</td>\n",
       "      <td>2021-08-28</td>\n",
       "    </tr>\n",
       "  </tbody>\n",
       "</table>\n",
       "</div>"
      ],
      "text/plain": [
       "   user_id     distance   duration        date\n",
       "0        1  4409.919140  25.599769  2021-01-01\n",
       "1        1  2617.592153  15.816871  2021-01-18\n",
       "2        1   754.159807   6.232113  2021-04-20\n",
       "3        1  2694.783254  18.511000  2021-08-11\n",
       "4        1  4028.687306  26.265803  2021-08-28"
      ]
     },
     "metadata": {},
     "output_type": "display_data"
    },
    {
     "data": {
      "text/html": [
       "<div>\n",
       "<style scoped>\n",
       "    .dataframe tbody tr th:only-of-type {\n",
       "        vertical-align: middle;\n",
       "    }\n",
       "\n",
       "    .dataframe tbody tr th {\n",
       "        vertical-align: top;\n",
       "    }\n",
       "\n",
       "    .dataframe thead th {\n",
       "        text-align: right;\n",
       "    }\n",
       "</style>\n",
       "<table border=\"1\" class=\"dataframe\">\n",
       "  <thead>\n",
       "    <tr style=\"text-align: right;\">\n",
       "      <th></th>\n",
       "      <th>subscription_type</th>\n",
       "      <th>minute_price</th>\n",
       "      <th>start_ride_price</th>\n",
       "      <th>subscription_fee</th>\n",
       "    </tr>\n",
       "  </thead>\n",
       "  <tbody>\n",
       "    <tr>\n",
       "      <th>0</th>\n",
       "      <td>free</td>\n",
       "      <td>8</td>\n",
       "      <td>50</td>\n",
       "      <td>0</td>\n",
       "    </tr>\n",
       "    <tr>\n",
       "      <th>1</th>\n",
       "      <td>ultra</td>\n",
       "      <td>6</td>\n",
       "      <td>0</td>\n",
       "      <td>199</td>\n",
       "    </tr>\n",
       "  </tbody>\n",
       "</table>\n",
       "</div>"
      ],
      "text/plain": [
       "  subscription_type  minute_price  start_ride_price  subscription_fee\n",
       "0              free             8                50                 0\n",
       "1             ultra             6                 0               199"
      ]
     },
     "metadata": {},
     "output_type": "display_data"
    }
   ],
   "source": [
    "display(users.head())\n",
    "display(rides.head())\n",
    "display(subscriptions)"
   ]
  },
  {
   "cell_type": "code",
   "execution_count": 4,
   "id": "25e4d85b",
   "metadata": {},
   "outputs": [
    {
     "name": "stdout",
     "output_type": "stream",
     "text": [
      "users:  1565\n",
      "rides:  18068\n",
      "subscriptions:  2\n"
     ]
    }
   ],
   "source": [
    "# Количество значений\n",
    "print(\"users: \", users.shape[0])\n",
    "print(\"rides: \", rides.shape[0])\n",
    "print(\"subscriptions: \", subscriptions.shape[0])"
   ]
  },
  {
   "cell_type": "code",
   "execution_count": 5,
   "id": "f0e43262",
   "metadata": {},
   "outputs": [
    {
     "name": "stdout",
     "output_type": "stream",
     "text": [
      "<class 'pandas.core.frame.DataFrame'>\n",
      "RangeIndex: 1565 entries, 0 to 1564\n",
      "Data columns (total 5 columns):\n",
      " #   Column             Non-Null Count  Dtype \n",
      "---  ------             --------------  ----- \n",
      " 0   user_id            1565 non-null   int64 \n",
      " 1   name               1565 non-null   object\n",
      " 2   age                1565 non-null   int64 \n",
      " 3   city               1565 non-null   object\n",
      " 4   subscription_type  1565 non-null   object\n",
      "dtypes: int64(2), object(3)\n",
      "memory usage: 61.3+ KB\n"
     ]
    }
   ],
   "source": [
    "users.info()"
   ]
  },
  {
   "cell_type": "code",
   "execution_count": 6,
   "id": "28be4fc5",
   "metadata": {},
   "outputs": [
    {
     "name": "stdout",
     "output_type": "stream",
     "text": [
      "<class 'pandas.core.frame.DataFrame'>\n",
      "RangeIndex: 18068 entries, 0 to 18067\n",
      "Data columns (total 4 columns):\n",
      " #   Column    Non-Null Count  Dtype  \n",
      "---  ------    --------------  -----  \n",
      " 0   user_id   18068 non-null  int64  \n",
      " 1   distance  18068 non-null  float64\n",
      " 2   duration  18068 non-null  float64\n",
      " 3   date      18068 non-null  object \n",
      "dtypes: float64(2), int64(1), object(1)\n",
      "memory usage: 564.8+ KB\n"
     ]
    }
   ],
   "source": [
    "rides.info()"
   ]
  },
  {
   "cell_type": "code",
   "execution_count": 7,
   "id": "31e2bc11",
   "metadata": {},
   "outputs": [
    {
     "name": "stdout",
     "output_type": "stream",
     "text": [
      "<class 'pandas.core.frame.DataFrame'>\n",
      "RangeIndex: 2 entries, 0 to 1\n",
      "Data columns (total 4 columns):\n",
      " #   Column             Non-Null Count  Dtype \n",
      "---  ------             --------------  ----- \n",
      " 0   subscription_type  2 non-null      object\n",
      " 1   minute_price       2 non-null      int64 \n",
      " 2   start_ride_price   2 non-null      int64 \n",
      " 3   subscription_fee   2 non-null      int64 \n",
      "dtypes: int64(3), object(1)\n",
      "memory usage: 192.0+ bytes\n"
     ]
    }
   ],
   "source": [
    "subscriptions.info()"
   ]
  },
  {
   "cell_type": "markdown",
   "id": "e95ebca7",
   "metadata": {},
   "source": [
    "#### Шаг 2. Предобработка данных"
   ]
  },
  {
   "cell_type": "code",
   "execution_count": 8,
   "id": "8e042cea",
   "metadata": {},
   "outputs": [
    {
     "data": {
      "text/html": [
       "<div>\n",
       "<style scoped>\n",
       "    .dataframe tbody tr th:only-of-type {\n",
       "        vertical-align: middle;\n",
       "    }\n",
       "\n",
       "    .dataframe tbody tr th {\n",
       "        vertical-align: top;\n",
       "    }\n",
       "\n",
       "    .dataframe thead th {\n",
       "        text-align: right;\n",
       "    }\n",
       "</style>\n",
       "<table border=\"1\" class=\"dataframe\">\n",
       "  <thead>\n",
       "    <tr style=\"text-align: right;\">\n",
       "      <th></th>\n",
       "      <th>user_id</th>\n",
       "      <th>distance</th>\n",
       "      <th>duration</th>\n",
       "      <th>date</th>\n",
       "      <th>month</th>\n",
       "    </tr>\n",
       "  </thead>\n",
       "  <tbody>\n",
       "    <tr>\n",
       "      <th>0</th>\n",
       "      <td>1</td>\n",
       "      <td>4409.919140</td>\n",
       "      <td>25.599769</td>\n",
       "      <td>2021-01-01</td>\n",
       "      <td>1</td>\n",
       "    </tr>\n",
       "    <tr>\n",
       "      <th>1</th>\n",
       "      <td>1</td>\n",
       "      <td>2617.592153</td>\n",
       "      <td>15.816871</td>\n",
       "      <td>2021-01-18</td>\n",
       "      <td>1</td>\n",
       "    </tr>\n",
       "    <tr>\n",
       "      <th>2</th>\n",
       "      <td>1</td>\n",
       "      <td>754.159807</td>\n",
       "      <td>6.232113</td>\n",
       "      <td>2021-04-20</td>\n",
       "      <td>4</td>\n",
       "    </tr>\n",
       "    <tr>\n",
       "      <th>3</th>\n",
       "      <td>1</td>\n",
       "      <td>2694.783254</td>\n",
       "      <td>18.511000</td>\n",
       "      <td>2021-08-11</td>\n",
       "      <td>8</td>\n",
       "    </tr>\n",
       "    <tr>\n",
       "      <th>4</th>\n",
       "      <td>1</td>\n",
       "      <td>4028.687306</td>\n",
       "      <td>26.265803</td>\n",
       "      <td>2021-08-28</td>\n",
       "      <td>8</td>\n",
       "    </tr>\n",
       "  </tbody>\n",
       "</table>\n",
       "</div>"
      ],
      "text/plain": [
       "   user_id     distance   duration       date  month\n",
       "0        1  4409.919140  25.599769 2021-01-01      1\n",
       "1        1  2617.592153  15.816871 2021-01-18      1\n",
       "2        1   754.159807   6.232113 2021-04-20      4\n",
       "3        1  2694.783254  18.511000 2021-08-11      8\n",
       "4        1  4028.687306  26.265803 2021-08-28      8"
      ]
     },
     "execution_count": 8,
     "metadata": {},
     "output_type": "execute_result"
    }
   ],
   "source": [
    "# Меняем формат даты на date датафрейма rides \n",
    "rides['date'] = pd.to_datetime(rides['date'])\n",
    "\n",
    "# Добавление столбца месяца в датафрейм rides\n",
    "rides['month'] = rides['date'].dt.month\n",
    "rides.head()"
   ]
  },
  {
   "cell_type": "code",
   "execution_count": 9,
   "id": "afe620cf",
   "metadata": {},
   "outputs": [
    {
     "name": "stdout",
     "output_type": "stream",
     "text": [
      "Минимальное:  2021-01-01 00:00:00\n",
      "Максимальное:  2021-12-30 00:00:00\n"
     ]
    }
   ],
   "source": [
    "# Проверяем данные из датафрейма rides на максимальные и минимальные \n",
    "# значения, то есть на разные года.\n",
    "\n",
    "# Минимальное значение\n",
    "min_date = rides['date'].min()\n",
    "# Максимальное значение\n",
    "max_date = rides['date'].max()\n",
    "\n",
    "print('Минимальное: ', min_date)\n",
    "print('Максимальное: ', max_date)"
   ]
  },
  {
   "cell_type": "code",
   "execution_count": 10,
   "id": "056bab4a",
   "metadata": {},
   "outputs": [
    {
     "name": "stdout",
     "output_type": "stream",
     "text": [
      "Данные содержат значения только за один год.\n"
     ]
    }
   ],
   "source": [
    "# Получаем годы из найденных дат\n",
    "min_year = min_date.year\n",
    "max_year = max_date.year\n",
    "\n",
    "# Проверяем, есть ли разные годы\n",
    "if min_year != max_year:\n",
    "    print(\"Данные содержат значения разных годов.\")\n",
    "else:\n",
    "    print(\"Данные содержат значения только за один год.\")\n"
   ]
  },
  {
   "cell_type": "code",
   "execution_count": 11,
   "id": "af6d202c",
   "metadata": {},
   "outputs": [
    {
     "data": {
      "text/plain": [
       "user_id              0\n",
       "name                 0\n",
       "age                  0\n",
       "city                 0\n",
       "subscription_type    0\n",
       "dtype: int64"
      ]
     },
     "execution_count": 11,
     "metadata": {},
     "output_type": "execute_result"
    }
   ],
   "source": [
    "# Проверка на пропущенные значения в датафрейме users\n",
    "check_users_isna = users.isna().sum().sort_values(ascending=False)\n",
    "check_users_isna"
   ]
  },
  {
   "cell_type": "code",
   "execution_count": 12,
   "id": "fbe541a2",
   "metadata": {},
   "outputs": [
    {
     "data": {
      "text/plain": [
       "user_id     0\n",
       "distance    0\n",
       "duration    0\n",
       "date        0\n",
       "month       0\n",
       "dtype: int64"
      ]
     },
     "execution_count": 12,
     "metadata": {},
     "output_type": "execute_result"
    }
   ],
   "source": [
    "# Проверка на пропущенные значения в датафрейме rides\n",
    "check_rides_isna = rides.isna().sum().sort_values(ascending=False)\n",
    "check_rides_isna"
   ]
  },
  {
   "cell_type": "code",
   "execution_count": 13,
   "id": "232f0f4a",
   "metadata": {},
   "outputs": [
    {
     "data": {
      "text/plain": [
       "subscription_type    0\n",
       "minute_price         0\n",
       "start_ride_price     0\n",
       "subscription_fee     0\n",
       "dtype: int64"
      ]
     },
     "execution_count": 13,
     "metadata": {},
     "output_type": "execute_result"
    }
   ],
   "source": [
    "# Проверка на пропущенные значения в датафрейме subscriptions\n",
    "check_subscriptions_isna = subscriptions.isna().sum().sort_values(ascending=False)\n",
    "check_subscriptions_isna"
   ]
  },
  {
   "cell_type": "markdown",
   "id": "292b15c0",
   "metadata": {},
   "source": [
    "**Проверяем на дубликаты**"
   ]
  },
  {
   "cell_type": "code",
   "execution_count": 14,
   "id": "06ca22a6",
   "metadata": {
    "scrolled": false
   },
   "outputs": [
    {
     "data": {
      "text/html": [
       "<div>\n",
       "<style scoped>\n",
       "    .dataframe tbody tr th:only-of-type {\n",
       "        vertical-align: middle;\n",
       "    }\n",
       "\n",
       "    .dataframe tbody tr th {\n",
       "        vertical-align: top;\n",
       "    }\n",
       "\n",
       "    .dataframe thead th {\n",
       "        text-align: right;\n",
       "    }\n",
       "</style>\n",
       "<table border=\"1\" class=\"dataframe\">\n",
       "  <thead>\n",
       "    <tr style=\"text-align: right;\">\n",
       "      <th></th>\n",
       "      <th>user_id</th>\n",
       "      <th>name</th>\n",
       "      <th>age</th>\n",
       "      <th>city</th>\n",
       "      <th>subscription_type</th>\n",
       "    </tr>\n",
       "  </thead>\n",
       "  <tbody>\n",
       "    <tr>\n",
       "      <th>1535</th>\n",
       "      <td>16</td>\n",
       "      <td>Амалия</td>\n",
       "      <td>27</td>\n",
       "      <td>Краснодар</td>\n",
       "      <td>ultra</td>\n",
       "    </tr>\n",
       "    <tr>\n",
       "      <th>15</th>\n",
       "      <td>16</td>\n",
       "      <td>Амалия</td>\n",
       "      <td>27</td>\n",
       "      <td>Краснодар</td>\n",
       "      <td>ultra</td>\n",
       "    </tr>\n",
       "    <tr>\n",
       "      <th>42</th>\n",
       "      <td>43</td>\n",
       "      <td>Стефания</td>\n",
       "      <td>22</td>\n",
       "      <td>Омск</td>\n",
       "      <td>ultra</td>\n",
       "    </tr>\n",
       "    <tr>\n",
       "      <th>1539</th>\n",
       "      <td>43</td>\n",
       "      <td>Стефания</td>\n",
       "      <td>22</td>\n",
       "      <td>Омск</td>\n",
       "      <td>ultra</td>\n",
       "    </tr>\n",
       "    <tr>\n",
       "      <th>1563</th>\n",
       "      <td>47</td>\n",
       "      <td>Юрий</td>\n",
       "      <td>28</td>\n",
       "      <td>Тюмень</td>\n",
       "      <td>ultra</td>\n",
       "    </tr>\n",
       "  </tbody>\n",
       "</table>\n",
       "</div>"
      ],
      "text/plain": [
       "      user_id      name  age       city subscription_type\n",
       "1535       16    Амалия   27  Краснодар             ultra\n",
       "15         16    Амалия   27  Краснодар             ultra\n",
       "42         43  Стефания   22       Омск             ultra\n",
       "1539       43  Стефания   22       Омск             ultra\n",
       "1563       47      Юрий   28     Тюмень             ultra"
      ]
     },
     "metadata": {},
     "output_type": "display_data"
    },
    {
     "data": {
      "text/plain": [
       "72      2\n",
       "422     2\n",
       "136     2\n",
       "635     2\n",
       "1237    2\n",
       "Name: user_id, dtype: int64"
      ]
     },
     "execution_count": 14,
     "metadata": {},
     "output_type": "execute_result"
    }
   ],
   "source": [
    "# Сортируем данные датафрейма users по столбцу user_id\n",
    "sorted_users = users.sort_values(by='user_id')\n",
    "\n",
    "# Найти дубликаты только в столбце \"user_id\"\n",
    "duplicate_user_ids = sorted_users['user_id'].duplicated(keep=False)\n",
    "\n",
    "# Вывести строки с дубликатами user_id\n",
    "display(sorted_users[duplicate_user_ids].head())\n",
    "\n",
    "# Посчитать количество дублированных данных\n",
    "duplicate_counts = users.loc[duplicate_user_ids, 'user_id'].value_counts()\n",
    "\n",
    "# Вывести результат\n",
    "duplicate_counts.head()"
   ]
  },
  {
   "cell_type": "code",
   "execution_count": 15,
   "id": "c16e184f",
   "metadata": {
    "scrolled": true
   },
   "outputs": [
    {
     "data": {
      "text/plain": [
       "127     1\n",
       "293     1\n",
       "829     1\n",
       "635     1\n",
       "1237    1\n",
       "Name: user_id, dtype: int64"
      ]
     },
     "metadata": {},
     "output_type": "display_data"
    },
    {
     "name": "stdout",
     "output_type": "stream",
     "text": [
      "<class 'pandas.core.frame.DataFrame'>\n",
      "Int64Index: 1534 entries, 0 to 1533\n",
      "Data columns (total 5 columns):\n",
      " #   Column             Non-Null Count  Dtype \n",
      "---  ------             --------------  ----- \n",
      " 0   user_id            1534 non-null   int64 \n",
      " 1   name               1534 non-null   object\n",
      " 2   age                1534 non-null   int64 \n",
      " 3   city               1534 non-null   object\n",
      " 4   subscription_type  1534 non-null   object\n",
      "dtypes: int64(2), object(3)\n",
      "memory usage: 71.9+ KB\n"
     ]
    }
   ],
   "source": [
    "# Удалить дублированные данные, оставить только по одному\n",
    "unique_users = users.drop_duplicates(subset='user_id', keep='first', inplace=True)\n",
    "\n",
    "# Посчитать количество дублированных данных\n",
    "duplicate_counts_2 = users.loc[duplicate_user_ids, 'user_id'].value_counts()\n",
    "\n",
    "# Вывести результат\n",
    "display(duplicate_counts_2.head())\n",
    "\n",
    "users.info()"
   ]
  },
  {
   "cell_type": "markdown",
   "id": "54bc46a3",
   "metadata": {},
   "source": [
    "**Описание исходных данных:**\n",
    "\n",
    "Исходные данные файла `/datasets/users_go.csv` представляет собой набор информации о пользователях, их уникальных ID номерах, именах, возраста, города и типа подписки. \n",
    "\n",
    "Исходные данные файла `/datasets/rides_go.csv` представляет собой набор информации о поездках пользователей, их уникальных ID номерах, дистанции и продолжительность сессии (в минутах), а также о дате поездки.\n",
    "\n",
    "Исходные данные файла `/datasets/subscriptions_go.csv` представляет собой набор информации о подписках, о типах подписок, цен за минуту для каждого типа, о ценах стартовой цены и цены для каждого типа подписки. \n",
    "\n",
    "**Качество данных**\n",
    "\n",
    "Исходные данные нуждались в предобработке перед анализом. Были обнаружены дублированные данные, нет явных признаков некорректных данных.\n"
   ]
  },
  {
   "cell_type": "markdown",
   "id": "212593c7",
   "metadata": {},
   "source": [
    "#### Шаг 3. Исследовательский анализ данных"
   ]
  },
  {
   "cell_type": "markdown",
   "id": "2bdf48c5",
   "metadata": {},
   "source": [
    "Шаг 3. Исследовательский анализ данных\n",
    "\n",
    "Опишите и визуализируйте общую информацию о пользователях и поездках:\n",
    "\n",
    "3.1 частота встречаемости городов;\n",
    "\n"
   ]
  },
  {
   "cell_type": "code",
   "execution_count": 16,
   "id": "4e927d3f",
   "metadata": {
    "scrolled": false
   },
   "outputs": [
    {
     "data": {
      "image/png": "[encoded data removed]",
      "text/plain": [
       "<Figure size 720x432 with 1 Axes>"
      ]
     },
     "metadata": {
      "needs_background": "light"
     },
     "output_type": "display_data"
    }
   ],
   "source": [
    "# Подсчет частоты встречаемости городов\n",
    "city_counts = users['city'].value_counts()\n",
    "\n",
    "# Визуализация частоты встречаемости городов\n",
    "plt.figure(figsize=(10, 6))\n",
    "city_counts.plot(kind='bar', color='skyblue')\n",
    "plt.title('Частота встречаемости городов')\n",
    "plt.xlabel('Город')\n",
    "plt.ylabel('Частота')\n",
    "plt.xticks(rotation=45)\n",
    "plt.grid(axis='y', linestyle='--', alpha=0.7)\n",
    "plt.tight_layout()\n",
    "plt.grid(True)\n",
    "plt.show()"
   ]
  },
  {
   "cell_type": "markdown",
   "id": "c461b42e",
   "metadata": {},
   "source": [
    "**Частота встречаемости городов из данных**\n",
    "\n",
    "Список топ-3 часто встречаемых городов, в порядке убывания:\n",
    "1. Пятгорск;\n",
    "2. Екатеринбург;\n",
    "3. Ростов-на-Дону."
   ]
  },
  {
   "cell_type": "code",
   "execution_count": 17,
   "id": "dbaae700",
   "metadata": {},
   "outputs": [
    {
     "data": {
      "image/png": "[encoded data removed]",
      "text/plain": [
       "<Figure size 576x360 with 1 Axes>"
      ]
     },
     "metadata": {},
     "output_type": "display_data"
    }
   ],
   "source": [
    "# Подсчет соотношения пользователей с подпиской и без подписки\n",
    "subscription_counts = users['subscription_type'].value_counts()\n",
    "\n",
    "# Визуализация соотношения пользователей\n",
    "plt.figure(figsize=(8, 5))\n",
    "subscription_counts.plot(kind='pie', autopct='%1.1f%%', colors=['lightgreen', 'lightcoral'])\n",
    "plt.title('Соотношение пользователей с подпиской и без подписки')\n",
    "plt.ylabel('')\n",
    "plt.axis('equal')\n",
    "plt.tight_layout()\n",
    "plt.show()"
   ]
  },
  {
   "cell_type": "markdown",
   "id": "18745b23",
   "metadata": {},
   "source": [
    "Соотношение пользователей с подпиской и без подписки:\n",
    "- 54.4% - `free`\n",
    "- 45.6% - `ultra`\n"
   ]
  },
  {
   "cell_type": "code",
   "execution_count": 18,
   "id": "9f1f5549",
   "metadata": {
    "scrolled": false
   },
   "outputs": [
    {
     "data": {
      "image/png": "[encoded data removed]",
      "text/plain": [
       "<Figure size 720x432 with 1 Axes>"
      ]
     },
     "metadata": {
      "needs_background": "light"
     },
     "output_type": "display_data"
    }
   ],
   "source": [
    "# Визуализация распределения возраста пользователей\n",
    "plt.figure(figsize=(10, 6))\n",
    "plt.hist(users['age'], bins=10, color='skyblue', edgecolor='black')\n",
    "plt.title('Распределение возраста пользователей')\n",
    "plt.xlabel('Возраст')\n",
    "plt.ylabel('Частота')\n",
    "plt.grid(axis='y', linestyle='--', alpha=0.7)\n",
    "plt.tight_layout()\n",
    "plt.grid(True)\n",
    "plt.show()"
   ]
  },
  {
   "cell_type": "code",
   "execution_count": 19,
   "id": "8bca79b3",
   "metadata": {},
   "outputs": [
    {
     "data": {
      "image/png": "[encoded data removed]",
      "text/plain": [
       "<Figure size 720x432 with 1 Axes>"
      ]
     },
     "metadata": {
      "needs_background": "light"
     },
     "output_type": "display_data"
    }
   ],
   "source": [
    "# Визуализация распределения расстояния поездок\n",
    "plt.figure(figsize=(10, 6))\n",
    "plt.hist(rides['distance'], bins=20, color='lightgreen', edgecolor='black')\n",
    "plt.title('Распределение расстояния поездок')\n",
    "plt.xlabel('Расстояние, км')\n",
    "plt.ylabel('Частота')\n",
    "plt.grid(axis='y', linestyle='--', alpha=0.7)\n",
    "plt.tight_layout()\n",
    "plt.grid(True)\n",
    "plt.show()"
   ]
  },
  {
   "cell_type": "markdown",
   "id": "3b31dabc",
   "metadata": {},
   "source": [
    "Среднее значение частоты расстояния: `3000` км."
   ]
  },
  {
   "cell_type": "code",
   "execution_count": 20,
   "id": "03061dd4",
   "metadata": {},
   "outputs": [
    {
     "name": "stdout",
     "output_type": "stream",
     "text": [
      "Описание распределения данных о расстоянии поездок:\n"
     ]
    },
    {
     "data": {
      "text/plain": [
       "count    18068.000000\n",
       "mean      3070.659976\n",
       "std       1116.831209\n",
       "min          0.855683\n",
       "25%       2543.226360\n",
       "50%       3133.609994\n",
       "75%       3776.222735\n",
       "max       7211.007745\n",
       "Name: distance, dtype: float64"
      ]
     },
     "execution_count": 20,
     "metadata": {},
     "output_type": "execute_result"
    }
   ],
   "source": [
    "# Описание распределения данных о расстоянии поездок\n",
    "rides_distance_description = rides['distance'].describe()\n",
    "\n",
    "print(\"Описание распределения данных о расстоянии поездок:\")\n",
    "rides_distance_description"
   ]
  },
  {
   "cell_type": "markdown",
   "id": "fec21c74",
   "metadata": {},
   "source": [
    "Исходя из вышуказанных резузльтатов можно сделать следующий вывод:\n",
    "- Минимальное - `0.855683` \n",
    "- Максимальное - `7211.007745`\n",
    "- Среднее - `3070.659976`\n",
    "- Основной диапазон, можно указать между первым и третьим картилями - `2543.226360` -> `3776.222735`\n",
    "- Распределение - `Бимодальное` или двухпиковое\n",
    "\n",
    "Ниже, диаграмма размаха для расстояния поездок, который отображает аномалии"
   ]
  },
  {
   "cell_type": "code",
   "execution_count": 21,
   "id": "1af9f313",
   "metadata": {},
   "outputs": [
    {
     "data": {
      "image/png": "[encoded data removed]",
      "text/plain": [
       "<Figure size 576x432 with 1 Axes>"
      ]
     },
     "metadata": {
      "needs_background": "light"
     },
     "output_type": "display_data"
    }
   ],
   "source": [
    "# Создание ящика с усами для расстояния поездок\n",
    "plt.figure(figsize=(8, 6))\n",
    "plt.boxplot(rides['distance'])\n",
    "plt.title('Диаграмма размаха для расстояния поездок')\n",
    "plt.xlabel('Расстояние, км')\n",
    "plt.grid(True)\n",
    "plt.show()"
   ]
  },
  {
   "cell_type": "code",
   "execution_count": 22,
   "id": "480a1a3a",
   "metadata": {},
   "outputs": [
    {
     "data": {
      "image/png": "[encoded data removed]",
      "text/plain": [
       "<Figure size 720x432 with 1 Axes>"
      ]
     },
     "metadata": {
      "needs_background": "light"
     },
     "output_type": "display_data"
    }
   ],
   "source": [
    "# Визуализация распределения продолжительности поездок\n",
    "plt.figure(figsize=(10, 6))\n",
    "plt.hist(rides['duration'], bins=20, color='lightblue', edgecolor='black')\n",
    "plt.title('Распределение продолжительности поездок')\n",
    "plt.xlabel('Продолжительность поездки, мин')\n",
    "plt.ylabel('Частота')\n",
    "plt.grid(axis='y', linestyle='--', alpha=0.7)\n",
    "plt.tight_layout()\n",
    "plt.grid(True)\n",
    "plt.show()"
   ]
  },
  {
   "cell_type": "code",
   "execution_count": 23,
   "id": "a8817612",
   "metadata": {},
   "outputs": [
    {
     "data": {
      "image/png": "[encoded data removed]",
      "text/plain": [
       "<Figure size 864x432 with 2 Axes>"
      ]
     },
     "metadata": {
      "needs_background": "light"
     },
     "output_type": "display_data"
    }
   ],
   "source": [
    "plt.figure(figsize=(12, 6))\n",
    "\n",
    "plt.subplot(1, 2, 1)  \n",
    "plt.hist(rides['duration'], bins=20, color='lightblue', edgecolor='black')\n",
    "plt.title('Гистограмма продолжительности поездок')\n",
    "plt.xlabel('Продолжительность поездки, мин')\n",
    "plt.ylabel('Частота')\n",
    "plt.grid(axis='y', linestyle='--', alpha=0.7)\n",
    "\n",
    "\n",
    "plt.subplot(1, 2, 2)  # Создание графика во второй из двух колонок\n",
    "plt.boxplot(rides['duration'])\n",
    "plt.title('Боксплот продолжительности поездок')\n",
    "plt.ylabel('Продолжительность поездки, мин')\n",
    "\n",
    "plt.tight_layout()\n",
    "plt.grid(True)\n",
    "plt.show()"
   ]
  },
  {
   "cell_type": "code",
   "execution_count": 24,
   "id": "45354680",
   "metadata": {},
   "outputs": [
    {
     "name": "stdout",
     "output_type": "stream",
     "text": [
      "\n",
      "Описание распределения данных о продолжительности поездок:\n"
     ]
    },
    {
     "data": {
      "text/plain": [
       "count    18068.000000\n",
       "mean        17.805011\n",
       "std          6.091051\n",
       "min          0.500000\n",
       "25%         13.597563\n",
       "50%         17.678395\n",
       "75%         21.724800\n",
       "max         40.823963\n",
       "Name: duration, dtype: float64"
      ]
     },
     "execution_count": 24,
     "metadata": {},
     "output_type": "execute_result"
    }
   ],
   "source": [
    "duration_description = rides['duration'].describe()\n",
    "\n",
    "print(\"\\nОписание распределения данных о продолжительности поездок:\")\n",
    "duration_description"
   ]
  },
  {
   "cell_type": "markdown",
   "id": "6f83c98c",
   "metadata": {},
   "source": [
    "Исходя из вышуказанных резузльтатов можно сделать следующий вывод:\n",
    "- Минимальное - `0.500000`\n",
    "- Максимальное - `40.823963`\n",
    "- Среднее - `17.805011`\n",
    "- Основной диапазон, можно указать между первым и третьим картилями - `13.597563` -> `21.724800`\n",
    "- Распределение - `Нормальное`\n",
    "\n",
    "Аномалии отображены выше, справа от самой гистограммы распределения поездок по времени"
   ]
  },
  {
   "cell_type": "markdown",
   "id": "4ef51331",
   "metadata": {},
   "source": [
    "\n",
    "## Шаг 4. Объединение данных"
   ]
  },
  {
   "cell_type": "markdown",
   "id": "1681a07d",
   "metadata": {},
   "source": [
    "**Проверка размерности датафреймов**"
   ]
  },
  {
   "cell_type": "code",
   "execution_count": 25,
   "id": "0f42463e",
   "metadata": {},
   "outputs": [
    {
     "data": {
      "text/plain": [
       "1534"
      ]
     },
     "execution_count": 25,
     "metadata": {},
     "output_type": "execute_result"
    }
   ],
   "source": [
    "# Проверка размерности датафрейма users\n",
    "users.shape[0]"
   ]
  },
  {
   "cell_type": "code",
   "execution_count": 26,
   "id": "f8542179",
   "metadata": {},
   "outputs": [
    {
     "data": {
      "text/plain": [
       "18068"
      ]
     },
     "execution_count": 26,
     "metadata": {},
     "output_type": "execute_result"
    }
   ],
   "source": [
    "# Проверка размерности датафрейма rides\n",
    "rides.shape[0]"
   ]
  },
  {
   "cell_type": "code",
   "execution_count": 27,
   "id": "1e1de668",
   "metadata": {},
   "outputs": [
    {
     "data": {
      "text/plain": [
       "2"
      ]
     },
     "execution_count": 27,
     "metadata": {},
     "output_type": "execute_result"
    }
   ],
   "source": [
    "# Проверка размерности датафрейма subscriptions\n",
    "subscriptions.shape[0]"
   ]
  },
  {
   "cell_type": "code",
   "execution_count": 28,
   "id": "6bf288b5",
   "metadata": {},
   "outputs": [
    {
     "data": {
      "text/html": [
       "<div>\n",
       "<style scoped>\n",
       "    .dataframe tbody tr th:only-of-type {\n",
       "        vertical-align: middle;\n",
       "    }\n",
       "\n",
       "    .dataframe tbody tr th {\n",
       "        vertical-align: top;\n",
       "    }\n",
       "\n",
       "    .dataframe thead th {\n",
       "        text-align: right;\n",
       "    }\n",
       "</style>\n",
       "<table border=\"1\" class=\"dataframe\">\n",
       "  <thead>\n",
       "    <tr style=\"text-align: right;\">\n",
       "      <th></th>\n",
       "      <th>user_id</th>\n",
       "      <th>name</th>\n",
       "      <th>age</th>\n",
       "      <th>city</th>\n",
       "      <th>subscription_type</th>\n",
       "      <th>distance</th>\n",
       "      <th>duration</th>\n",
       "      <th>date</th>\n",
       "      <th>month</th>\n",
       "      <th>minute_price</th>\n",
       "      <th>start_ride_price</th>\n",
       "      <th>subscription_fee</th>\n",
       "    </tr>\n",
       "  </thead>\n",
       "  <tbody>\n",
       "    <tr>\n",
       "      <th>0</th>\n",
       "      <td>1</td>\n",
       "      <td>Кира</td>\n",
       "      <td>22</td>\n",
       "      <td>Тюмень</td>\n",
       "      <td>ultra</td>\n",
       "      <td>4409.919140</td>\n",
       "      <td>25.599769</td>\n",
       "      <td>2021-01-01</td>\n",
       "      <td>1</td>\n",
       "      <td>6</td>\n",
       "      <td>0</td>\n",
       "      <td>199</td>\n",
       "    </tr>\n",
       "    <tr>\n",
       "      <th>1</th>\n",
       "      <td>1</td>\n",
       "      <td>Кира</td>\n",
       "      <td>22</td>\n",
       "      <td>Тюмень</td>\n",
       "      <td>ultra</td>\n",
       "      <td>2617.592153</td>\n",
       "      <td>15.816871</td>\n",
       "      <td>2021-01-18</td>\n",
       "      <td>1</td>\n",
       "      <td>6</td>\n",
       "      <td>0</td>\n",
       "      <td>199</td>\n",
       "    </tr>\n",
       "    <tr>\n",
       "      <th>2</th>\n",
       "      <td>1</td>\n",
       "      <td>Кира</td>\n",
       "      <td>22</td>\n",
       "      <td>Тюмень</td>\n",
       "      <td>ultra</td>\n",
       "      <td>754.159807</td>\n",
       "      <td>6.232113</td>\n",
       "      <td>2021-04-20</td>\n",
       "      <td>4</td>\n",
       "      <td>6</td>\n",
       "      <td>0</td>\n",
       "      <td>199</td>\n",
       "    </tr>\n",
       "    <tr>\n",
       "      <th>3</th>\n",
       "      <td>1</td>\n",
       "      <td>Кира</td>\n",
       "      <td>22</td>\n",
       "      <td>Тюмень</td>\n",
       "      <td>ultra</td>\n",
       "      <td>2694.783254</td>\n",
       "      <td>18.511000</td>\n",
       "      <td>2021-08-11</td>\n",
       "      <td>8</td>\n",
       "      <td>6</td>\n",
       "      <td>0</td>\n",
       "      <td>199</td>\n",
       "    </tr>\n",
       "    <tr>\n",
       "      <th>4</th>\n",
       "      <td>1</td>\n",
       "      <td>Кира</td>\n",
       "      <td>22</td>\n",
       "      <td>Тюмень</td>\n",
       "      <td>ultra</td>\n",
       "      <td>4028.687306</td>\n",
       "      <td>26.265803</td>\n",
       "      <td>2021-08-28</td>\n",
       "      <td>8</td>\n",
       "      <td>6</td>\n",
       "      <td>0</td>\n",
       "      <td>199</td>\n",
       "    </tr>\n",
       "  </tbody>\n",
       "</table>\n",
       "</div>"
      ],
      "text/plain": [
       "   user_id  name  age    city subscription_type     distance   duration  \\\n",
       "0        1  Кира   22  Тюмень             ultra  4409.919140  25.599769   \n",
       "1        1  Кира   22  Тюмень             ultra  2617.592153  15.816871   \n",
       "2        1  Кира   22  Тюмень             ultra   754.159807   6.232113   \n",
       "3        1  Кира   22  Тюмень             ultra  2694.783254  18.511000   \n",
       "4        1  Кира   22  Тюмень             ultra  4028.687306  26.265803   \n",
       "\n",
       "        date  month  minute_price  start_ride_price  subscription_fee  \n",
       "0 2021-01-01      1             6                 0               199  \n",
       "1 2021-01-18      1             6                 0               199  \n",
       "2 2021-04-20      4             6                 0               199  \n",
       "3 2021-08-11      8             6                 0               199  \n",
       "4 2021-08-28      8             6                 0               199  "
      ]
     },
     "execution_count": 28,
     "metadata": {},
     "output_type": "execute_result"
    }
   ],
   "source": [
    "# Объединение датафреймов user и rides методом merge\n",
    "merged_data = pd.merge(users, rides, on='user_id', how='left')\n",
    "# Объединение датафреймов merged_data и subscriptions методом merge  \n",
    "merged_data = pd.merge(merged_data, subscriptions, on='subscription_type', how='left')\n",
    "\n",
    "# Вывод полученного объединенного датафрейма\n",
    "merged_data.head()"
   ]
  },
  {
   "cell_type": "code",
   "execution_count": 29,
   "id": "46e177f2",
   "metadata": {},
   "outputs": [
    {
     "data": {
      "text/plain": [
       "18068"
      ]
     },
     "execution_count": 29,
     "metadata": {},
     "output_type": "execute_result"
    }
   ],
   "source": [
    "# Проверка размерности объединенного файла merged_data\n",
    "merged_data.shape[0]"
   ]
  },
  {
   "cell_type": "markdown",
   "id": "bb9a6517",
   "metadata": {},
   "source": [
    "Стоит более подробно описать распределение данных: вид распредления, основной диапазон, минимум, максимум, наличие аномалий."
   ]
  },
  {
   "cell_type": "code",
   "execution_count": 30,
   "id": "46c66718",
   "metadata": {},
   "outputs": [
    {
     "name": "stdout",
     "output_type": "stream",
     "text": [
      "Данные о пользователях без подписки:\n"
     ]
    },
    {
     "data": {
      "text/html": [
       "<div>\n",
       "<style scoped>\n",
       "    .dataframe tbody tr th:only-of-type {\n",
       "        vertical-align: middle;\n",
       "    }\n",
       "\n",
       "    .dataframe tbody tr th {\n",
       "        vertical-align: top;\n",
       "    }\n",
       "\n",
       "    .dataframe thead th {\n",
       "        text-align: right;\n",
       "    }\n",
       "</style>\n",
       "<table border=\"1\" class=\"dataframe\">\n",
       "  <thead>\n",
       "    <tr style=\"text-align: right;\">\n",
       "      <th></th>\n",
       "      <th>user_id</th>\n",
       "      <th>name</th>\n",
       "      <th>age</th>\n",
       "      <th>city</th>\n",
       "      <th>subscription_type</th>\n",
       "      <th>distance</th>\n",
       "      <th>duration</th>\n",
       "      <th>date</th>\n",
       "      <th>month</th>\n",
       "      <th>minute_price</th>\n",
       "      <th>start_ride_price</th>\n",
       "      <th>subscription_fee</th>\n",
       "    </tr>\n",
       "  </thead>\n",
       "  <tbody>\n",
       "    <tr>\n",
       "      <th>6500</th>\n",
       "      <td>700</td>\n",
       "      <td>Айдар</td>\n",
       "      <td>22</td>\n",
       "      <td>Омск</td>\n",
       "      <td>free</td>\n",
       "      <td>2515.690719</td>\n",
       "      <td>14.944286</td>\n",
       "      <td>2021-01-02</td>\n",
       "      <td>1</td>\n",
       "      <td>8</td>\n",
       "      <td>50</td>\n",
       "      <td>0</td>\n",
       "    </tr>\n",
       "    <tr>\n",
       "      <th>6501</th>\n",
       "      <td>700</td>\n",
       "      <td>Айдар</td>\n",
       "      <td>22</td>\n",
       "      <td>Омск</td>\n",
       "      <td>free</td>\n",
       "      <td>846.932642</td>\n",
       "      <td>16.234663</td>\n",
       "      <td>2021-02-01</td>\n",
       "      <td>2</td>\n",
       "      <td>8</td>\n",
       "      <td>50</td>\n",
       "      <td>0</td>\n",
       "    </tr>\n",
       "    <tr>\n",
       "      <th>6502</th>\n",
       "      <td>700</td>\n",
       "      <td>Айдар</td>\n",
       "      <td>22</td>\n",
       "      <td>Омск</td>\n",
       "      <td>free</td>\n",
       "      <td>4004.434142</td>\n",
       "      <td>20.016628</td>\n",
       "      <td>2021-02-04</td>\n",
       "      <td>2</td>\n",
       "      <td>8</td>\n",
       "      <td>50</td>\n",
       "      <td>0</td>\n",
       "    </tr>\n",
       "    <tr>\n",
       "      <th>6503</th>\n",
       "      <td>700</td>\n",
       "      <td>Айдар</td>\n",
       "      <td>22</td>\n",
       "      <td>Омск</td>\n",
       "      <td>free</td>\n",
       "      <td>1205.911290</td>\n",
       "      <td>9.782872</td>\n",
       "      <td>2021-02-10</td>\n",
       "      <td>2</td>\n",
       "      <td>8</td>\n",
       "      <td>50</td>\n",
       "      <td>0</td>\n",
       "    </tr>\n",
       "    <tr>\n",
       "      <th>6504</th>\n",
       "      <td>700</td>\n",
       "      <td>Айдар</td>\n",
       "      <td>22</td>\n",
       "      <td>Омск</td>\n",
       "      <td>free</td>\n",
       "      <td>3047.379435</td>\n",
       "      <td>17.427673</td>\n",
       "      <td>2021-02-14</td>\n",
       "      <td>2</td>\n",
       "      <td>8</td>\n",
       "      <td>50</td>\n",
       "      <td>0</td>\n",
       "    </tr>\n",
       "  </tbody>\n",
       "</table>\n",
       "</div>"
      ],
      "text/plain": [
       "      user_id   name  age  city subscription_type     distance   duration  \\\n",
       "6500      700  Айдар   22  Омск              free  2515.690719  14.944286   \n",
       "6501      700  Айдар   22  Омск              free   846.932642  16.234663   \n",
       "6502      700  Айдар   22  Омск              free  4004.434142  20.016628   \n",
       "6503      700  Айдар   22  Омск              free  1205.911290   9.782872   \n",
       "6504      700  Айдар   22  Омск              free  3047.379435  17.427673   \n",
       "\n",
       "           date  month  minute_price  start_ride_price  subscription_fee  \n",
       "6500 2021-01-02      1             8                50                 0  \n",
       "6501 2021-02-01      2             8                50                 0  \n",
       "6502 2021-02-04      2             8                50                 0  \n",
       "6503 2021-02-10      2             8                50                 0  \n",
       "6504 2021-02-14      2             8                50                 0  "
      ]
     },
     "metadata": {},
     "output_type": "display_data"
    },
    {
     "name": "stdout",
     "output_type": "stream",
     "text": [
      "\n",
      "\n",
      "Данные о пользователях с подпиской:\n"
     ]
    },
    {
     "data": {
      "text/html": [
       "<div>\n",
       "<style scoped>\n",
       "    .dataframe tbody tr th:only-of-type {\n",
       "        vertical-align: middle;\n",
       "    }\n",
       "\n",
       "    .dataframe tbody tr th {\n",
       "        vertical-align: top;\n",
       "    }\n",
       "\n",
       "    .dataframe thead th {\n",
       "        text-align: right;\n",
       "    }\n",
       "</style>\n",
       "<table border=\"1\" class=\"dataframe\">\n",
       "  <thead>\n",
       "    <tr style=\"text-align: right;\">\n",
       "      <th></th>\n",
       "      <th>user_id</th>\n",
       "      <th>name</th>\n",
       "      <th>age</th>\n",
       "      <th>city</th>\n",
       "      <th>subscription_type</th>\n",
       "      <th>distance</th>\n",
       "      <th>duration</th>\n",
       "      <th>date</th>\n",
       "      <th>month</th>\n",
       "      <th>minute_price</th>\n",
       "      <th>start_ride_price</th>\n",
       "      <th>subscription_fee</th>\n",
       "    </tr>\n",
       "  </thead>\n",
       "  <tbody>\n",
       "    <tr>\n",
       "      <th>0</th>\n",
       "      <td>1</td>\n",
       "      <td>Кира</td>\n",
       "      <td>22</td>\n",
       "      <td>Тюмень</td>\n",
       "      <td>ultra</td>\n",
       "      <td>4409.919140</td>\n",
       "      <td>25.599769</td>\n",
       "      <td>2021-01-01</td>\n",
       "      <td>1</td>\n",
       "      <td>6</td>\n",
       "      <td>0</td>\n",
       "      <td>199</td>\n",
       "    </tr>\n",
       "    <tr>\n",
       "      <th>1</th>\n",
       "      <td>1</td>\n",
       "      <td>Кира</td>\n",
       "      <td>22</td>\n",
       "      <td>Тюмень</td>\n",
       "      <td>ultra</td>\n",
       "      <td>2617.592153</td>\n",
       "      <td>15.816871</td>\n",
       "      <td>2021-01-18</td>\n",
       "      <td>1</td>\n",
       "      <td>6</td>\n",
       "      <td>0</td>\n",
       "      <td>199</td>\n",
       "    </tr>\n",
       "    <tr>\n",
       "      <th>2</th>\n",
       "      <td>1</td>\n",
       "      <td>Кира</td>\n",
       "      <td>22</td>\n",
       "      <td>Тюмень</td>\n",
       "      <td>ultra</td>\n",
       "      <td>754.159807</td>\n",
       "      <td>6.232113</td>\n",
       "      <td>2021-04-20</td>\n",
       "      <td>4</td>\n",
       "      <td>6</td>\n",
       "      <td>0</td>\n",
       "      <td>199</td>\n",
       "    </tr>\n",
       "    <tr>\n",
       "      <th>3</th>\n",
       "      <td>1</td>\n",
       "      <td>Кира</td>\n",
       "      <td>22</td>\n",
       "      <td>Тюмень</td>\n",
       "      <td>ultra</td>\n",
       "      <td>2694.783254</td>\n",
       "      <td>18.511000</td>\n",
       "      <td>2021-08-11</td>\n",
       "      <td>8</td>\n",
       "      <td>6</td>\n",
       "      <td>0</td>\n",
       "      <td>199</td>\n",
       "    </tr>\n",
       "    <tr>\n",
       "      <th>4</th>\n",
       "      <td>1</td>\n",
       "      <td>Кира</td>\n",
       "      <td>22</td>\n",
       "      <td>Тюмень</td>\n",
       "      <td>ultra</td>\n",
       "      <td>4028.687306</td>\n",
       "      <td>26.265803</td>\n",
       "      <td>2021-08-28</td>\n",
       "      <td>8</td>\n",
       "      <td>6</td>\n",
       "      <td>0</td>\n",
       "      <td>199</td>\n",
       "    </tr>\n",
       "  </tbody>\n",
       "</table>\n",
       "</div>"
      ],
      "text/plain": [
       "   user_id  name  age    city subscription_type     distance   duration  \\\n",
       "0        1  Кира   22  Тюмень             ultra  4409.919140  25.599769   \n",
       "1        1  Кира   22  Тюмень             ultra  2617.592153  15.816871   \n",
       "2        1  Кира   22  Тюмень             ultra   754.159807   6.232113   \n",
       "3        1  Кира   22  Тюмень             ultra  2694.783254  18.511000   \n",
       "4        1  Кира   22  Тюмень             ultra  4028.687306  26.265803   \n",
       "\n",
       "        date  month  minute_price  start_ride_price  subscription_fee  \n",
       "0 2021-01-01      1             6                 0               199  \n",
       "1 2021-01-18      1             6                 0               199  \n",
       "2 2021-04-20      4             6                 0               199  \n",
       "3 2021-08-11      8             6                 0               199  \n",
       "4 2021-08-28      8             6                 0               199  "
      ]
     },
     "execution_count": 30,
     "metadata": {},
     "output_type": "execute_result"
    }
   ],
   "source": [
    "# Создание датафрейма с данными о пользователях без подписки\n",
    "users_without_subs = merged_data.query(\"subscription_type == 'free'\")\n",
    "\n",
    "# Создание датафрейма с данными о пользователях с подпиской\n",
    "users_with_subs = merged_data.query(\"subscription_type == 'ultra'\")\n",
    "\n",
    "# Вывод первых нескольких строк каждого датафрейма для проверки\n",
    "print(\"Данные о пользователях без подписки:\")\n",
    "display(users_without_subs.head())\n",
    "print()\n",
    "print(\"\\nДанные о пользователях с подпиской:\")\n",
    "users_with_subs.head()"
   ]
  },
  {
   "cell_type": "code",
   "execution_count": 31,
   "id": "52204ed2",
   "metadata": {},
   "outputs": [
    {
     "data": {
      "text/plain": [
       "11568"
      ]
     },
     "execution_count": 31,
     "metadata": {},
     "output_type": "execute_result"
    }
   ],
   "source": [
    "# Проверка размерности объединенного файла о пользователях без подписки\n",
    "users_without_subs.shape[0]"
   ]
  },
  {
   "cell_type": "code",
   "execution_count": 32,
   "id": "3b30ce2b",
   "metadata": {},
   "outputs": [
    {
     "data": {
      "text/plain": [
       "6500"
      ]
     },
     "execution_count": 32,
     "metadata": {},
     "output_type": "execute_result"
    }
   ],
   "source": [
    "# Проверка размерности объединенного файла о пользователях с подпиской\n",
    "users_with_subs.shape[0]"
   ]
  },
  {
   "cell_type": "code",
   "execution_count": null,
   "id": "57291fb2",
   "metadata": {},
   "outputs": [],
   "source": []
  },
  {
   "cell_type": "code",
   "execution_count": 33,
   "id": "5d842b65",
   "metadata": {},
   "outputs": [
    {
     "data": {
      "image/png": "[encoded data removed]",
      "text/plain": [
       "<Figure size 720x576 with 2 Axes>"
      ]
     },
     "metadata": {
      "needs_background": "light"
     },
     "output_type": "display_data"
    }
   ],
   "source": [
    "fig, axes = plt.subplots(nrows=2, ncols=1, figsize=(10, 8))\n",
    "\n",
    "categories = {\n",
    "    'Пользователей с бесплатной подпиской': users_without_subs,\n",
    "    'Пользователей с подпиской Ultra': users_with_subs\n",
    "}\n",
    "\n",
    "for ax, (category, data) in zip(axes, categories.items()):\n",
    "    ax.hist(data['distance'], bins=20, color='skyblue', edgecolor='black')\n",
    "    ax.set_title(f'Распределение расстояния для {category}')\n",
    "    ax.set_xlabel('Расстояние, км')\n",
    "    ax.set_ylabel('Частота')\n",
    "    ax.grid(True, color='black', linestyle='--', linewidth=0.5)\n",
    "\n",
    "plt.tight_layout()\n",
    "plt.show()"
   ]
  },
  {
   "cell_type": "code",
   "execution_count": 34,
   "id": "a092f25d",
   "metadata": {},
   "outputs": [
    {
     "data": {
      "image/png": "[encoded data removed]",
      "text/plain": [
       "<Figure size 1008x720 with 4 Axes>"
      ]
     },
     "metadata": {
      "needs_background": "light"
     },
     "output_type": "display_data"
    }
   ],
   "source": [
    "fig, axes = plt.subplots(nrows=2, ncols=2, figsize=(14, 10))\n",
    "\n",
    "categories = {\n",
    "    'Пользователей с бесплатной подпиской': users_without_subs,\n",
    "    'Пользователей с подпиской Ultra': users_with_subs\n",
    "}\n",
    "\n",
    "for i, (category, data) in enumerate(categories.items()):\n",
    "    ax1 = axes[0, i]\n",
    "    ax2 = axes[1, i]\n",
    "    \n",
    "    ax1.hist(data['distance'], bins=20, color='skyblue', edgecolor='black')\n",
    "    ax1.set_title(f'Распределение расстояния для {category}')\n",
    "    ax1.set_xlabel('Расстояние, км')\n",
    "    ax1.set_ylabel('Частота')\n",
    "    ax1.grid(True)\n",
    "    \n",
    "    ax2.hist(data['duration'], bins=20, color='lightgreen', edgecolor='black')\n",
    "    ax2.set_title(f'Распределение времени для {category}')\n",
    "    ax2.set_xlabel('Продолжительность поездки, мин')\n",
    "    ax2.set_ylabel('Частота')\n",
    "    ax2.grid(True)\n",
    "\n",
    "\n",
    "plt.tight_layout()\n",
    "plt.show()"
   ]
  },
  {
   "cell_type": "markdown",
   "id": "402d620f",
   "metadata": {},
   "source": [
    "#### Шаг 5. Подсчёт выручки"
   ]
  },
  {
   "cell_type": "code",
   "execution_count": 35,
   "id": "e8ae4c2d",
   "metadata": {},
   "outputs": [
    {
     "data": {
      "text/plain": [
       "user_id              0\n",
       "name                 0\n",
       "age                  0\n",
       "city                 0\n",
       "subscription_type    0\n",
       "distance             0\n",
       "duration             0\n",
       "date                 0\n",
       "month                0\n",
       "minute_price         0\n",
       "start_ride_price     0\n",
       "subscription_fee     0\n",
       "dtype: int64"
      ]
     },
     "execution_count": 35,
     "metadata": {},
     "output_type": "execute_result"
    }
   ],
   "source": [
    "merged_data.isna().sum()"
   ]
  },
  {
   "cell_type": "code",
   "execution_count": 36,
   "id": "871653eb",
   "metadata": {},
   "outputs": [
    {
     "data": {
      "text/html": [
       "<div>\n",
       "<style scoped>\n",
       "    .dataframe tbody tr th:only-of-type {\n",
       "        vertical-align: middle;\n",
       "    }\n",
       "\n",
       "    .dataframe tbody tr th {\n",
       "        vertical-align: top;\n",
       "    }\n",
       "\n",
       "    .dataframe thead th {\n",
       "        text-align: right;\n",
       "    }\n",
       "</style>\n",
       "<table border=\"1\" class=\"dataframe\">\n",
       "  <thead>\n",
       "    <tr style=\"text-align: right;\">\n",
       "      <th></th>\n",
       "      <th>user_id</th>\n",
       "      <th>trip_count</th>\n",
       "    </tr>\n",
       "  </thead>\n",
       "  <tbody>\n",
       "    <tr>\n",
       "      <th>0</th>\n",
       "      <td>1</td>\n",
       "      <td>12</td>\n",
       "    </tr>\n",
       "    <tr>\n",
       "      <th>1</th>\n",
       "      <td>2</td>\n",
       "      <td>11</td>\n",
       "    </tr>\n",
       "    <tr>\n",
       "      <th>2</th>\n",
       "      <td>3</td>\n",
       "      <td>12</td>\n",
       "    </tr>\n",
       "    <tr>\n",
       "      <th>3</th>\n",
       "      <td>4</td>\n",
       "      <td>14</td>\n",
       "    </tr>\n",
       "    <tr>\n",
       "      <th>4</th>\n",
       "      <td>5</td>\n",
       "      <td>11</td>\n",
       "    </tr>\n",
       "  </tbody>\n",
       "</table>\n",
       "</div>"
      ],
      "text/plain": [
       "   user_id  trip_count\n",
       "0        1          12\n",
       "1        2          11\n",
       "2        3          12\n",
       "3        4          14\n",
       "4        5          11"
      ]
     },
     "metadata": {},
     "output_type": "display_data"
    }
   ],
   "source": [
    "user_trip_count = merged_data.groupby(['user_id']).size().reset_index(name='trip_count')\n",
    "\n",
    "display(user_trip_count.head())"
   ]
  },
  {
   "cell_type": "code",
   "execution_count": 37,
   "id": "6379fc73",
   "metadata": {},
   "outputs": [
    {
     "data": {
      "text/html": [
       "<div>\n",
       "<style scoped>\n",
       "    .dataframe tbody tr th:only-of-type {\n",
       "        vertical-align: middle;\n",
       "    }\n",
       "\n",
       "    .dataframe tbody tr th {\n",
       "        vertical-align: top;\n",
       "    }\n",
       "\n",
       "    .dataframe thead th {\n",
       "        text-align: right;\n",
       "    }\n",
       "</style>\n",
       "<table border=\"1\" class=\"dataframe\">\n",
       "  <thead>\n",
       "    <tr style=\"text-align: right;\">\n",
       "      <th></th>\n",
       "      <th>user_id</th>\n",
       "      <th>name</th>\n",
       "      <th>age</th>\n",
       "      <th>city</th>\n",
       "      <th>subscription_type</th>\n",
       "      <th>distance</th>\n",
       "      <th>duration</th>\n",
       "      <th>date</th>\n",
       "      <th>month</th>\n",
       "      <th>minute_price</th>\n",
       "      <th>start_ride_price</th>\n",
       "      <th>subscription_fee</th>\n",
       "    </tr>\n",
       "  </thead>\n",
       "  <tbody>\n",
       "    <tr>\n",
       "      <th>0</th>\n",
       "      <td>1</td>\n",
       "      <td>Кира</td>\n",
       "      <td>22</td>\n",
       "      <td>Тюмень</td>\n",
       "      <td>ultra</td>\n",
       "      <td>4409.919140</td>\n",
       "      <td>26.0</td>\n",
       "      <td>2021-01-01</td>\n",
       "      <td>1</td>\n",
       "      <td>6</td>\n",
       "      <td>0</td>\n",
       "      <td>199</td>\n",
       "    </tr>\n",
       "    <tr>\n",
       "      <th>1</th>\n",
       "      <td>1</td>\n",
       "      <td>Кира</td>\n",
       "      <td>22</td>\n",
       "      <td>Тюмень</td>\n",
       "      <td>ultra</td>\n",
       "      <td>2617.592153</td>\n",
       "      <td>16.0</td>\n",
       "      <td>2021-01-18</td>\n",
       "      <td>1</td>\n",
       "      <td>6</td>\n",
       "      <td>0</td>\n",
       "      <td>199</td>\n",
       "    </tr>\n",
       "    <tr>\n",
       "      <th>2</th>\n",
       "      <td>1</td>\n",
       "      <td>Кира</td>\n",
       "      <td>22</td>\n",
       "      <td>Тюмень</td>\n",
       "      <td>ultra</td>\n",
       "      <td>754.159807</td>\n",
       "      <td>7.0</td>\n",
       "      <td>2021-04-20</td>\n",
       "      <td>4</td>\n",
       "      <td>6</td>\n",
       "      <td>0</td>\n",
       "      <td>199</td>\n",
       "    </tr>\n",
       "    <tr>\n",
       "      <th>3</th>\n",
       "      <td>1</td>\n",
       "      <td>Кира</td>\n",
       "      <td>22</td>\n",
       "      <td>Тюмень</td>\n",
       "      <td>ultra</td>\n",
       "      <td>2694.783254</td>\n",
       "      <td>19.0</td>\n",
       "      <td>2021-08-11</td>\n",
       "      <td>8</td>\n",
       "      <td>6</td>\n",
       "      <td>0</td>\n",
       "      <td>199</td>\n",
       "    </tr>\n",
       "    <tr>\n",
       "      <th>4</th>\n",
       "      <td>1</td>\n",
       "      <td>Кира</td>\n",
       "      <td>22</td>\n",
       "      <td>Тюмень</td>\n",
       "      <td>ultra</td>\n",
       "      <td>4028.687306</td>\n",
       "      <td>27.0</td>\n",
       "      <td>2021-08-28</td>\n",
       "      <td>8</td>\n",
       "      <td>6</td>\n",
       "      <td>0</td>\n",
       "      <td>199</td>\n",
       "    </tr>\n",
       "  </tbody>\n",
       "</table>\n",
       "</div>"
      ],
      "text/plain": [
       "   user_id  name  age    city subscription_type     distance  duration  \\\n",
       "0        1  Кира   22  Тюмень             ultra  4409.919140      26.0   \n",
       "1        1  Кира   22  Тюмень             ultra  2617.592153      16.0   \n",
       "2        1  Кира   22  Тюмень             ultra   754.159807       7.0   \n",
       "3        1  Кира   22  Тюмень             ultra  2694.783254      19.0   \n",
       "4        1  Кира   22  Тюмень             ultra  4028.687306      27.0   \n",
       "\n",
       "        date  month  minute_price  start_ride_price  subscription_fee  \n",
       "0 2021-01-01      1             6                 0               199  \n",
       "1 2021-01-18      1             6                 0               199  \n",
       "2 2021-04-20      4             6                 0               199  \n",
       "3 2021-08-11      8             6                 0               199  \n",
       "4 2021-08-28      8             6                 0               199  "
      ]
     },
     "execution_count": 37,
     "metadata": {},
     "output_type": "execute_result"
    }
   ],
   "source": [
    "merged_data['duration'] = np.ceil(merged_data['duration']).round()\n",
    "\n",
    "merged_data.head()"
   ]
  },
  {
   "cell_type": "code",
   "execution_count": 38,
   "id": "53049e0a",
   "metadata": {},
   "outputs": [
    {
     "data": {
      "text/html": [
       "<div>\n",
       "<style scoped>\n",
       "    .dataframe tbody tr th:only-of-type {\n",
       "        vertical-align: middle;\n",
       "    }\n",
       "\n",
       "    .dataframe tbody tr th {\n",
       "        vertical-align: top;\n",
       "    }\n",
       "\n",
       "    .dataframe thead th {\n",
       "        text-align: right;\n",
       "    }\n",
       "</style>\n",
       "<table border=\"1\" class=\"dataframe\">\n",
       "  <thead>\n",
       "    <tr style=\"text-align: right;\">\n",
       "      <th></th>\n",
       "      <th>user_id</th>\n",
       "      <th>trip_count</th>\n",
       "      <th>month</th>\n",
       "      <th>total_distance</th>\n",
       "      <th>total_duration</th>\n",
       "    </tr>\n",
       "  </thead>\n",
       "  <tbody>\n",
       "    <tr>\n",
       "      <th>0</th>\n",
       "      <td>1</td>\n",
       "      <td>12</td>\n",
       "      <td>1</td>\n",
       "      <td>7027.51</td>\n",
       "      <td>42.0</td>\n",
       "    </tr>\n",
       "    <tr>\n",
       "      <th>1</th>\n",
       "      <td>1</td>\n",
       "      <td>12</td>\n",
       "      <td>4</td>\n",
       "      <td>754.16</td>\n",
       "      <td>7.0</td>\n",
       "    </tr>\n",
       "    <tr>\n",
       "      <th>2</th>\n",
       "      <td>1</td>\n",
       "      <td>12</td>\n",
       "      <td>8</td>\n",
       "      <td>6723.47</td>\n",
       "      <td>46.0</td>\n",
       "    </tr>\n",
       "    <tr>\n",
       "      <th>3</th>\n",
       "      <td>1</td>\n",
       "      <td>12</td>\n",
       "      <td>10</td>\n",
       "      <td>5809.91</td>\n",
       "      <td>32.0</td>\n",
       "    </tr>\n",
       "    <tr>\n",
       "      <th>4</th>\n",
       "      <td>1</td>\n",
       "      <td>12</td>\n",
       "      <td>11</td>\n",
       "      <td>7003.50</td>\n",
       "      <td>56.0</td>\n",
       "    </tr>\n",
       "  </tbody>\n",
       "</table>\n",
       "</div>"
      ],
      "text/plain": [
       "   user_id  trip_count  month  total_distance  total_duration\n",
       "0        1          12      1         7027.51            42.0\n",
       "1        1          12      4          754.16             7.0\n",
       "2        1          12      8         6723.47            46.0\n",
       "3        1          12     10         5809.91            32.0\n",
       "4        1          12     11         7003.50            56.0"
      ]
     },
     "execution_count": 38,
     "metadata": {},
     "output_type": "execute_result"
    }
   ],
   "source": [
    "agg_data = merged_data.groupby(['user_id', 'month']).agg({\n",
    "    'distance': 'sum',        \n",
    "    'duration': 'sum',        \n",
    "}).reset_index()\n",
    "\n",
    "agg_data = pd.merge(user_trip_count, agg_data, on='user_id', how='left')\n",
    "\n",
    "agg_data.rename(columns={\n",
    "    'distance': 'total_distance',\n",
    "    'duration': 'total_duration'\n",
    "}, inplace=True)\n",
    "\n",
    "agg_data['total_distance'] = agg_data['total_distance'].apply(lambda x: round(x, 2))\n",
    "agg_data['total_duration'] = agg_data['total_duration'].apply(lambda x: round(x, 2))\n",
    "\n",
    "agg_data.head()"
   ]
  },
  {
   "cell_type": "code",
   "execution_count": 39,
   "id": "6a914f3d",
   "metadata": {},
   "outputs": [
    {
     "data": {
      "text/html": [
       "<div>\n",
       "<style scoped>\n",
       "    .dataframe tbody tr th:only-of-type {\n",
       "        vertical-align: middle;\n",
       "    }\n",
       "\n",
       "    .dataframe tbody tr th {\n",
       "        vertical-align: top;\n",
       "    }\n",
       "\n",
       "    .dataframe thead th {\n",
       "        text-align: right;\n",
       "    }\n",
       "</style>\n",
       "<table border=\"1\" class=\"dataframe\">\n",
       "  <thead>\n",
       "    <tr style=\"text-align: right;\">\n",
       "      <th></th>\n",
       "      <th>subscription_type</th>\n",
       "      <th>minute_price</th>\n",
       "      <th>start_ride_price</th>\n",
       "      <th>subscription_fee</th>\n",
       "    </tr>\n",
       "  </thead>\n",
       "  <tbody>\n",
       "    <tr>\n",
       "      <th>0</th>\n",
       "      <td>free</td>\n",
       "      <td>8</td>\n",
       "      <td>50</td>\n",
       "      <td>0</td>\n",
       "    </tr>\n",
       "    <tr>\n",
       "      <th>1</th>\n",
       "      <td>ultra</td>\n",
       "      <td>6</td>\n",
       "      <td>0</td>\n",
       "      <td>199</td>\n",
       "    </tr>\n",
       "  </tbody>\n",
       "</table>\n",
       "</div>"
      ],
      "text/plain": [
       "  subscription_type  minute_price  start_ride_price  subscription_fee\n",
       "0              free             8                50                 0\n",
       "1             ultra             6                 0               199"
      ]
     },
     "execution_count": 39,
     "metadata": {},
     "output_type": "execute_result"
    }
   ],
   "source": [
    "subscriptions"
   ]
  },
  {
   "cell_type": "code",
   "execution_count": 40,
   "id": "3852791e",
   "metadata": {},
   "outputs": [
    {
     "data": {
      "text/html": [
       "<div>\n",
       "<style scoped>\n",
       "    .dataframe tbody tr th:only-of-type {\n",
       "        vertical-align: middle;\n",
       "    }\n",
       "\n",
       "    .dataframe tbody tr th {\n",
       "        vertical-align: top;\n",
       "    }\n",
       "\n",
       "    .dataframe thead th {\n",
       "        text-align: right;\n",
       "    }\n",
       "</style>\n",
       "<table border=\"1\" class=\"dataframe\">\n",
       "  <thead>\n",
       "    <tr style=\"text-align: right;\">\n",
       "      <th></th>\n",
       "      <th>user_id</th>\n",
       "      <th>trip_count</th>\n",
       "      <th>month</th>\n",
       "      <th>total_distance</th>\n",
       "      <th>total_duration</th>\n",
       "      <th>subscription_type</th>\n",
       "      <th>monthly_revenue</th>\n",
       "    </tr>\n",
       "  </thead>\n",
       "  <tbody>\n",
       "    <tr>\n",
       "      <th>0</th>\n",
       "      <td>1</td>\n",
       "      <td>12</td>\n",
       "      <td>1</td>\n",
       "      <td>7027.51</td>\n",
       "      <td>42.0</td>\n",
       "      <td>ultra</td>\n",
       "      <td>451.0</td>\n",
       "    </tr>\n",
       "    <tr>\n",
       "      <th>1</th>\n",
       "      <td>1</td>\n",
       "      <td>12</td>\n",
       "      <td>1</td>\n",
       "      <td>7027.51</td>\n",
       "      <td>42.0</td>\n",
       "      <td>ultra</td>\n",
       "      <td>451.0</td>\n",
       "    </tr>\n",
       "    <tr>\n",
       "      <th>2</th>\n",
       "      <td>1</td>\n",
       "      <td>12</td>\n",
       "      <td>4</td>\n",
       "      <td>754.16</td>\n",
       "      <td>7.0</td>\n",
       "      <td>ultra</td>\n",
       "      <td>241.0</td>\n",
       "    </tr>\n",
       "    <tr>\n",
       "      <th>3</th>\n",
       "      <td>1</td>\n",
       "      <td>12</td>\n",
       "      <td>8</td>\n",
       "      <td>6723.47</td>\n",
       "      <td>46.0</td>\n",
       "      <td>ultra</td>\n",
       "      <td>475.0</td>\n",
       "    </tr>\n",
       "    <tr>\n",
       "      <th>4</th>\n",
       "      <td>1</td>\n",
       "      <td>12</td>\n",
       "      <td>8</td>\n",
       "      <td>6723.47</td>\n",
       "      <td>46.0</td>\n",
       "      <td>ultra</td>\n",
       "      <td>475.0</td>\n",
       "    </tr>\n",
       "  </tbody>\n",
       "</table>\n",
       "</div>"
      ],
      "text/plain": [
       "   user_id  trip_count  month  total_distance  total_duration  \\\n",
       "0        1          12      1         7027.51            42.0   \n",
       "1        1          12      1         7027.51            42.0   \n",
       "2        1          12      4          754.16             7.0   \n",
       "3        1          12      8         6723.47            46.0   \n",
       "4        1          12      8         6723.47            46.0   \n",
       "\n",
       "  subscription_type  monthly_revenue  \n",
       "0             ultra            451.0  \n",
       "1             ultra            451.0  \n",
       "2             ultra            241.0  \n",
       "3             ultra            475.0  \n",
       "4             ultra            475.0  "
      ]
     },
     "execution_count": 40,
     "metadata": {},
     "output_type": "execute_result"
    }
   ],
   "source": [
    "subscription_info = {\n",
    "    'free': {'minute_price': 8, 'start_ride_price': 50, 'subscription_fee': 0},\n",
    "    'ultra': {'minute_price': 6, 'start_ride_price': 0, 'subscription_fee': 199}\n",
    "}\n",
    "\n",
    "user_trip_count = pd.merge(agg_data, merged_data[['user_id', 'month', 'subscription_type']], on=['user_id', 'month'])\n",
    "\n",
    "def calculate_monthly_revenue(row):\n",
    "    rate_info = subscription_info.get(row['subscription_type'], {})\n",
    "    return (rate_info.get('start_ride_price', 0) * row['trip_count'] +\n",
    "            rate_info.get('minute_price', 0) * row['total_duration'] +\n",
    "            rate_info.get('subscription_fee', 0))\n",
    "\n",
    "user_trip_count['monthly_revenue'] = user_trip_count.apply(calculate_monthly_revenue, axis=1)\n",
    "\n",
    "user_trip_count.head()"
   ]
  },
  {
   "cell_type": "code",
   "execution_count": 41,
   "id": "51907bee",
   "metadata": {},
   "outputs": [
    {
     "name": "stdout",
     "output_type": "stream",
     "text": [
      "Строки с дубликатами:\n"
     ]
    },
    {
     "data": {
      "text/html": [
       "<div>\n",
       "<style scoped>\n",
       "    .dataframe tbody tr th:only-of-type {\n",
       "        vertical-align: middle;\n",
       "    }\n",
       "\n",
       "    .dataframe tbody tr th {\n",
       "        vertical-align: top;\n",
       "    }\n",
       "\n",
       "    .dataframe thead th {\n",
       "        text-align: right;\n",
       "    }\n",
       "</style>\n",
       "<table border=\"1\" class=\"dataframe\">\n",
       "  <thead>\n",
       "    <tr style=\"text-align: right;\">\n",
       "      <th></th>\n",
       "      <th>user_id</th>\n",
       "      <th>trip_count</th>\n",
       "      <th>month</th>\n",
       "      <th>total_distance</th>\n",
       "      <th>total_duration</th>\n",
       "      <th>subscription_type</th>\n",
       "      <th>monthly_revenue</th>\n",
       "    </tr>\n",
       "  </thead>\n",
       "  <tbody>\n",
       "    <tr>\n",
       "      <th>0</th>\n",
       "      <td>1</td>\n",
       "      <td>12</td>\n",
       "      <td>1</td>\n",
       "      <td>7027.51</td>\n",
       "      <td>42.0</td>\n",
       "      <td>ultra</td>\n",
       "      <td>451.0</td>\n",
       "    </tr>\n",
       "    <tr>\n",
       "      <th>1</th>\n",
       "      <td>1</td>\n",
       "      <td>12</td>\n",
       "      <td>1</td>\n",
       "      <td>7027.51</td>\n",
       "      <td>42.0</td>\n",
       "      <td>ultra</td>\n",
       "      <td>451.0</td>\n",
       "    </tr>\n",
       "    <tr>\n",
       "      <th>3</th>\n",
       "      <td>1</td>\n",
       "      <td>12</td>\n",
       "      <td>8</td>\n",
       "      <td>6723.47</td>\n",
       "      <td>46.0</td>\n",
       "      <td>ultra</td>\n",
       "      <td>475.0</td>\n",
       "    </tr>\n",
       "    <tr>\n",
       "      <th>4</th>\n",
       "      <td>1</td>\n",
       "      <td>12</td>\n",
       "      <td>8</td>\n",
       "      <td>6723.47</td>\n",
       "      <td>46.0</td>\n",
       "      <td>ultra</td>\n",
       "      <td>475.0</td>\n",
       "    </tr>\n",
       "    <tr>\n",
       "      <th>5</th>\n",
       "      <td>1</td>\n",
       "      <td>12</td>\n",
       "      <td>10</td>\n",
       "      <td>5809.91</td>\n",
       "      <td>32.0</td>\n",
       "      <td>ultra</td>\n",
       "      <td>391.0</td>\n",
       "    </tr>\n",
       "  </tbody>\n",
       "</table>\n",
       "</div>"
      ],
      "text/plain": [
       "   user_id  trip_count  month  total_distance  total_duration  \\\n",
       "0        1          12      1         7027.51            42.0   \n",
       "1        1          12      1         7027.51            42.0   \n",
       "3        1          12      8         6723.47            46.0   \n",
       "4        1          12      8         6723.47            46.0   \n",
       "5        1          12     10         5809.91            32.0   \n",
       "\n",
       "  subscription_type  monthly_revenue  \n",
       "0             ultra            451.0  \n",
       "1             ultra            451.0  \n",
       "3             ultra            475.0  \n",
       "4             ultra            475.0  \n",
       "5             ultra            391.0  "
      ]
     },
     "metadata": {},
     "output_type": "display_data"
    }
   ],
   "source": [
    "columns_to_check_duplicates = ['user_id', 'month']\n",
    "\n",
    "dupl_user_trip_count = user_trip_count.duplicated(subset=columns_to_check_duplicates, keep=False)\n",
    "\n",
    "duplicated_rows = user_trip_count[dupl_user_trip_count]\n",
    "\n",
    "df_no_duplicates = user_trip_count.drop_duplicates(subset=columns_to_check_duplicates, keep='first', inplace=True)\n",
    "\n",
    "print(\"Строки с дубликатами:\")\n",
    "display(duplicated_rows.head())"
   ]
  },
  {
   "cell_type": "code",
   "execution_count": 42,
   "id": "0059c6bc",
   "metadata": {
    "scrolled": false
   },
   "outputs": [
    {
     "data": {
      "text/html": [
       "<div>\n",
       "<style scoped>\n",
       "    .dataframe tbody tr th:only-of-type {\n",
       "        vertical-align: middle;\n",
       "    }\n",
       "\n",
       "    .dataframe tbody tr th {\n",
       "        vertical-align: top;\n",
       "    }\n",
       "\n",
       "    .dataframe thead th {\n",
       "        text-align: right;\n",
       "    }\n",
       "</style>\n",
       "<table border=\"1\" class=\"dataframe\">\n",
       "  <thead>\n",
       "    <tr style=\"text-align: right;\">\n",
       "      <th></th>\n",
       "      <th>user_id</th>\n",
       "      <th>trip_count</th>\n",
       "      <th>month</th>\n",
       "      <th>total_distance</th>\n",
       "      <th>total_duration</th>\n",
       "      <th>subscription_type</th>\n",
       "      <th>monthly_revenue</th>\n",
       "    </tr>\n",
       "  </thead>\n",
       "  <tbody>\n",
       "    <tr>\n",
       "      <th>0</th>\n",
       "      <td>1</td>\n",
       "      <td>12</td>\n",
       "      <td>1</td>\n",
       "      <td>7027.51</td>\n",
       "      <td>42.0</td>\n",
       "      <td>ultra</td>\n",
       "      <td>451.0</td>\n",
       "    </tr>\n",
       "    <tr>\n",
       "      <th>2</th>\n",
       "      <td>1</td>\n",
       "      <td>12</td>\n",
       "      <td>4</td>\n",
       "      <td>754.16</td>\n",
       "      <td>7.0</td>\n",
       "      <td>ultra</td>\n",
       "      <td>241.0</td>\n",
       "    </tr>\n",
       "    <tr>\n",
       "      <th>3</th>\n",
       "      <td>1</td>\n",
       "      <td>12</td>\n",
       "      <td>8</td>\n",
       "      <td>6723.47</td>\n",
       "      <td>46.0</td>\n",
       "      <td>ultra</td>\n",
       "      <td>475.0</td>\n",
       "    </tr>\n",
       "    <tr>\n",
       "      <th>5</th>\n",
       "      <td>1</td>\n",
       "      <td>12</td>\n",
       "      <td>10</td>\n",
       "      <td>5809.91</td>\n",
       "      <td>32.0</td>\n",
       "      <td>ultra</td>\n",
       "      <td>391.0</td>\n",
       "    </tr>\n",
       "    <tr>\n",
       "      <th>7</th>\n",
       "      <td>1</td>\n",
       "      <td>12</td>\n",
       "      <td>11</td>\n",
       "      <td>7003.50</td>\n",
       "      <td>56.0</td>\n",
       "      <td>ultra</td>\n",
       "      <td>535.0</td>\n",
       "    </tr>\n",
       "  </tbody>\n",
       "</table>\n",
       "</div>"
      ],
      "text/plain": [
       "   user_id  trip_count  month  total_distance  total_duration  \\\n",
       "0        1          12      1         7027.51            42.0   \n",
       "2        1          12      4          754.16             7.0   \n",
       "3        1          12      8         6723.47            46.0   \n",
       "5        1          12     10         5809.91            32.0   \n",
       "7        1          12     11         7003.50            56.0   \n",
       "\n",
       "  subscription_type  monthly_revenue  \n",
       "0             ultra            451.0  \n",
       "2             ultra            241.0  \n",
       "3             ultra            475.0  \n",
       "5             ultra            391.0  \n",
       "7             ultra            535.0  "
      ]
     },
     "execution_count": 42,
     "metadata": {},
     "output_type": "execute_result"
    }
   ],
   "source": [
    "user_trip_count.head()"
   ]
  },
  {
   "cell_type": "code",
   "execution_count": 43,
   "id": "4cf938b7",
   "metadata": {},
   "outputs": [
    {
     "data": {
      "text/html": [
       "<div>\n",
       "<style scoped>\n",
       "    .dataframe tbody tr th:only-of-type {\n",
       "        vertical-align: middle;\n",
       "    }\n",
       "\n",
       "    .dataframe tbody tr th {\n",
       "        vertical-align: top;\n",
       "    }\n",
       "\n",
       "    .dataframe thead th {\n",
       "        text-align: right;\n",
       "    }\n",
       "</style>\n",
       "<table border=\"1\" class=\"dataframe\">\n",
       "  <thead>\n",
       "    <tr style=\"text-align: right;\">\n",
       "      <th></th>\n",
       "      <th></th>\n",
       "      <th></th>\n",
       "      <th>sum_distance</th>\n",
       "      <th>sum_duration</th>\n",
       "      <th>rides_count</th>\n",
       "    </tr>\n",
       "    <tr>\n",
       "      <th>user_id</th>\n",
       "      <th>subscription_type</th>\n",
       "      <th>month</th>\n",
       "      <th></th>\n",
       "      <th></th>\n",
       "      <th></th>\n",
       "    </tr>\n",
       "  </thead>\n",
       "  <tbody>\n",
       "    <tr>\n",
       "      <th rowspan=\"5\" valign=\"top\">1</th>\n",
       "      <th rowspan=\"5\" valign=\"top\">ultra</th>\n",
       "      <th>1</th>\n",
       "      <td>7027.511294</td>\n",
       "      <td>42.0</td>\n",
       "      <td>2</td>\n",
       "    </tr>\n",
       "    <tr>\n",
       "      <th>4</th>\n",
       "      <td>754.159807</td>\n",
       "      <td>7.0</td>\n",
       "      <td>1</td>\n",
       "    </tr>\n",
       "    <tr>\n",
       "      <th>8</th>\n",
       "      <td>6723.470560</td>\n",
       "      <td>46.0</td>\n",
       "      <td>2</td>\n",
       "    </tr>\n",
       "    <tr>\n",
       "      <th>10</th>\n",
       "      <td>5809.911100</td>\n",
       "      <td>32.0</td>\n",
       "      <td>2</td>\n",
       "    </tr>\n",
       "    <tr>\n",
       "      <th>11</th>\n",
       "      <td>7003.499363</td>\n",
       "      <td>56.0</td>\n",
       "      <td>3</td>\n",
       "    </tr>\n",
       "  </tbody>\n",
       "</table>\n",
       "</div>"
      ],
      "text/plain": [
       "                                 sum_distance  sum_duration  rides_count\n",
       "user_id subscription_type month                                         \n",
       "1       ultra             1       7027.511294          42.0            2\n",
       "                          4        754.159807           7.0            1\n",
       "                          8       6723.470560          46.0            2\n",
       "                          10      5809.911100          32.0            2\n",
       "                          11      7003.499363          56.0            3"
      ]
     },
     "execution_count": 43,
     "metadata": {},
     "output_type": "execute_result"
    }
   ],
   "source": [
    "# Добавим датафрейм спродолжительностью всех поездок по пользователям, суммарной дистанции и количеству поездок\n",
    "agg_data = pd.pivot_table(\n",
    "    merged_data, \n",
    "    index=['user_id', 'subscription_type', 'month'], \n",
    "    values=['distance', 'duration'], \n",
    "    aggfunc=['sum', 'count'])\n",
    "\n",
    "# Отчистим лишний столбец с количеством поездок и подправим наименования\n",
    "agg_data.columns = ['sum_distance', 'sum_duration', 'rides_count', 'rides_count_copy']\n",
    "agg_data.drop('rides_count_copy', axis=1, inplace=True)\n",
    "agg_data.sort_values(by=['user_id', 'month'], ascending=True)\n",
    "\n",
    "agg_data.head()"
   ]
  },
  {
   "cell_type": "code",
   "execution_count": 44,
   "id": "a83291bb",
   "metadata": {},
   "outputs": [
    {
     "data": {
      "text/html": [
       "<div>\n",
       "<style scoped>\n",
       "    .dataframe tbody tr th:only-of-type {\n",
       "        vertical-align: middle;\n",
       "    }\n",
       "\n",
       "    .dataframe tbody tr th {\n",
       "        vertical-align: top;\n",
       "    }\n",
       "\n",
       "    .dataframe thead th {\n",
       "        text-align: right;\n",
       "    }\n",
       "</style>\n",
       "<table border=\"1\" class=\"dataframe\">\n",
       "  <thead>\n",
       "    <tr style=\"text-align: right;\">\n",
       "      <th></th>\n",
       "      <th></th>\n",
       "      <th></th>\n",
       "      <th>sum_distance</th>\n",
       "      <th>sum_duration</th>\n",
       "      <th>rides_count</th>\n",
       "      <th>subs_type</th>\n",
       "      <th>uid</th>\n",
       "    </tr>\n",
       "    <tr>\n",
       "      <th>user_id</th>\n",
       "      <th>subscription_type</th>\n",
       "      <th>month</th>\n",
       "      <th></th>\n",
       "      <th></th>\n",
       "      <th></th>\n",
       "      <th></th>\n",
       "      <th></th>\n",
       "    </tr>\n",
       "  </thead>\n",
       "  <tbody>\n",
       "    <tr>\n",
       "      <th rowspan=\"5\" valign=\"top\">1</th>\n",
       "      <th rowspan=\"5\" valign=\"top\">ultra</th>\n",
       "      <th>1</th>\n",
       "      <td>7027.511294</td>\n",
       "      <td>42.0</td>\n",
       "      <td>2</td>\n",
       "      <td>ultra</td>\n",
       "      <td>1</td>\n",
       "    </tr>\n",
       "    <tr>\n",
       "      <th>4</th>\n",
       "      <td>754.159807</td>\n",
       "      <td>7.0</td>\n",
       "      <td>1</td>\n",
       "      <td>ultra</td>\n",
       "      <td>1</td>\n",
       "    </tr>\n",
       "    <tr>\n",
       "      <th>8</th>\n",
       "      <td>6723.470560</td>\n",
       "      <td>46.0</td>\n",
       "      <td>2</td>\n",
       "      <td>ultra</td>\n",
       "      <td>1</td>\n",
       "    </tr>\n",
       "    <tr>\n",
       "      <th>10</th>\n",
       "      <td>5809.911100</td>\n",
       "      <td>32.0</td>\n",
       "      <td>2</td>\n",
       "      <td>ultra</td>\n",
       "      <td>1</td>\n",
       "    </tr>\n",
       "    <tr>\n",
       "      <th>11</th>\n",
       "      <td>7003.499363</td>\n",
       "      <td>56.0</td>\n",
       "      <td>3</td>\n",
       "      <td>ultra</td>\n",
       "      <td>1</td>\n",
       "    </tr>\n",
       "    <tr>\n",
       "      <th>...</th>\n",
       "      <th>...</th>\n",
       "      <th>...</th>\n",
       "      <td>...</td>\n",
       "      <td>...</td>\n",
       "      <td>...</td>\n",
       "      <td>...</td>\n",
       "      <td>...</td>\n",
       "    </tr>\n",
       "    <tr>\n",
       "      <th rowspan=\"5\" valign=\"top\">1534</th>\n",
       "      <th rowspan=\"5\" valign=\"top\">free</th>\n",
       "      <th>6</th>\n",
       "      <td>3409.468534</td>\n",
       "      <td>26.0</td>\n",
       "      <td>2</td>\n",
       "      <td>free</td>\n",
       "      <td>1534</td>\n",
       "    </tr>\n",
       "    <tr>\n",
       "      <th>8</th>\n",
       "      <td>7622.453034</td>\n",
       "      <td>48.0</td>\n",
       "      <td>2</td>\n",
       "      <td>free</td>\n",
       "      <td>1534</td>\n",
       "    </tr>\n",
       "    <tr>\n",
       "      <th>9</th>\n",
       "      <td>4928.173852</td>\n",
       "      <td>23.0</td>\n",
       "      <td>1</td>\n",
       "      <td>free</td>\n",
       "      <td>1534</td>\n",
       "    </tr>\n",
       "    <tr>\n",
       "      <th>11</th>\n",
       "      <td>13350.015305</td>\n",
       "      <td>78.0</td>\n",
       "      <td>4</td>\n",
       "      <td>free</td>\n",
       "      <td>1534</td>\n",
       "    </tr>\n",
       "    <tr>\n",
       "      <th>12</th>\n",
       "      <td>2371.711192</td>\n",
       "      <td>16.0</td>\n",
       "      <td>1</td>\n",
       "      <td>free</td>\n",
       "      <td>1534</td>\n",
       "    </tr>\n",
       "  </tbody>\n",
       "</table>\n",
       "<p>11331 rows × 5 columns</p>\n",
       "</div>"
      ],
      "text/plain": [
       "                                 sum_distance  sum_duration  rides_count  \\\n",
       "user_id subscription_type month                                            \n",
       "1       ultra             1       7027.511294          42.0            2   \n",
       "                          4        754.159807           7.0            1   \n",
       "                          8       6723.470560          46.0            2   \n",
       "                          10      5809.911100          32.0            2   \n",
       "                          11      7003.499363          56.0            3   \n",
       "...                                       ...           ...          ...   \n",
       "1534    free              6       3409.468534          26.0            2   \n",
       "                          8       7622.453034          48.0            2   \n",
       "                          9       4928.173852          23.0            1   \n",
       "                          11     13350.015305          78.0            4   \n",
       "                          12      2371.711192          16.0            1   \n",
       "\n",
       "                                subs_type   uid  \n",
       "user_id subscription_type month                  \n",
       "1       ultra             1         ultra     1  \n",
       "                          4         ultra     1  \n",
       "                          8         ultra     1  \n",
       "                          10        ultra     1  \n",
       "                          11        ultra     1  \n",
       "...                                   ...   ...  \n",
       "1534    free              6          free  1534  \n",
       "                          8          free  1534  \n",
       "                          9          free  1534  \n",
       "                          11         free  1534  \n",
       "                          12         free  1534  \n",
       "\n",
       "[11331 rows x 5 columns]"
      ]
     },
     "metadata": {},
     "output_type": "display_data"
    }
   ],
   "source": [
    "# Зададим функцию расчета выручки\n",
    "agg_data['subs_type'] = agg_data.index.get_level_values(1)\n",
    "agg_data['uid'] = agg_data.index.get_level_values(0)\n",
    "agg_data['sum_duration'] = np.ceil(agg_data['sum_duration'])\n",
    "display(agg_data)\n",
    "def get_revenue(row):\n",
    "    s_type = row['subs_type']\n",
    "    uid = row['uid']\n",
    "    rides_count = row['rides_count']\n",
    "    sum_dur = row['sum_duration']\n",
    "    subs_cost = 0\n",
    "    st_ride_price = 0\n",
    "    minute_cost = 0\n",
    "\n",
    "    if s_type == 'ultra':\n",
    "        subs_cost = 199\n",
    "        st_ride_price = 0\n",
    "        minute_cost = 6\n",
    "    else:\n",
    "        subs_cost = 0\n",
    "        st_ride_price = 50\n",
    "        minute_cost = 8\n",
    "    return (rides_count * st_ride_price) + (sum_dur * minute_cost) + subs_cost\n",
    "\n",
    "\n",
    "agg_data['revenue'] = agg_data.apply(get_revenue, axis=1)\n",
    "agg_data.index = agg_data.index.droplevel(1)\n",
    "\n",
    "# Создадим фрейм с помесячными тратами \n",
    "month_revenue_data = pd.DataFrame(agg_data['revenue'])\n",
    "month_revenue_data.columns = ['траты за месяц']"
   ]
  },
  {
   "cell_type": "code",
   "execution_count": 45,
   "id": "6b375f15",
   "metadata": {},
   "outputs": [
    {
     "data": {
      "text/html": [
       "<div>\n",
       "<style scoped>\n",
       "    .dataframe tbody tr th:only-of-type {\n",
       "        vertical-align: middle;\n",
       "    }\n",
       "\n",
       "    .dataframe tbody tr th {\n",
       "        vertical-align: top;\n",
       "    }\n",
       "\n",
       "    .dataframe thead th {\n",
       "        text-align: right;\n",
       "    }\n",
       "</style>\n",
       "<table border=\"1\" class=\"dataframe\">\n",
       "  <thead>\n",
       "    <tr style=\"text-align: right;\">\n",
       "      <th></th>\n",
       "      <th></th>\n",
       "      <th>sum_distance</th>\n",
       "      <th>sum_duration</th>\n",
       "      <th>rides_count</th>\n",
       "      <th>subs_type</th>\n",
       "      <th>uid</th>\n",
       "      <th>revenue</th>\n",
       "    </tr>\n",
       "    <tr>\n",
       "      <th>user_id</th>\n",
       "      <th>month</th>\n",
       "      <th></th>\n",
       "      <th></th>\n",
       "      <th></th>\n",
       "      <th></th>\n",
       "      <th></th>\n",
       "      <th></th>\n",
       "    </tr>\n",
       "  </thead>\n",
       "  <tbody>\n",
       "    <tr>\n",
       "      <th rowspan=\"5\" valign=\"top\">1</th>\n",
       "      <th>1</th>\n",
       "      <td>7027.511294</td>\n",
       "      <td>42.0</td>\n",
       "      <td>2</td>\n",
       "      <td>ultra</td>\n",
       "      <td>1</td>\n",
       "      <td>451.0</td>\n",
       "    </tr>\n",
       "    <tr>\n",
       "      <th>4</th>\n",
       "      <td>754.159807</td>\n",
       "      <td>7.0</td>\n",
       "      <td>1</td>\n",
       "      <td>ultra</td>\n",
       "      <td>1</td>\n",
       "      <td>241.0</td>\n",
       "    </tr>\n",
       "    <tr>\n",
       "      <th>8</th>\n",
       "      <td>6723.470560</td>\n",
       "      <td>46.0</td>\n",
       "      <td>2</td>\n",
       "      <td>ultra</td>\n",
       "      <td>1</td>\n",
       "      <td>475.0</td>\n",
       "    </tr>\n",
       "    <tr>\n",
       "      <th>10</th>\n",
       "      <td>5809.911100</td>\n",
       "      <td>32.0</td>\n",
       "      <td>2</td>\n",
       "      <td>ultra</td>\n",
       "      <td>1</td>\n",
       "      <td>391.0</td>\n",
       "    </tr>\n",
       "    <tr>\n",
       "      <th>11</th>\n",
       "      <td>7003.499363</td>\n",
       "      <td>56.0</td>\n",
       "      <td>3</td>\n",
       "      <td>ultra</td>\n",
       "      <td>1</td>\n",
       "      <td>535.0</td>\n",
       "    </tr>\n",
       "  </tbody>\n",
       "</table>\n",
       "</div>"
      ],
      "text/plain": [
       "               sum_distance  sum_duration  rides_count subs_type  uid  revenue\n",
       "user_id month                                                                 \n",
       "1       1       7027.511294          42.0            2     ultra    1    451.0\n",
       "        4        754.159807           7.0            1     ultra    1    241.0\n",
       "        8       6723.470560          46.0            2     ultra    1    475.0\n",
       "        10      5809.911100          32.0            2     ultra    1    391.0\n",
       "        11      7003.499363          56.0            3     ultra    1    535.0"
      ]
     },
     "execution_count": 45,
     "metadata": {},
     "output_type": "execute_result"
    }
   ],
   "source": [
    "agg_data.head()"
   ]
  },
  {
   "cell_type": "code",
   "execution_count": null,
   "id": "5a0da387",
   "metadata": {},
   "outputs": [],
   "source": []
  },
  {
   "cell_type": "markdown",
   "id": "41545ac0",
   "metadata": {},
   "source": [
    "#### Шаг 6. Проверка гипотез"
   ]
  },
  {
   "cell_type": "markdown",
   "id": "0cb045a8",
   "metadata": {},
   "source": [
    "Нулевая гипотеза (H₀): Средняя продолжительность поездок для пользователей с подпиской равна средней продолжительности поездок для пользователей без подписки.\n",
    "\n",
    "Альтернативная гипотеза (H₁): Средняя продолжительность поездок для пользователей с подпиской больше, чем средняя продолжительность поездок для пользователей без подписки.\n",
    "\n",
    "Уровень значимости: 0.05"
   ]
  },
  {
   "cell_type": "code",
   "execution_count": 46,
   "id": "23ea867b",
   "metadata": {},
   "outputs": [
    {
     "name": "stdout",
     "output_type": "stream",
     "text": [
      "p-value: 1.1814679253701353e-36\n",
      "Отвергаем нулевую гипотезу. Пользователи с подпиской и без подписки имеют различные средние значения продолжительности поездок.\n"
     ]
    }
   ],
   "source": [
    "# Отделяем данные о продолжительности поездок для пользователей с подпиской и без подписки\n",
    "duration_subs = merged_data[merged_data['subscription_type'] == 'ultra']['duration']\n",
    "duration_non_subs = merged_data[merged_data['subscription_type'] == 'free']['duration']\n",
    "\n",
    "# Проводим t-тест для независимых выборок\n",
    "t_statistic, p_value = ttest_ind(duration_subs, duration_non_subs, equal_var=False, alternative='greater')\n",
    "\n",
    "# Выводим значение p-value\n",
    "print(\"p-value:\", p_value)\n",
    "\n",
    "# Выводим результаты\n",
    "if p_value < 0.05:\n",
    "    print(\"Отвергаем нулевую гипотезу. Пользователи с подпиской и без подписки имеют различные средние значения продолжительности поездок.\")\n",
    "else:\n",
    "    print(\"Не отвергаем нулевую гипотезу. Нет достаточных доказательств различия средних значений продолжительности поездок для пользователей с подпиской и без подписки.\")\n"
   ]
  },
  {
   "cell_type": "code",
   "execution_count": null,
   "id": "4374e7d1",
   "metadata": {},
   "outputs": [],
   "source": []
  },
  {
   "cell_type": "markdown",
   "id": "19837612",
   "metadata": {},
   "source": [
    "Нулевая гипотеза (H₀): Среднее расстояние, пройденное пользователями с подпиской за одну поездку, равно 3130 метров.\n",
    "\n",
    "Альтернативная гипотеза (H₁): Среднее расстояние, пройденное пользователями с подпиской за одну поездку, больше 3130 метров.\n",
    "\n",
    "Уровень значимости: 0.05"
   ]
  },
  {
   "cell_type": "code",
   "execution_count": 47,
   "id": "dddc2054",
   "metadata": {},
   "outputs": [
    {
     "name": "stdout",
     "output_type": "stream",
     "text": [
      "p-value: 0.9195368847849785\n",
      "Не отвергаем нулевую гипотезу. Среднее расстояние, пройденное пользователями с подпиской за одну поездку, не превышает 3130 метров.\n"
     ]
    }
   ],
   "source": [
    "# Отделяем данные о расстоянии одной поездки для пользователей с подпиской\n",
    "distance_subscribers = merged_data[merged_data['subscription_type'] == 'ultra']['distance']\n",
    "\n",
    "# Проводим одновыборочный t-тест\n",
    "t_statistic, p_value = ttest_1samp(distance_subscribers, 3130, alternative='greater')\n",
    "\n",
    "# Выводим значение p-value\n",
    "print(\"p-value:\", p_value)\n",
    "\n",
    "# Выводим результаты\n",
    "if p_value < 0.05:\n",
    "    print(\"Отвергаем нулевую гипотезу. Среднее расстояние, пройденное пользователями с подпиской за одну поездку, превышает 3130 метров.\")\n",
    "else:\n",
    "    print(\"Не отвергаем нулевую гипотезу. Среднее расстояние, пройденное пользователями с подпиской за одну поездку, не превышает 3130 метров.\")\n"
   ]
  },
  {
   "cell_type": "markdown",
   "id": "e682d27a",
   "metadata": {},
   "source": [
    "Нулевая гипотеза (H₀): Средняя помесячная выручка от пользователей с подпиской равна или меньше средней помесячной выручки от пользователей без подписки.\n",
    "\n",
    "Альтернативная гипотеза (H₁): Средняя помесячная выручка от пользователей с подпиской выше, чем средняя помесячная выручка от пользователей без подписки."
   ]
  },
  {
   "cell_type": "code",
   "execution_count": 48,
   "id": "66c3d9c6",
   "metadata": {},
   "outputs": [
    {
     "name": "stdout",
     "output_type": "stream",
     "text": [
      "p-value: 1.0\n",
      "Не отвергаем нулевую гипотезу. Нет достаточных доказательств того, что помесячная выручка от пользователей с подпиской по месяцам выше, чем выручка от пользователей без подписки.\n"
     ]
    }
   ],
   "source": [
    "# Отделяем данные о помесячной выручке для пользователей с подпиской и без подписки\n",
    "revenue_subscribers = user_trip_count[user_trip_count['subscription_type'] == 'ultra']['monthly_revenue']\n",
    "revenue_non_subscribers = user_trip_count[user_trip_count['subscription_type'] == 'free']['monthly_revenue']\n",
    "\n",
    "# Проводим двухвыборочный t-тест для независимых выборок\n",
    "t_statistic, p_value = ttest_ind(revenue_subscribers, revenue_non_subscribers, equal_var=False, alternative='greater')\n",
    "\n",
    "# Выводим значение p-value\n",
    "print(\"p-value:\", p_value)\n",
    "\n",
    "# Выводим результаты\n",
    "if p_value < 0.05:\n",
    "    print(\"Отвергаем нулевую гипотезу. Помесячная выручка от пользователей с подпиской по месяцам выше, чем выручка от пользователей без подписки.\")\n",
    "else:\n",
    "    print(\"Не отвергаем нулевую гипотезу. Нет достаточных доказательств того, что помесячная выручка от пользователей с подпиской по месяцам выше, чем выручка от пользователей без подписки.\")\n"
   ]
  },
  {
   "cell_type": "code",
   "execution_count": 49,
   "id": "1af5b2af",
   "metadata": {},
   "outputs": [
    {
     "data": {
      "text/plain": [
       "0    451.0\n",
       "2    241.0\n",
       "3    475.0\n",
       "5    391.0\n",
       "7    535.0\n",
       "Name: monthly_revenue, dtype: float64"
      ]
     },
     "execution_count": 49,
     "metadata": {},
     "output_type": "execute_result"
    }
   ],
   "source": [
    "revenue_subscribers.head()"
   ]
  },
  {
   "cell_type": "code",
   "execution_count": 50,
   "id": "be03dc37",
   "metadata": {},
   "outputs": [
    {
     "data": {
      "text/plain": [
       "6500    1020.0\n",
       "6501    1612.0\n",
       "6506    1052.0\n",
       "6507    1028.0\n",
       "6508    1132.0\n",
       "Name: monthly_revenue, dtype: float64"
      ]
     },
     "execution_count": 50,
     "metadata": {},
     "output_type": "execute_result"
    }
   ],
   "source": [
    "revenue_non_subscribers.head()"
   ]
  },
  {
   "cell_type": "code",
   "execution_count": 51,
   "id": "e7b2b3a0",
   "metadata": {},
   "outputs": [
    {
     "name": "stdout",
     "output_type": "stream",
     "text": [
      "<class 'pandas.core.frame.DataFrame'>\n",
      "MultiIndex: 11331 entries, (1, 1) to (1534, 12)\n",
      "Data columns (total 6 columns):\n",
      " #   Column        Non-Null Count  Dtype  \n",
      "---  ------        --------------  -----  \n",
      " 0   sum_distance  11331 non-null  float64\n",
      " 1   sum_duration  11331 non-null  float64\n",
      " 2   rides_count   11331 non-null  int64  \n",
      " 3   subs_type     11331 non-null  object \n",
      " 4   uid           11331 non-null  int64  \n",
      " 5   revenue       11331 non-null  float64\n",
      "dtypes: float64(3), int64(2), object(1)\n",
      "memory usage: 576.5+ KB\n"
     ]
    }
   ],
   "source": [
    "agg_data.info()"
   ]
  },
  {
   "cell_type": "code",
   "execution_count": 52,
   "id": "f95e1600",
   "metadata": {
    "scrolled": false
   },
   "outputs": [
    {
     "name": "stdout",
     "output_type": "stream",
     "text": [
      "Среднее выборки пользователей с подписками: 362.7921906022502\n",
      "Среднее выборки пользователей без подписок: 328.6413651073845\n",
      "p-значение: 1.8850394384715216e-31\n",
      "Не получилось отвергнуть нулевую гипотезу\n"
     ]
    }
   ],
   "source": [
    "sample_users_ultra = agg_data.query('subs_type == \"ultra\"')['revenue'].tolist()\n",
    "sample_users_free = agg_data.query('subs_type == \"free\"')['revenue'].tolist()\n",
    "\n",
    "\n",
    "print(f'Среднее выборки пользователей с подписками: {np.mean(sample_users_ultra)}')\n",
    "print(f'Среднее выборки пользователей без подписок: {np.mean(sample_users_free)}')\n",
    "alpha = 0.05 # уровень статистической значимости\n",
    "# если p-value окажется меньше него, отвергнем гипотезу\n",
    "\n",
    "results = st.ttest_ind(sample_users_ultra, sample_users_free, alternative='greater')\n",
    "\n",
    "print('p-значение:', results.pvalue)\n",
    "\n",
    "if results.pvalue > alpha:\n",
    "    print('Отвергаем нулевую гипотезу')\n",
    "else:\n",
    "    print('Не получилось отвергнуть нулевую гипотезу') \n"
   ]
  },
  {
   "cell_type": "code",
   "execution_count": null,
   "id": "d19badc0",
   "metadata": {},
   "outputs": [],
   "source": []
  },
  {
   "cell_type": "markdown",
   "id": "dd821061",
   "metadata": {},
   "source": [
    "**Исправлено:**\n",
    "\n",
    "Нулевая гипотеза (H₀): Среднее количество обращений в техподдержку до обновления серверов равно или больше среднего количества обращений после обновления.\n",
    "\n",
    "Альтернативная гипотеза (H₁): Среднее количество обращений в техподдержку после обновления серверов меньше среднего количества обращений до обновления.\n",
    "\n",
    "\n",
    "Для проверки этой гипотезы необходимо использовать тест на равенство средних для зависимых выборок (парный t-тест), т.к. мы сравниваем количество обращений в техподдержку для одного и того же пользователя до и после воздействия (обновления серверов), то есть, на \"снижение\" количества обращений."
   ]
  },
  {
   "cell_type": "markdown",
   "id": "b5e3224e",
   "metadata": {},
   "source": [
    "# Общий вывод #\n",
    "\n",
    "**Исходя из результатов выше проведенных анализов и проверенных гипотез, можно сделать следующий вывод:**\n",
    "\n",
    "1. Часто встречаемый город сервиса - это `Пятгорск`;\n",
    "2. Соотношение пользователей с подпиской и без подписки:\n",
    "   - 54.4% - free\n",
    "   - 45.6% - ultra\n",
    "\n",
    "\n",
    "3. Часто встречаемый возраст среди пользователей - `25`;\n",
    "\n",
    "\n",
    "4. Среднее значение частоты расстояния поездок: `3000` км (`3070`), минимальное - `0.8`, максимальное - `7211` и основной диапазон - с `2543` до `3776`\n",
    "\n",
    "\n",
    "5. Среднее значение частоты продолжительности в минутах - `17.8`, минимальное - `0.5`, максимальное - `40.8` и основной диапазон - с `13.6` по `21.7`;\n",
    "\n",
    "\n",
    "6. Гипотеза, где \"Нулевая гипотеза (H₀): Средняя продолжительность поездок для пользователей с подпиской равна средней продолжительности поездок для пользователей без подписки.\" - Отвергнута в пользу альтернативной гипотезы;\n",
    "\n",
    "\n",
    "7. Гипотеза, где \"Нулевая гипотеза (H₀): Среднее расстояние, пройденное пользователями с подпиской за одну поездку, равно 3130 метров.\" - Не отвергнута, т.к. среднее расстояние, пройденное пользователями с подпиской за одну поездку, не превышает 3130 метров;\n",
    "\n",
    "\n",
    "8. Гипотеза, где \"Нулевая гипотеза (H₀): Средняя помесячная выручка от пользователей с подпиской равна или меньше средней помесячной выручки от пользователей без подписки.\" - Не отвергнута, т.к. нет достаточных доказательств того, что помесячная выручка от пользователей с подпиской по месяцам выше, чем выручка от пользователей без подписки;\n",
    "\n",
    "\n",
    "9. Для проверки гипотезы \"Нулевая гипотеза (H₀): Среднее количество обращений в техподдержку до обновления серверов равно или больше среднего количества обращений после обновления.\" - Двухвыборочный t-тест для зависимых выборок. Пример кода: st.ttest_rel(after, before, alternative)\n",
    "\n",
    "10. \"Шаг №7. Распределения\" не был выполнен, т.к. является необязательным для выполнения\n"
   ]
  },
  {
   "cell_type": "code",
   "execution_count": null,
   "id": "7b740f5e",
   "metadata": {},
   "outputs": [],
   "source": []
  }
 ],
 "metadata": {
  "ExecuteTimeLog": [
   {
    "duration": 52,
    "start_time": "2024-04-27T18:25:21.874Z"
   },
   {
    "duration": 1205,
    "start_time": "2024-04-27T18:25:35.613Z"
   },
   {
    "duration": 203,
    "start_time": "2024-04-27T18:25:36.820Z"
   },
   {
    "duration": 27,
    "start_time": "2024-04-27T18:25:37.025Z"
   },
   {
    "duration": 6,
    "start_time": "2024-04-27T18:25:37.055Z"
   },
   {
    "duration": 17,
    "start_time": "2024-04-27T18:25:37.063Z"
   },
   {
    "duration": 11,
    "start_time": "2024-04-27T18:25:37.082Z"
   },
   {
    "duration": 34,
    "start_time": "2024-04-27T18:25:37.095Z"
   },
   {
    "duration": 20,
    "start_time": "2024-04-27T18:25:37.131Z"
   },
   {
    "duration": 4,
    "start_time": "2024-04-27T18:25:37.153Z"
   },
   {
    "duration": 3,
    "start_time": "2024-04-27T18:25:37.160Z"
   },
   {
    "duration": 11,
    "start_time": "2024-04-27T18:25:37.165Z"
   },
   {
    "duration": 17,
    "start_time": "2024-04-27T18:25:37.178Z"
   },
   {
    "duration": 10,
    "start_time": "2024-04-27T18:25:37.196Z"
   },
   {
    "duration": 853,
    "start_time": "2024-04-27T18:25:37.208Z"
   },
   {
    "duration": 0,
    "start_time": "2024-04-27T18:25:38.063Z"
   },
   {
    "duration": 0,
    "start_time": "2024-04-27T18:25:38.065Z"
   },
   {
    "duration": 0,
    "start_time": "2024-04-27T18:25:38.066Z"
   },
   {
    "duration": 0,
    "start_time": "2024-04-27T18:25:38.067Z"
   },
   {
    "duration": 0,
    "start_time": "2024-04-27T18:25:38.068Z"
   },
   {
    "duration": 0,
    "start_time": "2024-04-27T18:25:38.069Z"
   },
   {
    "duration": 0,
    "start_time": "2024-04-27T18:25:38.070Z"
   },
   {
    "duration": 0,
    "start_time": "2024-04-27T18:25:38.071Z"
   },
   {
    "duration": 0,
    "start_time": "2024-04-27T18:25:38.072Z"
   },
   {
    "duration": 0,
    "start_time": "2024-04-27T18:25:38.073Z"
   },
   {
    "duration": 0,
    "start_time": "2024-04-27T18:25:38.075Z"
   },
   {
    "duration": 0,
    "start_time": "2024-04-27T18:25:38.076Z"
   },
   {
    "duration": 0,
    "start_time": "2024-04-27T18:25:38.077Z"
   },
   {
    "duration": 0,
    "start_time": "2024-04-27T18:25:38.078Z"
   },
   {
    "duration": 0,
    "start_time": "2024-04-27T18:25:38.079Z"
   },
   {
    "duration": 0,
    "start_time": "2024-04-27T18:25:38.081Z"
   },
   {
    "duration": 0,
    "start_time": "2024-04-27T18:25:38.082Z"
   },
   {
    "duration": 0,
    "start_time": "2024-04-27T18:25:38.083Z"
   },
   {
    "duration": 0,
    "start_time": "2024-04-27T18:25:38.084Z"
   },
   {
    "duration": 0,
    "start_time": "2024-04-27T18:25:38.085Z"
   },
   {
    "duration": 0,
    "start_time": "2024-04-27T18:25:38.086Z"
   },
   {
    "duration": 0,
    "start_time": "2024-04-27T18:25:38.087Z"
   },
   {
    "duration": 0,
    "start_time": "2024-04-27T18:25:38.088Z"
   },
   {
    "duration": 0,
    "start_time": "2024-04-27T18:25:38.089Z"
   },
   {
    "duration": 1,
    "start_time": "2024-04-27T18:25:38.090Z"
   },
   {
    "duration": 0,
    "start_time": "2024-04-27T18:25:38.092Z"
   },
   {
    "duration": 0,
    "start_time": "2024-04-27T18:25:38.093Z"
   },
   {
    "duration": 0,
    "start_time": "2024-04-27T18:25:38.094Z"
   },
   {
    "duration": 0,
    "start_time": "2024-04-27T18:25:38.095Z"
   },
   {
    "duration": 0,
    "start_time": "2024-04-27T18:25:38.097Z"
   },
   {
    "duration": 0,
    "start_time": "2024-04-27T18:25:38.097Z"
   },
   {
    "duration": 0,
    "start_time": "2024-04-27T18:25:38.099Z"
   },
   {
    "duration": 0,
    "start_time": "2024-04-27T18:25:38.100Z"
   },
   {
    "duration": 0,
    "start_time": "2024-04-27T18:25:38.100Z"
   },
   {
    "duration": 0,
    "start_time": "2024-04-27T18:25:38.101Z"
   },
   {
    "duration": 0,
    "start_time": "2024-04-27T18:25:38.102Z"
   },
   {
    "duration": 0,
    "start_time": "2024-04-27T18:25:38.131Z"
   },
   {
    "duration": 0,
    "start_time": "2024-04-27T18:25:38.133Z"
   },
   {
    "duration": 18,
    "start_time": "2024-04-27T18:26:09.783Z"
   },
   {
    "duration": 19,
    "start_time": "2024-04-27T18:26:17.954Z"
   },
   {
    "duration": 1142,
    "start_time": "2024-04-27T18:26:38.248Z"
   },
   {
    "duration": 70,
    "start_time": "2024-04-27T18:26:39.392Z"
   },
   {
    "duration": 21,
    "start_time": "2024-04-27T18:26:39.463Z"
   },
   {
    "duration": 4,
    "start_time": "2024-04-27T18:26:39.486Z"
   },
   {
    "duration": 25,
    "start_time": "2024-04-27T18:26:39.493Z"
   },
   {
    "duration": 29,
    "start_time": "2024-04-27T18:26:39.519Z"
   },
   {
    "duration": 14,
    "start_time": "2024-04-27T18:26:39.550Z"
   },
   {
    "duration": 32,
    "start_time": "2024-04-27T18:26:39.566Z"
   },
   {
    "duration": 6,
    "start_time": "2024-04-27T18:26:39.601Z"
   },
   {
    "duration": 15,
    "start_time": "2024-04-27T18:26:39.608Z"
   },
   {
    "duration": 29,
    "start_time": "2024-04-27T18:26:39.625Z"
   },
   {
    "duration": 12,
    "start_time": "2024-04-27T18:26:39.655Z"
   },
   {
    "duration": 15,
    "start_time": "2024-04-27T18:26:39.669Z"
   },
   {
    "duration": 28,
    "start_time": "2024-04-27T18:26:39.687Z"
   },
   {
    "duration": 15,
    "start_time": "2024-04-27T18:26:39.717Z"
   },
   {
    "duration": 308,
    "start_time": "2024-04-27T18:26:39.733Z"
   },
   {
    "duration": 206,
    "start_time": "2024-04-27T18:26:40.043Z"
   },
   {
    "duration": 347,
    "start_time": "2024-04-27T18:26:40.251Z"
   },
   {
    "duration": 331,
    "start_time": "2024-04-27T18:26:40.600Z"
   },
   {
    "duration": 9,
    "start_time": "2024-04-27T18:26:40.933Z"
   },
   {
    "duration": 131,
    "start_time": "2024-04-27T18:26:40.943Z"
   },
   {
    "duration": 338,
    "start_time": "2024-04-27T18:26:41.076Z"
   },
   {
    "duration": 468,
    "start_time": "2024-04-27T18:26:41.416Z"
   },
   {
    "duration": 9,
    "start_time": "2024-04-27T18:26:41.885Z"
   },
   {
    "duration": 7,
    "start_time": "2024-04-27T18:26:41.895Z"
   },
   {
    "duration": 24,
    "start_time": "2024-04-27T18:26:41.903Z"
   },
   {
    "duration": 13,
    "start_time": "2024-04-27T18:26:41.928Z"
   },
   {
    "duration": 35,
    "start_time": "2024-04-27T18:26:41.942Z"
   },
   {
    "duration": 3,
    "start_time": "2024-04-27T18:26:41.979Z"
   },
   {
    "duration": 56,
    "start_time": "2024-04-27T18:26:41.984Z"
   },
   {
    "duration": 3,
    "start_time": "2024-04-27T18:26:42.042Z"
   },
   {
    "duration": 15,
    "start_time": "2024-04-27T18:26:42.047Z"
   },
   {
    "duration": 533,
    "start_time": "2024-04-27T18:26:42.063Z"
   },
   {
    "duration": 788,
    "start_time": "2024-04-27T18:26:42.598Z"
   },
   {
    "duration": 8,
    "start_time": "2024-04-27T18:26:43.388Z"
   },
   {
    "duration": 9,
    "start_time": "2024-04-27T18:26:43.398Z"
   },
   {
    "duration": 46,
    "start_time": "2024-04-27T18:26:43.409Z"
   },
   {
    "duration": 44,
    "start_time": "2024-04-27T18:26:43.457Z"
   },
   {
    "duration": 28,
    "start_time": "2024-04-27T18:26:43.503Z"
   },
   {
    "duration": 273,
    "start_time": "2024-04-27T18:26:43.533Z"
   },
   {
    "duration": 28,
    "start_time": "2024-04-27T18:26:43.810Z"
   },
   {
    "duration": 15,
    "start_time": "2024-04-27T18:26:43.840Z"
   },
   {
    "duration": 45,
    "start_time": "2024-04-27T18:26:43.856Z"
   },
   {
    "duration": 187,
    "start_time": "2024-04-27T18:26:43.929Z"
   },
   {
    "duration": 25,
    "start_time": "2024-04-27T18:26:44.118Z"
   },
   {
    "duration": 2,
    "start_time": "2024-04-27T18:26:44.145Z"
   },
   {
    "duration": 15,
    "start_time": "2024-04-27T18:26:44.148Z"
   },
   {
    "duration": 22,
    "start_time": "2024-04-27T18:26:44.164Z"
   },
   {
    "duration": 17,
    "start_time": "2024-04-27T18:26:44.187Z"
   },
   {
    "duration": 8,
    "start_time": "2024-04-27T18:26:44.206Z"
   },
   {
    "duration": 15,
    "start_time": "2024-04-27T18:26:44.215Z"
   },
   {
    "duration": 15,
    "start_time": "2024-04-27T18:26:44.232Z"
   },
   {
    "duration": 16,
    "start_time": "2024-04-27T18:27:15.938Z"
   },
   {
    "duration": 16,
    "start_time": "2024-04-27T18:27:21.821Z"
   },
   {
    "duration": 20,
    "start_time": "2024-04-27T18:27:34.658Z"
   },
   {
    "duration": 4,
    "start_time": "2024-04-27T18:28:07.713Z"
   },
   {
    "duration": 80,
    "start_time": "2024-04-27T18:28:07.718Z"
   },
   {
    "duration": 19,
    "start_time": "2024-04-27T18:28:07.799Z"
   },
   {
    "duration": 5,
    "start_time": "2024-04-27T18:28:07.819Z"
   },
   {
    "duration": 11,
    "start_time": "2024-04-27T18:28:07.826Z"
   },
   {
    "duration": 25,
    "start_time": "2024-04-27T18:28:07.839Z"
   },
   {
    "duration": 13,
    "start_time": "2024-04-27T18:28:07.865Z"
   },
   {
    "duration": 20,
    "start_time": "2024-04-27T18:28:07.880Z"
   },
   {
    "duration": 6,
    "start_time": "2024-04-27T18:28:07.902Z"
   },
   {
    "duration": 11,
    "start_time": "2024-04-27T18:28:07.909Z"
   },
   {
    "duration": 13,
    "start_time": "2024-04-27T18:28:07.922Z"
   },
   {
    "duration": 7,
    "start_time": "2024-04-27T18:28:07.937Z"
   },
   {
    "duration": 6,
    "start_time": "2024-04-27T18:28:07.946Z"
   },
   {
    "duration": 17,
    "start_time": "2024-04-27T18:28:07.954Z"
   },
   {
    "duration": 16,
    "start_time": "2024-04-27T18:28:07.972Z"
   },
   {
    "duration": 305,
    "start_time": "2024-04-27T18:28:07.990Z"
   },
   {
    "duration": 232,
    "start_time": "2024-04-27T18:28:08.297Z"
   },
   {
    "duration": 298,
    "start_time": "2024-04-27T18:28:08.531Z"
   },
   {
    "duration": 328,
    "start_time": "2024-04-27T18:28:08.831Z"
   },
   {
    "duration": 9,
    "start_time": "2024-04-27T18:28:09.160Z"
   },
   {
    "duration": 129,
    "start_time": "2024-04-27T18:28:09.171Z"
   },
   {
    "duration": 453,
    "start_time": "2024-04-27T18:28:09.301Z"
   },
   {
    "duration": 495,
    "start_time": "2024-04-27T18:28:09.756Z"
   },
   {
    "duration": 11,
    "start_time": "2024-04-27T18:28:10.253Z"
   },
   {
    "duration": 20,
    "start_time": "2024-04-27T18:28:10.267Z"
   },
   {
    "duration": 18,
    "start_time": "2024-04-27T18:28:10.288Z"
   },
   {
    "duration": 28,
    "start_time": "2024-04-27T18:28:10.308Z"
   },
   {
    "duration": 28,
    "start_time": "2024-04-27T18:28:10.338Z"
   },
   {
    "duration": 4,
    "start_time": "2024-04-27T18:28:10.368Z"
   },
   {
    "duration": 33,
    "start_time": "2024-04-27T18:28:10.379Z"
   },
   {
    "duration": 4,
    "start_time": "2024-04-27T18:28:10.429Z"
   },
   {
    "duration": 9,
    "start_time": "2024-04-27T18:28:10.435Z"
   },
   {
    "duration": 470,
    "start_time": "2024-04-27T18:28:10.446Z"
   },
   {
    "duration": 750,
    "start_time": "2024-04-27T18:28:10.918Z"
   },
   {
    "duration": 9,
    "start_time": "2024-04-27T18:28:11.670Z"
   },
   {
    "duration": 8,
    "start_time": "2024-04-27T18:28:11.681Z"
   },
   {
    "duration": 44,
    "start_time": "2024-04-27T18:28:11.691Z"
   },
   {
    "duration": 39,
    "start_time": "2024-04-27T18:28:11.737Z"
   },
   {
    "duration": 8,
    "start_time": "2024-04-27T18:28:11.778Z"
   },
   {
    "duration": 261,
    "start_time": "2024-04-27T18:28:11.788Z"
   },
   {
    "duration": 21,
    "start_time": "2024-04-27T18:28:12.051Z"
   },
   {
    "duration": 15,
    "start_time": "2024-04-27T18:28:12.074Z"
   },
   {
    "duration": 70,
    "start_time": "2024-04-27T18:28:12.090Z"
   },
   {
    "duration": 193,
    "start_time": "2024-04-27T18:28:12.161Z"
   },
   {
    "duration": 21,
    "start_time": "2024-04-27T18:28:12.356Z"
   },
   {
    "duration": 12,
    "start_time": "2024-04-27T18:28:12.378Z"
   },
   {
    "duration": 26,
    "start_time": "2024-04-27T18:28:12.392Z"
   },
   {
    "duration": 10,
    "start_time": "2024-04-27T18:28:12.419Z"
   },
   {
    "duration": 19,
    "start_time": "2024-04-27T18:28:12.430Z"
   },
   {
    "duration": 18,
    "start_time": "2024-04-27T18:28:12.450Z"
   },
   {
    "duration": 8,
    "start_time": "2024-04-27T18:28:12.470Z"
   },
   {
    "duration": 16,
    "start_time": "2024-04-27T18:28:12.480Z"
   },
   {
    "duration": 1025,
    "start_time": "2024-04-27T18:29:45.873Z"
   },
   {
    "duration": 68,
    "start_time": "2024-04-27T18:29:46.900Z"
   },
   {
    "duration": 23,
    "start_time": "2024-04-27T18:29:46.969Z"
   },
   {
    "duration": 43,
    "start_time": "2024-04-27T18:29:46.994Z"
   },
   {
    "duration": 15,
    "start_time": "2024-04-27T18:29:47.039Z"
   },
   {
    "duration": 22,
    "start_time": "2024-04-27T18:29:47.056Z"
   },
   {
    "duration": 23,
    "start_time": "2024-04-27T18:29:47.080Z"
   },
   {
    "duration": 28,
    "start_time": "2024-04-27T18:29:47.105Z"
   },
   {
    "duration": 4,
    "start_time": "2024-04-27T18:29:47.135Z"
   },
   {
    "duration": 9,
    "start_time": "2024-04-27T18:29:47.142Z"
   },
   {
    "duration": 23,
    "start_time": "2024-04-27T18:29:47.153Z"
   },
   {
    "duration": 28,
    "start_time": "2024-04-27T18:29:47.178Z"
   },
   {
    "duration": 5,
    "start_time": "2024-04-27T18:29:47.208Z"
   },
   {
    "duration": 40,
    "start_time": "2024-04-27T18:29:47.215Z"
   },
   {
    "duration": 19,
    "start_time": "2024-04-27T18:29:47.257Z"
   },
   {
    "duration": 323,
    "start_time": "2024-04-27T18:29:47.277Z"
   },
   {
    "duration": 250,
    "start_time": "2024-04-27T18:29:47.601Z"
   },
   {
    "duration": 307,
    "start_time": "2024-04-27T18:29:47.854Z"
   },
   {
    "duration": 352,
    "start_time": "2024-04-27T18:29:48.163Z"
   },
   {
    "duration": 16,
    "start_time": "2024-04-27T18:29:48.517Z"
   },
   {
    "duration": 141,
    "start_time": "2024-04-27T18:29:48.535Z"
   },
   {
    "duration": 355,
    "start_time": "2024-04-27T18:29:48.678Z"
   },
   {
    "duration": 472,
    "start_time": "2024-04-27T18:29:49.034Z"
   },
   {
    "duration": 22,
    "start_time": "2024-04-27T18:29:49.508Z"
   },
   {
    "duration": 3,
    "start_time": "2024-04-27T18:29:49.532Z"
   },
   {
    "duration": 31,
    "start_time": "2024-04-27T18:29:49.537Z"
   },
   {
    "duration": 14,
    "start_time": "2024-04-27T18:29:49.569Z"
   },
   {
    "duration": 26,
    "start_time": "2024-04-27T18:29:49.587Z"
   },
   {
    "duration": 4,
    "start_time": "2024-04-27T18:29:49.614Z"
   },
   {
    "duration": 35,
    "start_time": "2024-04-27T18:29:49.619Z"
   },
   {
    "duration": 3,
    "start_time": "2024-04-27T18:29:49.656Z"
   },
   {
    "duration": 10,
    "start_time": "2024-04-27T18:29:49.661Z"
   },
   {
    "duration": 527,
    "start_time": "2024-04-27T18:29:49.673Z"
   },
   {
    "duration": 772,
    "start_time": "2024-04-27T18:29:50.202Z"
   },
   {
    "duration": 10,
    "start_time": "2024-04-27T18:29:50.977Z"
   },
   {
    "duration": 48,
    "start_time": "2024-04-27T18:29:50.988Z"
   },
   {
    "duration": 40,
    "start_time": "2024-04-27T18:29:51.038Z"
   },
   {
    "duration": 40,
    "start_time": "2024-04-27T18:29:51.079Z"
   },
   {
    "duration": 6,
    "start_time": "2024-04-27T18:29:51.121Z"
   },
   {
    "duration": 243,
    "start_time": "2024-04-27T18:29:51.129Z"
   },
   {
    "duration": 21,
    "start_time": "2024-04-27T18:29:51.374Z"
   },
   {
    "duration": 14,
    "start_time": "2024-04-27T18:29:51.396Z"
   },
   {
    "duration": 188,
    "start_time": "2024-04-27T18:29:51.429Z"
   },
   {
    "duration": 188,
    "start_time": "2024-04-27T18:29:51.619Z"
   },
   {
    "duration": 27,
    "start_time": "2024-04-27T18:29:51.809Z"
   },
   {
    "duration": 31,
    "start_time": "2024-04-27T18:29:51.837Z"
   },
   {
    "duration": 45,
    "start_time": "2024-04-27T18:29:51.870Z"
   },
   {
    "duration": 52,
    "start_time": "2024-04-27T18:29:51.917Z"
   },
   {
    "duration": 39,
    "start_time": "2024-04-27T18:29:51.971Z"
   },
   {
    "duration": 22,
    "start_time": "2024-04-27T18:29:52.011Z"
   },
   {
    "duration": 56,
    "start_time": "2024-04-27T18:29:52.034Z"
   },
   {
    "duration": 45,
    "start_time": "2024-04-27T18:29:52.092Z"
   },
   {
    "duration": 486,
    "start_time": "2024-04-27T18:31:11.249Z"
   },
   {
    "duration": 31,
    "start_time": "2024-04-27T18:31:33.399Z"
   },
   {
    "duration": 456,
    "start_time": "2024-04-27T18:31:59.029Z"
   },
   {
    "duration": 811,
    "start_time": "2024-04-27T18:32:34.143Z"
   },
   {
    "duration": 767,
    "start_time": "2024-04-27T18:32:56.384Z"
   },
   {
    "duration": 725,
    "start_time": "2024-04-27T18:33:01.048Z"
   },
   {
    "duration": 13,
    "start_time": "2024-04-27T18:33:53.868Z"
   },
   {
    "duration": 59,
    "start_time": "2024-04-27T18:34:19.544Z"
   },
   {
    "duration": 118,
    "start_time": "2024-04-27T18:34:42.229Z"
   },
   {
    "duration": 1138,
    "start_time": "2024-04-27T18:34:57.259Z"
   },
   {
    "duration": 70,
    "start_time": "2024-04-27T18:34:58.399Z"
   },
   {
    "duration": 22,
    "start_time": "2024-04-27T18:34:58.470Z"
   },
   {
    "duration": 4,
    "start_time": "2024-04-27T18:34:58.494Z"
   },
   {
    "duration": 10,
    "start_time": "2024-04-27T18:34:58.500Z"
   },
   {
    "duration": 29,
    "start_time": "2024-04-27T18:34:58.512Z"
   },
   {
    "duration": 23,
    "start_time": "2024-04-27T18:34:58.543Z"
   },
   {
    "duration": 16,
    "start_time": "2024-04-27T18:34:58.568Z"
   },
   {
    "duration": 5,
    "start_time": "2024-04-27T18:34:58.585Z"
   },
   {
    "duration": 13,
    "start_time": "2024-04-27T18:34:58.591Z"
   },
   {
    "duration": 14,
    "start_time": "2024-04-27T18:34:58.606Z"
   },
   {
    "duration": 25,
    "start_time": "2024-04-27T18:34:58.623Z"
   },
   {
    "duration": 23,
    "start_time": "2024-04-27T18:34:58.649Z"
   },
   {
    "duration": 19,
    "start_time": "2024-04-27T18:34:58.676Z"
   },
   {
    "duration": 18,
    "start_time": "2024-04-27T18:34:58.697Z"
   },
   {
    "duration": 277,
    "start_time": "2024-04-27T18:34:58.716Z"
   },
   {
    "duration": 236,
    "start_time": "2024-04-27T18:34:58.995Z"
   },
   {
    "duration": 302,
    "start_time": "2024-04-27T18:34:59.233Z"
   },
   {
    "duration": 328,
    "start_time": "2024-04-27T18:34:59.536Z"
   },
   {
    "duration": 10,
    "start_time": "2024-04-27T18:34:59.866Z"
   },
   {
    "duration": 137,
    "start_time": "2024-04-27T18:34:59.877Z"
   },
   {
    "duration": 345,
    "start_time": "2024-04-27T18:35:00.016Z"
   },
   {
    "duration": 482,
    "start_time": "2024-04-27T18:35:00.363Z"
   },
   {
    "duration": 9,
    "start_time": "2024-04-27T18:35:00.847Z"
   },
   {
    "duration": 21,
    "start_time": "2024-04-27T18:35:00.857Z"
   },
   {
    "duration": 29,
    "start_time": "2024-04-27T18:35:00.879Z"
   },
   {
    "duration": 54,
    "start_time": "2024-04-27T18:35:00.910Z"
   },
   {
    "duration": 61,
    "start_time": "2024-04-27T18:35:00.965Z"
   },
   {
    "duration": 26,
    "start_time": "2024-04-27T18:35:01.027Z"
   },
   {
    "duration": 111,
    "start_time": "2024-04-27T18:35:01.054Z"
   },
   {
    "duration": 86,
    "start_time": "2024-04-27T18:35:01.167Z"
   },
   {
    "duration": 34,
    "start_time": "2024-04-27T18:35:01.255Z"
   },
   {
    "duration": 572,
    "start_time": "2024-04-27T18:35:01.290Z"
   },
   {
    "duration": 750,
    "start_time": "2024-04-27T18:35:01.864Z"
   },
   {
    "duration": 15,
    "start_time": "2024-04-27T18:35:02.615Z"
   },
   {
    "duration": 8,
    "start_time": "2024-04-27T18:35:02.632Z"
   },
   {
    "duration": 46,
    "start_time": "2024-04-27T18:35:02.642Z"
   },
   {
    "duration": 104,
    "start_time": "2024-04-27T18:35:02.690Z"
   },
   {
    "duration": 7,
    "start_time": "2024-04-27T18:35:02.795Z"
   },
   {
    "duration": 258,
    "start_time": "2024-04-27T18:35:02.804Z"
   },
   {
    "duration": 23,
    "start_time": "2024-04-27T18:35:03.066Z"
   },
   {
    "duration": 73,
    "start_time": "2024-04-27T18:35:03.090Z"
   },
   {
    "duration": 82,
    "start_time": "2024-04-27T18:35:03.164Z"
   },
   {
    "duration": 197,
    "start_time": "2024-04-27T18:35:03.247Z"
   },
   {
    "duration": 19,
    "start_time": "2024-04-27T18:35:03.445Z"
   },
   {
    "duration": 10,
    "start_time": "2024-04-27T18:35:03.466Z"
   },
   {
    "duration": 44,
    "start_time": "2024-04-27T18:35:03.477Z"
   },
   {
    "duration": 25,
    "start_time": "2024-04-27T18:35:03.523Z"
   },
   {
    "duration": 17,
    "start_time": "2024-04-27T18:35:03.550Z"
   },
   {
    "duration": 10,
    "start_time": "2024-04-27T18:35:03.569Z"
   },
   {
    "duration": 16,
    "start_time": "2024-04-27T18:35:03.580Z"
   },
   {
    "duration": 18,
    "start_time": "2024-04-27T18:35:03.597Z"
   },
   {
    "duration": 12,
    "start_time": "2024-04-27T18:36:32.104Z"
   },
   {
    "duration": 1111,
    "start_time": "2024-04-27T18:36:40.442Z"
   },
   {
    "duration": 71,
    "start_time": "2024-04-27T18:36:41.555Z"
   },
   {
    "duration": 21,
    "start_time": "2024-04-27T18:36:41.627Z"
   },
   {
    "duration": 28,
    "start_time": "2024-04-27T18:36:41.650Z"
   },
   {
    "duration": 21,
    "start_time": "2024-04-27T18:36:41.681Z"
   },
   {
    "duration": 41,
    "start_time": "2024-04-27T18:36:41.704Z"
   },
   {
    "duration": 25,
    "start_time": "2024-04-27T18:36:41.747Z"
   },
   {
    "duration": 45,
    "start_time": "2024-04-27T18:36:41.774Z"
   },
   {
    "duration": 24,
    "start_time": "2024-04-27T18:36:41.821Z"
   },
   {
    "duration": 24,
    "start_time": "2024-04-27T18:36:41.847Z"
   },
   {
    "duration": 25,
    "start_time": "2024-04-27T18:36:41.873Z"
   },
   {
    "duration": 47,
    "start_time": "2024-04-27T18:36:41.899Z"
   },
   {
    "duration": 41,
    "start_time": "2024-04-27T18:36:41.948Z"
   },
   {
    "duration": 26,
    "start_time": "2024-04-27T18:36:41.991Z"
   },
   {
    "duration": 29,
    "start_time": "2024-04-27T18:36:42.018Z"
   },
   {
    "duration": 312,
    "start_time": "2024-04-27T18:36:42.048Z"
   },
   {
    "duration": 186,
    "start_time": "2024-04-27T18:36:42.362Z"
   },
   {
    "duration": 351,
    "start_time": "2024-04-27T18:36:42.549Z"
   },
   {
    "duration": 331,
    "start_time": "2024-04-27T18:36:42.901Z"
   },
   {
    "duration": 10,
    "start_time": "2024-04-27T18:36:43.234Z"
   },
   {
    "duration": 143,
    "start_time": "2024-04-27T18:36:43.245Z"
   },
   {
    "duration": 349,
    "start_time": "2024-04-27T18:36:43.389Z"
   },
   {
    "duration": 480,
    "start_time": "2024-04-27T18:36:43.740Z"
   },
   {
    "duration": 12,
    "start_time": "2024-04-27T18:36:44.222Z"
   },
   {
    "duration": 4,
    "start_time": "2024-04-27T18:36:44.236Z"
   },
   {
    "duration": 18,
    "start_time": "2024-04-27T18:36:44.242Z"
   },
   {
    "duration": 9,
    "start_time": "2024-04-27T18:36:44.262Z"
   },
   {
    "duration": 26,
    "start_time": "2024-04-27T18:36:44.273Z"
   },
   {
    "duration": 4,
    "start_time": "2024-04-27T18:36:44.301Z"
   },
   {
    "duration": 32,
    "start_time": "2024-04-27T18:36:44.330Z"
   },
   {
    "duration": 4,
    "start_time": "2024-04-27T18:36:44.363Z"
   },
   {
    "duration": 73,
    "start_time": "2024-04-27T18:36:44.369Z"
   },
   {
    "duration": 587,
    "start_time": "2024-04-27T18:36:44.444Z"
   },
   {
    "duration": 758,
    "start_time": "2024-04-27T18:36:45.033Z"
   },
   {
    "duration": 10,
    "start_time": "2024-04-27T18:36:45.792Z"
   },
   {
    "duration": 75,
    "start_time": "2024-04-27T18:36:45.804Z"
   },
   {
    "duration": 36,
    "start_time": "2024-04-27T18:36:45.880Z"
   },
   {
    "duration": 67,
    "start_time": "2024-04-27T18:36:45.918Z"
   },
   {
    "duration": 27,
    "start_time": "2024-04-27T18:36:45.986Z"
   },
   {
    "duration": 247,
    "start_time": "2024-04-27T18:36:46.015Z"
   },
   {
    "duration": 17,
    "start_time": "2024-04-27T18:36:46.265Z"
   },
   {
    "duration": 89,
    "start_time": "2024-04-27T18:36:46.284Z"
   },
   {
    "duration": 99,
    "start_time": "2024-04-27T18:36:46.375Z"
   },
   {
    "duration": 188,
    "start_time": "2024-04-27T18:36:46.476Z"
   },
   {
    "duration": 22,
    "start_time": "2024-04-27T18:36:46.666Z"
   },
   {
    "duration": 3,
    "start_time": "2024-04-27T18:36:46.690Z"
   },
   {
    "duration": 35,
    "start_time": "2024-04-27T18:36:46.695Z"
   },
   {
    "duration": 13,
    "start_time": "2024-04-27T18:36:46.732Z"
   },
   {
    "duration": 20,
    "start_time": "2024-04-27T18:36:46.747Z"
   },
   {
    "duration": 17,
    "start_time": "2024-04-27T18:36:46.769Z"
   },
   {
    "duration": 12,
    "start_time": "2024-04-27T18:36:46.788Z"
   },
   {
    "duration": 15,
    "start_time": "2024-04-27T18:36:46.802Z"
   },
   {
    "duration": 1130,
    "start_time": "2024-04-27T18:38:38.599Z"
   },
   {
    "duration": 68,
    "start_time": "2024-04-27T18:38:39.731Z"
   },
   {
    "duration": 25,
    "start_time": "2024-04-27T18:38:39.801Z"
   },
   {
    "duration": 5,
    "start_time": "2024-04-27T18:38:39.828Z"
   },
   {
    "duration": 14,
    "start_time": "2024-04-27T18:38:39.834Z"
   },
   {
    "duration": 11,
    "start_time": "2024-04-27T18:38:39.849Z"
   },
   {
    "duration": 9,
    "start_time": "2024-04-27T18:38:39.862Z"
   },
   {
    "duration": 30,
    "start_time": "2024-04-27T18:38:39.872Z"
   },
   {
    "duration": 16,
    "start_time": "2024-04-27T18:38:39.904Z"
   },
   {
    "duration": 5,
    "start_time": "2024-04-27T18:38:39.930Z"
   },
   {
    "duration": 18,
    "start_time": "2024-04-27T18:38:39.936Z"
   },
   {
    "duration": 7,
    "start_time": "2024-04-27T18:38:39.955Z"
   },
   {
    "duration": 7,
    "start_time": "2024-04-27T18:38:39.963Z"
   },
   {
    "duration": 31,
    "start_time": "2024-04-27T18:38:39.971Z"
   },
   {
    "duration": 14,
    "start_time": "2024-04-27T18:38:40.003Z"
   },
   {
    "duration": 351,
    "start_time": "2024-04-27T18:38:40.019Z"
   },
   {
    "duration": 193,
    "start_time": "2024-04-27T18:38:40.372Z"
   },
   {
    "duration": 381,
    "start_time": "2024-04-27T18:38:40.568Z"
   },
   {
    "duration": 398,
    "start_time": "2024-04-27T18:38:40.951Z"
   },
   {
    "duration": 11,
    "start_time": "2024-04-27T18:38:41.351Z"
   },
   {
    "duration": 145,
    "start_time": "2024-04-27T18:38:41.363Z"
   },
   {
    "duration": 341,
    "start_time": "2024-04-27T18:38:41.510Z"
   },
   {
    "duration": 485,
    "start_time": "2024-04-27T18:38:41.853Z"
   },
   {
    "duration": 10,
    "start_time": "2024-04-27T18:38:42.340Z"
   },
   {
    "duration": 7,
    "start_time": "2024-04-27T18:38:42.352Z"
   },
   {
    "duration": 6,
    "start_time": "2024-04-27T18:38:42.360Z"
   },
   {
    "duration": 15,
    "start_time": "2024-04-27T18:38:42.367Z"
   },
   {
    "duration": 52,
    "start_time": "2024-04-27T18:38:42.388Z"
   },
   {
    "duration": 4,
    "start_time": "2024-04-27T18:38:42.442Z"
   },
   {
    "duration": 44,
    "start_time": "2024-04-27T18:38:42.447Z"
   },
   {
    "duration": 3,
    "start_time": "2024-04-27T18:38:42.493Z"
   },
   {
    "duration": 32,
    "start_time": "2024-04-27T18:38:42.498Z"
   },
   {
    "duration": 536,
    "start_time": "2024-04-27T18:38:42.532Z"
   },
   {
    "duration": 757,
    "start_time": "2024-04-27T18:38:43.070Z"
   },
   {
    "duration": 11,
    "start_time": "2024-04-27T18:38:43.828Z"
   },
   {
    "duration": 28,
    "start_time": "2024-04-27T18:38:43.840Z"
   },
   {
    "duration": 31,
    "start_time": "2024-04-27T18:38:43.870Z"
   },
   {
    "duration": 46,
    "start_time": "2024-04-27T18:38:43.904Z"
   },
   {
    "duration": 7,
    "start_time": "2024-04-27T18:38:43.952Z"
   },
   {
    "duration": 246,
    "start_time": "2024-04-27T18:38:43.960Z"
   },
   {
    "duration": 23,
    "start_time": "2024-04-27T18:38:44.207Z"
   },
   {
    "duration": 103,
    "start_time": "2024-04-27T18:38:44.232Z"
   },
   {
    "duration": 0,
    "start_time": "2024-04-27T18:38:44.336Z"
   },
   {
    "duration": 0,
    "start_time": "2024-04-27T18:38:44.337Z"
   },
   {
    "duration": 0,
    "start_time": "2024-04-27T18:38:44.338Z"
   },
   {
    "duration": 0,
    "start_time": "2024-04-27T18:38:44.339Z"
   },
   {
    "duration": 0,
    "start_time": "2024-04-27T18:38:44.340Z"
   },
   {
    "duration": 0,
    "start_time": "2024-04-27T18:38:44.341Z"
   },
   {
    "duration": 0,
    "start_time": "2024-04-27T18:38:44.342Z"
   },
   {
    "duration": 0,
    "start_time": "2024-04-27T18:38:44.344Z"
   },
   {
    "duration": 0,
    "start_time": "2024-04-27T18:38:44.345Z"
   },
   {
    "duration": 0,
    "start_time": "2024-04-27T18:38:44.345Z"
   },
   {
    "duration": 16,
    "start_time": "2024-04-27T18:39:56.844Z"
   },
   {
    "duration": 10,
    "start_time": "2024-04-27T18:40:00.260Z"
   },
   {
    "duration": 1158,
    "start_time": "2024-04-28T16:29:16.973Z"
   },
   {
    "duration": 70,
    "start_time": "2024-04-28T16:29:18.133Z"
   },
   {
    "duration": 24,
    "start_time": "2024-04-28T16:29:18.205Z"
   },
   {
    "duration": 4,
    "start_time": "2024-04-28T16:29:18.231Z"
   },
   {
    "duration": 10,
    "start_time": "2024-04-28T16:29:18.237Z"
   },
   {
    "duration": 19,
    "start_time": "2024-04-28T16:29:18.249Z"
   },
   {
    "duration": 10,
    "start_time": "2024-04-28T16:29:18.269Z"
   },
   {
    "duration": 32,
    "start_time": "2024-04-28T16:29:18.280Z"
   },
   {
    "duration": 5,
    "start_time": "2024-04-28T16:29:18.314Z"
   },
   {
    "duration": 18,
    "start_time": "2024-04-28T16:29:18.321Z"
   },
   {
    "duration": 8,
    "start_time": "2024-04-28T16:29:18.341Z"
   },
   {
    "duration": 15,
    "start_time": "2024-04-28T16:29:18.351Z"
   },
   {
    "duration": 7,
    "start_time": "2024-04-28T16:29:18.368Z"
   },
   {
    "duration": 13,
    "start_time": "2024-04-28T16:29:18.377Z"
   },
   {
    "duration": 15,
    "start_time": "2024-04-28T16:29:18.391Z"
   },
   {
    "duration": 325,
    "start_time": "2024-04-28T16:29:18.408Z"
   },
   {
    "duration": 234,
    "start_time": "2024-04-28T16:29:18.734Z"
   },
   {
    "duration": 291,
    "start_time": "2024-04-28T16:29:18.969Z"
   },
   {
    "duration": 327,
    "start_time": "2024-04-28T16:29:19.262Z"
   },
   {
    "duration": 9,
    "start_time": "2024-04-28T16:29:19.590Z"
   },
   {
    "duration": 137,
    "start_time": "2024-04-28T16:29:19.601Z"
   },
   {
    "duration": 338,
    "start_time": "2024-04-28T16:29:19.740Z"
   },
   {
    "duration": 482,
    "start_time": "2024-04-28T16:29:20.080Z"
   },
   {
    "duration": 10,
    "start_time": "2024-04-28T16:29:20.564Z"
   },
   {
    "duration": 4,
    "start_time": "2024-04-28T16:29:20.576Z"
   },
   {
    "duration": 3,
    "start_time": "2024-04-28T16:29:20.582Z"
   },
   {
    "duration": 4,
    "start_time": "2024-04-28T16:29:20.587Z"
   },
   {
    "duration": 27,
    "start_time": "2024-04-28T16:29:20.594Z"
   },
   {
    "duration": 4,
    "start_time": "2024-04-28T16:29:20.661Z"
   },
   {
    "duration": 34,
    "start_time": "2024-04-28T16:29:20.667Z"
   },
   {
    "duration": 3,
    "start_time": "2024-04-28T16:29:20.703Z"
   },
   {
    "duration": 19,
    "start_time": "2024-04-28T16:29:20.707Z"
   },
   {
    "duration": 544,
    "start_time": "2024-04-28T16:29:20.727Z"
   },
   {
    "duration": 738,
    "start_time": "2024-04-28T16:29:21.273Z"
   },
   {
    "duration": 8,
    "start_time": "2024-04-28T16:29:22.013Z"
   },
   {
    "duration": 38,
    "start_time": "2024-04-28T16:29:22.023Z"
   },
   {
    "duration": 33,
    "start_time": "2024-04-28T16:29:22.063Z"
   },
   {
    "duration": 62,
    "start_time": "2024-04-28T16:29:22.098Z"
   },
   {
    "duration": 7,
    "start_time": "2024-04-28T16:29:22.161Z"
   },
   {
    "duration": 257,
    "start_time": "2024-04-28T16:29:22.169Z"
   },
   {
    "duration": 17,
    "start_time": "2024-04-28T16:29:22.427Z"
   },
   {
    "duration": 24,
    "start_time": "2024-04-28T16:29:22.445Z"
   },
   {
    "duration": 78,
    "start_time": "2024-04-28T16:29:22.471Z"
   },
   {
    "duration": 212,
    "start_time": "2024-04-28T16:29:22.550Z"
   },
   {
    "duration": 18,
    "start_time": "2024-04-28T16:29:22.763Z"
   },
   {
    "duration": 15,
    "start_time": "2024-04-28T16:29:22.783Z"
   },
   {
    "duration": 30,
    "start_time": "2024-04-28T16:29:22.799Z"
   },
   {
    "duration": 32,
    "start_time": "2024-04-28T16:29:22.831Z"
   },
   {
    "duration": 43,
    "start_time": "2024-04-28T16:29:22.865Z"
   },
   {
    "duration": 29,
    "start_time": "2024-04-28T16:29:22.910Z"
   },
   {
    "duration": 28,
    "start_time": "2024-04-28T16:29:22.940Z"
   },
   {
    "duration": 34,
    "start_time": "2024-04-28T16:29:22.970Z"
   },
   {
    "duration": 1198,
    "start_time": "2024-04-28T17:27:00.746Z"
   },
   {
    "duration": 73,
    "start_time": "2024-04-28T17:27:01.946Z"
   },
   {
    "duration": 22,
    "start_time": "2024-04-28T17:27:02.020Z"
   },
   {
    "duration": 4,
    "start_time": "2024-04-28T17:27:02.043Z"
   },
   {
    "duration": 17,
    "start_time": "2024-04-28T17:27:02.049Z"
   },
   {
    "duration": 24,
    "start_time": "2024-04-28T17:27:02.068Z"
   },
   {
    "duration": 10,
    "start_time": "2024-04-28T17:27:02.093Z"
   },
   {
    "duration": 19,
    "start_time": "2024-04-28T17:27:02.104Z"
   },
   {
    "duration": 5,
    "start_time": "2024-04-28T17:27:02.124Z"
   },
   {
    "duration": 14,
    "start_time": "2024-04-28T17:27:02.130Z"
   },
   {
    "duration": 16,
    "start_time": "2024-04-28T17:27:02.146Z"
   },
   {
    "duration": 7,
    "start_time": "2024-04-28T17:27:02.163Z"
   },
   {
    "duration": 5,
    "start_time": "2024-04-28T17:27:02.172Z"
   },
   {
    "duration": 15,
    "start_time": "2024-04-28T17:27:02.181Z"
   },
   {
    "duration": 14,
    "start_time": "2024-04-28T17:27:02.198Z"
   },
   {
    "duration": 307,
    "start_time": "2024-04-28T17:27:02.214Z"
   },
   {
    "duration": 238,
    "start_time": "2024-04-28T17:27:02.523Z"
   },
   {
    "duration": 300,
    "start_time": "2024-04-28T17:27:02.763Z"
   },
   {
    "duration": 340,
    "start_time": "2024-04-28T17:27:03.064Z"
   },
   {
    "duration": 10,
    "start_time": "2024-04-28T17:27:03.405Z"
   },
   {
    "duration": 138,
    "start_time": "2024-04-28T17:27:03.416Z"
   },
   {
    "duration": 321,
    "start_time": "2024-04-28T17:27:03.556Z"
   },
   {
    "duration": 503,
    "start_time": "2024-04-28T17:27:03.879Z"
   },
   {
    "duration": 10,
    "start_time": "2024-04-28T17:27:04.384Z"
   },
   {
    "duration": 3,
    "start_time": "2024-04-28T17:27:04.396Z"
   },
   {
    "duration": 19,
    "start_time": "2024-04-28T17:27:04.401Z"
   },
   {
    "duration": 14,
    "start_time": "2024-04-28T17:27:04.423Z"
   },
   {
    "duration": 45,
    "start_time": "2024-04-28T17:27:04.439Z"
   },
   {
    "duration": 4,
    "start_time": "2024-04-28T17:27:04.486Z"
   },
   {
    "duration": 44,
    "start_time": "2024-04-28T17:27:04.491Z"
   },
   {
    "duration": 4,
    "start_time": "2024-04-28T17:27:04.537Z"
   },
   {
    "duration": 5,
    "start_time": "2024-04-28T17:27:04.561Z"
   },
   {
    "duration": 555,
    "start_time": "2024-04-28T17:27:04.568Z"
   },
   {
    "duration": 776,
    "start_time": "2024-04-28T17:27:05.125Z"
   },
   {
    "duration": 10,
    "start_time": "2024-04-28T17:27:05.903Z"
   },
   {
    "duration": 33,
    "start_time": "2024-04-28T17:27:05.915Z"
   },
   {
    "duration": 35,
    "start_time": "2024-04-28T17:27:05.950Z"
   },
   {
    "duration": 42,
    "start_time": "2024-04-28T17:27:05.987Z"
   },
   {
    "duration": 9,
    "start_time": "2024-04-28T17:27:06.030Z"
   },
   {
    "duration": 261,
    "start_time": "2024-04-28T17:27:06.041Z"
   },
   {
    "duration": 18,
    "start_time": "2024-04-28T17:27:06.306Z"
   },
   {
    "duration": 10,
    "start_time": "2024-04-28T17:27:06.325Z"
   },
   {
    "duration": 47,
    "start_time": "2024-04-28T17:27:06.360Z"
   },
   {
    "duration": 232,
    "start_time": "2024-04-28T17:27:06.408Z"
   },
   {
    "duration": 26,
    "start_time": "2024-04-28T17:27:06.642Z"
   },
   {
    "duration": 6,
    "start_time": "2024-04-28T17:27:06.670Z"
   },
   {
    "duration": 27,
    "start_time": "2024-04-28T17:27:06.677Z"
   },
   {
    "duration": 33,
    "start_time": "2024-04-28T17:27:06.706Z"
   },
   {
    "duration": 29,
    "start_time": "2024-04-28T17:27:06.741Z"
   },
   {
    "duration": 43,
    "start_time": "2024-04-28T17:27:06.772Z"
   },
   {
    "duration": 23,
    "start_time": "2024-04-28T17:27:06.817Z"
   },
   {
    "duration": 42,
    "start_time": "2024-04-28T17:27:06.842Z"
   },
   {
    "duration": 1184,
    "start_time": "2024-04-28T17:27:42.495Z"
   },
   {
    "duration": 81,
    "start_time": "2024-04-28T17:27:43.682Z"
   },
   {
    "duration": 29,
    "start_time": "2024-04-28T17:27:43.765Z"
   },
   {
    "duration": 4,
    "start_time": "2024-04-28T17:27:43.797Z"
   },
   {
    "duration": 12,
    "start_time": "2024-04-28T17:27:43.803Z"
   },
   {
    "duration": 30,
    "start_time": "2024-04-28T17:27:43.817Z"
   },
   {
    "duration": 12,
    "start_time": "2024-04-28T17:27:43.860Z"
   },
   {
    "duration": 30,
    "start_time": "2024-04-28T17:27:43.874Z"
   },
   {
    "duration": 5,
    "start_time": "2024-04-28T17:27:43.906Z"
   },
   {
    "duration": 18,
    "start_time": "2024-04-28T17:27:43.915Z"
   },
   {
    "duration": 11,
    "start_time": "2024-04-28T17:27:43.935Z"
   },
   {
    "duration": 21,
    "start_time": "2024-04-28T17:27:43.947Z"
   },
   {
    "duration": 20,
    "start_time": "2024-04-28T17:27:43.970Z"
   },
   {
    "duration": 16,
    "start_time": "2024-04-28T17:27:43.992Z"
   },
   {
    "duration": 20,
    "start_time": "2024-04-28T17:27:44.010Z"
   },
   {
    "duration": 309,
    "start_time": "2024-04-28T17:27:44.032Z"
   },
   {
    "duration": 215,
    "start_time": "2024-04-28T17:27:44.360Z"
   },
   {
    "duration": 295,
    "start_time": "2024-04-28T17:27:44.577Z"
   },
   {
    "duration": 335,
    "start_time": "2024-04-28T17:27:44.874Z"
   },
   {
    "duration": 10,
    "start_time": "2024-04-28T17:27:45.211Z"
   },
   {
    "duration": 161,
    "start_time": "2024-04-28T17:27:45.222Z"
   },
   {
    "duration": 397,
    "start_time": "2024-04-28T17:27:45.385Z"
   },
   {
    "duration": 499,
    "start_time": "2024-04-28T17:27:45.783Z"
   },
   {
    "duration": 9,
    "start_time": "2024-04-28T17:27:46.284Z"
   },
   {
    "duration": 22,
    "start_time": "2024-04-28T17:27:46.295Z"
   },
   {
    "duration": 19,
    "start_time": "2024-04-28T17:27:46.319Z"
   },
   {
    "duration": 18,
    "start_time": "2024-04-28T17:27:46.339Z"
   },
   {
    "duration": 36,
    "start_time": "2024-04-28T17:27:46.361Z"
   },
   {
    "duration": 4,
    "start_time": "2024-04-28T17:27:46.399Z"
   },
   {
    "duration": 35,
    "start_time": "2024-04-28T17:27:46.405Z"
   },
   {
    "duration": 21,
    "start_time": "2024-04-28T17:27:46.441Z"
   },
   {
    "duration": 15,
    "start_time": "2024-04-28T17:27:46.464Z"
   },
   {
    "duration": 602,
    "start_time": "2024-04-28T17:27:46.480Z"
   },
   {
    "duration": 841,
    "start_time": "2024-04-28T17:27:47.084Z"
   },
   {
    "duration": 10,
    "start_time": "2024-04-28T17:27:47.927Z"
   },
   {
    "duration": 25,
    "start_time": "2024-04-28T17:27:47.939Z"
   },
   {
    "duration": 14,
    "start_time": "2024-04-28T17:27:47.966Z"
   },
   {
    "duration": 41,
    "start_time": "2024-04-28T17:27:47.982Z"
   },
   {
    "duration": 7,
    "start_time": "2024-04-28T17:27:48.025Z"
   },
   {
    "duration": 253,
    "start_time": "2024-04-28T17:27:48.061Z"
   },
   {
    "duration": 18,
    "start_time": "2024-04-28T17:27:48.316Z"
   },
   {
    "duration": 11,
    "start_time": "2024-04-28T17:27:48.335Z"
   },
   {
    "duration": 48,
    "start_time": "2024-04-28T17:27:48.361Z"
   },
   {
    "duration": 224,
    "start_time": "2024-04-28T17:27:48.412Z"
   },
   {
    "duration": 28,
    "start_time": "2024-04-28T17:27:48.638Z"
   },
   {
    "duration": 2,
    "start_time": "2024-04-28T17:27:48.668Z"
   },
   {
    "duration": 11,
    "start_time": "2024-04-28T17:27:48.672Z"
   },
   {
    "duration": 9,
    "start_time": "2024-04-28T17:27:48.685Z"
   },
   {
    "duration": 11,
    "start_time": "2024-04-28T17:27:48.695Z"
   },
   {
    "duration": 7,
    "start_time": "2024-04-28T17:27:48.707Z"
   },
   {
    "duration": 46,
    "start_time": "2024-04-28T17:27:48.715Z"
   },
   {
    "duration": 17,
    "start_time": "2024-04-28T17:27:48.762Z"
   },
   {
    "duration": 1185,
    "start_time": "2024-04-28T17:29:00.150Z"
   },
   {
    "duration": 73,
    "start_time": "2024-04-28T17:29:01.337Z"
   },
   {
    "duration": 23,
    "start_time": "2024-04-28T17:29:01.411Z"
   },
   {
    "duration": 4,
    "start_time": "2024-04-28T17:29:01.436Z"
   },
   {
    "duration": 16,
    "start_time": "2024-04-28T17:29:01.443Z"
   },
   {
    "duration": 32,
    "start_time": "2024-04-28T17:29:01.461Z"
   },
   {
    "duration": 42,
    "start_time": "2024-04-28T17:29:01.495Z"
   },
   {
    "duration": 18,
    "start_time": "2024-04-28T17:29:01.538Z"
   },
   {
    "duration": 10,
    "start_time": "2024-04-28T17:29:01.558Z"
   },
   {
    "duration": 6,
    "start_time": "2024-04-28T17:29:01.569Z"
   },
   {
    "duration": 22,
    "start_time": "2024-04-28T17:29:01.577Z"
   },
   {
    "duration": 7,
    "start_time": "2024-04-28T17:29:01.601Z"
   },
   {
    "duration": 20,
    "start_time": "2024-04-28T17:29:01.610Z"
   },
   {
    "duration": 13,
    "start_time": "2024-04-28T17:29:01.633Z"
   },
   {
    "duration": 22,
    "start_time": "2024-04-28T17:29:01.647Z"
   },
   {
    "duration": 312,
    "start_time": "2024-04-28T17:29:01.671Z"
   },
   {
    "duration": 224,
    "start_time": "2024-04-28T17:29:01.985Z"
   },
   {
    "duration": 342,
    "start_time": "2024-04-28T17:29:02.212Z"
   },
   {
    "duration": 319,
    "start_time": "2024-04-28T17:29:02.561Z"
   },
   {
    "duration": 9,
    "start_time": "2024-04-28T17:29:02.882Z"
   },
   {
    "duration": 146,
    "start_time": "2024-04-28T17:29:02.893Z"
   },
   {
    "duration": 333,
    "start_time": "2024-04-28T17:29:03.041Z"
   },
   {
    "duration": 507,
    "start_time": "2024-04-28T17:29:03.376Z"
   },
   {
    "duration": 11,
    "start_time": "2024-04-28T17:29:03.884Z"
   },
   {
    "duration": 3,
    "start_time": "2024-04-28T17:29:03.897Z"
   },
   {
    "duration": 4,
    "start_time": "2024-04-28T17:29:03.902Z"
   },
   {
    "duration": 6,
    "start_time": "2024-04-28T17:29:03.907Z"
   },
   {
    "duration": 66,
    "start_time": "2024-04-28T17:29:03.914Z"
   },
   {
    "duration": 5,
    "start_time": "2024-04-28T17:29:03.981Z"
   },
   {
    "duration": 32,
    "start_time": "2024-04-28T17:29:03.987Z"
   },
   {
    "duration": 4,
    "start_time": "2024-04-28T17:29:04.020Z"
   },
   {
    "duration": 39,
    "start_time": "2024-04-28T17:29:04.025Z"
   },
   {
    "duration": 601,
    "start_time": "2024-04-28T17:29:04.065Z"
   },
   {
    "duration": 790,
    "start_time": "2024-04-28T17:29:04.668Z"
   },
   {
    "duration": 9,
    "start_time": "2024-04-28T17:29:05.460Z"
   },
   {
    "duration": 8,
    "start_time": "2024-04-28T17:29:05.471Z"
   },
   {
    "duration": 20,
    "start_time": "2024-04-28T17:29:05.480Z"
   },
   {
    "duration": 72,
    "start_time": "2024-04-28T17:29:05.502Z"
   },
   {
    "duration": 6,
    "start_time": "2024-04-28T17:29:05.576Z"
   },
   {
    "duration": 246,
    "start_time": "2024-04-28T17:29:05.583Z"
   },
   {
    "duration": 32,
    "start_time": "2024-04-28T17:29:05.833Z"
   },
   {
    "duration": 12,
    "start_time": "2024-04-28T17:29:05.866Z"
   },
   {
    "duration": 50,
    "start_time": "2024-04-28T17:29:05.879Z"
   },
   {
    "duration": 224,
    "start_time": "2024-04-28T17:29:05.931Z"
   },
   {
    "duration": 21,
    "start_time": "2024-04-28T17:29:06.157Z"
   },
   {
    "duration": 4,
    "start_time": "2024-04-28T17:29:06.180Z"
   },
   {
    "duration": 17,
    "start_time": "2024-04-28T17:29:06.186Z"
   },
   {
    "duration": 7,
    "start_time": "2024-04-28T17:29:06.205Z"
   },
   {
    "duration": 14,
    "start_time": "2024-04-28T17:29:06.214Z"
   },
   {
    "duration": 35,
    "start_time": "2024-04-28T17:29:06.230Z"
   },
   {
    "duration": 10,
    "start_time": "2024-04-28T17:29:06.267Z"
   },
   {
    "duration": 23,
    "start_time": "2024-04-28T17:29:06.279Z"
   },
   {
    "duration": 285,
    "start_time": "2024-04-28T17:29:55.548Z"
   },
   {
    "duration": 189,
    "start_time": "2024-04-28T17:30:05.788Z"
   },
   {
    "duration": 198,
    "start_time": "2024-04-28T17:30:13.269Z"
   },
   {
    "duration": 367,
    "start_time": "2024-04-28T17:30:28.333Z"
   },
   {
    "duration": 353,
    "start_time": "2024-04-28T17:31:05.368Z"
   },
   {
    "duration": 421,
    "start_time": "2024-04-28T17:32:44.205Z"
   },
   {
    "duration": 529,
    "start_time": "2024-04-28T17:34:33.205Z"
   },
   {
    "duration": 451,
    "start_time": "2024-04-28T17:34:49.405Z"
   },
   {
    "duration": 59,
    "start_time": "2024-04-28T17:35:50.529Z"
   },
   {
    "duration": 560,
    "start_time": "2024-04-28T17:35:55.204Z"
   },
   {
    "duration": 432,
    "start_time": "2024-04-28T17:36:14.919Z"
   },
   {
    "duration": 573,
    "start_time": "2024-04-28T17:37:28.578Z"
   },
   {
    "duration": 383,
    "start_time": "2024-04-28T17:38:01.438Z"
   },
   {
    "duration": 265,
    "start_time": "2024-04-28T17:38:19.423Z"
   },
   {
    "duration": 266,
    "start_time": "2024-04-28T17:38:29.227Z"
   },
   {
    "duration": 479,
    "start_time": "2024-04-28T17:38:37.547Z"
   },
   {
    "duration": 49,
    "start_time": "2024-04-28T17:38:50.058Z"
   },
   {
    "duration": 44,
    "start_time": "2024-04-28T17:39:05.927Z"
   },
   {
    "duration": 501,
    "start_time": "2024-04-28T17:39:11.162Z"
   },
   {
    "duration": 611,
    "start_time": "2024-04-28T17:39:18.622Z"
   },
   {
    "duration": 479,
    "start_time": "2024-04-28T17:39:25.788Z"
   },
   {
    "duration": 486,
    "start_time": "2024-04-28T17:39:37.597Z"
   },
   {
    "duration": 475,
    "start_time": "2024-04-28T17:39:45.797Z"
   },
   {
    "duration": 477,
    "start_time": "2024-04-28T17:40:19.517Z"
   },
   {
    "duration": 868,
    "start_time": "2024-04-28T17:40:40.732Z"
   },
   {
    "duration": 813,
    "start_time": "2024-04-28T17:43:29.042Z"
   },
   {
    "duration": 770,
    "start_time": "2024-04-28T17:43:48.927Z"
   },
   {
    "duration": 796,
    "start_time": "2024-04-28T17:43:51.722Z"
   },
   {
    "duration": 937,
    "start_time": "2024-04-28T17:44:06.861Z"
   },
   {
    "duration": 781,
    "start_time": "2024-04-28T17:45:51.586Z"
   },
   {
    "duration": 9,
    "start_time": "2024-04-28T17:45:52.369Z"
   },
   {
    "duration": 9,
    "start_time": "2024-04-28T17:45:52.870Z"
   },
   {
    "duration": 1114,
    "start_time": "2024-04-28T17:45:59.721Z"
   },
   {
    "duration": 72,
    "start_time": "2024-04-28T17:46:00.837Z"
   },
   {
    "duration": 24,
    "start_time": "2024-04-28T17:46:00.911Z"
   },
   {
    "duration": 76,
    "start_time": "2024-04-28T17:46:00.938Z"
   },
   {
    "duration": 57,
    "start_time": "2024-04-28T17:46:01.016Z"
   },
   {
    "duration": 104,
    "start_time": "2024-04-28T17:46:01.075Z"
   },
   {
    "duration": 32,
    "start_time": "2024-04-28T17:46:01.181Z"
   },
   {
    "duration": 273,
    "start_time": "2024-04-28T17:46:01.215Z"
   },
   {
    "duration": 26,
    "start_time": "2024-04-28T17:46:01.490Z"
   },
   {
    "duration": 11,
    "start_time": "2024-04-28T17:46:01.518Z"
   },
   {
    "duration": 15,
    "start_time": "2024-04-28T17:46:01.530Z"
   },
   {
    "duration": 20,
    "start_time": "2024-04-28T17:46:01.546Z"
   },
   {
    "duration": 6,
    "start_time": "2024-04-28T17:46:01.568Z"
   },
   {
    "duration": 31,
    "start_time": "2024-04-28T17:46:01.575Z"
   },
   {
    "duration": 32,
    "start_time": "2024-04-28T17:46:01.608Z"
   },
   {
    "duration": 325,
    "start_time": "2024-04-28T17:46:01.641Z"
   },
   {
    "duration": 213,
    "start_time": "2024-04-28T17:46:01.968Z"
   },
   {
    "duration": 326,
    "start_time": "2024-04-28T17:46:02.183Z"
   },
   {
    "duration": 366,
    "start_time": "2024-04-28T17:46:02.511Z"
   },
   {
    "duration": 10,
    "start_time": "2024-04-28T17:46:02.878Z"
   },
   {
    "duration": 142,
    "start_time": "2024-04-28T17:46:02.889Z"
   },
   {
    "duration": 338,
    "start_time": "2024-04-28T17:46:03.033Z"
   },
   {
    "duration": 478,
    "start_time": "2024-04-28T17:46:03.373Z"
   },
   {
    "duration": 16,
    "start_time": "2024-04-28T17:46:03.853Z"
   },
   {
    "duration": 4,
    "start_time": "2024-04-28T17:46:03.870Z"
   },
   {
    "duration": 5,
    "start_time": "2024-04-28T17:46:03.875Z"
   },
   {
    "duration": 7,
    "start_time": "2024-04-28T17:46:03.881Z"
   },
   {
    "duration": 29,
    "start_time": "2024-04-28T17:46:03.892Z"
   },
   {
    "duration": 4,
    "start_time": "2024-04-28T17:46:03.922Z"
   },
   {
    "duration": 58,
    "start_time": "2024-04-28T17:46:03.927Z"
   },
   {
    "duration": 3,
    "start_time": "2024-04-28T17:46:03.987Z"
   },
   {
    "duration": 5,
    "start_time": "2024-04-28T17:46:03.992Z"
   },
   {
    "duration": 576,
    "start_time": "2024-04-28T17:46:03.998Z"
   },
   {
    "duration": 760,
    "start_time": "2024-04-28T17:46:04.575Z"
   },
   {
    "duration": 9,
    "start_time": "2024-04-28T17:46:05.337Z"
   },
   {
    "duration": 27,
    "start_time": "2024-04-28T17:46:05.347Z"
   },
   {
    "duration": 17,
    "start_time": "2024-04-28T17:46:05.375Z"
   },
   {
    "duration": 43,
    "start_time": "2024-04-28T17:46:05.394Z"
   },
   {
    "duration": 6,
    "start_time": "2024-04-28T17:46:05.438Z"
   },
   {
    "duration": 239,
    "start_time": "2024-04-28T17:46:05.446Z"
   },
   {
    "duration": 17,
    "start_time": "2024-04-28T17:46:05.687Z"
   },
   {
    "duration": 9,
    "start_time": "2024-04-28T17:46:05.706Z"
   },
   {
    "duration": 68,
    "start_time": "2024-04-28T17:46:05.717Z"
   },
   {
    "duration": 218,
    "start_time": "2024-04-28T17:46:05.787Z"
   },
   {
    "duration": 18,
    "start_time": "2024-04-28T17:46:06.007Z"
   },
   {
    "duration": 7,
    "start_time": "2024-04-28T17:46:06.027Z"
   },
   {
    "duration": 27,
    "start_time": "2024-04-28T17:46:06.035Z"
   },
   {
    "duration": 8,
    "start_time": "2024-04-28T17:46:06.064Z"
   },
   {
    "duration": 13,
    "start_time": "2024-04-28T17:46:06.074Z"
   },
   {
    "duration": 7,
    "start_time": "2024-04-28T17:46:06.089Z"
   },
   {
    "duration": 8,
    "start_time": "2024-04-28T17:46:06.097Z"
   },
   {
    "duration": 19,
    "start_time": "2024-04-28T17:46:06.107Z"
   },
   {
    "duration": 5,
    "start_time": "2024-04-28T17:52:40.312Z"
   },
   {
    "duration": 7,
    "start_time": "2024-04-28T17:52:45.745Z"
   },
   {
    "duration": 1291,
    "start_time": "2024-04-28T17:53:13.575Z"
   },
   {
    "duration": 73,
    "start_time": "2024-04-28T17:53:14.868Z"
   },
   {
    "duration": 38,
    "start_time": "2024-04-28T17:53:14.942Z"
   },
   {
    "duration": 4,
    "start_time": "2024-04-28T17:53:14.981Z"
   },
   {
    "duration": 12,
    "start_time": "2024-04-28T17:53:14.986Z"
   },
   {
    "duration": 55,
    "start_time": "2024-04-28T17:53:15.000Z"
   },
   {
    "duration": 29,
    "start_time": "2024-04-28T17:53:15.057Z"
   },
   {
    "duration": 43,
    "start_time": "2024-04-28T17:53:15.088Z"
   },
   {
    "duration": 12,
    "start_time": "2024-04-28T17:53:15.132Z"
   },
   {
    "duration": 51,
    "start_time": "2024-04-28T17:53:15.146Z"
   },
   {
    "duration": 41,
    "start_time": "2024-04-28T17:53:15.198Z"
   },
   {
    "duration": 18,
    "start_time": "2024-04-28T17:53:15.241Z"
   },
   {
    "duration": 11,
    "start_time": "2024-04-28T17:53:15.260Z"
   },
   {
    "duration": 28,
    "start_time": "2024-04-28T17:53:15.274Z"
   },
   {
    "duration": 70,
    "start_time": "2024-04-28T17:53:15.303Z"
   },
   {
    "duration": 475,
    "start_time": "2024-04-28T17:53:15.376Z"
   },
   {
    "duration": 215,
    "start_time": "2024-04-28T17:53:15.860Z"
   },
   {
    "duration": 309,
    "start_time": "2024-04-28T17:53:16.077Z"
   },
   {
    "duration": 373,
    "start_time": "2024-04-28T17:53:16.388Z"
   },
   {
    "duration": 9,
    "start_time": "2024-04-28T17:53:16.763Z"
   },
   {
    "duration": 143,
    "start_time": "2024-04-28T17:53:16.774Z"
   },
   {
    "duration": 376,
    "start_time": "2024-04-28T17:53:16.919Z"
   },
   {
    "duration": 470,
    "start_time": "2024-04-28T17:53:17.296Z"
   },
   {
    "duration": 9,
    "start_time": "2024-04-28T17:53:17.768Z"
   },
   {
    "duration": 3,
    "start_time": "2024-04-28T17:53:17.779Z"
   },
   {
    "duration": 9,
    "start_time": "2024-04-28T17:53:17.784Z"
   },
   {
    "duration": 5,
    "start_time": "2024-04-28T17:53:17.794Z"
   },
   {
    "duration": 24,
    "start_time": "2024-04-28T17:53:17.801Z"
   },
   {
    "duration": 3,
    "start_time": "2024-04-28T17:53:17.827Z"
   },
   {
    "duration": 35,
    "start_time": "2024-04-28T17:53:17.861Z"
   },
   {
    "duration": 4,
    "start_time": "2024-04-28T17:53:17.897Z"
   },
   {
    "duration": 4,
    "start_time": "2024-04-28T17:53:17.903Z"
   },
   {
    "duration": 575,
    "start_time": "2024-04-28T17:53:17.909Z"
   },
   {
    "duration": 775,
    "start_time": "2024-04-28T17:53:18.486Z"
   },
   {
    "duration": 9,
    "start_time": "2024-04-28T17:53:19.262Z"
   },
   {
    "duration": 25,
    "start_time": "2024-04-28T17:53:19.273Z"
   },
   {
    "duration": 15,
    "start_time": "2024-04-28T17:53:19.300Z"
   },
   {
    "duration": 37,
    "start_time": "2024-04-28T17:53:19.317Z"
   },
   {
    "duration": 7,
    "start_time": "2024-04-28T17:53:19.361Z"
   },
   {
    "duration": 248,
    "start_time": "2024-04-28T17:53:19.369Z"
   },
   {
    "duration": 17,
    "start_time": "2024-04-28T17:53:19.620Z"
   },
   {
    "duration": 9,
    "start_time": "2024-04-28T17:53:19.638Z"
   },
   {
    "duration": 3,
    "start_time": "2024-04-28T17:53:19.661Z"
   },
   {
    "duration": 5,
    "start_time": "2024-04-28T17:53:19.665Z"
   },
   {
    "duration": 14,
    "start_time": "2024-04-28T17:53:19.672Z"
   },
   {
    "duration": 15,
    "start_time": "2024-04-28T17:53:19.687Z"
   },
   {
    "duration": 9,
    "start_time": "2024-04-28T17:53:19.704Z"
   },
   {
    "duration": 26,
    "start_time": "2024-04-28T17:53:19.715Z"
   },
   {
    "duration": 21,
    "start_time": "2024-04-28T17:53:19.742Z"
   },
   {
    "duration": 7,
    "start_time": "2024-04-28T17:53:19.764Z"
   },
   {
    "duration": 130,
    "start_time": "2024-04-28T17:53:19.772Z"
   },
   {
    "duration": 9,
    "start_time": "2024-04-28T17:53:34.713Z"
   },
   {
    "duration": 1134,
    "start_time": "2024-04-28T17:58:53.103Z"
   },
   {
    "duration": 72,
    "start_time": "2024-04-28T17:58:54.239Z"
   },
   {
    "duration": 21,
    "start_time": "2024-04-28T17:58:54.313Z"
   },
   {
    "duration": 4,
    "start_time": "2024-04-28T17:58:54.335Z"
   },
   {
    "duration": 12,
    "start_time": "2024-04-28T17:58:54.341Z"
   },
   {
    "duration": 11,
    "start_time": "2024-04-28T17:58:54.354Z"
   },
   {
    "duration": 10,
    "start_time": "2024-04-28T17:58:54.367Z"
   },
   {
    "duration": 20,
    "start_time": "2024-04-28T17:58:54.378Z"
   },
   {
    "duration": 5,
    "start_time": "2024-04-28T17:58:54.399Z"
   },
   {
    "duration": 4,
    "start_time": "2024-04-28T17:58:54.405Z"
   },
   {
    "duration": 6,
    "start_time": "2024-04-28T17:58:54.411Z"
   },
   {
    "duration": 44,
    "start_time": "2024-04-28T17:58:54.419Z"
   },
   {
    "duration": 6,
    "start_time": "2024-04-28T17:58:54.464Z"
   },
   {
    "duration": 42,
    "start_time": "2024-04-28T17:58:54.473Z"
   },
   {
    "duration": 16,
    "start_time": "2024-04-28T17:58:54.516Z"
   },
   {
    "duration": 305,
    "start_time": "2024-04-28T17:58:54.534Z"
   },
   {
    "duration": 232,
    "start_time": "2024-04-28T17:58:54.841Z"
   },
   {
    "duration": 330,
    "start_time": "2024-04-28T17:58:55.074Z"
   },
   {
    "duration": 388,
    "start_time": "2024-04-28T17:58:55.406Z"
   },
   {
    "duration": 9,
    "start_time": "2024-04-28T17:58:55.796Z"
   },
   {
    "duration": 198,
    "start_time": "2024-04-28T17:58:55.807Z"
   },
   {
    "duration": 362,
    "start_time": "2024-04-28T17:58:56.007Z"
   },
   {
    "duration": 501,
    "start_time": "2024-04-28T17:58:56.371Z"
   },
   {
    "duration": 9,
    "start_time": "2024-04-28T17:58:56.874Z"
   },
   {
    "duration": 3,
    "start_time": "2024-04-28T17:58:56.885Z"
   },
   {
    "duration": 5,
    "start_time": "2024-04-28T17:58:56.890Z"
   },
   {
    "duration": 5,
    "start_time": "2024-04-28T17:58:56.896Z"
   },
   {
    "duration": 26,
    "start_time": "2024-04-28T17:58:56.902Z"
   },
   {
    "duration": 32,
    "start_time": "2024-04-28T17:58:56.930Z"
   },
   {
    "duration": 31,
    "start_time": "2024-04-28T17:58:56.963Z"
   },
   {
    "duration": 3,
    "start_time": "2024-04-28T17:58:56.996Z"
   },
   {
    "duration": 4,
    "start_time": "2024-04-28T17:58:57.000Z"
   },
   {
    "duration": 608,
    "start_time": "2024-04-28T17:58:57.005Z"
   },
   {
    "duration": 798,
    "start_time": "2024-04-28T17:58:57.615Z"
   },
   {
    "duration": 10,
    "start_time": "2024-04-28T17:58:58.415Z"
   },
   {
    "duration": 8,
    "start_time": "2024-04-28T17:58:58.427Z"
   },
   {
    "duration": 29,
    "start_time": "2024-04-28T17:58:58.436Z"
   },
   {
    "duration": 35,
    "start_time": "2024-04-28T17:58:58.467Z"
   },
   {
    "duration": 6,
    "start_time": "2024-04-28T17:58:58.504Z"
   },
   {
    "duration": 247,
    "start_time": "2024-04-28T17:58:58.511Z"
   },
   {
    "duration": 18,
    "start_time": "2024-04-28T17:58:58.763Z"
   },
   {
    "duration": 10,
    "start_time": "2024-04-28T17:58:58.783Z"
   },
   {
    "duration": 18,
    "start_time": "2024-04-28T17:58:58.795Z"
   },
   {
    "duration": 12,
    "start_time": "2024-04-28T17:58:58.814Z"
   },
   {
    "duration": 12,
    "start_time": "2024-04-28T17:58:58.828Z"
   },
   {
    "duration": 20,
    "start_time": "2024-04-28T17:58:58.841Z"
   },
   {
    "duration": 8,
    "start_time": "2024-04-28T17:58:58.863Z"
   },
   {
    "duration": 9,
    "start_time": "2024-04-28T17:58:58.873Z"
   },
   {
    "duration": 5,
    "start_time": "2024-04-28T17:58:58.883Z"
   },
   {
    "duration": 9,
    "start_time": "2024-04-28T17:58:58.889Z"
   },
   {
    "duration": 144,
    "start_time": "2024-04-28T17:58:58.900Z"
   },
   {
    "duration": 44,
    "start_time": "2024-04-28T18:01:40.440Z"
   },
   {
    "duration": 180,
    "start_time": "2024-04-28T18:01:55.450Z"
   },
   {
    "duration": 207,
    "start_time": "2024-04-28T18:01:58.978Z"
   },
   {
    "duration": 10,
    "start_time": "2024-04-28T18:01:59.797Z"
   },
   {
    "duration": 11,
    "start_time": "2024-04-28T18:02:17.485Z"
   },
   {
    "duration": 4,
    "start_time": "2024-04-28T18:03:07.466Z"
   },
   {
    "duration": 2,
    "start_time": "2024-04-28T18:03:07.622Z"
   },
   {
    "duration": 10,
    "start_time": "2024-04-28T18:03:07.785Z"
   },
   {
    "duration": 12,
    "start_time": "2024-04-28T18:03:12.672Z"
   },
   {
    "duration": 8,
    "start_time": "2024-04-28T18:03:14.901Z"
   },
   {
    "duration": 9,
    "start_time": "2024-04-28T18:03:16.408Z"
   },
   {
    "duration": 5,
    "start_time": "2024-04-28T18:03:17.403Z"
   },
   {
    "duration": 6,
    "start_time": "2024-04-28T18:03:17.733Z"
   },
   {
    "duration": 14,
    "start_time": "2024-04-28T18:03:18.446Z"
   },
   {
    "duration": 1106,
    "start_time": "2024-04-28T18:03:28.711Z"
   },
   {
    "duration": 73,
    "start_time": "2024-04-28T18:03:29.818Z"
   },
   {
    "duration": 23,
    "start_time": "2024-04-28T18:03:29.892Z"
   },
   {
    "duration": 5,
    "start_time": "2024-04-28T18:03:29.917Z"
   },
   {
    "duration": 24,
    "start_time": "2024-04-28T18:03:29.923Z"
   },
   {
    "duration": 30,
    "start_time": "2024-04-28T18:03:29.948Z"
   },
   {
    "duration": 13,
    "start_time": "2024-04-28T18:03:29.980Z"
   },
   {
    "duration": 54,
    "start_time": "2024-04-28T18:03:29.995Z"
   },
   {
    "duration": 29,
    "start_time": "2024-04-28T18:03:30.050Z"
   },
   {
    "duration": 48,
    "start_time": "2024-04-28T18:03:30.082Z"
   },
   {
    "duration": 48,
    "start_time": "2024-04-28T18:03:30.132Z"
   },
   {
    "duration": 48,
    "start_time": "2024-04-28T18:03:30.182Z"
   },
   {
    "duration": 67,
    "start_time": "2024-04-28T18:03:30.232Z"
   },
   {
    "duration": 110,
    "start_time": "2024-04-28T18:03:30.301Z"
   },
   {
    "duration": 81,
    "start_time": "2024-04-28T18:03:30.412Z"
   },
   {
    "duration": 441,
    "start_time": "2024-04-28T18:03:30.495Z"
   },
   {
    "duration": 233,
    "start_time": "2024-04-28T18:03:30.938Z"
   },
   {
    "duration": 319,
    "start_time": "2024-04-28T18:03:31.173Z"
   },
   {
    "duration": 354,
    "start_time": "2024-04-28T18:03:31.494Z"
   },
   {
    "duration": 19,
    "start_time": "2024-04-28T18:03:31.850Z"
   },
   {
    "duration": 164,
    "start_time": "2024-04-28T18:03:31.871Z"
   },
   {
    "duration": 338,
    "start_time": "2024-04-28T18:03:32.037Z"
   },
   {
    "duration": 484,
    "start_time": "2024-04-28T18:03:32.377Z"
   },
   {
    "duration": 11,
    "start_time": "2024-04-28T18:03:32.862Z"
   },
   {
    "duration": 4,
    "start_time": "2024-04-28T18:03:32.875Z"
   },
   {
    "duration": 6,
    "start_time": "2024-04-28T18:03:32.881Z"
   },
   {
    "duration": 4,
    "start_time": "2024-04-28T18:03:32.889Z"
   },
   {
    "duration": 27,
    "start_time": "2024-04-28T18:03:32.897Z"
   },
   {
    "duration": 37,
    "start_time": "2024-04-28T18:03:32.926Z"
   },
   {
    "duration": 35,
    "start_time": "2024-04-28T18:03:32.965Z"
   },
   {
    "duration": 4,
    "start_time": "2024-04-28T18:03:33.002Z"
   },
   {
    "duration": 7,
    "start_time": "2024-04-28T18:03:33.008Z"
   },
   {
    "duration": 584,
    "start_time": "2024-04-28T18:03:33.017Z"
   },
   {
    "duration": 792,
    "start_time": "2024-04-28T18:03:33.603Z"
   },
   {
    "duration": 10,
    "start_time": "2024-04-28T18:03:34.396Z"
   },
   {
    "duration": 10,
    "start_time": "2024-04-28T18:03:34.407Z"
   },
   {
    "duration": 13,
    "start_time": "2024-04-28T18:03:34.418Z"
   },
   {
    "duration": 40,
    "start_time": "2024-04-28T18:03:34.460Z"
   },
   {
    "duration": 7,
    "start_time": "2024-04-28T18:03:34.501Z"
   },
   {
    "duration": 262,
    "start_time": "2024-04-28T18:03:34.510Z"
   },
   {
    "duration": 17,
    "start_time": "2024-04-28T18:03:34.773Z"
   },
   {
    "duration": 17,
    "start_time": "2024-04-28T18:03:34.792Z"
   },
   {
    "duration": 4,
    "start_time": "2024-04-28T18:03:34.811Z"
   },
   {
    "duration": 18,
    "start_time": "2024-04-28T18:03:34.817Z"
   },
   {
    "duration": 19,
    "start_time": "2024-04-28T18:03:34.837Z"
   },
   {
    "duration": 14,
    "start_time": "2024-04-28T18:03:34.858Z"
   },
   {
    "duration": 10,
    "start_time": "2024-04-28T18:03:34.875Z"
   },
   {
    "duration": 11,
    "start_time": "2024-04-28T18:03:34.887Z"
   },
   {
    "duration": 6,
    "start_time": "2024-04-28T18:03:34.900Z"
   },
   {
    "duration": 6,
    "start_time": "2024-04-28T18:03:34.908Z"
   },
   {
    "duration": 158,
    "start_time": "2024-04-28T18:03:34.916Z"
   },
   {
    "duration": 3,
    "start_time": "2024-04-28T18:05:22.253Z"
   },
   {
    "duration": 9,
    "start_time": "2024-04-28T18:06:13.319Z"
   },
   {
    "duration": 12,
    "start_time": "2024-04-28T18:06:18.411Z"
   },
   {
    "duration": 1152,
    "start_time": "2024-04-28T18:07:34.877Z"
   },
   {
    "duration": 71,
    "start_time": "2024-04-28T18:07:36.031Z"
   },
   {
    "duration": 23,
    "start_time": "2024-04-28T18:07:36.104Z"
   },
   {
    "duration": 4,
    "start_time": "2024-04-28T18:07:36.129Z"
   },
   {
    "duration": 32,
    "start_time": "2024-04-28T18:07:36.135Z"
   },
   {
    "duration": 29,
    "start_time": "2024-04-28T18:07:36.169Z"
   },
   {
    "duration": 19,
    "start_time": "2024-04-28T18:07:36.199Z"
   },
   {
    "duration": 48,
    "start_time": "2024-04-28T18:07:36.220Z"
   },
   {
    "duration": 5,
    "start_time": "2024-04-28T18:07:36.270Z"
   },
   {
    "duration": 4,
    "start_time": "2024-04-28T18:07:36.278Z"
   },
   {
    "duration": 10,
    "start_time": "2024-04-28T18:07:36.283Z"
   },
   {
    "duration": 7,
    "start_time": "2024-04-28T18:07:36.295Z"
   },
   {
    "duration": 9,
    "start_time": "2024-04-28T18:07:36.304Z"
   },
   {
    "duration": 49,
    "start_time": "2024-04-28T18:07:36.315Z"
   },
   {
    "duration": 16,
    "start_time": "2024-04-28T18:07:36.365Z"
   },
   {
    "duration": 336,
    "start_time": "2024-04-28T18:07:36.383Z"
   },
   {
    "duration": 242,
    "start_time": "2024-04-28T18:07:36.721Z"
   },
   {
    "duration": 318,
    "start_time": "2024-04-28T18:07:36.965Z"
   },
   {
    "duration": 390,
    "start_time": "2024-04-28T18:07:37.285Z"
   },
   {
    "duration": 10,
    "start_time": "2024-04-28T18:07:37.676Z"
   },
   {
    "duration": 136,
    "start_time": "2024-04-28T18:07:37.687Z"
   },
   {
    "duration": 354,
    "start_time": "2024-04-28T18:07:37.825Z"
   },
   {
    "duration": 488,
    "start_time": "2024-04-28T18:07:38.181Z"
   },
   {
    "duration": 11,
    "start_time": "2024-04-28T18:07:38.670Z"
   },
   {
    "duration": 3,
    "start_time": "2024-04-28T18:07:38.683Z"
   },
   {
    "duration": 7,
    "start_time": "2024-04-28T18:07:38.688Z"
   },
   {
    "duration": 7,
    "start_time": "2024-04-28T18:07:38.696Z"
   },
   {
    "duration": 54,
    "start_time": "2024-04-28T18:07:38.707Z"
   },
   {
    "duration": 4,
    "start_time": "2024-04-28T18:07:38.763Z"
   },
   {
    "duration": 33,
    "start_time": "2024-04-28T18:07:38.768Z"
   },
   {
    "duration": 3,
    "start_time": "2024-04-28T18:07:38.803Z"
   },
   {
    "duration": 6,
    "start_time": "2024-04-28T18:07:38.808Z"
   },
   {
    "duration": 559,
    "start_time": "2024-04-28T18:07:38.816Z"
   },
   {
    "duration": 827,
    "start_time": "2024-04-28T18:07:39.377Z"
   },
   {
    "duration": 10,
    "start_time": "2024-04-28T18:07:40.207Z"
   },
   {
    "duration": 17,
    "start_time": "2024-04-28T18:07:40.219Z"
   },
   {
    "duration": 31,
    "start_time": "2024-04-28T18:07:40.238Z"
   },
   {
    "duration": 37,
    "start_time": "2024-04-28T18:07:40.271Z"
   },
   {
    "duration": 7,
    "start_time": "2024-04-28T18:07:40.310Z"
   },
   {
    "duration": 262,
    "start_time": "2024-04-28T18:07:40.319Z"
   },
   {
    "duration": 19,
    "start_time": "2024-04-28T18:07:40.583Z"
   },
   {
    "duration": 10,
    "start_time": "2024-04-28T18:07:40.604Z"
   },
   {
    "duration": 68,
    "start_time": "2024-04-28T18:07:40.616Z"
   },
   {
    "duration": 193,
    "start_time": "2024-04-28T18:07:40.686Z"
   },
   {
    "duration": 11,
    "start_time": "2024-04-28T18:07:40.880Z"
   },
   {
    "duration": 24,
    "start_time": "2024-04-28T18:07:40.892Z"
   },
   {
    "duration": 7,
    "start_time": "2024-04-28T18:07:40.917Z"
   },
   {
    "duration": 10,
    "start_time": "2024-04-28T18:07:40.926Z"
   },
   {
    "duration": 5,
    "start_time": "2024-04-28T18:07:40.937Z"
   },
   {
    "duration": 6,
    "start_time": "2024-04-28T18:07:40.961Z"
   },
   {
    "duration": 13,
    "start_time": "2024-04-28T18:07:40.969Z"
   },
   {
    "duration": 13,
    "start_time": "2024-04-28T18:07:40.984Z"
   },
   {
    "duration": 46,
    "start_time": "2024-04-28T18:09:12.338Z"
   },
   {
    "duration": 223,
    "start_time": "2024-04-28T18:09:39.319Z"
   },
   {
    "duration": 205,
    "start_time": "2024-04-28T18:09:52.269Z"
   },
   {
    "duration": 1108,
    "start_time": "2024-04-28T18:11:44.286Z"
   },
   {
    "duration": 71,
    "start_time": "2024-04-28T18:11:45.396Z"
   },
   {
    "duration": 23,
    "start_time": "2024-04-28T18:11:45.468Z"
   },
   {
    "duration": 4,
    "start_time": "2024-04-28T18:11:45.493Z"
   },
   {
    "duration": 22,
    "start_time": "2024-04-28T18:11:45.499Z"
   },
   {
    "duration": 12,
    "start_time": "2024-04-28T18:11:45.523Z"
   },
   {
    "duration": 10,
    "start_time": "2024-04-28T18:11:45.560Z"
   },
   {
    "duration": 16,
    "start_time": "2024-04-28T18:11:45.572Z"
   },
   {
    "duration": 5,
    "start_time": "2024-04-28T18:11:45.589Z"
   },
   {
    "duration": 33,
    "start_time": "2024-04-28T18:11:45.597Z"
   },
   {
    "duration": 11,
    "start_time": "2024-04-28T18:11:45.631Z"
   },
   {
    "duration": 19,
    "start_time": "2024-04-28T18:11:45.643Z"
   },
   {
    "duration": 6,
    "start_time": "2024-04-28T18:11:45.664Z"
   },
   {
    "duration": 16,
    "start_time": "2024-04-28T18:11:45.671Z"
   },
   {
    "duration": 14,
    "start_time": "2024-04-28T18:11:45.689Z"
   },
   {
    "duration": 342,
    "start_time": "2024-04-28T18:11:45.705Z"
   },
   {
    "duration": 222,
    "start_time": "2024-04-28T18:11:46.049Z"
   },
   {
    "duration": 308,
    "start_time": "2024-04-28T18:11:46.273Z"
   },
   {
    "duration": 365,
    "start_time": "2024-04-28T18:11:46.582Z"
   },
   {
    "duration": 18,
    "start_time": "2024-04-28T18:11:46.948Z"
   },
   {
    "duration": 156,
    "start_time": "2024-04-28T18:11:46.967Z"
   },
   {
    "duration": 362,
    "start_time": "2024-04-28T18:11:47.126Z"
   },
   {
    "duration": 504,
    "start_time": "2024-04-28T18:11:47.490Z"
   },
   {
    "duration": 11,
    "start_time": "2024-04-28T18:11:47.996Z"
   },
   {
    "duration": 5,
    "start_time": "2024-04-28T18:11:48.009Z"
   },
   {
    "duration": 6,
    "start_time": "2024-04-28T18:11:48.015Z"
   },
   {
    "duration": 4,
    "start_time": "2024-04-28T18:11:48.023Z"
   },
   {
    "duration": 25,
    "start_time": "2024-04-28T18:11:48.061Z"
   },
   {
    "duration": 4,
    "start_time": "2024-04-28T18:11:48.088Z"
   },
   {
    "duration": 32,
    "start_time": "2024-04-28T18:11:48.093Z"
   },
   {
    "duration": 35,
    "start_time": "2024-04-28T18:11:48.127Z"
   },
   {
    "duration": 5,
    "start_time": "2024-04-28T18:11:48.164Z"
   },
   {
    "duration": 584,
    "start_time": "2024-04-28T18:11:48.170Z"
   },
   {
    "duration": 775,
    "start_time": "2024-04-28T18:11:48.756Z"
   },
   {
    "duration": 9,
    "start_time": "2024-04-28T18:11:49.533Z"
   },
   {
    "duration": 20,
    "start_time": "2024-04-28T18:11:49.544Z"
   },
   {
    "duration": 12,
    "start_time": "2024-04-28T18:11:49.565Z"
   },
   {
    "duration": 37,
    "start_time": "2024-04-28T18:11:49.579Z"
   },
   {
    "duration": 6,
    "start_time": "2024-04-28T18:11:49.618Z"
   },
   {
    "duration": 260,
    "start_time": "2024-04-28T18:11:49.625Z"
   },
   {
    "duration": 18,
    "start_time": "2024-04-28T18:11:49.887Z"
   },
   {
    "duration": 10,
    "start_time": "2024-04-28T18:11:49.906Z"
   },
   {
    "duration": 63,
    "start_time": "2024-04-28T18:11:49.917Z"
   },
   {
    "duration": 193,
    "start_time": "2024-04-28T18:11:49.982Z"
   },
   {
    "duration": 10,
    "start_time": "2024-04-28T18:11:50.177Z"
   },
   {
    "duration": 35,
    "start_time": "2024-04-28T18:11:50.189Z"
   },
   {
    "duration": 7,
    "start_time": "2024-04-28T18:11:50.226Z"
   },
   {
    "duration": 21,
    "start_time": "2024-04-28T18:11:50.234Z"
   },
   {
    "duration": 5,
    "start_time": "2024-04-28T18:11:50.257Z"
   },
   {
    "duration": 6,
    "start_time": "2024-04-28T18:11:50.264Z"
   },
   {
    "duration": 12,
    "start_time": "2024-04-28T18:11:50.272Z"
   },
   {
    "duration": 14,
    "start_time": "2024-04-28T18:11:50.286Z"
   }
  ],
  "kernelspec": {
   "display_name": "Python 3 (ipykernel)",
   "language": "python",
   "name": "python3"
  },
  "language_info": {
   "codemirror_mode": {
    "name": "ipython",
    "version": 3
   },
   "file_extension": ".py",
   "mimetype": "text/x-python",
   "name": "python",
   "nbconvert_exporter": "python",
   "pygments_lexer": "ipython3",
   "version": "3.9.5"
  },
  "toc": {
   "base_numbering": 1,
   "nav_menu": {},
   "number_sections": true,
   "sideBar": true,
   "skip_h1_title": false,
   "title_cell": "Table of Contents",
   "title_sidebar": "Contents",
   "toc_cell": false,
   "toc_position": {},
   "toc_section_display": true,
   "toc_window_display": false
  }
 },
 "nbformat": 4,
 "nbformat_minor": 5
}
