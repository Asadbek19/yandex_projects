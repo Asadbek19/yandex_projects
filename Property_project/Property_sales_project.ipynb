{
 "cells": [
  {
   "cell_type": "markdown",
   "id": "d768907b",
   "metadata": {},
   "source": [
    "# Исследование объявлений о продаже квартир\n",
    "\n",
    "В вашем распоряжении данные сервиса Яндекс.Недвижимость — архив объявлений о продаже квартир в Санкт-Петербурге и соседних населённых пунктов за несколько лет. Нужно научиться определять рыночную стоимость объектов недвижимости. Ваша задача — установить параметры. Это позволит построить автоматизированную систему: она отследит аномалии и мошенническую деятельность. \n",
    "\n",
    "По каждой квартире на продажу доступны два вида данных. Первые вписаны пользователем, вторые — получены автоматически на основе картографических данных. Например, расстояние до центра, аэропорта, ближайшего парка и водоёма. "
   ]
  },
  {
   "cell_type": "markdown",
   "id": "4540a8e4",
   "metadata": {},
   "source": [
    "### Откройте файл с данными и изучите общую информацию. "
   ]
  },
  {
   "cell_type": "code",
   "execution_count": 1,
   "id": "9c2cbdff",
   "metadata": {},
   "outputs": [],
   "source": [
    "# imports\n",
    "import pandas as pd\n",
    "import matplotlib.pyplot as plt"
   ]
  },
  {
   "cell_type": "code",
   "execution_count": 2,
   "id": "dc453fe5",
   "metadata": {
    "scrolled": true
   },
   "outputs": [
    {
     "data": {
      "text/html": [
       "<div>\n",
       "<style scoped>\n",
       "    .dataframe tbody tr th:only-of-type {\n",
       "        vertical-align: middle;\n",
       "    }\n",
       "\n",
       "    .dataframe tbody tr th {\n",
       "        vertical-align: top;\n",
       "    }\n",
       "\n",
       "    .dataframe thead th {\n",
       "        text-align: right;\n",
       "    }\n",
       "</style>\n",
       "<table border=\"1\" class=\"dataframe\">\n",
       "  <thead>\n",
       "    <tr style=\"text-align: right;\">\n",
       "      <th></th>\n",
       "      <th>total_images</th>\n",
       "      <th>last_price</th>\n",
       "      <th>total_area</th>\n",
       "      <th>first_day_exposition</th>\n",
       "      <th>rooms</th>\n",
       "      <th>ceiling_height</th>\n",
       "      <th>floors_total</th>\n",
       "      <th>living_area</th>\n",
       "      <th>floor</th>\n",
       "      <th>is_apartment</th>\n",
       "      <th>...</th>\n",
       "      <th>kitchen_area</th>\n",
       "      <th>balcony</th>\n",
       "      <th>locality_name</th>\n",
       "      <th>airports_nearest</th>\n",
       "      <th>cityCenters_nearest</th>\n",
       "      <th>parks_around3000</th>\n",
       "      <th>parks_nearest</th>\n",
       "      <th>ponds_around3000</th>\n",
       "      <th>ponds_nearest</th>\n",
       "      <th>days_exposition</th>\n",
       "    </tr>\n",
       "  </thead>\n",
       "  <tbody>\n",
       "    <tr>\n",
       "      <th>0</th>\n",
       "      <td>20</td>\n",
       "      <td>13000000.00</td>\n",
       "      <td>108.00</td>\n",
       "      <td>2019-03-07T00:00:00</td>\n",
       "      <td>3</td>\n",
       "      <td>2.70</td>\n",
       "      <td>16.00</td>\n",
       "      <td>51.00</td>\n",
       "      <td>8</td>\n",
       "      <td>NaN</td>\n",
       "      <td>...</td>\n",
       "      <td>25.00</td>\n",
       "      <td>NaN</td>\n",
       "      <td>Санкт-Петербург</td>\n",
       "      <td>18863.00</td>\n",
       "      <td>16028.00</td>\n",
       "      <td>1.00</td>\n",
       "      <td>482.00</td>\n",
       "      <td>2.00</td>\n",
       "      <td>755.00</td>\n",
       "      <td>NaN</td>\n",
       "    </tr>\n",
       "    <tr>\n",
       "      <th>1</th>\n",
       "      <td>7</td>\n",
       "      <td>3350000.00</td>\n",
       "      <td>40.40</td>\n",
       "      <td>2018-12-04T00:00:00</td>\n",
       "      <td>1</td>\n",
       "      <td>NaN</td>\n",
       "      <td>11.00</td>\n",
       "      <td>18.60</td>\n",
       "      <td>1</td>\n",
       "      <td>NaN</td>\n",
       "      <td>...</td>\n",
       "      <td>11.00</td>\n",
       "      <td>2.00</td>\n",
       "      <td>посёлок Шушары</td>\n",
       "      <td>12817.00</td>\n",
       "      <td>18603.00</td>\n",
       "      <td>0.00</td>\n",
       "      <td>NaN</td>\n",
       "      <td>0.00</td>\n",
       "      <td>NaN</td>\n",
       "      <td>81.00</td>\n",
       "    </tr>\n",
       "    <tr>\n",
       "      <th>2</th>\n",
       "      <td>10</td>\n",
       "      <td>5196000.00</td>\n",
       "      <td>56.00</td>\n",
       "      <td>2015-08-20T00:00:00</td>\n",
       "      <td>2</td>\n",
       "      <td>NaN</td>\n",
       "      <td>5.00</td>\n",
       "      <td>34.30</td>\n",
       "      <td>4</td>\n",
       "      <td>NaN</td>\n",
       "      <td>...</td>\n",
       "      <td>8.30</td>\n",
       "      <td>0.00</td>\n",
       "      <td>Санкт-Петербург</td>\n",
       "      <td>21741.00</td>\n",
       "      <td>13933.00</td>\n",
       "      <td>1.00</td>\n",
       "      <td>90.00</td>\n",
       "      <td>2.00</td>\n",
       "      <td>574.00</td>\n",
       "      <td>558.00</td>\n",
       "    </tr>\n",
       "    <tr>\n",
       "      <th>3</th>\n",
       "      <td>0</td>\n",
       "      <td>64900000.00</td>\n",
       "      <td>159.00</td>\n",
       "      <td>2015-07-24T00:00:00</td>\n",
       "      <td>3</td>\n",
       "      <td>NaN</td>\n",
       "      <td>14.00</td>\n",
       "      <td>NaN</td>\n",
       "      <td>9</td>\n",
       "      <td>NaN</td>\n",
       "      <td>...</td>\n",
       "      <td>NaN</td>\n",
       "      <td>0.00</td>\n",
       "      <td>Санкт-Петербург</td>\n",
       "      <td>28098.00</td>\n",
       "      <td>6800.00</td>\n",
       "      <td>2.00</td>\n",
       "      <td>84.00</td>\n",
       "      <td>3.00</td>\n",
       "      <td>234.00</td>\n",
       "      <td>424.00</td>\n",
       "    </tr>\n",
       "    <tr>\n",
       "      <th>4</th>\n",
       "      <td>2</td>\n",
       "      <td>10000000.00</td>\n",
       "      <td>100.00</td>\n",
       "      <td>2018-06-19T00:00:00</td>\n",
       "      <td>2</td>\n",
       "      <td>3.03</td>\n",
       "      <td>14.00</td>\n",
       "      <td>32.00</td>\n",
       "      <td>13</td>\n",
       "      <td>NaN</td>\n",
       "      <td>...</td>\n",
       "      <td>41.00</td>\n",
       "      <td>NaN</td>\n",
       "      <td>Санкт-Петербург</td>\n",
       "      <td>31856.00</td>\n",
       "      <td>8098.00</td>\n",
       "      <td>2.00</td>\n",
       "      <td>112.00</td>\n",
       "      <td>1.00</td>\n",
       "      <td>48.00</td>\n",
       "      <td>121.00</td>\n",
       "    </tr>\n",
       "  </tbody>\n",
       "</table>\n",
       "<p>5 rows × 22 columns</p>\n",
       "</div>"
      ],
      "text/plain": [
       "   total_images  last_price  total_area first_day_exposition  rooms  \\\n",
       "0            20 13000000.00      108.00  2019-03-07T00:00:00      3   \n",
       "1             7  3350000.00       40.40  2018-12-04T00:00:00      1   \n",
       "2            10  5196000.00       56.00  2015-08-20T00:00:00      2   \n",
       "3             0 64900000.00      159.00  2015-07-24T00:00:00      3   \n",
       "4             2 10000000.00      100.00  2018-06-19T00:00:00      2   \n",
       "\n",
       "   ceiling_height  floors_total  living_area  floor is_apartment  ...  \\\n",
       "0            2.70         16.00        51.00      8          NaN  ...   \n",
       "1             NaN         11.00        18.60      1          NaN  ...   \n",
       "2             NaN          5.00        34.30      4          NaN  ...   \n",
       "3             NaN         14.00          NaN      9          NaN  ...   \n",
       "4            3.03         14.00        32.00     13          NaN  ...   \n",
       "\n",
       "   kitchen_area  balcony    locality_name  airports_nearest  \\\n",
       "0         25.00      NaN  Санкт-Петербург          18863.00   \n",
       "1         11.00     2.00   посёлок Шушары          12817.00   \n",
       "2          8.30     0.00  Санкт-Петербург          21741.00   \n",
       "3           NaN     0.00  Санкт-Петербург          28098.00   \n",
       "4         41.00      NaN  Санкт-Петербург          31856.00   \n",
       "\n",
       "  cityCenters_nearest  parks_around3000  parks_nearest  ponds_around3000  \\\n",
       "0            16028.00              1.00         482.00              2.00   \n",
       "1            18603.00              0.00            NaN              0.00   \n",
       "2            13933.00              1.00          90.00              2.00   \n",
       "3             6800.00              2.00          84.00              3.00   \n",
       "4             8098.00              2.00         112.00              1.00   \n",
       "\n",
       "   ponds_nearest  days_exposition  \n",
       "0         755.00              NaN  \n",
       "1            NaN            81.00  \n",
       "2         574.00           558.00  \n",
       "3         234.00           424.00  \n",
       "4          48.00           121.00  \n",
       "\n",
       "[5 rows x 22 columns]"
      ]
     },
     "execution_count": 2,
     "metadata": {},
     "output_type": "execute_result"
    }
   ],
   "source": [
    "data = pd.read_csv('/datasets/real_estate_data.csv', sep='\\t')\n",
    "\n",
    "pd.set_option('display.float_format', '{:.2f}'.format)\n",
    "\n",
    "data.head()"
   ]
  },
  {
   "cell_type": "code",
   "execution_count": 3,
   "id": "3765abf0",
   "metadata": {},
   "outputs": [
    {
     "data": {
      "text/plain": [
       "23699"
      ]
     },
     "execution_count": 3,
     "metadata": {},
     "output_type": "execute_result"
    }
   ],
   "source": [
    "# Считаем количество данных в датафрейме \n",
    "data.shape[0]"
   ]
  },
  {
   "cell_type": "markdown",
   "id": "a30b0d66",
   "metadata": {},
   "source": [
    "**Значения NaN в датафрейме были обнаружены в следующих столбцах:**\n",
    "\n",
    "- ceiling_height\n",
    "- floors_total\n",
    "- living_area\n",
    "- is_apartment\n",
    "- kitchen_area\n",
    "- balcony\n",
    "- locality_name\n",
    "- airports_nearest\n",
    "- cityCenters_nearest\n",
    "- parks_around3000\n",
    "- ponds_nearest\n",
    "- days_exposition\n"
   ]
  },
  {
   "cell_type": "markdown",
   "id": "c2eae8e0",
   "metadata": {},
   "source": [
    "### Предобработка данных"
   ]
  },
  {
   "cell_type": "code",
   "execution_count": 4,
   "id": "0853ae26",
   "metadata": {},
   "outputs": [
    {
     "data": {
      "text/plain": [
       "is_apartment            20924\n",
       "parks_nearest           15620\n",
       "ponds_nearest           14589\n",
       "balcony                 11519\n",
       "ceiling_height           9195\n",
       "airports_nearest         5542\n",
       "cityCenters_nearest      5519\n",
       "ponds_around3000         5518\n",
       "parks_around3000         5518\n",
       "days_exposition          3181\n",
       "kitchen_area             2278\n",
       "living_area              1903\n",
       "floors_total               86\n",
       "locality_name              49\n",
       "total_images                0\n",
       "last_price                  0\n",
       "studio                      0\n",
       "floor                       0\n",
       "rooms                       0\n",
       "first_day_exposition        0\n",
       "total_area                  0\n",
       "open_plan                   0\n",
       "dtype: int64"
      ]
     },
     "execution_count": 4,
     "metadata": {},
     "output_type": "execute_result"
    }
   ],
   "source": [
    "# Проверка на пропущенные значения в датафрейме\n",
    "data.isna().sum().sort_values(ascending=False)"
   ]
  },
  {
   "cell_type": "markdown",
   "id": "38cabac2",
   "metadata": {},
   "source": [
    "**В датафрейме есть пропущенные значения в следующих столбцах с данными:**\n",
    "\n",
    "- `ceiling_height           9195`\n",
    "- `floors_total               86`\n",
    "- `living_area              1903`\n",
    "- `is_apartment            20924`\n",
    "- `kitchen_area             2278`\n",
    "- `balcony                 11519`\n",
    "- `locality_name              49`\n",
    "- `airports_nearest         5542`\n",
    "- `cityCenters_nearest      5519`\n",
    "- `parks_around3000         5518`\n",
    "- `parks_nearest           15620`\n",
    "- `ponds_around3000         5518`\n",
    "- `ponds_nearest           14589`\n",
    "- `days_exposition          3181`\n",
    "\n",
    "**Причины пропущенных значений могут разные факторы, такие как:**\n",
    "- Необязательные поля. Пользователи могли не указать информацию определнного поля, т.к. являлось необязательным для заполнения\n",
    "- Технические ошибки. Проблемы при передаче данных из БД, программных сбоев или ошибок при сохранении инфомации, могли привести к пропущенным значениям в данных\n",
    "- Неявные пропуски.\n"
   ]
  },
  {
   "cell_type": "code",
   "execution_count": 5,
   "id": "5b4f0446",
   "metadata": {},
   "outputs": [],
   "source": [
    "# Заменяем пропущенные значения на 0 в следующих столбцах:\n",
    "columns_to_fillna = ['is_apartment', 'parks_nearest', 'ponds_nearest', 'balcony',\\\n",
    "                     'airports_nearest', 'ponds_around3000', 'parks_around3000',\\\n",
    "                     'cityCenters_nearest']\n",
    "\n",
    "for column in columns_to_fillna:\n",
    "    data[column] = data[column].fillna(0).astype(int)"
   ]
  },
  {
   "cell_type": "code",
   "execution_count": 6,
   "id": "37abf901",
   "metadata": {},
   "outputs": [
    {
     "data": {
      "text/plain": [
       "2.65"
      ]
     },
     "execution_count": 6,
     "metadata": {},
     "output_type": "execute_result"
    }
   ],
   "source": [
    "# Выводим медианное значение столбца ceiling_height \n",
    "ceiling_height_median = data['ceiling_height'].median()\n",
    "ceiling_height_median"
   ]
  },
  {
   "cell_type": "code",
   "execution_count": 7,
   "id": "ff3b7060",
   "metadata": {},
   "outputs": [],
   "source": [
    "# Меняем пропущенные значения в столбце ceiling_height на 0, не меняя тип данных столбца\n",
    "data['ceiling_height'].fillna(ceiling_height_median, inplace=True)    "
   ]
  },
  {
   "cell_type": "code",
   "execution_count": 8,
   "id": "7e3e5d2b",
   "metadata": {},
   "outputs": [
    {
     "data": {
      "text/plain": [
       "30.0"
      ]
     },
     "execution_count": 8,
     "metadata": {},
     "output_type": "execute_result"
    }
   ],
   "source": [
    "# Выводим медианное значение столбца living_area\n",
    "living_area_median = data['living_area'].median()\n",
    "living_area_median"
   ]
  },
  {
   "cell_type": "code",
   "execution_count": 9,
   "id": "30cb5614",
   "metadata": {},
   "outputs": [
    {
     "data": {
      "text/plain": [
       "9.1"
      ]
     },
     "execution_count": 9,
     "metadata": {},
     "output_type": "execute_result"
    }
   ],
   "source": [
    "# Выводим медианное значение столбца kitchen_area\n",
    "kitchen_area_median = data['kitchen_area'].median()\n",
    "kitchen_area_median"
   ]
  },
  {
   "cell_type": "code",
   "execution_count": 10,
   "id": "4351fc45",
   "metadata": {
    "scrolled": false
   },
   "outputs": [
    {
     "name": "stdout",
     "output_type": "stream",
     "text": [
      "Минимальное значение столбца kitchen_area:  1.3\n",
      "Количетсво кухон с квадратурой равной минимальной:  1\n"
     ]
    }
   ],
   "source": [
    "# Просматриваем сводную статистическую информацию следующих столбцов\n",
    "kitchen_area_min = data['kitchen_area'].min()\n",
    "print('Минимальное значение столбца kitchen_area: ', kitchen_area_min)\n",
    "\n",
    "kitchen_area = data.query('kitchen_area == @kitchen_area_min') \n",
    "print(\"Количетсво кухон с квадратурой равной минимальной: \", kitchen_area['kitchen_area'].count())"
   ]
  },
  {
   "cell_type": "code",
   "execution_count": 11,
   "id": "0dd0a3bf",
   "metadata": {},
   "outputs": [],
   "source": [
    "# Выбираем минимальным значением столбца kitchen_area как 2\n",
    "data = data.query('kitchen_area >= 2')"
   ]
  },
  {
   "cell_type": "code",
   "execution_count": 12,
   "id": "3ff5e75c",
   "metadata": {},
   "outputs": [],
   "source": [
    "# Заменяем пропущенные значения на 2 в следующих столбцах:\n",
    "data['living_area'].fillna(living_area_median, inplace=True)    \n",
    "data['kitchen_area'].fillna(kitchen_area_median, inplace=True)"
   ]
  },
  {
   "cell_type": "markdown",
   "id": "1974f798",
   "metadata": {},
   "source": [
    "**Объяснение:**\n",
    "Пустые значения в столбцах `living_area` и `kitchen_area` были изменены на их же медианные значения"
   ]
  },
  {
   "cell_type": "code",
   "execution_count": 13,
   "id": "be627ce5",
   "metadata": {},
   "outputs": [
    {
     "data": {
      "text/plain": [
       "102.0"
      ]
     },
     "execution_count": 13,
     "metadata": {},
     "output_type": "execute_result"
    }
   ],
   "source": [
    "# Выводим медианное значение столбца days_exposition\n",
    "days_exposition_median = data['days_exposition'].median()\n",
    "days_exposition_median"
   ]
  },
  {
   "cell_type": "code",
   "execution_count": 14,
   "id": "b67945fd",
   "metadata": {},
   "outputs": [],
   "source": [
    "data['days_exposition'].fillna(days_exposition_median, inplace=True)"
   ]
  },
  {
   "cell_type": "code",
   "execution_count": 15,
   "id": "b3c19fbf",
   "metadata": {},
   "outputs": [
    {
     "data": {
      "text/plain": [
       "total_images              38\n",
       "last_price              2692\n",
       "total_area              2019\n",
       "first_day_exposition    1479\n",
       "rooms                     16\n",
       "ceiling_height           176\n",
       "floors_total              35\n",
       "living_area             1720\n",
       "floor                     33\n",
       "is_apartment               2\n",
       "studio                     1\n",
       "open_plan                  1\n",
       "kitchen_area             970\n",
       "balcony                    6\n",
       "locality_name            346\n",
       "airports_nearest        7909\n",
       "cityCenters_nearest     7330\n",
       "parks_around3000           4\n",
       "parks_nearest            983\n",
       "ponds_around3000           4\n",
       "ponds_nearest           1090\n",
       "days_exposition         1126\n",
       "dtype: int64"
      ]
     },
     "execution_count": 15,
     "metadata": {},
     "output_type": "execute_result"
    }
   ],
   "source": [
    "data.nunique()"
   ]
  },
  {
   "cell_type": "code",
   "execution_count": 16,
   "id": "5533f2b5",
   "metadata": {
    "scrolled": true
   },
   "outputs": [],
   "source": [
    "data = data.rename(columns={\"cityCenters_nearest\": \"city_centers_nearest\", \"parks_around3000\": \"parks_around_3_km\",\\\n",
    "                           \"ponds_around3000\": \"ponds_around_3_km\", \"ponds_nearest\": \"ponds_nearest_m\",\\\n",
    "                           \"parks_nearest\": \"parks_nearest_m\"})\n",
    "\n",
    "data['locality_name'] = data['locality_name'].str.replace('посёлок ', '')\\\n",
    "                        .str.replace('деревня ', '').str.replace('городской посёлок ', '')\\\n",
    "                        .str.replace('поселок ', '').str.replace('городского типа ', '')\\\n",
    "                        .str.replace('городской ', '').str.replace('село ', '')\\\n",
    "                        .str.replace('садоводческое некоммерческое товарищество ', '')\\\n",
    "                        .str.replace('садоводческое товарищество ', '')\\\n",
    "                        .str.replace('садовое товарищество ', '').str.replace('имени ', '')\\\n",
    "                        .str.replace('при железнодорожной станции ', '')\\\n",
    "                        .str.replace('станции ', '').str.replace('коттеджный ', '')\n",
    "                        \n",
    "data = data.dropna(subset=['locality_name', 'floors_total'])\n",
    "\n",
    "data = data.astype({'floors_total': int})"
   ]
  },
  {
   "cell_type": "code",
   "execution_count": 17,
   "id": "b58799be",
   "metadata": {},
   "outputs": [
    {
     "data": {
      "text/plain": [
       "total_images              38\n",
       "last_price              2660\n",
       "total_area              2013\n",
       "first_day_exposition    1477\n",
       "rooms                     16\n",
       "ceiling_height           176\n",
       "floors_total              35\n",
       "living_area             1710\n",
       "floor                     33\n",
       "is_apartment               2\n",
       "studio                     1\n",
       "open_plan                  1\n",
       "kitchen_area             962\n",
       "balcony                    6\n",
       "locality_name            287\n",
       "airports_nearest        7887\n",
       "city_centers_nearest    7312\n",
       "parks_around_3_km          4\n",
       "parks_nearest_m          981\n",
       "ponds_around_3_km          4\n",
       "ponds_nearest_m         1089\n",
       "days_exposition         1126\n",
       "dtype: int64"
      ]
     },
     "execution_count": 17,
     "metadata": {},
     "output_type": "execute_result"
    }
   ],
   "source": [
    "data.nunique()"
   ]
  },
  {
   "cell_type": "code",
   "execution_count": 18,
   "id": "d7ec56f2",
   "metadata": {},
   "outputs": [
    {
     "data": {
      "text/plain": [
       "total_images            0\n",
       "ponds_around_3_km       0\n",
       "parks_nearest_m         0\n",
       "parks_around_3_km       0\n",
       "city_centers_nearest    0\n",
       "airports_nearest        0\n",
       "locality_name           0\n",
       "balcony                 0\n",
       "kitchen_area            0\n",
       "open_plan               0\n",
       "studio                  0\n",
       "is_apartment            0\n",
       "floor                   0\n",
       "living_area             0\n",
       "floors_total            0\n",
       "ceiling_height          0\n",
       "rooms                   0\n",
       "first_day_exposition    0\n",
       "total_area              0\n",
       "last_price              0\n",
       "ponds_nearest_m         0\n",
       "days_exposition         0\n",
       "dtype: int64"
      ]
     },
     "execution_count": 18,
     "metadata": {},
     "output_type": "execute_result"
    }
   ],
   "source": [
    "# Проверяем на пропущенные значения\n",
    "data.isna().sum().sort_values()"
   ]
  },
  {
   "cell_type": "markdown",
   "id": "e84d926c",
   "metadata": {},
   "source": [
    "\n",
    "\n",
    "\n",
    "**Описание**\n",
    "1. Строки датафрейма содеражение пустое значение в столбце \"locality_name\" были удалены из датафрейма\n",
    "2. Значения NaN были изменены на 0\n",
    "3. Наименование следующих столбцов были изменены:\n",
    "- `cityCenters_nearest` на `city_centers_nearest`;\n",
    "- `parks_around3000` на `parks_around_3_km`;\n",
    "- `ponds_around3000` на `ponds_around_3_km`;\n",
    "- `ponds_nearest` на `ponds_nearest_m`;\n",
    "- `parks_nearest` на `parks_nearest_m`.\n",
    "4. Типы данных следующих столбцов были изменены на `int`:\n",
    "- `balcony`\n",
    "- `floors_total`\n",
    "- `days_exposition`\n",
    "- `airports_nearest`\n",
    "- `city_centers_nearest`\n",
    "- `parks_around_3_km`\n",
    "- `parks_nearest`\n",
    "- `ponds_around_3_km`\n",
    "- `ponds_nearest_m`\n",
    "5. Изменение типа данных определенных столбцов, как указано в пункте 4 были по причине, что в этих столбцах содержатся данные которые обозначают расстояние в метрах или километрах, или же количественные (например, балконы квартир)\n"
   ]
  },
  {
   "cell_type": "markdown",
   "id": "9b9549f6",
   "metadata": {},
   "source": [
    "### Посчитайте и добавьте в таблицу новые столбцы"
   ]
  },
  {
   "cell_type": "code",
   "execution_count": 19,
   "id": "78f46dae",
   "metadata": {},
   "outputs": [
    {
     "data": {
      "text/html": [
       "<div>\n",
       "<style scoped>\n",
       "    .dataframe tbody tr th:only-of-type {\n",
       "        vertical-align: middle;\n",
       "    }\n",
       "\n",
       "    .dataframe tbody tr th {\n",
       "        vertical-align: top;\n",
       "    }\n",
       "\n",
       "    .dataframe thead th {\n",
       "        text-align: right;\n",
       "    }\n",
       "</style>\n",
       "<table border=\"1\" class=\"dataframe\">\n",
       "  <thead>\n",
       "    <tr style=\"text-align: right;\">\n",
       "      <th></th>\n",
       "      <th>total_images</th>\n",
       "      <th>last_price</th>\n",
       "      <th>total_area</th>\n",
       "      <th>rooms</th>\n",
       "      <th>ceiling_height</th>\n",
       "      <th>floors_total</th>\n",
       "      <th>living_area</th>\n",
       "      <th>floor</th>\n",
       "      <th>is_apartment</th>\n",
       "      <th>studio</th>\n",
       "      <th>...</th>\n",
       "      <th>ponds_around_3_km</th>\n",
       "      <th>ponds_nearest_m</th>\n",
       "      <th>days_exposition</th>\n",
       "      <th>first_exposition_day</th>\n",
       "      <th>first_time_exposition</th>\n",
       "      <th>price_per_sqm</th>\n",
       "      <th>day_of_week</th>\n",
       "      <th>month_of_exposition</th>\n",
       "      <th>year_of_exposition</th>\n",
       "      <th>floor_type</th>\n",
       "    </tr>\n",
       "  </thead>\n",
       "  <tbody>\n",
       "    <tr>\n",
       "      <th>0</th>\n",
       "      <td>20</td>\n",
       "      <td>13000000.00</td>\n",
       "      <td>108.00</td>\n",
       "      <td>3</td>\n",
       "      <td>2.70</td>\n",
       "      <td>16</td>\n",
       "      <td>51.00</td>\n",
       "      <td>8</td>\n",
       "      <td>0</td>\n",
       "      <td>False</td>\n",
       "      <td>...</td>\n",
       "      <td>2</td>\n",
       "      <td>755</td>\n",
       "      <td>102.00</td>\n",
       "      <td>2019-03-07</td>\n",
       "      <td>00:00:00</td>\n",
       "      <td>120370.37</td>\n",
       "      <td>3</td>\n",
       "      <td>3</td>\n",
       "      <td>2019</td>\n",
       "      <td>другой</td>\n",
       "    </tr>\n",
       "    <tr>\n",
       "      <th>1</th>\n",
       "      <td>7</td>\n",
       "      <td>3350000.00</td>\n",
       "      <td>40.40</td>\n",
       "      <td>1</td>\n",
       "      <td>2.65</td>\n",
       "      <td>11</td>\n",
       "      <td>18.60</td>\n",
       "      <td>1</td>\n",
       "      <td>0</td>\n",
       "      <td>False</td>\n",
       "      <td>...</td>\n",
       "      <td>0</td>\n",
       "      <td>0</td>\n",
       "      <td>81.00</td>\n",
       "      <td>2018-12-04</td>\n",
       "      <td>00:00:00</td>\n",
       "      <td>82920.79</td>\n",
       "      <td>1</td>\n",
       "      <td>12</td>\n",
       "      <td>2018</td>\n",
       "      <td>первый</td>\n",
       "    </tr>\n",
       "    <tr>\n",
       "      <th>2</th>\n",
       "      <td>10</td>\n",
       "      <td>5196000.00</td>\n",
       "      <td>56.00</td>\n",
       "      <td>2</td>\n",
       "      <td>2.65</td>\n",
       "      <td>5</td>\n",
       "      <td>34.30</td>\n",
       "      <td>4</td>\n",
       "      <td>0</td>\n",
       "      <td>False</td>\n",
       "      <td>...</td>\n",
       "      <td>2</td>\n",
       "      <td>574</td>\n",
       "      <td>558.00</td>\n",
       "      <td>2015-08-20</td>\n",
       "      <td>00:00:00</td>\n",
       "      <td>92785.71</td>\n",
       "      <td>3</td>\n",
       "      <td>8</td>\n",
       "      <td>2015</td>\n",
       "      <td>другой</td>\n",
       "    </tr>\n",
       "    <tr>\n",
       "      <th>4</th>\n",
       "      <td>2</td>\n",
       "      <td>10000000.00</td>\n",
       "      <td>100.00</td>\n",
       "      <td>2</td>\n",
       "      <td>3.03</td>\n",
       "      <td>14</td>\n",
       "      <td>32.00</td>\n",
       "      <td>13</td>\n",
       "      <td>0</td>\n",
       "      <td>False</td>\n",
       "      <td>...</td>\n",
       "      <td>1</td>\n",
       "      <td>48</td>\n",
       "      <td>121.00</td>\n",
       "      <td>2018-06-19</td>\n",
       "      <td>00:00:00</td>\n",
       "      <td>100000.00</td>\n",
       "      <td>1</td>\n",
       "      <td>6</td>\n",
       "      <td>2018</td>\n",
       "      <td>другой</td>\n",
       "    </tr>\n",
       "    <tr>\n",
       "      <th>5</th>\n",
       "      <td>10</td>\n",
       "      <td>2890000.00</td>\n",
       "      <td>30.40</td>\n",
       "      <td>1</td>\n",
       "      <td>2.65</td>\n",
       "      <td>12</td>\n",
       "      <td>14.40</td>\n",
       "      <td>5</td>\n",
       "      <td>0</td>\n",
       "      <td>False</td>\n",
       "      <td>...</td>\n",
       "      <td>0</td>\n",
       "      <td>0</td>\n",
       "      <td>55.00</td>\n",
       "      <td>2018-09-10</td>\n",
       "      <td>00:00:00</td>\n",
       "      <td>95065.79</td>\n",
       "      <td>0</td>\n",
       "      <td>9</td>\n",
       "      <td>2018</td>\n",
       "      <td>другой</td>\n",
       "    </tr>\n",
       "    <tr>\n",
       "      <th>6</th>\n",
       "      <td>6</td>\n",
       "      <td>3700000.00</td>\n",
       "      <td>37.30</td>\n",
       "      <td>1</td>\n",
       "      <td>2.65</td>\n",
       "      <td>26</td>\n",
       "      <td>10.60</td>\n",
       "      <td>6</td>\n",
       "      <td>0</td>\n",
       "      <td>False</td>\n",
       "      <td>...</td>\n",
       "      <td>0</td>\n",
       "      <td>0</td>\n",
       "      <td>155.00</td>\n",
       "      <td>2017-11-02</td>\n",
       "      <td>00:00:00</td>\n",
       "      <td>99195.71</td>\n",
       "      <td>3</td>\n",
       "      <td>11</td>\n",
       "      <td>2017</td>\n",
       "      <td>другой</td>\n",
       "    </tr>\n",
       "    <tr>\n",
       "      <th>7</th>\n",
       "      <td>5</td>\n",
       "      <td>7915000.00</td>\n",
       "      <td>71.60</td>\n",
       "      <td>2</td>\n",
       "      <td>2.65</td>\n",
       "      <td>24</td>\n",
       "      <td>30.00</td>\n",
       "      <td>22</td>\n",
       "      <td>0</td>\n",
       "      <td>False</td>\n",
       "      <td>...</td>\n",
       "      <td>0</td>\n",
       "      <td>0</td>\n",
       "      <td>102.00</td>\n",
       "      <td>2019-04-18</td>\n",
       "      <td>00:00:00</td>\n",
       "      <td>110544.69</td>\n",
       "      <td>3</td>\n",
       "      <td>4</td>\n",
       "      <td>2019</td>\n",
       "      <td>другой</td>\n",
       "    </tr>\n",
       "    <tr>\n",
       "      <th>8</th>\n",
       "      <td>20</td>\n",
       "      <td>2900000.00</td>\n",
       "      <td>33.16</td>\n",
       "      <td>1</td>\n",
       "      <td>2.65</td>\n",
       "      <td>27</td>\n",
       "      <td>15.43</td>\n",
       "      <td>26</td>\n",
       "      <td>0</td>\n",
       "      <td>False</td>\n",
       "      <td>...</td>\n",
       "      <td>0</td>\n",
       "      <td>0</td>\n",
       "      <td>189.00</td>\n",
       "      <td>2018-05-23</td>\n",
       "      <td>00:00:00</td>\n",
       "      <td>87454.76</td>\n",
       "      <td>2</td>\n",
       "      <td>5</td>\n",
       "      <td>2018</td>\n",
       "      <td>другой</td>\n",
       "    </tr>\n",
       "    <tr>\n",
       "      <th>9</th>\n",
       "      <td>18</td>\n",
       "      <td>5400000.00</td>\n",
       "      <td>61.00</td>\n",
       "      <td>3</td>\n",
       "      <td>2.50</td>\n",
       "      <td>9</td>\n",
       "      <td>43.60</td>\n",
       "      <td>7</td>\n",
       "      <td>0</td>\n",
       "      <td>False</td>\n",
       "      <td>...</td>\n",
       "      <td>0</td>\n",
       "      <td>0</td>\n",
       "      <td>289.00</td>\n",
       "      <td>2017-02-26</td>\n",
       "      <td>00:00:00</td>\n",
       "      <td>88524.59</td>\n",
       "      <td>6</td>\n",
       "      <td>2</td>\n",
       "      <td>2017</td>\n",
       "      <td>другой</td>\n",
       "    </tr>\n",
       "    <tr>\n",
       "      <th>10</th>\n",
       "      <td>5</td>\n",
       "      <td>5050000.00</td>\n",
       "      <td>39.60</td>\n",
       "      <td>1</td>\n",
       "      <td>2.67</td>\n",
       "      <td>12</td>\n",
       "      <td>20.30</td>\n",
       "      <td>3</td>\n",
       "      <td>0</td>\n",
       "      <td>False</td>\n",
       "      <td>...</td>\n",
       "      <td>2</td>\n",
       "      <td>553</td>\n",
       "      <td>137.00</td>\n",
       "      <td>2017-11-16</td>\n",
       "      <td>00:00:00</td>\n",
       "      <td>127525.25</td>\n",
       "      <td>3</td>\n",
       "      <td>11</td>\n",
       "      <td>2017</td>\n",
       "      <td>другой</td>\n",
       "    </tr>\n",
       "  </tbody>\n",
       "</table>\n",
       "<p>10 rows × 28 columns</p>\n",
       "</div>"
      ],
      "text/plain": [
       "    total_images  last_price  total_area  rooms  ceiling_height  floors_total  \\\n",
       "0             20 13000000.00      108.00      3            2.70            16   \n",
       "1              7  3350000.00       40.40      1            2.65            11   \n",
       "2             10  5196000.00       56.00      2            2.65             5   \n",
       "4              2 10000000.00      100.00      2            3.03            14   \n",
       "5             10  2890000.00       30.40      1            2.65            12   \n",
       "6              6  3700000.00       37.30      1            2.65            26   \n",
       "7              5  7915000.00       71.60      2            2.65            24   \n",
       "8             20  2900000.00       33.16      1            2.65            27   \n",
       "9             18  5400000.00       61.00      3            2.50             9   \n",
       "10             5  5050000.00       39.60      1            2.67            12   \n",
       "\n",
       "    living_area  floor  is_apartment  studio  ...  ponds_around_3_km  \\\n",
       "0         51.00      8             0   False  ...                  2   \n",
       "1         18.60      1             0   False  ...                  0   \n",
       "2         34.30      4             0   False  ...                  2   \n",
       "4         32.00     13             0   False  ...                  1   \n",
       "5         14.40      5             0   False  ...                  0   \n",
       "6         10.60      6             0   False  ...                  0   \n",
       "7         30.00     22             0   False  ...                  0   \n",
       "8         15.43     26             0   False  ...                  0   \n",
       "9         43.60      7             0   False  ...                  0   \n",
       "10        20.30      3             0   False  ...                  2   \n",
       "\n",
       "    ponds_nearest_m  days_exposition first_exposition_day  \\\n",
       "0               755           102.00           2019-03-07   \n",
       "1                 0            81.00           2018-12-04   \n",
       "2               574           558.00           2015-08-20   \n",
       "4                48           121.00           2018-06-19   \n",
       "5                 0            55.00           2018-09-10   \n",
       "6                 0           155.00           2017-11-02   \n",
       "7                 0           102.00           2019-04-18   \n",
       "8                 0           189.00           2018-05-23   \n",
       "9                 0           289.00           2017-02-26   \n",
       "10              553           137.00           2017-11-16   \n",
       "\n",
       "    first_time_exposition  price_per_sqm  day_of_week  month_of_exposition  \\\n",
       "0                00:00:00      120370.37            3                    3   \n",
       "1                00:00:00       82920.79            1                   12   \n",
       "2                00:00:00       92785.71            3                    8   \n",
       "4                00:00:00      100000.00            1                    6   \n",
       "5                00:00:00       95065.79            0                    9   \n",
       "6                00:00:00       99195.71            3                   11   \n",
       "7                00:00:00      110544.69            3                    4   \n",
       "8                00:00:00       87454.76            2                    5   \n",
       "9                00:00:00       88524.59            6                    2   \n",
       "10               00:00:00      127525.25            3                   11   \n",
       "\n",
       "    year_of_exposition  floor_type  \n",
       "0                 2019      другой  \n",
       "1                 2018      первый  \n",
       "2                 2015      другой  \n",
       "4                 2018      другой  \n",
       "5                 2018      другой  \n",
       "6                 2017      другой  \n",
       "7                 2019      другой  \n",
       "8                 2018      другой  \n",
       "9                 2017      другой  \n",
       "10                2017      другой  \n",
       "\n",
       "[10 rows x 28 columns]"
      ]
     },
     "execution_count": 19,
     "metadata": {},
     "output_type": "execute_result"
    }
   ],
   "source": [
    "data[['first_exposition_day', 'first_time_exposition']] = data['first_day_exposition'].str.extract(r'(\\d{4}-\\d{2}-\\d{2})T(\\d{2}:\\d{2}:\\d{2})')\n",
    "data.drop('first_day_exposition', axis=1, inplace=True)\n",
    "\n",
    "# Добавляем цену за 1 кв. метр, округля цену после точки до 3 цифр\n",
    "data['price_per_sqm'] = round(data['last_price'] / data['total_area'], 3)\n",
    "\n",
    "# Считаем и добавляем в таблицу день пубилкации объявления (0 - понедельник, 1 - вторник и т.д.)\n",
    "data['first_exposition_day'] = pd.to_datetime(data['first_exposition_day'])\n",
    "data['day_of_week'] = data['first_exposition_day'].dt.dayofweek\n",
    "# Считаем и добавляем в таблицу месяц пубилкации объявления\n",
    "data['month_of_exposition'] = data['first_exposition_day'].dt.month\n",
    "# Считаем и добавляем в таблицу год пубилкации объявления\n",
    "data['year_of_exposition'] = data['first_exposition_day'].dt.year\n",
    "\n",
    "# Считаем и добавляем в табилцу тип этажа квартиры (значения — «первый», «последний», «другой»)\n",
    "def floor_type(row):\n",
    "    if row['floor'] == 1:\n",
    "        return 'первый'\n",
    "    elif row['floor'] == row['floors_total']:\n",
    "        return 'последний'\n",
    "    else:\n",
    "        return 'другой'\n",
    "\n",
    "data['floor_type'] = data.apply(floor_type, axis=1)\n",
    "\n",
    "data.head(10)"
   ]
  },
  {
   "cell_type": "markdown",
   "id": "bced4abb",
   "metadata": {},
   "source": [
    "**Описание**\n",
    "1. В датафрейм добавлены такие столбцы как `first_exposition_day` и `first_time_exposition`, где `first_exposition_day` хранятся данные о дате публикации и `first_time_exposition` который хранит данные о времени публикации\n",
    "2. В датафрейм добавлены следующие столбцы:\n",
    "- `price_per_sqm` - цена квартиры за кв. метр;\n",
    "- `day_of_week` - день публикации недели;\n",
    "- `month_of_exposition` - месяц публикации;\n",
    "- `year_of_exposition` - год публикации;\n",
    "- `floor_type` - тип этажа квартиры.\n",
    "\n"
   ]
  },
  {
   "cell_type": "markdown",
   "id": "34d44f44",
   "metadata": {},
   "source": [
    "### Проведите исследовательский анализ данных"
   ]
  },
  {
   "cell_type": "code",
   "execution_count": 20,
   "id": "48991a29",
   "metadata": {},
   "outputs": [
    {
     "data": {
      "text/plain": [
       "count   21342.00\n",
       "mean        2.72\n",
       "std         0.99\n",
       "min         1.00\n",
       "25%         2.60\n",
       "50%         2.65\n",
       "75%         2.70\n",
       "max       100.00\n",
       "Name: ceiling_height, dtype: float64"
      ]
     },
     "execution_count": 20,
     "metadata": {},
     "output_type": "execute_result"
    }
   ],
   "source": [
    "# Выводим информация столбца ceiling_height \n",
    "data['ceiling_height'].describe()"
   ]
  },
  {
   "cell_type": "code",
   "execution_count": 21,
   "id": "07078e14",
   "metadata": {},
   "outputs": [],
   "source": [
    "# Выводим значение третьего квартиля столбца ceiling_height \n",
    "ceiling_height_q3 = data['ceiling_height'].quantile(0.75)\n",
    "\n",
    "for idx, row in data.iterrows():\n",
    "    if row['ceiling_height'] > ceiling_height_q3:\n",
    "        data.at[idx, 'ceiling_height'] /= 10"
   ]
  },
  {
   "cell_type": "code",
   "execution_count": 22,
   "id": "73b7e770",
   "metadata": {
    "scrolled": true
   },
   "outputs": [
    {
     "data": {
      "text/plain": [
       "count   21342.00\n",
       "mean        2.08\n",
       "std         0.97\n",
       "min         0.27\n",
       "25%         2.50\n",
       "50%         2.60\n",
       "75%         2.65\n",
       "max        10.00\n",
       "Name: ceiling_height, dtype: float64"
      ]
     },
     "execution_count": 22,
     "metadata": {},
     "output_type": "execute_result"
    }
   ],
   "source": [
    "data['ceiling_height'].describe()"
   ]
  },
  {
   "cell_type": "code",
   "execution_count": 23,
   "id": "a04abfd5",
   "metadata": {},
   "outputs": [
    {
     "data": {
      "text/plain": [
       "0.11075000000000002"
      ]
     },
     "execution_count": 23,
     "metadata": {},
     "output_type": "execute_result"
    }
   ],
   "source": [
    "1 - data.shape[0]/24000"
   ]
  },
  {
   "cell_type": "code",
   "execution_count": 24,
   "id": "19f8c3e0",
   "metadata": {},
   "outputs": [
    {
     "data": {
      "text/plain": [
       "0.09945567323515758"
      ]
     },
     "execution_count": 24,
     "metadata": {},
     "output_type": "execute_result"
    }
   ],
   "source": [
    "1 - data.shape[0]/23699"
   ]
  },
  {
   "cell_type": "code",
   "execution_count": 25,
   "id": "de6c4322",
   "metadata": {},
   "outputs": [
    {
     "data": {
      "text/plain": [
       "count   21342.00\n",
       "mean       60.71\n",
       "std        35.02\n",
       "min        14.00\n",
       "25%        40.56\n",
       "50%        52.39\n",
       "75%        70.00\n",
       "max       900.00\n",
       "Name: total_area, dtype: float64"
      ]
     },
     "metadata": {},
     "output_type": "display_data"
    }
   ],
   "source": [
    "display(data['total_area'].describe())"
   ]
  },
  {
   "cell_type": "code",
   "execution_count": 26,
   "id": "6fa419d4",
   "metadata": {},
   "outputs": [
    {
     "data": {
      "text/plain": [
       "count   21342.00\n",
       "mean        2.10\n",
       "std         1.06\n",
       "min         1.00\n",
       "25%         1.00\n",
       "50%         2.00\n",
       "75%         3.00\n",
       "max        19.00\n",
       "Name: rooms, dtype: float64"
      ]
     },
     "metadata": {},
     "output_type": "display_data"
    }
   ],
   "source": [
    "display(data['rooms'].describe())"
   ]
  },
  {
   "cell_type": "code",
   "execution_count": 27,
   "id": "afe78eaf",
   "metadata": {},
   "outputs": [
    {
     "data": {
      "text/plain": [
       "count   21342.00\n",
       "mean        0.63\n",
       "std         0.98\n",
       "min         0.00\n",
       "25%         0.00\n",
       "50%         0.00\n",
       "75%         1.00\n",
       "max         5.00\n",
       "Name: balcony, dtype: float64"
      ]
     },
     "metadata": {},
     "output_type": "display_data"
    }
   ],
   "source": [
    "display(data['balcony'].describe())"
   ]
  },
  {
   "cell_type": "code",
   "execution_count": 28,
   "id": "e7eab6f5",
   "metadata": {},
   "outputs": [
    {
     "data": {
      "text/plain": [
       "<AxesSubplot:>"
      ]
     },
     "execution_count": 28,
     "metadata": {},
     "output_type": "execute_result"
    },
    {
     "data": {
      "image/png": "[encoded data removed]",
      "text/plain": [
       "<Figure size 432x288 with 1 Axes>"
      ]
     },
     "metadata": {
      "needs_background": "light"
     },
     "output_type": "display_data"
    }
   ],
   "source": [
    "data['total_images'].hist(bins=100)"
   ]
  },
  {
   "cell_type": "code",
   "execution_count": 29,
   "id": "808c1548",
   "metadata": {},
   "outputs": [
    {
     "data": {
      "text/plain": [
       "<AxesSubplot:>"
      ]
     },
     "execution_count": 29,
     "metadata": {},
     "output_type": "execute_result"
    },
    {
     "data": {
      "image/png": "[encoded data removed]",
      "text/plain": [
       "<Figure size 432x288 with 1 Axes>"
      ]
     },
     "metadata": {
      "needs_background": "light"
     },
     "output_type": "display_data"
    }
   ],
   "source": [
    "data['total_area'].hist()"
   ]
  },
  {
   "cell_type": "code",
   "execution_count": 30,
   "id": "3fc30600",
   "metadata": {},
   "outputs": [
    {
     "data": {
      "text/plain": [
       "<AxesSubplot:>"
      ]
     },
     "execution_count": 30,
     "metadata": {},
     "output_type": "execute_result"
    },
    {
     "data": {
      "image/png": "[encoded data removed]",
      "text/plain": [
       "<Figure size 432x288 with 1 Axes>"
      ]
     },
     "metadata": {
      "needs_background": "light"
     },
     "output_type": "display_data"
    }
   ],
   "source": [
    "data['rooms'].hist(bins=100)"
   ]
  },
  {
   "cell_type": "code",
   "execution_count": 31,
   "id": "644ee584",
   "metadata": {},
   "outputs": [
    {
     "data": {
      "text/plain": [
       "<AxesSubplot:>"
      ]
     },
     "execution_count": 31,
     "metadata": {},
     "output_type": "execute_result"
    },
    {
     "data": {
      "image/png": "[encoded data removed]",
      "text/plain": [
       "<Figure size 432x288 with 1 Axes>"
      ]
     },
     "metadata": {
      "needs_background": "light"
     },
     "output_type": "display_data"
    }
   ],
   "source": [
    "data['ceiling_height'].hist(bins=20)"
   ]
  },
  {
   "cell_type": "code",
   "execution_count": 32,
   "id": "a3af2818",
   "metadata": {},
   "outputs": [
    {
     "data": {
      "text/plain": [
       "<AxesSubplot:>"
      ]
     },
     "execution_count": 32,
     "metadata": {},
     "output_type": "execute_result"
    },
    {
     "data": {
      "image/png": "[encoded data removed]",
      "text/plain": [
       "<Figure size 432x288 with 1 Axes>"
      ]
     },
     "metadata": {
      "needs_background": "light"
     },
     "output_type": "display_data"
    }
   ],
   "source": [
    "data['living_area'].hist(bins=100, range=(0, 200))"
   ]
  },
  {
   "cell_type": "code",
   "execution_count": 33,
   "id": "0447d024",
   "metadata": {},
   "outputs": [
    {
     "data": {
      "text/plain": [
       "<AxesSubplot:>"
      ]
     },
     "execution_count": 33,
     "metadata": {},
     "output_type": "execute_result"
    },
    {
     "data": {
      "image/png": "[encoded data removed]",
      "text/plain": [
       "<Figure size 432x288 with 1 Axes>"
      ]
     },
     "metadata": {
      "needs_background": "light"
     },
     "output_type": "display_data"
    }
   ],
   "source": [
    "data['floor'].hist(bins=100)"
   ]
  },
  {
   "cell_type": "code",
   "execution_count": 34,
   "id": "8075bdd2",
   "metadata": {},
   "outputs": [
    {
     "data": {
      "text/plain": [
       "count   21342.00\n",
       "mean       10.59\n",
       "std         6.53\n",
       "min         1.00\n",
       "25%         5.00\n",
       "50%         9.00\n",
       "75%        15.00\n",
       "max        60.00\n",
       "Name: floors_total, dtype: float64"
      ]
     },
     "metadata": {},
     "output_type": "display_data"
    },
    {
     "name": "stdout",
     "output_type": "stream",
     "text": [
      "Топовые значения:  5\n"
     ]
    },
    {
     "data": {
      "image/png": "[encoded data removed]",
      "text/plain": [
       "<Figure size 432x288 with 1 Axes>"
      ]
     },
     "metadata": {
      "needs_background": "light"
     },
     "output_type": "display_data"
    }
   ],
   "source": [
    "data['floors_total'].hist(bins=100)\n",
    "display(data['floors_total'].describe())\n",
    "\n",
    "top_total_floors = data['floors_total'].value_counts().idxmax()\n",
    "print('Топовые значения: ', top_total_floors)"
   ]
  },
  {
   "cell_type": "code",
   "execution_count": 35,
   "id": "e1a337a9",
   "metadata": {
    "scrolled": true
   },
   "outputs": [
    {
     "data": {
      "text/plain": [
       "count   21342.00\n",
       "mean       10.56\n",
       "std         5.90\n",
       "min         2.00\n",
       "25%         7.00\n",
       "50%         9.10\n",
       "75%        12.00\n",
       "max       112.00\n",
       "Name: kitchen_area, dtype: float64"
      ]
     },
     "metadata": {},
     "output_type": "display_data"
    },
    {
     "data": {
      "text/plain": [
       "<AxesSubplot:>"
      ]
     },
     "execution_count": 35,
     "metadata": {},
     "output_type": "execute_result"
    },
    {
     "data": {
      "image/png": "[encoded data removed]",
      "text/plain": [
       "<Figure size 432x288 with 1 Axes>"
      ]
     },
     "metadata": {
      "needs_background": "light"
     },
     "output_type": "display_data"
    }
   ],
   "source": [
    "display(data['kitchen_area'].describe())\n",
    "data['kitchen_area'].hist(bins=50, range=(0, 100))"
   ]
  },
  {
   "cell_type": "code",
   "execution_count": 36,
   "id": "e13f41a0",
   "metadata": {
    "scrolled": true
   },
   "outputs": [
    {
     "data": {
      "text/plain": [
       "<AxesSubplot:>"
      ]
     },
     "execution_count": 36,
     "metadata": {},
     "output_type": "execute_result"
    },
    {
     "data": {
      "image/png": "[encoded data removed]",
      "text/plain": [
       "<Figure size 432x288 with 1 Axes>"
      ]
     },
     "metadata": {
      "needs_background": "light"
     },
     "output_type": "display_data"
    }
   ],
   "source": [
    "data['balcony'].hist(bins=10)"
   ]
  },
  {
   "cell_type": "code",
   "execution_count": 37,
   "id": "1cf03f39",
   "metadata": {},
   "outputs": [
    {
     "data": {
      "text/plain": [
       "count               21342\n",
       "unique                287\n",
       "top       Санкт-Петербург\n",
       "freq                14307\n",
       "Name: locality_name, dtype: object"
      ]
     },
     "execution_count": 37,
     "metadata": {},
     "output_type": "execute_result"
    }
   ],
   "source": [
    "data['locality_name'].describe()"
   ]
  },
  {
   "cell_type": "code",
   "execution_count": 38,
   "id": "29723843",
   "metadata": {},
   "outputs": [
    {
     "data": {
      "text/plain": [
       "0.09945567323515758"
      ]
     },
     "execution_count": 38,
     "metadata": {},
     "output_type": "execute_result"
    }
   ],
   "source": [
    "1 - data.shape[0]/23699"
   ]
  },
  {
   "cell_type": "markdown",
   "id": "0eeb5d5d",
   "metadata": {},
   "source": [
    "**Вывод.**\n",
    "По построенным выше графикам, можно сделать вывод, что чаще всего в столбцах встречаются следующие значения:\n",
    "- `total_images` - 10 (фотографий);\n",
    "- `total_area` - 100 (кв. м.);\n",
    "- `rooms` - 2 (комнат)\n",
    "- `ceiling_height` - больше 2 \n",
    "- `living_area` - до 25\n",
    "- `floor` - 2\n",
    "- `floors_total` - 5\n",
    "- `kitchen_area` - до 20\n",
    "- `balcony` - 0\n",
    "- `locality_name` - `Санкт-Петербург`"
   ]
  },
  {
   "cell_type": "code",
   "execution_count": 39,
   "id": "247e7706",
   "metadata": {
    "scrolled": true
   },
   "outputs": [
    {
     "data": {
      "image/png": "[encoded data removed]",
      "text/plain": [
       "<Figure size 432x288 with 1 Axes>"
      ]
     },
     "metadata": {
      "needs_background": "light"
     },
     "output_type": "display_data"
    },
    {
     "name": "stdout",
     "output_type": "stream",
     "text": [
      "Вывод:\n",
      "Среднее время продажи квартир: 173.81449723549807 дней\n",
      "Медианное время продажи квартир: 102.0 дней\n"
     ]
    }
   ],
   "source": [
    "data['days_exposition'].hist(bins=20)\n",
    "plt.xlabel('Дни продажи')\n",
    "plt.ylabel('Количество объявлений')\n",
    "plt.title('Гистограмма времени продажи квартир')\n",
    "plt.show()\n",
    "\n",
    "mean_days = data['days_exposition'].mean()\n",
    "median_days = data['days_exposition'].median()\n",
    "\n",
    "print(\"Вывод:\")\n",
    "print(f\"Среднее время продажи квартир: {mean_days} дней\")\n",
    "print(f\"Медианное время продажи квартир: {median_days} дней\")\n"
   ]
  },
  {
   "cell_type": "markdown",
   "id": "b0b1017f",
   "metadata": {},
   "source": [
    "**Вывод**\n",
    "\n",
    "1. Среднее время продажи квартир составляет `173.8` дней\n",
    "2. Медианное время продажи квартир составляет `102` дней"
   ]
  },
  {
   "cell_type": "code",
   "execution_count": 40,
   "id": "12812cd4",
   "metadata": {},
   "outputs": [
    {
     "data": {
      "image/png": "[encoded data removed]",
      "text/plain": [
       "<Figure size 432x288 with 1 Axes>"
      ]
     },
     "metadata": {
      "needs_background": "light"
     },
     "output_type": "display_data"
    },
    {
     "name": "stdout",
     "output_type": "stream",
     "text": [
      "0.6973183822494969\n"
     ]
    },
    {
     "data": {
      "image/png": "[encoded data removed]",
      "text/plain": [
       "<Figure size 432x288 with 1 Axes>"
      ]
     },
     "metadata": {
      "needs_background": "light"
     },
     "output_type": "display_data"
    },
    {
     "name": "stdout",
     "output_type": "stream",
     "text": [
      "0.5875513733561022\n"
     ]
    },
    {
     "data": {
      "image/png": "[encoded data removed]",
      "text/plain": [
       "<Figure size 432x288 with 1 Axes>"
      ]
     },
     "metadata": {
      "needs_background": "light"
     },
     "output_type": "display_data"
    },
    {
     "name": "stdout",
     "output_type": "stream",
     "text": [
      "0.5203752059851694\n"
     ]
    },
    {
     "data": {
      "image/png": "[encoded data removed]",
      "text/plain": [
       "<Figure size 432x288 with 1 Axes>"
      ]
     },
     "metadata": {
      "needs_background": "light"
     },
     "output_type": "display_data"
    },
    {
     "name": "stdout",
     "output_type": "stream",
     "text": [
      "0.39102329260286617\n"
     ]
    },
    {
     "data": {
      "image/png": "[encoded data removed]",
      "text/plain": [
       "<Figure size 432x288 with 1 Axes>"
      ]
     },
     "metadata": {
      "needs_background": "light"
     },
     "output_type": "display_data"
    },
    {
     "data": {
      "image/png": "[encoded data removed]",
      "text/plain": [
       "<Figure size 432x288 with 1 Axes>"
      ]
     },
     "metadata": {
      "needs_background": "light"
     },
     "output_type": "display_data"
    },
    {
     "name": "stdout",
     "output_type": "stream",
     "text": [
      "-0.00572021069700779\n"
     ]
    },
    {
     "data": {
      "image/png": "[encoded data removed]",
      "text/plain": [
       "<Figure size 432x288 with 1 Axes>"
      ]
     },
     "metadata": {
      "needs_background": "light"
     },
     "output_type": "display_data"
    },
    {
     "name": "stdout",
     "output_type": "stream",
     "text": [
      "-0.0008105907573121281\n"
     ]
    },
    {
     "data": {
      "image/png": "[encoded data removed]",
      "text/plain": [
       "<Figure size 432x288 with 1 Axes>"
      ]
     },
     "metadata": {
      "needs_background": "light"
     },
     "output_type": "display_data"
    },
    {
     "name": "stdout",
     "output_type": "stream",
     "text": [
      "-0.04035449076442375\n"
     ]
    }
   ],
   "source": [
    "data['total_area'].corr(data['last_price'])\n",
    "data.plot(x='total_area', y='last_price', kind='scatter', title='Общая площадь', grid=True, alpha=0.7)\n",
    "plt.show()\n",
    "print(data['total_area'].corr(data['last_price']))\n",
    "\n",
    "data.plot(x='living_area', y='last_price', kind='scatter', title='Жилая площадь', grid=True, alpha=0.7)\n",
    "plt.show()\n",
    "print(data['living_area'].corr(data['last_price']))\n",
    "\n",
    "data.plot(x='kitchen_area', y='last_price', kind='scatter', title='Площадь кухни', grid=True, alpha=0.7)\n",
    "plt.show()\n",
    "print(data['kitchen_area'].corr(data['last_price']))\n",
    "\n",
    "data.plot(x='rooms', y='last_price', kind='scatter', title='Количество комнат', grid=True, alpha=0.7)\n",
    "plt.show()\n",
    "print(data['rooms'].corr(data['last_price']))\n",
    "\n",
    "data.plot(x='floor_type', y='last_price', kind='scatter', title='Тип этажа', grid=True, alpha=0.7)\n",
    "plt.show()\n",
    "# print(data['floor_type'].corr(data['last_price']))\n",
    "\n",
    "data.plot(x='day_of_week', y='last_price', kind='scatter', title='День рамещения', grid=True, alpha=0.7)\n",
    "plt.show()\n",
    "print(data['day_of_week'].corr(data['last_price']))\n",
    "\n",
    "data.plot(x='month_of_exposition', y='last_price', kind='scatter', title='Месяц размещения', grid=True, alpha=0.7)\n",
    "plt.show()\n",
    "print(data['month_of_exposition'].corr(data['last_price']))\n",
    "\n",
    "data.plot(x='year_of_exposition', y='last_price', kind='scatter', title='Год размещения', grid=True, alpha=0.7)\n",
    "plt.show()\n",
    "print(data['year_of_exposition'].corr(data['last_price']))\n",
    "\n"
   ]
  },
  {
   "cell_type": "code",
   "execution_count": 41,
   "id": "e16a31e8",
   "metadata": {},
   "outputs": [
    {
     "data": {
      "text/plain": [
       "<AxesSubplot:title={'center':'Год размещения'}, xlabel='year_of_exposition'>"
      ]
     },
     "execution_count": 41,
     "metadata": {},
     "output_type": "execute_result"
    },
    {
     "data": {
      "image/png": "[encoded data removed]",
      "text/plain": [
       "<Figure size 432x288 with 1 Axes>"
      ]
     },
     "metadata": {
      "needs_background": "light"
     },
     "output_type": "display_data"
    },
    {
     "data": {
      "image/png": "[encoded data removed]",
      "text/plain": [
       "<Figure size 432x288 with 1 Axes>"
      ]
     },
     "metadata": {
      "needs_background": "light"
     },
     "output_type": "display_data"
    },
    {
     "data": {
      "image/png": "[encoded data removed]",
      "text/plain": [
       "<Figure size 432x288 with 1 Axes>"
      ]
     },
     "metadata": {
      "needs_background": "light"
     },
     "output_type": "display_data"
    },
    {
     "data": {
      "image/png": "[encoded data removed]",
      "text/plain": [
       "<Figure size 432x288 with 1 Axes>"
      ]
     },
     "metadata": {
      "needs_background": "light"
     },
     "output_type": "display_data"
    },
    {
     "data": {
      "image/png": "[encoded data removed]",
      "text/plain": [
       "<Figure size 432x288 with 1 Axes>"
      ]
     },
     "metadata": {
      "needs_background": "light"
     },
     "output_type": "display_data"
    },
    {
     "data": {
      "image/png": "[encoded data removed]",
      "text/plain": [
       "<Figure size 432x288 with 1 Axes>"
      ]
     },
     "metadata": {
      "needs_background": "light"
     },
     "output_type": "display_data"
    },
    {
     "data": {
      "image/png": "[encoded data removed]",
      "text/plain": [
       "<Figure size 432x288 with 1 Axes>"
      ]
     },
     "metadata": {
      "needs_background": "light"
     },
     "output_type": "display_data"
    },
    {
     "data": {
      "image/png": "[encoded data removed]",
      "text/plain": [
       "<Figure size 432x288 with 1 Axes>"
      ]
     },
     "metadata": {
      "needs_background": "light"
     },
     "output_type": "display_data"
    }
   ],
   "source": [
    "pivot_total_area = data.pivot_table(index='total_area', values='last_price', aggfunc='mean')\n",
    "pivot_living_area = data.pivot_table(index='living_area', values='last_price', aggfunc='mean') \n",
    "pivot_kitchen_area = data.pivot_table(index='kitchen_area', values='last_price', aggfunc='mean')\n",
    "pivot_rooms = data.pivot_table(index='rooms', values='last_price', aggfunc='mean')\n",
    "pivot_floor_type = data.pivot_table(index='floor_type', values='last_price', aggfunc='mean')\n",
    "pivot_day_of_week = data.pivot_table(index='day_of_week', values='last_price', aggfunc='mean')\n",
    "pivot_month_of_exposition = data.pivot_table(index='month_of_exposition', values='last_price', aggfunc='mean')\n",
    "pivot_year_of_exposition = data.pivot_table(index='year_of_exposition', values='last_price', aggfunc='mean')\n",
    "\n",
    "pivot_total_area.plot(kind='line', title='Общая площадь', grid=True)\n",
    "pivot_living_area.plot(kind='line', title='Жилая площадь', grid=True)\n",
    "pivot_kitchen_area.plot(kind='line', title='Площадь кухни', grid=True)\n",
    "pivot_rooms.plot(kind='bar', title='Количество комнат', grid=True)\n",
    "pivot_floor_type.plot(kind='bar', title='Тип этажа', grid=True)\n",
    "pivot_day_of_week.plot(kind='bar', title='День недели размещения', grid=True)\n",
    "pivot_month_of_exposition.plot(kind='bar', title='Месяц размещения', grid=True)\n",
    "pivot_year_of_exposition.plot(kind='bar', title='Год размещения', grid=True)\n"
   ]
  },
  {
   "cell_type": "markdown",
   "id": "1842eb0c",
   "metadata": {},
   "source": [
    "**Вывод**\n",
    "\n",
    "На общую цену квартиры больше всего влияет:\n",
    "1. Общая площадь квартиры\n",
    "2. Количество комнат"
   ]
  },
  {
   "cell_type": "code",
   "execution_count": 42,
   "id": "0a2e4cbe",
   "metadata": {},
   "outputs": [
    {
     "name": "stdout",
     "output_type": "stream",
     "text": [
      "Самый высокий: Санкт-Петербург = 123167.01\n",
      "Самый низкий: Выборг = 58167.183\n"
     ]
    }
   ],
   "source": [
    "locality_counts = data['locality_name'].value_counts()\n",
    "\n",
    "top_10_localities = locality_counts.head(10)\n",
    "\n",
    "avg_price_per_sqm = data[data['locality_name'].isin(top_10_localities.index)]\n",
    "avg_price_per_sqm = avg_price_per_sqm.groupby('locality_name')[['last_price', 'total_area']].mean()\n",
    "avg_price_per_sqm['price_per_sqm'] = round(avg_price_per_sqm['last_price'] / avg_price_per_sqm['total_area'], 3)\n",
    "\n",
    "highest_price_loc_name = avg_price_per_sqm['price_per_sqm'].idxmax()\n",
    "lowest_price_loc_name =  avg_price_per_sqm['price_per_sqm'].idxmin()\n",
    "\n",
    "highest_price_locality = avg_price_per_sqm['price_per_sqm'].max()\n",
    "lowest_price_locality = avg_price_per_sqm['price_per_sqm'].min()\n",
    "\n",
    "print('Самый высокий:', highest_price_loc_name, '=', highest_price_locality)\n",
    "print('Самый низкий:', lowest_price_loc_name, '=', lowest_price_locality)\n"
   ]
  },
  {
   "cell_type": "markdown",
   "id": "508507c9",
   "metadata": {},
   "source": [
    "\n",
    "**Описание**\n",
    "\n",
    "Населенный пункт с самой высокой ценой за квадратный метр:\n",
    "- `Санкт-Петербург` с ценой `122619.8`\n",
    "\n",
    "Населенный пункт с самой низкой ценой за квадратный метр:\n",
    "- `Выборг` с ценой `57955.2`\n"
   ]
  },
  {
   "cell_type": "code",
   "execution_count": 44,
   "id": "409df5a1",
   "metadata": {},
   "outputs": [
    {
     "data": {
      "text/plain": [
       "city_centers_nearest\n",
       "0     150822.89\n",
       "181   195591.20\n",
       "208   172619.05\n",
       "215   109900.00\n",
       "287    88796.30\n",
       "Name: price_per_sqm, dtype: float64"
      ]
     },
     "execution_count": 44,
     "metadata": {},
     "output_type": "execute_result"
    }
   ],
   "source": [
    "spb_apartments = data[data['locality_name'] == 'Санкт-Петербург'].copy()\n",
    "\n",
    "spb_apartments.loc[:, 'dist_to_center_km'] = spb_apartments['city_centers_nearest'] / 1000\n",
    "\n",
    "avg_dist_price = spb_apartments.groupby('city_centers_nearest')['price_per_sqm'].mean()\n",
    "\n",
    "avg_dist_price.head()"
   ]
  },
  {
   "cell_type": "markdown",
   "id": "55fce9fe",
   "metadata": {},
   "source": [
    "\n",
    "**Вывод**\n",
    "\n",
    "Исходя из результатов выше проведенного анализа, можно сделать следующий вывод:\n",
    "\n",
    "Насколько ближе квартира к центру города, настолько дороже её стоимость\n"
   ]
  },
  {
   "cell_type": "markdown",
   "id": "d765c955",
   "metadata": {},
   "source": [
    "\n",
    "### Общий вывод"
   ]
  },
  {
   "cell_type": "markdown",
   "id": "7123a182",
   "metadata": {},
   "source": [
    "**Исходя из результатов анализа данных о прадажах квартир, можно сделать следующий вывод:**\n",
    "1. Расстояние до центра города, общая площадь квартиры и количество комнат влияет на цену квартиры\n",
    "2. Среднее время продажи квартир составило `156.5` дней, а медианное время продажи квартир составило `73` дней\n",
    "3. На общую стоимость квартиры больше всего влияет:\n",
    "- Общая площадь квартиры\n",
    "- Количество комнат\n",
    "4. Населенный пунтк с самой высокой ценой за квадратный метр является `Санкт-Петербург` с ценой `122619.8`\n",
    "5. Населенный пункт с самой низкой ценой за квадратный метр `Выборг` с ценой `57955.2`\n"
   ]
  },
  {
   "cell_type": "code",
   "execution_count": null,
   "id": "cd8fc3c5",
   "metadata": {},
   "outputs": [],
   "source": []
  }
 ],
 "metadata": {
  "ExecuteTimeLog": [
   {
    "duration": 827,
    "start_time": "2024-04-27T17:40:13.729Z"
   },
   {
    "duration": 255,
    "start_time": "2024-04-27T17:40:14.558Z"
   },
   {
    "duration": 4,
    "start_time": "2024-04-27T17:40:14.815Z"
   },
   {
    "duration": 41,
    "start_time": "2024-04-27T17:40:14.821Z"
   },
   {
    "duration": 27,
    "start_time": "2024-04-27T17:40:14.865Z"
   },
   {
    "duration": 7,
    "start_time": "2024-04-27T17:40:14.894Z"
   },
   {
    "duration": 3,
    "start_time": "2024-04-27T17:40:14.903Z"
   },
   {
    "duration": 7,
    "start_time": "2024-04-27T17:40:14.909Z"
   },
   {
    "duration": 13,
    "start_time": "2024-04-27T17:40:14.917Z"
   },
   {
    "duration": 13,
    "start_time": "2024-04-27T17:40:14.933Z"
   },
   {
    "duration": 10,
    "start_time": "2024-04-27T17:40:14.948Z"
   },
   {
    "duration": 5,
    "start_time": "2024-04-27T17:40:14.960Z"
   },
   {
    "duration": 7,
    "start_time": "2024-04-27T17:40:14.966Z"
   },
   {
    "duration": 4,
    "start_time": "2024-04-27T17:40:14.974Z"
   },
   {
    "duration": 68,
    "start_time": "2024-04-27T17:40:14.980Z"
   },
   {
    "duration": 180,
    "start_time": "2024-04-27T17:40:15.050Z"
   },
   {
    "duration": 23,
    "start_time": "2024-04-27T17:40:15.232Z"
   },
   {
    "duration": 10,
    "start_time": "2024-04-27T17:40:15.257Z"
   },
   {
    "duration": 443,
    "start_time": "2024-04-27T17:40:15.269Z"
   },
   {
    "duration": 20,
    "start_time": "2024-04-27T17:40:15.714Z"
   },
   {
    "duration": 1482,
    "start_time": "2024-04-27T17:40:15.736Z"
   },
   {
    "duration": 11,
    "start_time": "2024-04-27T17:40:17.219Z"
   },
   {
    "duration": 11,
    "start_time": "2024-04-27T17:40:17.231Z"
   },
   {
    "duration": 14,
    "start_time": "2024-04-27T17:40:17.244Z"
   },
   {
    "duration": 8,
    "start_time": "2024-04-27T17:40:17.260Z"
   },
   {
    "duration": 16,
    "start_time": "2024-04-27T17:40:17.269Z"
   },
   {
    "duration": 16,
    "start_time": "2024-04-27T17:40:17.287Z"
   },
   {
    "duration": 32,
    "start_time": "2024-04-27T17:40:17.306Z"
   },
   {
    "duration": 20,
    "start_time": "2024-04-27T17:40:17.339Z"
   },
   {
    "duration": 14,
    "start_time": "2024-04-27T17:40:17.361Z"
   },
   {
    "duration": 24,
    "start_time": "2024-04-27T17:40:17.376Z"
   },
   {
    "duration": 19,
    "start_time": "2024-04-27T17:40:17.402Z"
   },
   {
    "duration": 7,
    "start_time": "2024-04-27T17:40:17.422Z"
   },
   {
    "duration": 18,
    "start_time": "2024-04-27T17:40:17.431Z"
   },
   {
    "duration": 301,
    "start_time": "2024-04-27T17:40:17.451Z"
   },
   {
    "duration": 158,
    "start_time": "2024-04-27T17:40:17.754Z"
   },
   {
    "duration": 260,
    "start_time": "2024-04-27T17:40:17.913Z"
   },
   {
    "duration": 165,
    "start_time": "2024-04-27T17:40:18.175Z"
   },
   {
    "duration": 322,
    "start_time": "2024-04-27T17:40:18.342Z"
   },
   {
    "duration": 257,
    "start_time": "2024-04-27T17:40:18.666Z"
   },
   {
    "duration": 270,
    "start_time": "2024-04-27T17:40:18.925Z"
   },
   {
    "duration": 199,
    "start_time": "2024-04-27T17:40:19.197Z"
   },
   {
    "duration": 151,
    "start_time": "2024-04-27T17:40:19.398Z"
   },
   {
    "duration": 10,
    "start_time": "2024-04-27T17:40:19.550Z"
   },
   {
    "duration": 6,
    "start_time": "2024-04-27T17:40:19.562Z"
   },
   {
    "duration": 201,
    "start_time": "2024-04-27T17:40:19.570Z"
   },
   {
    "duration": 1587,
    "start_time": "2024-04-27T17:40:19.773Z"
   },
   {
    "duration": 1311,
    "start_time": "2024-04-27T17:40:21.362Z"
   },
   {
    "duration": 19,
    "start_time": "2024-04-27T17:40:22.675Z"
   },
   {
    "duration": 14,
    "start_time": "2024-04-27T17:40:22.695Z"
   },
   {
    "duration": 661,
    "start_time": "2024-04-27T17:46:32.598Z"
   },
   {
    "duration": 117,
    "start_time": "2024-04-27T17:46:33.261Z"
   },
   {
    "duration": 4,
    "start_time": "2024-04-27T17:46:33.380Z"
   },
   {
    "duration": 11,
    "start_time": "2024-04-27T17:46:33.386Z"
   },
   {
    "duration": 33,
    "start_time": "2024-04-27T17:46:33.399Z"
   },
   {
    "duration": 5,
    "start_time": "2024-04-27T17:46:33.434Z"
   },
   {
    "duration": 18,
    "start_time": "2024-04-27T17:46:33.441Z"
   },
   {
    "duration": 23,
    "start_time": "2024-04-27T17:46:33.460Z"
   },
   {
    "duration": 40,
    "start_time": "2024-04-27T17:46:33.484Z"
   },
   {
    "duration": 20,
    "start_time": "2024-04-27T17:46:33.528Z"
   },
   {
    "duration": 23,
    "start_time": "2024-04-27T17:46:33.550Z"
   },
   {
    "duration": 8,
    "start_time": "2024-04-27T17:46:33.575Z"
   },
   {
    "duration": 19,
    "start_time": "2024-04-27T17:46:33.585Z"
   },
   {
    "duration": 4,
    "start_time": "2024-04-27T17:46:33.605Z"
   },
   {
    "duration": 40,
    "start_time": "2024-04-27T17:46:33.610Z"
   },
   {
    "duration": 169,
    "start_time": "2024-04-27T17:46:33.652Z"
   },
   {
    "duration": 26,
    "start_time": "2024-04-27T17:46:33.822Z"
   },
   {
    "duration": 9,
    "start_time": "2024-04-27T17:46:33.849Z"
   },
   {
    "duration": 440,
    "start_time": "2024-04-27T17:46:33.859Z"
   },
   {
    "duration": 9,
    "start_time": "2024-04-27T17:46:34.301Z"
   },
   {
    "duration": 1483,
    "start_time": "2024-04-27T17:46:34.312Z"
   },
   {
    "duration": 8,
    "start_time": "2024-04-27T17:46:35.797Z"
   },
   {
    "duration": 28,
    "start_time": "2024-04-27T17:46:35.807Z"
   },
   {
    "duration": 24,
    "start_time": "2024-04-27T17:46:35.837Z"
   },
   {
    "duration": 18,
    "start_time": "2024-04-27T17:46:35.862Z"
   },
   {
    "duration": 11,
    "start_time": "2024-04-27T17:46:35.882Z"
   },
   {
    "duration": 19,
    "start_time": "2024-04-27T17:46:35.894Z"
   },
   {
    "duration": 264,
    "start_time": "2024-04-27T17:46:35.917Z"
   },
   {
    "duration": 142,
    "start_time": "2024-04-27T17:46:36.183Z"
   },
   {
    "duration": 259,
    "start_time": "2024-04-27T17:46:36.326Z"
   },
   {
    "duration": 176,
    "start_time": "2024-04-27T17:46:36.587Z"
   },
   {
    "duration": 360,
    "start_time": "2024-04-27T17:46:36.765Z"
   },
   {
    "duration": 252,
    "start_time": "2024-04-27T17:46:37.126Z"
   },
   {
    "duration": 266,
    "start_time": "2024-04-27T17:46:37.380Z"
   },
   {
    "duration": 195,
    "start_time": "2024-04-27T17:46:37.648Z"
   },
   {
    "duration": 135,
    "start_time": "2024-04-27T17:46:37.844Z"
   },
   {
    "duration": 10,
    "start_time": "2024-04-27T17:46:37.981Z"
   },
   {
    "duration": 6,
    "start_time": "2024-04-27T17:46:37.992Z"
   },
   {
    "duration": 204,
    "start_time": "2024-04-27T17:46:38.000Z"
   },
   {
    "duration": 1561,
    "start_time": "2024-04-27T17:46:38.206Z"
   },
   {
    "duration": 1307,
    "start_time": "2024-04-27T17:46:39.769Z"
   },
   {
    "duration": 20,
    "start_time": "2024-04-27T17:46:41.078Z"
   },
   {
    "duration": 31,
    "start_time": "2024-04-27T17:46:41.099Z"
   },
   {
    "duration": 3,
    "start_time": "2024-04-27T17:52:57.848Z"
   },
   {
    "duration": 19,
    "start_time": "2024-04-27T17:53:01.953Z"
   },
   {
    "duration": 13,
    "start_time": "2024-04-27T17:53:08.328Z"
   },
   {
    "duration": 668,
    "start_time": "2024-04-27T17:53:16.718Z"
   },
   {
    "duration": 119,
    "start_time": "2024-04-27T17:53:17.387Z"
   },
   {
    "duration": 4,
    "start_time": "2024-04-27T17:53:17.507Z"
   },
   {
    "duration": 23,
    "start_time": "2024-04-27T17:53:17.513Z"
   },
   {
    "duration": 23,
    "start_time": "2024-04-27T17:53:17.538Z"
   },
   {
    "duration": 5,
    "start_time": "2024-04-27T17:53:17.563Z"
   },
   {
    "duration": 4,
    "start_time": "2024-04-27T17:53:17.570Z"
   },
   {
    "duration": 9,
    "start_time": "2024-04-27T17:53:17.575Z"
   },
   {
    "duration": 16,
    "start_time": "2024-04-27T17:53:17.585Z"
   },
   {
    "duration": 30,
    "start_time": "2024-04-27T17:53:17.604Z"
   },
   {
    "duration": 7,
    "start_time": "2024-04-27T17:53:17.636Z"
   },
   {
    "duration": 12,
    "start_time": "2024-04-27T17:53:17.645Z"
   },
   {
    "duration": 16,
    "start_time": "2024-04-27T17:53:17.659Z"
   },
   {
    "duration": 13,
    "start_time": "2024-04-27T17:53:17.676Z"
   },
   {
    "duration": 27,
    "start_time": "2024-04-27T17:53:17.691Z"
   },
   {
    "duration": 164,
    "start_time": "2024-04-27T17:53:17.720Z"
   },
   {
    "duration": 22,
    "start_time": "2024-04-27T17:53:17.886Z"
   },
   {
    "duration": 24,
    "start_time": "2024-04-27T17:53:17.910Z"
   },
   {
    "duration": 449,
    "start_time": "2024-04-27T17:53:17.936Z"
   },
   {
    "duration": 8,
    "start_time": "2024-04-27T17:53:18.386Z"
   },
   {
    "duration": 1425,
    "start_time": "2024-04-27T17:53:18.395Z"
   },
   {
    "duration": 9,
    "start_time": "2024-04-27T17:53:19.822Z"
   },
   {
    "duration": 11,
    "start_time": "2024-04-27T17:53:19.833Z"
   },
   {
    "duration": 15,
    "start_time": "2024-04-27T17:53:19.846Z"
   },
   {
    "duration": 11,
    "start_time": "2024-04-27T17:53:19.863Z"
   },
   {
    "duration": 8,
    "start_time": "2024-04-27T17:53:19.875Z"
   },
   {
    "duration": 23,
    "start_time": "2024-04-27T17:53:19.884Z"
   },
   {
    "duration": 259,
    "start_time": "2024-04-27T17:53:19.910Z"
   },
   {
    "duration": 149,
    "start_time": "2024-04-27T17:53:20.171Z"
   },
   {
    "duration": 258,
    "start_time": "2024-04-27T17:53:20.322Z"
   },
   {
    "duration": 171,
    "start_time": "2024-04-27T17:53:20.582Z"
   },
   {
    "duration": 335,
    "start_time": "2024-04-27T17:53:20.755Z"
   },
   {
    "duration": 281,
    "start_time": "2024-04-27T17:53:21.092Z"
   },
   {
    "duration": 254,
    "start_time": "2024-04-27T17:53:21.375Z"
   },
   {
    "duration": 187,
    "start_time": "2024-04-27T17:53:21.631Z"
   },
   {
    "duration": 137,
    "start_time": "2024-04-27T17:53:21.820Z"
   },
   {
    "duration": 10,
    "start_time": "2024-04-27T17:53:21.958Z"
   },
   {
    "duration": 6,
    "start_time": "2024-04-27T17:53:21.970Z"
   },
   {
    "duration": 195,
    "start_time": "2024-04-27T17:53:21.978Z"
   },
   {
    "duration": 1560,
    "start_time": "2024-04-27T17:53:22.174Z"
   },
   {
    "duration": 1299,
    "start_time": "2024-04-27T17:53:23.736Z"
   },
   {
    "duration": 20,
    "start_time": "2024-04-27T17:53:25.036Z"
   },
   {
    "duration": 7,
    "start_time": "2024-04-27T17:53:25.058Z"
   },
   {
    "duration": 18,
    "start_time": "2024-04-27T17:53:25.067Z"
   },
   {
    "duration": 18,
    "start_time": "2024-04-27T17:53:46.398Z"
   },
   {
    "duration": 16,
    "start_time": "2024-04-27T17:54:07.608Z"
   },
   {
    "duration": 649,
    "start_time": "2024-04-27T17:54:27.354Z"
   },
   {
    "duration": 116,
    "start_time": "2024-04-27T17:54:28.005Z"
   },
   {
    "duration": 7,
    "start_time": "2024-04-27T17:54:28.122Z"
   },
   {
    "duration": 15,
    "start_time": "2024-04-27T17:54:28.130Z"
   },
   {
    "duration": 27,
    "start_time": "2024-04-27T17:54:28.147Z"
   },
   {
    "duration": 5,
    "start_time": "2024-04-27T17:54:28.175Z"
   },
   {
    "duration": 19,
    "start_time": "2024-04-27T17:54:28.181Z"
   },
   {
    "duration": 11,
    "start_time": "2024-04-27T17:54:28.201Z"
   },
   {
    "duration": 1586,
    "start_time": "2024-04-27T17:54:30.257Z"
   },
   {
    "duration": 131,
    "start_time": "2024-04-27T17:54:31.845Z"
   },
   {
    "duration": 4,
    "start_time": "2024-04-27T17:54:31.977Z"
   },
   {
    "duration": 23,
    "start_time": "2024-04-27T17:54:31.983Z"
   },
   {
    "duration": 43,
    "start_time": "2024-04-27T17:54:32.008Z"
   },
   {
    "duration": 20,
    "start_time": "2024-04-27T17:54:32.053Z"
   },
   {
    "duration": 22,
    "start_time": "2024-04-27T17:54:32.074Z"
   },
   {
    "duration": 22,
    "start_time": "2024-04-27T17:54:32.097Z"
   },
   {
    "duration": 19,
    "start_time": "2024-04-27T17:54:32.121Z"
   },
   {
    "duration": 27,
    "start_time": "2024-04-27T17:54:32.143Z"
   },
   {
    "duration": 20,
    "start_time": "2024-04-27T17:54:32.171Z"
   },
   {
    "duration": 8,
    "start_time": "2024-04-27T17:54:32.193Z"
   },
   {
    "duration": 13,
    "start_time": "2024-04-27T17:54:32.202Z"
   },
   {
    "duration": 30,
    "start_time": "2024-04-27T17:54:32.216Z"
   },
   {
    "duration": 40,
    "start_time": "2024-04-27T17:54:32.248Z"
   },
   {
    "duration": 173,
    "start_time": "2024-04-27T17:54:32.290Z"
   },
   {
    "duration": 23,
    "start_time": "2024-04-27T17:54:32.465Z"
   },
   {
    "duration": 11,
    "start_time": "2024-04-27T17:54:32.490Z"
   },
   {
    "duration": 442,
    "start_time": "2024-04-27T17:54:32.502Z"
   },
   {
    "duration": 10,
    "start_time": "2024-04-27T17:54:32.946Z"
   },
   {
    "duration": 1483,
    "start_time": "2024-04-27T17:54:32.958Z"
   },
   {
    "duration": 8,
    "start_time": "2024-04-27T17:54:34.443Z"
   },
   {
    "duration": 11,
    "start_time": "2024-04-27T17:54:34.453Z"
   },
   {
    "duration": 25,
    "start_time": "2024-04-27T17:54:34.465Z"
   },
   {
    "duration": 40,
    "start_time": "2024-04-27T17:54:34.492Z"
   },
   {
    "duration": 39,
    "start_time": "2024-04-27T17:54:34.533Z"
   },
   {
    "duration": 65,
    "start_time": "2024-04-27T17:54:34.573Z"
   },
   {
    "duration": 316,
    "start_time": "2024-04-27T17:54:34.641Z"
   },
   {
    "duration": 152,
    "start_time": "2024-04-27T17:54:34.959Z"
   },
   {
    "duration": 271,
    "start_time": "2024-04-27T17:54:35.112Z"
   },
   {
    "duration": 169,
    "start_time": "2024-04-27T17:54:35.385Z"
   },
   {
    "duration": 337,
    "start_time": "2024-04-27T17:54:35.556Z"
   },
   {
    "duration": 252,
    "start_time": "2024-04-27T17:54:35.895Z"
   },
   {
    "duration": 254,
    "start_time": "2024-04-27T17:54:36.149Z"
   },
   {
    "duration": 198,
    "start_time": "2024-04-27T17:54:36.404Z"
   },
   {
    "duration": 157,
    "start_time": "2024-04-27T17:54:36.603Z"
   },
   {
    "duration": 10,
    "start_time": "2024-04-27T17:54:36.761Z"
   },
   {
    "duration": 5,
    "start_time": "2024-04-27T17:54:36.773Z"
   },
   {
    "duration": 201,
    "start_time": "2024-04-27T17:54:36.779Z"
   },
   {
    "duration": 1553,
    "start_time": "2024-04-27T17:54:36.981Z"
   },
   {
    "duration": 1288,
    "start_time": "2024-04-27T17:54:38.536Z"
   },
   {
    "duration": 19,
    "start_time": "2024-04-27T17:54:39.829Z"
   },
   {
    "duration": 2,
    "start_time": "2024-04-27T17:54:39.850Z"
   },
   {
    "duration": 19,
    "start_time": "2024-04-27T17:54:39.853Z"
   }
  ],
  "kernelspec": {
   "display_name": "Python 3 (ipykernel)",
   "language": "python",
   "name": "python3"
  },
  "language_info": {
   "codemirror_mode": {
    "name": "ipython",
    "version": 3
   },
   "file_extension": ".py",
   "mimetype": "text/x-python",
   "name": "python",
   "nbconvert_exporter": "python",
   "pygments_lexer": "ipython3",
   "version": "3.9.5"
  },
  "toc": {
   "base_numbering": 1,
   "nav_menu": {},
   "number_sections": true,
   "sideBar": true,
   "skip_h1_title": false,
   "title_cell": "Table of Contents",
   "title_sidebar": "Contents",
   "toc_cell": false,
   "toc_position": {},
   "toc_section_display": true,
   "toc_window_display": false
  }
 },
 "nbformat": 4,
 "nbformat_minor": 5
}
