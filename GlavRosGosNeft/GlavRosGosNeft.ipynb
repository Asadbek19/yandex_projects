{
 "cells": [
  {
   "cell_type": "markdown",
   "id": "05a2fb4f",
   "metadata": {},
   "source": [
    "# Выбор локации для скважины"
   ]
  },
  {
   "cell_type": "markdown",
   "id": "a94e58c6",
   "metadata": {},
   "source": [
    "Допустим, вы работаете в добывающей компании «ГлавРосГосНефть». Нужно решить, где бурить новую скважину.\n",
    "\n",
    "Вам предоставлены пробы нефти в трёх регионах: в каждом 10 000 месторождений, где измерили качество нефти и объём её запасов. Постройте модель машинного обучения, которая поможет определить регион, где добыча принесёт наибольшую прибыль. Проанализируйте возможную прибыль и риски техникой *Bootstrap.*\n",
    "\n",
    "Шаги для выбора локации:\n",
    "\n",
    "- В избранном регионе ищут месторождения, для каждого определяют значения признаков;\n",
    "- Строят модель и оценивают объём запасов;\n",
    "- Выбирают месторождения с самым высокими оценками значений. Количество месторождений зависит от бюджета компании и стоимости разработки одной скважины;\n",
    "- Прибыль равна суммарной прибыли отобранных месторождений."
   ]
  },
  {
   "cell_type": "markdown",
   "id": "bfb24ab7",
   "metadata": {},
   "source": [
    "## Загрузка и подготовка данных"
   ]
  },
  {
   "cell_type": "code",
   "execution_count": 1,
   "id": "928e6432",
   "metadata": {},
   "outputs": [],
   "source": [
    "# imports\n",
    "import pandas as pd\n",
    "import numpy as np\n",
    "import matplotlib.pyplot as plt\n",
    "import seaborn as sns\n",
    "\n",
    "from sklearn.model_selection import train_test_split\n",
    "from sklearn.linear_model import LinearRegression\n",
    "from sklearn.metrics import mean_squared_error\n",
    "from scipy import stats as st"
   ]
  },
  {
   "cell_type": "code",
   "execution_count": 2,
   "id": "f19f5a80",
   "metadata": {},
   "outputs": [],
   "source": [
    "try:\n",
    "    import prettytable\n",
    "except ImportError:\n",
    "    !pip install prettytable\n",
    "    import prettytable\n",
    "\n",
    "from prettytable import PrettyTable"
   ]
  },
  {
   "cell_type": "code",
   "execution_count": 3,
   "id": "135a86cf",
   "metadata": {},
   "outputs": [],
   "source": [
    "try:\n",
    "    geo_0 = pd.read_csv('https://code.s3.yandex.net/datasets/geo_data_0.csv')\n",
    "    geo_1 = pd.read_csv('https://code.s3.yandex.net/datasets/geo_data_1.csv')\n",
    "    geo_2 = pd.read_csv('https://code.s3.yandex.net/datasets/geo_data_2.csv')\n",
    "    \n",
    "except FileNotFoundError:\n",
    "    print(\"File not found\")"
   ]
  },
  {
   "cell_type": "code",
   "execution_count": 4,
   "id": "faea03df",
   "metadata": {},
   "outputs": [
    {
     "data": {
      "text/html": [
       "<div>\n",
       "<style scoped>\n",
       "    .dataframe tbody tr th:only-of-type {\n",
       "        vertical-align: middle;\n",
       "    }\n",
       "\n",
       "    .dataframe tbody tr th {\n",
       "        vertical-align: top;\n",
       "    }\n",
       "\n",
       "    .dataframe thead th {\n",
       "        text-align: right;\n",
       "    }\n",
       "</style>\n",
       "<table border=\"1\" class=\"dataframe\">\n",
       "  <thead>\n",
       "    <tr style=\"text-align: right;\">\n",
       "      <th></th>\n",
       "      <th>id</th>\n",
       "      <th>f0</th>\n",
       "      <th>f1</th>\n",
       "      <th>f2</th>\n",
       "      <th>product</th>\n",
       "    </tr>\n",
       "  </thead>\n",
       "  <tbody>\n",
       "    <tr>\n",
       "      <th>0</th>\n",
       "      <td>txEyH</td>\n",
       "      <td>0.705745</td>\n",
       "      <td>-0.497823</td>\n",
       "      <td>1.221170</td>\n",
       "      <td>105.280062</td>\n",
       "    </tr>\n",
       "    <tr>\n",
       "      <th>1</th>\n",
       "      <td>2acmU</td>\n",
       "      <td>1.334711</td>\n",
       "      <td>-0.340164</td>\n",
       "      <td>4.365080</td>\n",
       "      <td>73.037750</td>\n",
       "    </tr>\n",
       "    <tr>\n",
       "      <th>2</th>\n",
       "      <td>409Wp</td>\n",
       "      <td>1.022732</td>\n",
       "      <td>0.151990</td>\n",
       "      <td>1.419926</td>\n",
       "      <td>85.265647</td>\n",
       "    </tr>\n",
       "    <tr>\n",
       "      <th>3</th>\n",
       "      <td>iJLyR</td>\n",
       "      <td>-0.032172</td>\n",
       "      <td>0.139033</td>\n",
       "      <td>2.978566</td>\n",
       "      <td>168.620776</td>\n",
       "    </tr>\n",
       "    <tr>\n",
       "      <th>4</th>\n",
       "      <td>Xdl7t</td>\n",
       "      <td>1.988431</td>\n",
       "      <td>0.155413</td>\n",
       "      <td>4.751769</td>\n",
       "      <td>154.036647</td>\n",
       "    </tr>\n",
       "  </tbody>\n",
       "</table>\n",
       "</div>"
      ],
      "text/plain": [
       "      id        f0        f1        f2     product\n",
       "0  txEyH  0.705745 -0.497823  1.221170  105.280062\n",
       "1  2acmU  1.334711 -0.340164  4.365080   73.037750\n",
       "2  409Wp  1.022732  0.151990  1.419926   85.265647\n",
       "3  iJLyR -0.032172  0.139033  2.978566  168.620776\n",
       "4  Xdl7t  1.988431  0.155413  4.751769  154.036647"
      ]
     },
     "execution_count": 4,
     "metadata": {},
     "output_type": "execute_result"
    }
   ],
   "source": [
    "geo_0.head()"
   ]
  },
  {
   "cell_type": "code",
   "execution_count": 5,
   "id": "817ea9aa",
   "metadata": {},
   "outputs": [
    {
     "data": {
      "text/html": [
       "<div>\n",
       "<style scoped>\n",
       "    .dataframe tbody tr th:only-of-type {\n",
       "        vertical-align: middle;\n",
       "    }\n",
       "\n",
       "    .dataframe tbody tr th {\n",
       "        vertical-align: top;\n",
       "    }\n",
       "\n",
       "    .dataframe thead th {\n",
       "        text-align: right;\n",
       "    }\n",
       "</style>\n",
       "<table border=\"1\" class=\"dataframe\">\n",
       "  <thead>\n",
       "    <tr style=\"text-align: right;\">\n",
       "      <th></th>\n",
       "      <th>id</th>\n",
       "      <th>f0</th>\n",
       "      <th>f1</th>\n",
       "      <th>f2</th>\n",
       "      <th>product</th>\n",
       "    </tr>\n",
       "  </thead>\n",
       "  <tbody>\n",
       "    <tr>\n",
       "      <th>0</th>\n",
       "      <td>kBEdx</td>\n",
       "      <td>-15.001348</td>\n",
       "      <td>-8.276000</td>\n",
       "      <td>-0.005876</td>\n",
       "      <td>3.179103</td>\n",
       "    </tr>\n",
       "    <tr>\n",
       "      <th>1</th>\n",
       "      <td>62mP7</td>\n",
       "      <td>14.272088</td>\n",
       "      <td>-3.475083</td>\n",
       "      <td>0.999183</td>\n",
       "      <td>26.953261</td>\n",
       "    </tr>\n",
       "    <tr>\n",
       "      <th>2</th>\n",
       "      <td>vyE1P</td>\n",
       "      <td>6.263187</td>\n",
       "      <td>-5.948386</td>\n",
       "      <td>5.001160</td>\n",
       "      <td>134.766305</td>\n",
       "    </tr>\n",
       "    <tr>\n",
       "      <th>3</th>\n",
       "      <td>KcrkZ</td>\n",
       "      <td>-13.081196</td>\n",
       "      <td>-11.506057</td>\n",
       "      <td>4.999415</td>\n",
       "      <td>137.945408</td>\n",
       "    </tr>\n",
       "    <tr>\n",
       "      <th>4</th>\n",
       "      <td>AHL4O</td>\n",
       "      <td>12.702195</td>\n",
       "      <td>-8.147433</td>\n",
       "      <td>5.004363</td>\n",
       "      <td>134.766305</td>\n",
       "    </tr>\n",
       "  </tbody>\n",
       "</table>\n",
       "</div>"
      ],
      "text/plain": [
       "      id         f0         f1        f2     product\n",
       "0  kBEdx -15.001348  -8.276000 -0.005876    3.179103\n",
       "1  62mP7  14.272088  -3.475083  0.999183   26.953261\n",
       "2  vyE1P   6.263187  -5.948386  5.001160  134.766305\n",
       "3  KcrkZ -13.081196 -11.506057  4.999415  137.945408\n",
       "4  AHL4O  12.702195  -8.147433  5.004363  134.766305"
      ]
     },
     "execution_count": 5,
     "metadata": {},
     "output_type": "execute_result"
    }
   ],
   "source": [
    "geo_1.head()"
   ]
  },
  {
   "cell_type": "code",
   "execution_count": 6,
   "id": "dab069ed",
   "metadata": {},
   "outputs": [
    {
     "data": {
      "text/html": [
       "<div>\n",
       "<style scoped>\n",
       "    .dataframe tbody tr th:only-of-type {\n",
       "        vertical-align: middle;\n",
       "    }\n",
       "\n",
       "    .dataframe tbody tr th {\n",
       "        vertical-align: top;\n",
       "    }\n",
       "\n",
       "    .dataframe thead th {\n",
       "        text-align: right;\n",
       "    }\n",
       "</style>\n",
       "<table border=\"1\" class=\"dataframe\">\n",
       "  <thead>\n",
       "    <tr style=\"text-align: right;\">\n",
       "      <th></th>\n",
       "      <th>id</th>\n",
       "      <th>f0</th>\n",
       "      <th>f1</th>\n",
       "      <th>f2</th>\n",
       "      <th>product</th>\n",
       "    </tr>\n",
       "  </thead>\n",
       "  <tbody>\n",
       "    <tr>\n",
       "      <th>0</th>\n",
       "      <td>fwXo0</td>\n",
       "      <td>-1.146987</td>\n",
       "      <td>0.963328</td>\n",
       "      <td>-0.828965</td>\n",
       "      <td>27.758673</td>\n",
       "    </tr>\n",
       "    <tr>\n",
       "      <th>1</th>\n",
       "      <td>WJtFt</td>\n",
       "      <td>0.262778</td>\n",
       "      <td>0.269839</td>\n",
       "      <td>-2.530187</td>\n",
       "      <td>56.069697</td>\n",
       "    </tr>\n",
       "    <tr>\n",
       "      <th>2</th>\n",
       "      <td>ovLUW</td>\n",
       "      <td>0.194587</td>\n",
       "      <td>0.289035</td>\n",
       "      <td>-5.586433</td>\n",
       "      <td>62.871910</td>\n",
       "    </tr>\n",
       "    <tr>\n",
       "      <th>3</th>\n",
       "      <td>q6cA6</td>\n",
       "      <td>2.236060</td>\n",
       "      <td>-0.553760</td>\n",
       "      <td>0.930038</td>\n",
       "      <td>114.572842</td>\n",
       "    </tr>\n",
       "    <tr>\n",
       "      <th>4</th>\n",
       "      <td>WPMUX</td>\n",
       "      <td>-0.515993</td>\n",
       "      <td>1.716266</td>\n",
       "      <td>5.899011</td>\n",
       "      <td>149.600746</td>\n",
       "    </tr>\n",
       "  </tbody>\n",
       "</table>\n",
       "</div>"
      ],
      "text/plain": [
       "      id        f0        f1        f2     product\n",
       "0  fwXo0 -1.146987  0.963328 -0.828965   27.758673\n",
       "1  WJtFt  0.262778  0.269839 -2.530187   56.069697\n",
       "2  ovLUW  0.194587  0.289035 -5.586433   62.871910\n",
       "3  q6cA6  2.236060 -0.553760  0.930038  114.572842\n",
       "4  WPMUX -0.515993  1.716266  5.899011  149.600746"
      ]
     },
     "execution_count": 6,
     "metadata": {},
     "output_type": "execute_result"
    }
   ],
   "source": [
    "geo_2.head()"
   ]
  },
  {
   "cell_type": "code",
   "execution_count": null,
   "id": "4a01fdf0",
   "metadata": {},
   "outputs": [],
   "source": []
  },
  {
   "cell_type": "code",
   "execution_count": 7,
   "id": "e483c3e9",
   "metadata": {},
   "outputs": [
    {
     "data": {
      "text/plain": [
       "id         0\n",
       "f0         0\n",
       "f1         0\n",
       "f2         0\n",
       "product    0\n",
       "dtype: int64"
      ]
     },
     "metadata": {},
     "output_type": "display_data"
    },
    {
     "data": {
      "text/plain": [
       "id         0\n",
       "f0         0\n",
       "f1         0\n",
       "f2         0\n",
       "product    0\n",
       "dtype: int64"
      ]
     },
     "metadata": {},
     "output_type": "display_data"
    },
    {
     "data": {
      "text/plain": [
       "id         0\n",
       "f0         0\n",
       "f1         0\n",
       "f2         0\n",
       "product    0\n",
       "dtype: int64"
      ]
     },
     "execution_count": 7,
     "metadata": {},
     "output_type": "execute_result"
    }
   ],
   "source": [
    "display(geo_0.isna().sum())\n",
    "display(geo_1.isna().sum())\n",
    "geo_2.isna().sum()"
   ]
  },
  {
   "cell_type": "code",
   "execution_count": null,
   "id": "771c1050",
   "metadata": {},
   "outputs": [],
   "source": []
  },
  {
   "cell_type": "code",
   "execution_count": 8,
   "id": "2cd7473c",
   "metadata": {},
   "outputs": [
    {
     "data": {
      "text/plain": [
       "count    100000.000000\n",
       "mean         92.500000\n",
       "std          44.288691\n",
       "min           0.000000\n",
       "25%          56.497507\n",
       "50%          91.849972\n",
       "75%         128.564089\n",
       "max         185.364347\n",
       "Name: product, dtype: float64"
      ]
     },
     "execution_count": 8,
     "metadata": {},
     "output_type": "execute_result"
    }
   ],
   "source": [
    "geo_0['product'].describe()"
   ]
  },
  {
   "cell_type": "code",
   "execution_count": 9,
   "id": "b1e0c2ee",
   "metadata": {},
   "outputs": [
    {
     "data": {
      "text/plain": [
       "count    100000.000000\n",
       "mean         68.825000\n",
       "std          45.944423\n",
       "min           0.000000\n",
       "25%          26.953261\n",
       "50%          57.085625\n",
       "75%         107.813044\n",
       "max         137.945408\n",
       "Name: product, dtype: float64"
      ]
     },
     "execution_count": 9,
     "metadata": {},
     "output_type": "execute_result"
    }
   ],
   "source": [
    "geo_1['product'].describe()"
   ]
  },
  {
   "cell_type": "code",
   "execution_count": 10,
   "id": "b285a217",
   "metadata": {},
   "outputs": [
    {
     "data": {
      "text/plain": [
       "count    100000.000000\n",
       "mean         95.000000\n",
       "std          44.749921\n",
       "min           0.000000\n",
       "25%          59.450441\n",
       "50%          94.925613\n",
       "75%         130.595027\n",
       "max         190.029838\n",
       "Name: product, dtype: float64"
      ]
     },
     "execution_count": 10,
     "metadata": {},
     "output_type": "execute_result"
    }
   ],
   "source": [
    "geo_2['product'].describe()"
   ]
  },
  {
   "cell_type": "code",
   "execution_count": null,
   "id": "2ca6aa4f",
   "metadata": {},
   "outputs": [],
   "source": []
  },
  {
   "cell_type": "code",
   "execution_count": 11,
   "id": "1d0db5d7",
   "metadata": {},
   "outputs": [
    {
     "data": {
      "image/png": "[encoded data removed]",
      "text/plain": [
       "<Figure size 720x432 with 1 Axes>"
      ]
     },
     "metadata": {
      "needs_background": "light"
     },
     "output_type": "display_data"
    }
   ],
   "source": [
    "products_cols = pd.DataFrame({\n",
    "    'product_0': geo_0['product'],\n",
    "    'product_1': geo_1['product'],\n",
    "    'product_2': geo_2['product'],\n",
    "})\n",
    "\n",
    "# Построение графика boxplot\n",
    "plt.figure(figsize=(10, 6))\n",
    "products_cols.boxplot()\n",
    "plt.title('Boxplot для столбца product по всем датафреймам')\n",
    "plt.xlabel('Датафреймы')\n",
    "plt.ylabel('Значения product')\n",
    "plt.grid(True, color='black', linewidth=0.4)\n",
    "plt.show()"
   ]
  },
  {
   "cell_type": "code",
   "execution_count": null,
   "id": "7f50855c",
   "metadata": {},
   "outputs": [],
   "source": []
  },
  {
   "cell_type": "code",
   "execution_count": 12,
   "id": "2e88275d",
   "metadata": {},
   "outputs": [],
   "source": [
    "geo_0_no_id = geo_0.drop(columns=('id'))\n",
    "geo_1_no_id = geo_1.drop(columns=('id'))\n",
    "geo_2_no_id = geo_2.drop(columns=('id'))"
   ]
  },
  {
   "cell_type": "code",
   "execution_count": null,
   "id": "6354bfc7",
   "metadata": {},
   "outputs": [],
   "source": []
  },
  {
   "cell_type": "code",
   "execution_count": 13,
   "id": "4cc46837",
   "metadata": {},
   "outputs": [
    {
     "data": {
      "text/plain": [
       "id         100000\n",
       "f0         100000\n",
       "f1         100000\n",
       "f2         100000\n",
       "product    100000\n",
       "dtype: int64"
      ]
     },
     "execution_count": 13,
     "metadata": {},
     "output_type": "execute_result"
    }
   ],
   "source": [
    "geo_0.count()"
   ]
  },
  {
   "cell_type": "code",
   "execution_count": 14,
   "id": "20fae4ad",
   "metadata": {},
   "outputs": [
    {
     "data": {
      "text/plain": [
       "id         100000\n",
       "f0         100000\n",
       "f1         100000\n",
       "f2         100000\n",
       "product    100000\n",
       "dtype: int64"
      ]
     },
     "execution_count": 14,
     "metadata": {},
     "output_type": "execute_result"
    }
   ],
   "source": [
    "geo_1.count()"
   ]
  },
  {
   "cell_type": "code",
   "execution_count": 15,
   "id": "c1a419db",
   "metadata": {},
   "outputs": [
    {
     "data": {
      "text/plain": [
       "id         100000\n",
       "f0         100000\n",
       "f1         100000\n",
       "f2         100000\n",
       "product    100000\n",
       "dtype: int64"
      ]
     },
     "execution_count": 15,
     "metadata": {},
     "output_type": "execute_result"
    }
   ],
   "source": [
    "geo_2.count()"
   ]
  },
  {
   "cell_type": "code",
   "execution_count": null,
   "id": "71fbc86d",
   "metadata": {},
   "outputs": [],
   "source": []
  },
  {
   "cell_type": "markdown",
   "id": "4437825a",
   "metadata": {},
   "source": [
    "1. Необходимые библиотеки были импортированы для работы.\n",
    "2. Данные были загружены из трех источников:\n",
    "   - `geo_0` - https://code.s3.yandex.net/datasets/geo_data_0.csv\n",
    "   - `geo_1` - https://code.s3.yandex.net/datasets/geo_data_1.csv\n",
    "   - `geo_2` - https://code.s3.yandex.net/datasets/geo_data_2.csv\n",
    "3. Проведена проверка загруженных данных на наличие пропущенных значений и выбросы с использованием графиков boxplot.\n",
    "4. Объявлены переменные, в которых удалены столбцы `id` из исходных датафреймов:\n",
    "   - `geo_0_no_id`\n",
    "   - `geo_1_no_id`\n",
    "   - `geo_2_no_id`"
   ]
  },
  {
   "cell_type": "markdown",
   "id": "a0540306",
   "metadata": {},
   "source": [
    "## Обучение и проверка модели"
   ]
  },
  {
   "cell_type": "code",
   "execution_count": 16,
   "id": "185c1fdf",
   "metadata": {},
   "outputs": [],
   "source": [
    "RANDOM_STATE = 42\n",
    "TEST_SIZE = 0.25 "
   ]
  },
  {
   "cell_type": "code",
   "execution_count": 17,
   "id": "2bd28d5a",
   "metadata": {},
   "outputs": [
    {
     "data": {
      "text/plain": [
       "true_values    300000\n",
       "preds          300000\n",
       "dtype: int64"
      ]
     },
     "execution_count": 17,
     "metadata": {},
     "output_type": "execute_result"
    }
   ],
   "source": [
    "results_for_2 = []\n",
    "\n",
    "for train_geo, test_geo in zip([geo_0_no_id, geo_1_no_id, geo_2_no_id], [geo_0_no_id, geo_1_no_id, geo_2_no_id]):\n",
    "    X_train = train_geo.drop('product', axis=1)\n",
    "    y_train = train_geo['product']\n",
    "    \n",
    "    X_test = test_geo.drop('product', axis=1)\n",
    "    \n",
    "    model = LinearRegression()\n",
    "    model.fit(X_train, y_train)\n",
    "    \n",
    "    preds = model.predict(X_test)\n",
    "    \n",
    "    results_for_2.append(pd.DataFrame({\n",
    "        'true_values': test_geo['product'], \n",
    "        'preds': preds\n",
    "    }))\n",
    "\n",
    "# Concatenate results for all regions\n",
    "results_2 = pd.concat(results_for_2)\n",
    "results_2.count()"
   ]
  },
  {
   "cell_type": "code",
   "execution_count": 18,
   "id": "5cf5a5b5",
   "metadata": {},
   "outputs": [],
   "source": [
    "res_of_model_0 = results_for_2[0]\n",
    "res_of_model_1 = results_for_2[1]\n",
    "res_of_model_2 = results_for_2[2]"
   ]
  },
  {
   "cell_type": "code",
   "execution_count": 19,
   "id": "0bc3b20b",
   "metadata": {},
   "outputs": [],
   "source": [
    "true_values_geo_0, preds_geo_0 = res_of_model_0.true_values, res_of_model_0.preds\n",
    "true_values_geo_1, preds_geo_1  = res_of_model_1.true_values, res_of_model_1.preds\n",
    "true_values_geo_2, preds_geo_2 = res_of_model_2.true_values, res_of_model_2.preds"
   ]
  },
  {
   "cell_type": "code",
   "execution_count": 20,
   "id": "eeb0e240",
   "metadata": {},
   "outputs": [
    {
     "name": "stdout",
     "output_type": "stream",
     "text": [
      "Средний запас предсказанного сырья модели 0:  92.50000000000004\n",
      "RMSE модели 0:  37.69184521534831\n"
     ]
    }
   ],
   "source": [
    "mean_pred_volume_0 = res_of_model_0.preds.mean()\n",
    "\n",
    "rmse_of_model_0 = mean_squared_error(res_of_model_0.true_values, res_of_model_0.preds, squared=False)\n",
    "\n",
    "print('Средний запас предсказанного сырья модели 0: ', mean_pred_volume_0)\n",
    "print('RMSE модели 0: ', rmse_of_model_0)"
   ]
  },
  {
   "cell_type": "code",
   "execution_count": 21,
   "id": "cb293d7f",
   "metadata": {},
   "outputs": [
    {
     "name": "stdout",
     "output_type": "stream",
     "text": [
      "Средний запас предсказанного сырья модели 1:  68.825\n",
      "RMSE модели 1:  0.8903758548821922\n"
     ]
    }
   ],
   "source": [
    "mean_pred_volume_1 = res_of_model_1.preds.mean()\n",
    "\n",
    "rmse_of_model_1 = mean_squared_error(res_of_model_1.true_values, res_of_model_1.preds, squared=False)\n",
    "\n",
    "print('Средний запас предсказанного сырья модели 1: ', mean_pred_volume_1)\n",
    "print('RMSE модели 1: ', rmse_of_model_1)"
   ]
  },
  {
   "cell_type": "code",
   "execution_count": 22,
   "id": "69536b30",
   "metadata": {},
   "outputs": [
    {
     "name": "stdout",
     "output_type": "stream",
     "text": [
      "Средний запас предсказанного сырья модели 2:  95.00000000000006\n",
      "RMSE модели 2:  40.05520208811186\n"
     ]
    }
   ],
   "source": [
    "mean_pred_volume_2 = res_of_model_2.preds.mean()\n",
    "\n",
    "rmse_of_model_2 = mean_squared_error(res_of_model_2.true_values, res_of_model_2.preds, squared=False)\n",
    "\n",
    "print('Средний запас предсказанного сырья модели 2: ', mean_pred_volume_2)\n",
    "print('RMSE модели 2: ', rmse_of_model_2)"
   ]
  },
  {
   "cell_type": "markdown",
   "id": "28c3d4b3",
   "metadata": {},
   "source": [
    "Результаты закомментированной ячейки выше:\n",
    "\n",
    "- Средний запас предсказанного сырья:  85.2942339411249\n",
    "- RMSE модели:  31.822657192135978"
   ]
  },
  {
   "cell_type": "code",
   "execution_count": null,
   "id": "eb86b8ed",
   "metadata": {},
   "outputs": [],
   "source": []
  },
  {
   "cell_type": "code",
   "execution_count": null,
   "id": "bbf98799",
   "metadata": {},
   "outputs": [],
   "source": []
  },
  {
   "cell_type": "markdown",
   "id": "b773cdf7",
   "metadata": {},
   "source": [
    "**Вывод шага:**\n",
    "\n",
    "1. С использованием цикла `for` данные были разделены на тренировочные и тестовые выборки, после чего были обучены модели линейной регрессии.\n",
    "\n",
    "\n",
    "2. Результаты из предыдущего пункта были объединены в новый датафрейм `results_2`, содержащий столбцы `true_values` с настоящими значениями и `preds` с предсказанными моделью значениями.\n",
    "\n",
    "\n",
    "3. Был рассчитан средний запас предсказанного моделью 0 сырья, который составил `92.5`\n",
    "4. Рассчитано значение RMSE модели 0, которое составило `37.7`\n",
    "\n",
    "\n",
    "5. Был рассчитан средний запас предсказанного моделью 1 сырья, который составил `68.825`\n",
    "6. Рассчитано значение RMSE модели 1, которое составило `0.89`\n",
    "\n",
    "\n",
    "7. Был рассчитан средний запас предсказанного моделью 2 сырья, который составил `95`\n",
    "8. Рассчитано значение RMSE модели 2, которое составило `40`\n"
   ]
  },
  {
   "cell_type": "markdown",
   "id": "85963926",
   "metadata": {},
   "source": [
    "## Подготовка к расчёту прибыли"
   ]
  },
  {
   "cell_type": "code",
   "execution_count": 23,
   "id": "4237d1da",
   "metadata": {},
   "outputs": [],
   "source": [
    "# 3.1. Ключевые значения для расчётов\n",
    "NUM_REGIONS = 3\n",
    "NUM_POINTS = 500\n",
    "NUM_BEST_POINTS = 200\n",
    "TOTAL_BUDGET = 10_000_000_000  \n",
    "PRICE_PER_BARREL = 450_000  \n",
    "# INCOME_PER_BARREL = 450_000\n",
    "THRESHOLD = 0.025"
   ]
  },
  {
   "cell_type": "code",
   "execution_count": 24,
   "id": "747f3d99",
   "metadata": {},
   "outputs": [
    {
     "name": "stdout",
     "output_type": "stream",
     "text": [
      "Достаточный объем сырья для безубыточной разработки: 111.00 тыс. баррелей\n"
     ]
    }
   ],
   "source": [
    "# 3.2. Расчёт достаточного объёма сырья для безубыточной разработки\n",
    "# в тысячах баррелей\n",
    "break_volume = TOTAL_BUDGET / PRICE_PER_BARREL / NUM_BEST_POINTS \n",
    "\n",
    "print(\"Достаточный объем сырья для безубыточной разработки: {:.2f} тыс. баррелей\".format(round(break_volume, 0)))"
   ]
  },
  {
   "cell_type": "code",
   "execution_count": null,
   "id": "804020c6",
   "metadata": {},
   "outputs": [],
   "source": []
  },
  {
   "cell_type": "code",
   "execution_count": 25,
   "id": "0392fd29",
   "metadata": {},
   "outputs": [
    {
     "name": "stdout",
     "output_type": "stream",
     "text": [
      "21% точек больше чем 111 тыс. баррелей\n",
      "18% точек больше чем 111 тыс. баррелей\n",
      "21% точек больше чем 111 тыс. баррелей\n"
     ]
    }
   ],
   "source": [
    "def best_points(pred, thershold_values):\n",
    "    percent = (pred > thershold_values).mean() * 100\n",
    "    return percent\n",
    "\n",
    "print(f'{round(best_points(preds_geo_0, break_volume))}% точек больше чем {int(break_volume)} тыс. баррелей')\n",
    "print(f'{round(best_points(preds_geo_1, break_volume))}% точек больше чем {int(break_volume)} тыс. баррелей')\n",
    "print(f'{round(best_points(preds_geo_2, break_volume))}% точек больше чем {int(break_volume)} тыс. баррелей')"
   ]
  },
  {
   "cell_type": "code",
   "execution_count": null,
   "id": "47a65eb5",
   "metadata": {},
   "outputs": [],
   "source": []
  },
  {
   "cell_type": "markdown",
   "id": "c397f061",
   "metadata": {},
   "source": [
    "**Вывод шага:**\n",
    "\n",
    "1. Бюджет на разработку скважин в регионе достаточен для безубыточной разработки, если средний запас сырья превышает 111 тыс. баррелей.\n"
   ]
  },
  {
   "cell_type": "markdown",
   "id": "3b4b631a",
   "metadata": {},
   "source": [
    "## Функция для расчёта прибыли по выбранным скважинам"
   ]
  },
  {
   "cell_type": "code",
   "execution_count": 26,
   "id": "94a91d18",
   "metadata": {},
   "outputs": [],
   "source": [
    "def calculate_profit(target, preds):\n",
    "    preds_sorted = preds.sort_values(ascending=False)\n",
    "    selected = target[preds_sorted.index][:NUM_BEST_POINTS]\n",
    "    return selected.sum() * PRICE_PER_BARREL - TOTAL_BUDGET"
   ]
  },
  {
   "cell_type": "code",
   "execution_count": 27,
   "id": "0bcbc138",
   "metadata": {},
   "outputs": [
    {
     "name": "stdout",
     "output_type": "stream",
     "text": [
      "Прибыль со скважин в регионе 0: 3,492.3 млрд\n",
      "Прибыль со скважин в регионе 1: 2,415.1 млрд\n",
      "Прибыль со скважин в регионе 2: 2,603.8 млрд\n"
     ]
    }
   ],
   "source": [
    "region_0 = calculate_profit(true_values_geo_0, pd.Series(preds_geo_0, index=true_values_geo_0.index))\n",
    "region_1 = calculate_profit(true_values_geo_1, pd.Series(preds_geo_1, index=true_values_geo_1.index))\n",
    "region_2 = calculate_profit(true_values_geo_2, pd.Series(preds_geo_2, index=true_values_geo_2.index))\n",
    "\n",
    "print(f'Прибыль со скважин в регионе 0: {region_0/1e6:,.1f} млрд')\n",
    "print(f'Прибыль со скважин в регионе 1: {region_1/1e6:,.1f} млрд')\n",
    "print(f'Прибыль со скважин в регионе 2: {region_2/1e6:,.1f} млрд')"
   ]
  },
  {
   "cell_type": "code",
   "execution_count": null,
   "id": "9e5f9ecb",
   "metadata": {},
   "outputs": [],
   "source": []
  },
  {
   "cell_type": "markdown",
   "id": "1c0cd39b",
   "metadata": {},
   "source": [
    "## Расчёт прибыли и рисков "
   ]
  },
  {
   "cell_type": "code",
   "execution_count": 28,
   "id": "2f3db91c",
   "metadata": {},
   "outputs": [],
   "source": [
    "state = np.random.RandomState(12345)"
   ]
  },
  {
   "cell_type": "code",
   "execution_count": 29,
   "id": "32ebcb80",
   "metadata": {},
   "outputs": [],
   "source": [
    "def bootstrap_profits(target, preds):\n",
    "    values = []\n",
    "    for i in range(1000):\n",
    "        target_subsample = target.sample(\n",
    "            replace=True,\n",
    "            random_state=state,\n",
    "            n=NUM_POINTS\n",
    "        )\n",
    "        \n",
    "        probs_subsample = preds[target_subsample.index]\n",
    "        values.append(calculate_profit(target_subsample, probs_subsample))\n",
    "                      \n",
    "    values = pd.Series(values)\n",
    "    lower_values = values.quantile(0.025)\n",
    "    upper_values = values.quantile(0.975)\n",
    "    mean_values = values.mean()\n",
    "    risks = st.percentileofscore(values, 0)\n",
    "                      \n",
    "    # Создание отчета о прибыли\n",
    "    report_table = PrettyTable()\n",
    "    report_table.field_names = ['Показатель', 'Значение']\n",
    "    report_table.add_row(['Средняя прибыль', f'{mean_values/1e6:.1f} млн'])\n",
    "    report_table.add_row(['Риск', f'{risks:.2}%'])\n",
    "    report_table.add_row(['Доверительный интервал', f'{lower_values/1e6:.1f} : {upper_values/1e6:.1f} млн'])\n",
    "\n",
    "    # Вывод отчета на экран\n",
    "    print(report_table)\n",
    "\n",
    "    # Построение гистограммы прибыли\n",
    "    sns.histplot(values, color='#9BCD9B', alpha=0.5,  element='step')\n",
    "    plt.xlabel('Прибыль')\n",
    "    plt.axvline(x=mean_values, color='black', ls='-', lw=2, label='Средняя прибыль')\n",
    "    plt.axvline(x=lower_values, color='r', ls=':', lw=3, label='95%-й доверительный интервал')\n",
    "    plt.axvline(x=upper_values, color='r', ls=':', lw=3)\n",
    "    plt.legend(bbox_to_anchor=(0.5, -0.15), loc='upper center', ncol=2)\n",
    "    plt.show()"
   ]
  },
  {
   "cell_type": "code",
   "execution_count": null,
   "id": "7c4b7deb",
   "metadata": {},
   "outputs": [],
   "source": []
  },
  {
   "cell_type": "code",
   "execution_count": 30,
   "id": "84957486",
   "metadata": {},
   "outputs": [
    {
     "name": "stdout",
     "output_type": "stream",
     "text": [
      "+------------------------+-------------------+\n",
      "|       Показатель       |      Значение     |\n",
      "+------------------------+-------------------+\n",
      "|    Средняя прибыль     |     430.8 млн     |\n",
      "|          Риск          |        5.2%       |\n",
      "| Доверительный интервал | -62.7 : 984.4 млн |\n",
      "+------------------------+-------------------+\n"
     ]
    },
    {
     "data": {
      "image/png": "[encoded data removed]",
      "text/plain": [
       "<Figure size 432x288 with 1 Axes>"
      ]
     },
     "metadata": {
      "needs_background": "light"
     },
     "output_type": "display_data"
    }
   ],
   "source": [
    "bootstrap_profits(true_values_geo_0, pd.Series(preds_geo_0, index=true_values_geo_0.index))"
   ]
  },
  {
   "cell_type": "code",
   "execution_count": 31,
   "id": "c678efae",
   "metadata": {},
   "outputs": [
    {
     "name": "stdout",
     "output_type": "stream",
     "text": [
      "+------------------------+------------------+\n",
      "|       Показатель       |     Значение     |\n",
      "+------------------------+------------------+\n",
      "|    Средняя прибыль     |    450.1 млн     |\n",
      "|          Риск          |       1.0%       |\n",
      "| Доверительный интервал | 44.6 : 830.8 млн |\n",
      "+------------------------+------------------+\n"
     ]
    },
    {
     "data": {
      "image/png": "[encoded data removed]",
      "text/plain": [
       "<Figure size 432x288 with 1 Axes>"
      ]
     },
     "metadata": {
      "needs_background": "light"
     },
     "output_type": "display_data"
    }
   ],
   "source": [
    "bootstrap_profits(true_values_geo_1, pd.Series(preds_geo_1, index=true_values_geo_1.index))"
   ]
  },
  {
   "cell_type": "code",
   "execution_count": 32,
   "id": "1ee3f8d7",
   "metadata": {
    "scrolled": false
   },
   "outputs": [
    {
     "name": "stdout",
     "output_type": "stream",
     "text": [
      "+------------------------+--------------------+\n",
      "|       Показатель       |      Значение      |\n",
      "+------------------------+--------------------+\n",
      "|    Средняя прибыль     |     392.1 млн      |\n",
      "|          Риск          |        8.7%        |\n",
      "| Доверительный интервал | -147.3 : 876.9 млн |\n",
      "+------------------------+--------------------+\n"
     ]
    },
    {
     "data": {
      "image/png": "[encoded data removed]",
      "text/plain": [
       "<Figure size 432x288 with 1 Axes>"
      ]
     },
     "metadata": {
      "needs_background": "light"
     },
     "output_type": "display_data"
    }
   ],
   "source": [
    "bootstrap_profits(true_values_geo_2, pd.Series(preds_geo_2, index=true_values_geo_2.index))"
   ]
  },
  {
   "cell_type": "code",
   "execution_count": null,
   "id": "0ec8c184",
   "metadata": {},
   "outputs": [],
   "source": []
  },
  {
   "cell_type": "markdown",
   "id": "549e92d8",
   "metadata": {},
   "source": [
    "**Вывод:**\n",
    "\n",
    "1. Обнаружено, что необходимый объем сырья для безубыточной скважины составляет 111,000 баррелей, что превышает средние значения прогнозируемых запасов сырья в каждом регионе.\n",
    "\n",
    "\n",
    "2. В регионе 0 выявлен потенциал максимальной прибыли от 200 скважин, оцененный в 3,492.3 млрд.\n",
    "\n",
    "\n",
    "3. Проведен анализ 95%-го доверительного интервала, который для региона 0 составляет от -90.2 до 923.1 млн, для региона 1 - от 59.6 до 868.8 млн, и для региона 2 - от -132.2 до 898.4 млн.\n",
    "\n",
    "\n",
    "4. В результате исследования рисков выявлено, что регион 1 является менее рискованным с риском убытков всего лишь в 1.7%. Именно этот регион рекомендуется для приоритетного рассмотрения в плане разработки буровых скважин.\n",
    "\n",
    "\n",
    "5. Регион 1 отличается наивысшей оценкой прибыли от 200 скважин при минимальном риске, всего 1.7%. Рекомендуется провести более детальное исследование этого региона с возможностью улучшения точности модели прогнозирования."
   ]
  },
  {
   "cell_type": "code",
   "execution_count": null,
   "id": "46aaabd6",
   "metadata": {},
   "outputs": [],
   "source": []
  }
 ],
 "metadata": {
  "ExecuteTimeLog": [
   {
    "duration": 1592,
    "start_time": "2024-08-20T05:44:54.241Z"
   },
   {
    "duration": 3047,
    "start_time": "2024-08-20T05:44:55.835Z"
   },
   {
    "duration": 4078,
    "start_time": "2024-08-20T05:44:58.885Z"
   },
   {
    "duration": 18,
    "start_time": "2024-08-20T05:45:02.965Z"
   },
   {
    "duration": 21,
    "start_time": "2024-08-20T05:45:02.986Z"
   },
   {
    "duration": 23,
    "start_time": "2024-08-20T05:45:03.009Z"
   },
   {
    "duration": 46,
    "start_time": "2024-08-20T05:45:03.035Z"
   },
   {
    "duration": 14,
    "start_time": "2024-08-20T05:45:03.084Z"
   },
   {
    "duration": 26,
    "start_time": "2024-08-20T05:45:03.100Z"
   },
   {
    "duration": 29,
    "start_time": "2024-08-20T05:45:03.128Z"
   },
   {
    "duration": 380,
    "start_time": "2024-08-20T05:45:03.158Z"
   },
   {
    "duration": 9,
    "start_time": "2024-08-20T05:45:03.539Z"
   },
   {
    "duration": 23,
    "start_time": "2024-08-20T05:45:03.550Z"
   },
   {
    "duration": 11,
    "start_time": "2024-08-20T05:45:03.577Z"
   },
   {
    "duration": 35,
    "start_time": "2024-08-20T05:45:03.590Z"
   },
   {
    "duration": 3,
    "start_time": "2024-08-20T05:45:03.627Z"
   },
   {
    "duration": 520,
    "start_time": "2024-08-20T05:45:03.632Z"
   },
   {
    "duration": 4,
    "start_time": "2024-08-20T05:45:04.154Z"
   },
   {
    "duration": 100,
    "start_time": "2024-08-20T05:45:04.160Z"
   },
   {
    "duration": 16,
    "start_time": "2024-08-20T05:45:04.262Z"
   },
   {
    "duration": 30,
    "start_time": "2024-08-20T05:45:04.280Z"
   },
   {
    "duration": 7,
    "start_time": "2024-08-20T05:45:04.312Z"
   },
   {
    "duration": 5,
    "start_time": "2024-08-20T05:45:04.321Z"
   },
   {
    "duration": 7,
    "start_time": "2024-08-20T05:45:04.327Z"
   },
   {
    "duration": 4,
    "start_time": "2024-08-20T05:45:04.336Z"
   },
   {
    "duration": 9,
    "start_time": "2024-08-20T05:45:04.342Z"
   },
   {
    "duration": 4,
    "start_time": "2024-08-20T05:45:04.353Z"
   },
   {
    "duration": 66,
    "start_time": "2024-08-20T05:45:04.358Z"
   },
   {
    "duration": 3,
    "start_time": "2024-08-20T05:45:04.426Z"
   },
   {
    "duration": 60,
    "start_time": "2024-08-20T05:45:04.431Z"
   },
   {
    "duration": 1515,
    "start_time": "2024-08-20T05:45:04.493Z"
   },
   {
    "duration": 1697,
    "start_time": "2024-08-20T05:45:06.010Z"
   },
   {
    "duration": 1616,
    "start_time": "2024-08-20T05:45:07.709Z"
   },
   {
    "duration": 1470,
    "start_time": "2024-08-20T05:46:04.996Z"
   },
   {
    "duration": 11,
    "start_time": "2024-08-20T05:46:06.470Z"
   },
   {
    "duration": 1944,
    "start_time": "2024-08-20T05:46:06.482Z"
   },
   {
    "duration": 12,
    "start_time": "2024-08-20T05:46:08.428Z"
   },
   {
    "duration": 46,
    "start_time": "2024-08-20T05:46:08.447Z"
   },
   {
    "duration": 9,
    "start_time": "2024-08-20T05:46:08.494Z"
   },
   {
    "duration": 30,
    "start_time": "2024-08-20T05:46:08.505Z"
   },
   {
    "duration": 25,
    "start_time": "2024-08-20T05:46:08.536Z"
   },
   {
    "duration": 11,
    "start_time": "2024-08-20T05:46:08.563Z"
   },
   {
    "duration": 11,
    "start_time": "2024-08-20T05:46:08.575Z"
   },
   {
    "duration": 401,
    "start_time": "2024-08-20T05:46:08.588Z"
   },
   {
    "duration": 10,
    "start_time": "2024-08-20T05:46:08.991Z"
   },
   {
    "duration": 18,
    "start_time": "2024-08-20T05:46:09.003Z"
   },
   {
    "duration": 46,
    "start_time": "2024-08-20T05:46:09.023Z"
   },
   {
    "duration": 17,
    "start_time": "2024-08-20T05:46:09.071Z"
   },
   {
    "duration": 6,
    "start_time": "2024-08-20T05:46:09.090Z"
   },
   {
    "duration": 553,
    "start_time": "2024-08-20T05:46:09.097Z"
   },
   {
    "duration": 4,
    "start_time": "2024-08-20T05:46:09.654Z"
   },
   {
    "duration": 52,
    "start_time": "2024-08-20T05:46:09.663Z"
   },
   {
    "duration": 16,
    "start_time": "2024-08-20T05:46:09.717Z"
   },
   {
    "duration": 6,
    "start_time": "2024-08-20T05:46:09.735Z"
   },
   {
    "duration": 8,
    "start_time": "2024-08-20T05:46:09.748Z"
   },
   {
    "duration": 3,
    "start_time": "2024-08-20T05:46:09.758Z"
   },
   {
    "duration": 6,
    "start_time": "2024-08-20T05:46:09.763Z"
   },
   {
    "duration": 17,
    "start_time": "2024-08-20T05:46:09.771Z"
   },
   {
    "duration": 5,
    "start_time": "2024-08-20T05:46:09.790Z"
   },
   {
    "duration": 87,
    "start_time": "2024-08-20T05:46:09.797Z"
   },
   {
    "duration": 3,
    "start_time": "2024-08-20T05:46:09.885Z"
   },
   {
    "duration": 7,
    "start_time": "2024-08-20T05:46:09.890Z"
   },
   {
    "duration": 1623,
    "start_time": "2024-08-20T05:46:09.898Z"
   },
   {
    "duration": 1604,
    "start_time": "2024-08-20T05:46:11.523Z"
   },
   {
    "duration": 1693,
    "start_time": "2024-08-20T05:46:13.128Z"
   }
  ],
  "kernelspec": {
   "display_name": "Python 3 (ipykernel)",
   "language": "python",
   "name": "python3"
  },
  "language_info": {
   "codemirror_mode": {
    "name": "ipython",
    "version": 3
   },
   "file_extension": ".py",
   "mimetype": "text/x-python",
   "name": "python",
   "nbconvert_exporter": "python",
   "pygments_lexer": "ipython3",
   "version": "3.9.5"
  },
  "toc": {
   "base_numbering": 1,
   "nav_menu": {},
   "number_sections": true,
   "sideBar": true,
   "skip_h1_title": true,
   "title_cell": "Table of Contents",
   "title_sidebar": "Contents",
   "toc_cell": false,
   "toc_position": {},
   "toc_section_display": true,
   "toc_window_display": false
  }
 },
 "nbformat": 4,
 "nbformat_minor": 5
}
