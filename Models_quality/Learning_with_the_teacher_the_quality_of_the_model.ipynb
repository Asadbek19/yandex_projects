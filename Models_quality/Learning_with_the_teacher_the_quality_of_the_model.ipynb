{
 "cells": [
  {
   "cell_type": "markdown",
   "id": "bc757092",
   "metadata": {},
   "source": [
    "# Описание проекта"
   ]
  },
  {
   "cell_type": "markdown",
   "id": "80b3473a",
   "metadata": {},
   "source": [
    "Интернет-магазин «В один клик» продаёт разные товары: для детей, для дома, мелкую бытовую технику, косметику и даже продукты. Отчёт магазина за прошлый период показал, что активность покупателей начала снижаться. Привлекать новых клиентов уже не так эффективно: о магазине и так знает большая часть целевой аудитории. Возможный выход — удерживать активность постоянных клиентов. Сделать это можно с помощью персонализированных предложений.\n",
    "\n",
    "«В один клик» — современная компания, поэтому её руководство не хочет принимать решения просто так — только на основе анализа данных и бизнес-моделирования.\n",
    "\n",
    "\n",
    "**Цель:**\n",
    "\n",
    "Разработать решение, которое позволит персонализировать предложения постоянным клиентам, чтобы увеличить их покупательскую активность."
   ]
  },
  {
   "cell_type": "markdown",
   "id": "0528696a",
   "metadata": {},
   "source": [
    "**Как решать задачу:**\n",
    "\n",
    "Продумывать подход к решению этой задачи вам не придётся — руководитель отдела его уже сформировал:\n",
    "1. Нужно промаркировать уровень финансовой активности постоянных покупателей. В компании принято выделять два уровня активности: «снизилась», если клиент стал покупать меньше товаров, и «прежний уровень».\n",
    "2. Нужно собрать данные по клиентам по следующим группам:\n",
    "  - Признаки, которые описывают коммуникацию сотрудников компании с клиентом.\n",
    "  - Признаки, которые описывают продуктовое поведение покупателя. Например, какие товары покупает и как часто.\n",
    "  - Признаки, которые описывают покупательское поведение клиента. Например, сколько тратил в магазине.\n",
    "  - Признаки, которые описывают поведение покупателя на сайте. Например, как много страниц просматривает и сколько времени проводит на сайте.\n",
    "\n",
    "\n",
    "Представим группы признаков (вместе с целевым) в виде диаграммы — такую визуализацию ещё называют диаграммой Исикавы."
   ]
  },
  {
   "cell_type": "markdown",
   "id": "637d7ba5",
   "metadata": {},
   "source": [
    "1. Нужно построить модель, которая предскажет вероятность снижения покупательской активности клиента в следующие три месяца.\n",
    "2. В исследование нужно включить дополнительные данные финансового департамента о прибыльности клиента: какой доход каждый покупатель приносил компании за последние три месяца.\n",
    "3. Используя данные модели и данные о прибыльности клиентов, нужно выделить сегменты покупателей и разработать для них персонализированные предложения.\n",
    "\n",
    "\n",
    "Руководство одобрило описание решения, и вам, как специалисту по DS, нужно его реализовать."
   ]
  },
  {
   "cell_type": "markdown",
   "id": "e43b8d16",
   "metadata": {},
   "source": [
    "**Ход исследования**\n",
    "\n",
    "Данные и общая инфорация будут получены из следующих файлов:\n",
    "- `/datasets/market_file.csv`;\n",
    "- `/datasets/market_money.csv`;\n",
    "- `/datasets/market_time.csv`;\n",
    "- `/datasets/money.csv`.\n",
    "\n",
    "\n",
    "О качестве данных в файлах перед их обработкой пока не имеется информации. По данной причине, проведением предобработки и исследованием данных, необходимо провести обзор данных и изучить общую информацию.\n",
    "\n",
    "Данные будут проверены на пропущенные значения, ошибки и дублированные значения. На этапе предобработки данных, будут исправлены ошибки в данных, которые могут привести к искажению конечного результата исследования. \n",
    "При необходимости будут созданы столбцы, исправлены формат некоторых столбцов данных и названия столбцов будут приведены в единый порядок (пример: нижний регистр, названия на английском и вместо пробелов в названии символ `_`)\n",
    "\n"
   ]
  },
  {
   "cell_type": "markdown",
   "id": "7f7ba232",
   "metadata": {},
   "source": [
    "# Шаг 1. Загрузка данных"
   ]
  },
  {
   "cell_type": "code",
   "execution_count": 1,
   "id": "2cd7e324",
   "metadata": {
    "scrolled": true
   },
   "outputs": [
    {
     "name": "stdout",
     "output_type": "stream",
     "text": [
      "Requirement already satisfied: phik in /opt/conda/lib/python3.9/site-packages (0.12.4)\n",
      "Requirement already satisfied: matplotlib>=2.2.3 in /opt/conda/lib/python3.9/site-packages (from phik) (3.3.4)\n",
      "Requirement already satisfied: pandas>=0.25.1 in /opt/conda/lib/python3.9/site-packages (from phik) (1.2.4)\n",
      "Requirement already satisfied: joblib>=0.14.1 in /opt/conda/lib/python3.9/site-packages (from phik) (1.1.0)\n",
      "Requirement already satisfied: numpy>=1.18.0 in /opt/conda/lib/python3.9/site-packages (from phik) (1.21.1)\n",
      "Requirement already satisfied: scipy>=1.5.2 in /opt/conda/lib/python3.9/site-packages (from phik) (1.9.1)\n",
      "Requirement already satisfied: pillow>=6.2.0 in /opt/conda/lib/python3.9/site-packages (from matplotlib>=2.2.3->phik) (8.4.0)\n",
      "Requirement already satisfied: python-dateutil>=2.1 in /opt/conda/lib/python3.9/site-packages (from matplotlib>=2.2.3->phik) (2.8.1)\n",
      "Requirement already satisfied: kiwisolver>=1.0.1 in /opt/conda/lib/python3.9/site-packages (from matplotlib>=2.2.3->phik) (1.4.4)\n",
      "Requirement already satisfied: pyparsing!=2.0.4,!=2.1.2,!=2.1.6,>=2.0.3 in /opt/conda/lib/python3.9/site-packages (from matplotlib>=2.2.3->phik) (2.4.7)\n",
      "Requirement already satisfied: cycler>=0.10 in /opt/conda/lib/python3.9/site-packages (from matplotlib>=2.2.3->phik) (0.11.0)\n",
      "Requirement already satisfied: pytz>=2017.3 in /opt/conda/lib/python3.9/site-packages (from pandas>=0.25.1->phik) (2021.1)\n",
      "Requirement already satisfied: six>=1.5 in /opt/conda/lib/python3.9/site-packages (from python-dateutil>=2.1->matplotlib>=2.2.3->phik) (1.16.0)\n",
      "Collecting shap\n",
      "  Downloading shap-0.45.1-cp39-cp39-manylinux_2_12_x86_64.manylinux2010_x86_64.manylinux_2_17_x86_64.manylinux2014_x86_64.whl (540 kB)\n",
      "\u001b[K     |████████████████████████████████| 540 kB 1.2 MB/s eta 0:00:01\n",
      "\u001b[?25hRequirement already satisfied: tqdm>=4.27.0 in /opt/conda/lib/python3.9/site-packages (from shap) (4.61.2)\n",
      "Requirement already satisfied: numpy in /opt/conda/lib/python3.9/site-packages (from shap) (1.21.1)\n",
      "Requirement already satisfied: numba in /opt/conda/lib/python3.9/site-packages (from shap) (0.56.0)\n",
      "Requirement already satisfied: scipy in /opt/conda/lib/python3.9/site-packages (from shap) (1.9.1)\n",
      "Requirement already satisfied: scikit-learn in /opt/conda/lib/python3.9/site-packages (from shap) (1.1.3)\n",
      "Collecting slicer==0.0.8\n",
      "  Downloading slicer-0.0.8-py3-none-any.whl (15 kB)\n",
      "Collecting cloudpickle\n",
      "  Downloading cloudpickle-3.0.0-py3-none-any.whl (20 kB)\n",
      "Requirement already satisfied: pandas in /opt/conda/lib/python3.9/site-packages (from shap) (1.2.4)\n",
      "Requirement already satisfied: packaging>20.9 in /opt/conda/lib/python3.9/site-packages (from shap) (21.3)\n",
      "Requirement already satisfied: pyparsing!=3.0.5,>=2.0.2 in /opt/conda/lib/python3.9/site-packages (from packaging>20.9->shap) (2.4.7)\n",
      "Requirement already satisfied: setuptools in /opt/conda/lib/python3.9/site-packages (from numba->shap) (49.6.0.post20210108)\n",
      "Requirement already satisfied: llvmlite<0.40,>=0.39.0dev0 in /opt/conda/lib/python3.9/site-packages (from numba->shap) (0.39.0)\n",
      "Requirement already satisfied: python-dateutil>=2.7.3 in /opt/conda/lib/python3.9/site-packages (from pandas->shap) (2.8.1)\n",
      "Requirement already satisfied: pytz>=2017.3 in /opt/conda/lib/python3.9/site-packages (from pandas->shap) (2021.1)\n",
      "Requirement already satisfied: six>=1.5 in /opt/conda/lib/python3.9/site-packages (from python-dateutil>=2.7.3->pandas->shap) (1.16.0)\n",
      "Requirement already satisfied: threadpoolctl>=2.0.0 in /opt/conda/lib/python3.9/site-packages (from scikit-learn->shap) (3.1.0)\n",
      "Requirement already satisfied: joblib>=1.0.0 in /opt/conda/lib/python3.9/site-packages (from scikit-learn->shap) (1.1.0)\n",
      "Installing collected packages: slicer, cloudpickle, shap\n",
      "Successfully installed cloudpickle-3.0.0 shap-0.45.1 slicer-0.0.8\n"
     ]
    }
   ],
   "source": [
    "#installs\n",
    "\n",
    "!pip install phik \n",
    "!pip install shap\n",
    "!pip install --upgrade scikit-learn==1.4 -q "
   ]
  },
  {
   "cell_type": "code",
   "execution_count": 2,
   "id": "eb855d84",
   "metadata": {
    "id": "H6cQIZr3ElW1"
   },
   "outputs": [],
   "source": [
    "# imports\n",
    "\n",
    "import pandas as pd\n",
    "import numpy as np\n",
    "import matplotlib.pyplot as plt\n",
    "import seaborn as sns\n",
    "import matplotlib.pyplot as plt\n",
    "import phik\n",
    "import shap\n",
    "\n",
    "from sklearn.neighbors import KNeighborsClassifier\n",
    "from sklearn.tree import DecisionTreeClassifier\n",
    "from sklearn.linear_model import LogisticRegression\n",
    "from sklearn.svm import SVC\n",
    "from sklearn.compose import ColumnTransformer\n",
    "from sklearn.pipeline import Pipeline\n",
    "from sklearn.preprocessing import (\n",
    "    StandardScaler,\n",
    "    OneHotEncoder,\n",
    "    OrdinalEncoder,\n",
    "    MinMaxScaler,\n",
    "    RobustScaler,\n",
    "    LabelEncoder\n",
    ")\n",
    "from sklearn.impute import SimpleImputer\n",
    "from sklearn.model_selection import train_test_split, RandomizedSearchCV\n",
    "from sklearn.metrics import accuracy_score, roc_auc_score\n",
    "from sklearn.ensemble import RandomForestClassifier"
   ]
  },
  {
   "cell_type": "code",
   "execution_count": 3,
   "id": "da9d3a43",
   "metadata": {},
   "outputs": [],
   "source": [
    "# Установление нужного формата вывода\n",
    "pd.set_option('display.float_format', lambda x: '{:.3f}'.format(x))"
   ]
  },
  {
   "cell_type": "code",
   "execution_count": 5,
   "id": "874aa386",
   "metadata": {
    "scrolled": false
   },
   "outputs": [],
   "source": [
    "# Объявляем датафреймы следующим образом\n",
    "market_df = pd.read_csv('/datasets/market_file.csv')\n",
    "market_money_df = pd.read_csv('/datasets/market_money.csv')\n",
    "market_time_df = pd.read_csv('/datasets/market_time.csv')\n",
    "money_df = pd.read_csv('/datasets/money.csv', sep=';', decimal=',')\n",
    "\n",
    "\n",
    "dfss_names = ['market_df', 'market_money_df', 'market_time_df', 'money_df']"
   ]
  },
  {
   "cell_type": "code",
   "execution_count": 6,
   "id": "44d96390",
   "metadata": {
    "scrolled": false
   },
   "outputs": [
    {
     "data": {
      "text/html": [
       "<div>\n",
       "<style scoped>\n",
       "    .dataframe tbody tr th:only-of-type {\n",
       "        vertical-align: middle;\n",
       "    }\n",
       "\n",
       "    .dataframe tbody tr th {\n",
       "        vertical-align: top;\n",
       "    }\n",
       "\n",
       "    .dataframe thead th {\n",
       "        text-align: right;\n",
       "    }\n",
       "</style>\n",
       "<table border=\"1\" class=\"dataframe\">\n",
       "  <thead>\n",
       "    <tr style=\"text-align: right;\">\n",
       "      <th></th>\n",
       "      <th>id</th>\n",
       "      <th>Покупательская активность</th>\n",
       "      <th>Тип сервиса</th>\n",
       "      <th>Разрешить сообщать</th>\n",
       "      <th>Маркет_актив_6_мес</th>\n",
       "      <th>Маркет_актив_тек_мес</th>\n",
       "      <th>Длительность</th>\n",
       "      <th>Акционные_покупки</th>\n",
       "      <th>Популярная_категория</th>\n",
       "      <th>Средний_просмотр_категорий_за_визит</th>\n",
       "      <th>Неоплаченные_продукты_штук_квартал</th>\n",
       "      <th>Ошибка_сервиса</th>\n",
       "      <th>Страниц_за_визит</th>\n",
       "    </tr>\n",
       "  </thead>\n",
       "  <tbody>\n",
       "    <tr>\n",
       "      <th>0</th>\n",
       "      <td>215348</td>\n",
       "      <td>Снизилась</td>\n",
       "      <td>премиум</td>\n",
       "      <td>да</td>\n",
       "      <td>3.400</td>\n",
       "      <td>5</td>\n",
       "      <td>121</td>\n",
       "      <td>0.000</td>\n",
       "      <td>Товары для детей</td>\n",
       "      <td>6</td>\n",
       "      <td>2</td>\n",
       "      <td>1</td>\n",
       "      <td>5</td>\n",
       "    </tr>\n",
       "    <tr>\n",
       "      <th>1</th>\n",
       "      <td>215349</td>\n",
       "      <td>Снизилась</td>\n",
       "      <td>премиум</td>\n",
       "      <td>да</td>\n",
       "      <td>4.400</td>\n",
       "      <td>4</td>\n",
       "      <td>819</td>\n",
       "      <td>0.750</td>\n",
       "      <td>Товары для детей</td>\n",
       "      <td>4</td>\n",
       "      <td>4</td>\n",
       "      <td>2</td>\n",
       "      <td>5</td>\n",
       "    </tr>\n",
       "    <tr>\n",
       "      <th>2</th>\n",
       "      <td>215350</td>\n",
       "      <td>Снизилась</td>\n",
       "      <td>стандартт</td>\n",
       "      <td>нет</td>\n",
       "      <td>4.900</td>\n",
       "      <td>3</td>\n",
       "      <td>539</td>\n",
       "      <td>0.140</td>\n",
       "      <td>Домашний текстиль</td>\n",
       "      <td>5</td>\n",
       "      <td>2</td>\n",
       "      <td>1</td>\n",
       "      <td>5</td>\n",
       "    </tr>\n",
       "    <tr>\n",
       "      <th>3</th>\n",
       "      <td>215351</td>\n",
       "      <td>Снизилась</td>\n",
       "      <td>стандартт</td>\n",
       "      <td>да</td>\n",
       "      <td>3.200</td>\n",
       "      <td>5</td>\n",
       "      <td>896</td>\n",
       "      <td>0.990</td>\n",
       "      <td>Товары для детей</td>\n",
       "      <td>5</td>\n",
       "      <td>0</td>\n",
       "      <td>6</td>\n",
       "      <td>4</td>\n",
       "    </tr>\n",
       "    <tr>\n",
       "      <th>4</th>\n",
       "      <td>215352</td>\n",
       "      <td>Снизилась</td>\n",
       "      <td>стандартт</td>\n",
       "      <td>нет</td>\n",
       "      <td>5.100</td>\n",
       "      <td>3</td>\n",
       "      <td>1064</td>\n",
       "      <td>0.940</td>\n",
       "      <td>Товары для детей</td>\n",
       "      <td>3</td>\n",
       "      <td>2</td>\n",
       "      <td>3</td>\n",
       "      <td>2</td>\n",
       "    </tr>\n",
       "  </tbody>\n",
       "</table>\n",
       "</div>"
      ],
      "text/plain": [
       "       id Покупательская активность Тип сервиса Разрешить сообщать  \\\n",
       "0  215348                 Снизилась     премиум                 да   \n",
       "1  215349                 Снизилась     премиум                 да   \n",
       "2  215350                 Снизилась   стандартт                нет   \n",
       "3  215351                 Снизилась   стандартт                 да   \n",
       "4  215352                 Снизилась   стандартт                нет   \n",
       "\n",
       "   Маркет_актив_6_мес  Маркет_актив_тек_мес  Длительность  Акционные_покупки  \\\n",
       "0               3.400                     5           121              0.000   \n",
       "1               4.400                     4           819              0.750   \n",
       "2               4.900                     3           539              0.140   \n",
       "3               3.200                     5           896              0.990   \n",
       "4               5.100                     3          1064              0.940   \n",
       "\n",
       "  Популярная_категория  Средний_просмотр_категорий_за_визит  \\\n",
       "0     Товары для детей                                    6   \n",
       "1     Товары для детей                                    4   \n",
       "2    Домашний текстиль                                    5   \n",
       "3     Товары для детей                                    5   \n",
       "4     Товары для детей                                    3   \n",
       "\n",
       "   Неоплаченные_продукты_штук_квартал  Ошибка_сервиса  Страниц_за_визит  \n",
       "0                                   2               1                 5  \n",
       "1                                   4               2                 5  \n",
       "2                                   2               1                 5  \n",
       "3                                   0               6                 4  \n",
       "4                                   2               3                 2  "
      ]
     },
     "metadata": {},
     "output_type": "display_data"
    }
   ],
   "source": [
    "display(market_df.head())"
   ]
  },
  {
   "cell_type": "code",
   "execution_count": 7,
   "id": "00d8f436",
   "metadata": {},
   "outputs": [
    {
     "data": {
      "text/html": [
       "<div>\n",
       "<style scoped>\n",
       "    .dataframe tbody tr th:only-of-type {\n",
       "        vertical-align: middle;\n",
       "    }\n",
       "\n",
       "    .dataframe tbody tr th {\n",
       "        vertical-align: top;\n",
       "    }\n",
       "\n",
       "    .dataframe thead th {\n",
       "        text-align: right;\n",
       "    }\n",
       "</style>\n",
       "<table border=\"1\" class=\"dataframe\">\n",
       "  <thead>\n",
       "    <tr style=\"text-align: right;\">\n",
       "      <th></th>\n",
       "      <th>id</th>\n",
       "      <th>Период</th>\n",
       "      <th>Выручка</th>\n",
       "    </tr>\n",
       "  </thead>\n",
       "  <tbody>\n",
       "    <tr>\n",
       "      <th>0</th>\n",
       "      <td>215348</td>\n",
       "      <td>препредыдущий_месяц</td>\n",
       "      <td>0.000</td>\n",
       "    </tr>\n",
       "    <tr>\n",
       "      <th>1</th>\n",
       "      <td>215348</td>\n",
       "      <td>текущий_месяц</td>\n",
       "      <td>3293.100</td>\n",
       "    </tr>\n",
       "    <tr>\n",
       "      <th>2</th>\n",
       "      <td>215348</td>\n",
       "      <td>предыдущий_месяц</td>\n",
       "      <td>0.000</td>\n",
       "    </tr>\n",
       "    <tr>\n",
       "      <th>3</th>\n",
       "      <td>215349</td>\n",
       "      <td>препредыдущий_месяц</td>\n",
       "      <td>4472.000</td>\n",
       "    </tr>\n",
       "    <tr>\n",
       "      <th>4</th>\n",
       "      <td>215349</td>\n",
       "      <td>текущий_месяц</td>\n",
       "      <td>4971.600</td>\n",
       "    </tr>\n",
       "  </tbody>\n",
       "</table>\n",
       "</div>"
      ],
      "text/plain": [
       "       id               Период  Выручка\n",
       "0  215348  препредыдущий_месяц    0.000\n",
       "1  215348        текущий_месяц 3293.100\n",
       "2  215348     предыдущий_месяц    0.000\n",
       "3  215349  препредыдущий_месяц 4472.000\n",
       "4  215349        текущий_месяц 4971.600"
      ]
     },
     "metadata": {},
     "output_type": "display_data"
    }
   ],
   "source": [
    "display(market_money_df.head())"
   ]
  },
  {
   "cell_type": "code",
   "execution_count": 8,
   "id": "12eede2e",
   "metadata": {},
   "outputs": [
    {
     "data": {
      "text/html": [
       "<div>\n",
       "<style scoped>\n",
       "    .dataframe tbody tr th:only-of-type {\n",
       "        vertical-align: middle;\n",
       "    }\n",
       "\n",
       "    .dataframe tbody tr th {\n",
       "        vertical-align: top;\n",
       "    }\n",
       "\n",
       "    .dataframe thead th {\n",
       "        text-align: right;\n",
       "    }\n",
       "</style>\n",
       "<table border=\"1\" class=\"dataframe\">\n",
       "  <thead>\n",
       "    <tr style=\"text-align: right;\">\n",
       "      <th></th>\n",
       "      <th>id</th>\n",
       "      <th>Период</th>\n",
       "      <th>минут</th>\n",
       "    </tr>\n",
       "  </thead>\n",
       "  <tbody>\n",
       "    <tr>\n",
       "      <th>0</th>\n",
       "      <td>215348</td>\n",
       "      <td>текущий_месяц</td>\n",
       "      <td>14</td>\n",
       "    </tr>\n",
       "    <tr>\n",
       "      <th>1</th>\n",
       "      <td>215348</td>\n",
       "      <td>предыдцщий_месяц</td>\n",
       "      <td>13</td>\n",
       "    </tr>\n",
       "    <tr>\n",
       "      <th>2</th>\n",
       "      <td>215349</td>\n",
       "      <td>текущий_месяц</td>\n",
       "      <td>10</td>\n",
       "    </tr>\n",
       "    <tr>\n",
       "      <th>3</th>\n",
       "      <td>215349</td>\n",
       "      <td>предыдцщий_месяц</td>\n",
       "      <td>12</td>\n",
       "    </tr>\n",
       "    <tr>\n",
       "      <th>4</th>\n",
       "      <td>215350</td>\n",
       "      <td>текущий_месяц</td>\n",
       "      <td>13</td>\n",
       "    </tr>\n",
       "  </tbody>\n",
       "</table>\n",
       "</div>"
      ],
      "text/plain": [
       "       id            Период  минут\n",
       "0  215348     текущий_месяц     14\n",
       "1  215348  предыдцщий_месяц     13\n",
       "2  215349     текущий_месяц     10\n",
       "3  215349  предыдцщий_месяц     12\n",
       "4  215350     текущий_месяц     13"
      ]
     },
     "metadata": {},
     "output_type": "display_data"
    }
   ],
   "source": [
    "display(market_time_df.head())"
   ]
  },
  {
   "cell_type": "code",
   "execution_count": 9,
   "id": "7474d78b",
   "metadata": {},
   "outputs": [
    {
     "data": {
      "text/html": [
       "<div>\n",
       "<style scoped>\n",
       "    .dataframe tbody tr th:only-of-type {\n",
       "        vertical-align: middle;\n",
       "    }\n",
       "\n",
       "    .dataframe tbody tr th {\n",
       "        vertical-align: top;\n",
       "    }\n",
       "\n",
       "    .dataframe thead th {\n",
       "        text-align: right;\n",
       "    }\n",
       "</style>\n",
       "<table border=\"1\" class=\"dataframe\">\n",
       "  <thead>\n",
       "    <tr style=\"text-align: right;\">\n",
       "      <th></th>\n",
       "      <th>id</th>\n",
       "      <th>Прибыль</th>\n",
       "    </tr>\n",
       "  </thead>\n",
       "  <tbody>\n",
       "    <tr>\n",
       "      <th>0</th>\n",
       "      <td>215348</td>\n",
       "      <td>0.980</td>\n",
       "    </tr>\n",
       "    <tr>\n",
       "      <th>1</th>\n",
       "      <td>215349</td>\n",
       "      <td>4.160</td>\n",
       "    </tr>\n",
       "    <tr>\n",
       "      <th>2</th>\n",
       "      <td>215350</td>\n",
       "      <td>3.130</td>\n",
       "    </tr>\n",
       "    <tr>\n",
       "      <th>3</th>\n",
       "      <td>215351</td>\n",
       "      <td>4.870</td>\n",
       "    </tr>\n",
       "    <tr>\n",
       "      <th>4</th>\n",
       "      <td>215352</td>\n",
       "      <td>4.210</td>\n",
       "    </tr>\n",
       "  </tbody>\n",
       "</table>\n",
       "</div>"
      ],
      "text/plain": [
       "       id  Прибыль\n",
       "0  215348    0.980\n",
       "1  215349    4.160\n",
       "2  215350    3.130\n",
       "3  215351    4.870\n",
       "4  215352    4.210"
      ]
     },
     "metadata": {},
     "output_type": "display_data"
    }
   ],
   "source": [
    "display(money_df.head())"
   ]
  },
  {
   "cell_type": "markdown",
   "id": "825296d4",
   "metadata": {},
   "source": [
    "Пока содержание файлов подходят к их описаниям. Разницы могут возникнуть в следующих шагах задания"
   ]
  },
  {
   "cell_type": "markdown",
   "id": "01005daa",
   "metadata": {},
   "source": [
    "**Итоги шага:**\n",
    "\n",
    "1. Были импортированы необходимые библиотеки\n",
    "2. Данные файлов были загружены"
   ]
  },
  {
   "cell_type": "markdown",
   "id": "7bc52f01",
   "metadata": {},
   "source": [
    "# Шаг 2. Предобработка данных"
   ]
  },
  {
   "cell_type": "code",
   "execution_count": 10,
   "id": "29b9b41a",
   "metadata": {},
   "outputs": [
    {
     "name": "stdout",
     "output_type": "stream",
     "text": [
      "<class 'pandas.core.frame.DataFrame'>\n",
      "RangeIndex: 1300 entries, 0 to 1299\n",
      "Data columns (total 13 columns):\n",
      " #   Column                               Non-Null Count  Dtype  \n",
      "---  ------                               --------------  -----  \n",
      " 0   id                                   1300 non-null   int64  \n",
      " 1   Покупательская активность            1300 non-null   object \n",
      " 2   Тип сервиса                          1300 non-null   object \n",
      " 3   Разрешить сообщать                   1300 non-null   object \n",
      " 4   Маркет_актив_6_мес                   1300 non-null   float64\n",
      " 5   Маркет_актив_тек_мес                 1300 non-null   int64  \n",
      " 6   Длительность                         1300 non-null   int64  \n",
      " 7   Акционные_покупки                    1300 non-null   float64\n",
      " 8   Популярная_категория                 1300 non-null   object \n",
      " 9   Средний_просмотр_категорий_за_визит  1300 non-null   int64  \n",
      " 10  Неоплаченные_продукты_штук_квартал   1300 non-null   int64  \n",
      " 11  Ошибка_сервиса                       1300 non-null   int64  \n",
      " 12  Страниц_за_визит                     1300 non-null   int64  \n",
      "dtypes: float64(2), int64(7), object(4)\n",
      "memory usage: 132.2+ KB\n"
     ]
    }
   ],
   "source": [
    "market_df.info()"
   ]
  },
  {
   "cell_type": "code",
   "execution_count": 11,
   "id": "0d97f82c",
   "metadata": {},
   "outputs": [
    {
     "data": {
      "text/plain": [
       "id                                     0\n",
       "Покупательская активность              0\n",
       "Тип сервиса                            0\n",
       "Разрешить сообщать                     0\n",
       "Маркет_актив_6_мес                     0\n",
       "Маркет_актив_тек_мес                   0\n",
       "Длительность                           0\n",
       "Акционные_покупки                      0\n",
       "Популярная_категория                   0\n",
       "Средний_просмотр_категорий_за_визит    0\n",
       "Неоплаченные_продукты_штук_квартал     0\n",
       "Ошибка_сервиса                         0\n",
       "Страниц_за_визит                       0\n",
       "dtype: int64"
      ]
     },
     "metadata": {},
     "output_type": "display_data"
    },
    {
     "data": {
      "text/plain": [
       "id                                     1300\n",
       "Покупательская активность                 2\n",
       "Тип сервиса                               3\n",
       "Разрешить сообщать                        2\n",
       "Маркет_актив_6_мес                       41\n",
       "Маркет_актив_тек_мес                      3\n",
       "Длительность                            658\n",
       "Акционные_покупки                        42\n",
       "Популярная_категория                      6\n",
       "Средний_просмотр_категорий_за_визит       6\n",
       "Неоплаченные_продукты_штук_квартал       11\n",
       "Ошибка_сервиса                           10\n",
       "Страниц_за_визит                         20\n",
       "dtype: int64"
      ]
     },
     "execution_count": 11,
     "metadata": {},
     "output_type": "execute_result"
    }
   ],
   "source": [
    "display(market_df.isna().sum())\n",
    "market_df.nunique()"
   ]
  },
  {
   "cell_type": "code",
   "execution_count": 12,
   "id": "79e8246a",
   "metadata": {},
   "outputs": [],
   "source": [
    "# Приводим названия столбцов датафрейма \n",
    "# market_df к единому порядку\n",
    "market_df = market_df.rename(columns={'Покупательская активность': 'customer_activity', \\\n",
    "                                      'Тип сервиса': 'service_type', \\\n",
    "                                     'Разрешить сообщать': 'allow_notifications', \\\n",
    "                                      'Маркет_актив_6_мес': 'market_activ_6_months', \\\n",
    "                                     'Маркет_актив_тек_мес': 'market_activ_curr_month', \\\n",
    "                                      'Длительность': 'duration', \\\n",
    "                                     'Акционные_покупки': 'promotional_purchases', \\\n",
    "                                      'Популярная_категория': 'popular_category', \\\n",
    "                                     'Средний_просмотр_категорий_за_визит': 'average_cat_views_per_visit', \\\n",
    "                                     'Неоплаченные_продукты_штук_квартал': 'unpaid_products_quarterly', \\\n",
    "                                      'Ошибка_сервиса': 'service_errors', \\\n",
    "                                     'Страниц_за_визит': 'pages_per_visit'})\n"
   ]
  },
  {
   "cell_type": "markdown",
   "id": "ba6c9200",
   "metadata": {},
   "source": [
    "**Описание к изменениям названий столбцов датафрейма market_df**\n",
    "\n",
    "- Покупательская активность — customer_activity\n",
    "- Тип сервиса — service_type\n",
    "- Разрешить сообщать — allow_notifications\n",
    "- Маркет_актив_6_мес — marketing_activity_6_months\n",
    "- Маркет_актив_тек_мес — marketing_activity_current_month\n",
    "- Длительность — duration\n",
    "- Акционные_покупки — promotional_purchases\n",
    "- Популярная_категория — popular_category\n",
    "- Средний_просмотр_категорий_за_визит — average_category_views_per_visit\n",
    "- Неоплаченные_продукты_штук_квартал — unpaid_products_quarterly\n",
    "- Ошибка_сервиса — service_errors\n",
    "- Страниц_за_визит — pages_per_visit"
   ]
  },
  {
   "cell_type": "code",
   "execution_count": 13,
   "id": "740fab1e",
   "metadata": {
    "scrolled": true
   },
   "outputs": [
    {
     "name": "stdout",
     "output_type": "stream",
     "text": [
      "<class 'pandas.core.frame.DataFrame'>\n",
      "RangeIndex: 1300 entries, 0 to 1299\n",
      "Data columns (total 13 columns):\n",
      " #   Column                       Non-Null Count  Dtype  \n",
      "---  ------                       --------------  -----  \n",
      " 0   id                           1300 non-null   int64  \n",
      " 1   customer_activity            1300 non-null   object \n",
      " 2   service_type                 1300 non-null   object \n",
      " 3   allow_notifications          1300 non-null   object \n",
      " 4   market_activ_6_months        1300 non-null   float64\n",
      " 5   market_activ_curr_month      1300 non-null   int64  \n",
      " 6   duration                     1300 non-null   int64  \n",
      " 7   promotional_purchases        1300 non-null   float64\n",
      " 8   popular_category             1300 non-null   object \n",
      " 9   average_cat_views_per_visit  1300 non-null   int64  \n",
      " 10  unpaid_products_quarterly    1300 non-null   int64  \n",
      " 11  service_errors               1300 non-null   int64  \n",
      " 12  pages_per_visit              1300 non-null   int64  \n",
      "dtypes: float64(2), int64(7), object(4)\n",
      "memory usage: 132.2+ KB\n"
     ]
    }
   ],
   "source": [
    "market_df.info()"
   ]
  },
  {
   "cell_type": "markdown",
   "id": "bab43d54",
   "metadata": {},
   "source": [
    "Названия столбцов изменены успешно!"
   ]
  },
  {
   "cell_type": "code",
   "execution_count": 14,
   "id": "eb123671",
   "metadata": {
    "scrolled": true
   },
   "outputs": [
    {
     "name": "stdout",
     "output_type": "stream",
     "text": [
      "customer_activity: \n"
     ]
    },
    {
     "data": {
      "text/plain": [
       "Прежний уровень    802\n",
       "Снизилась          498\n",
       "Name: customer_activity, dtype: int64"
      ]
     },
     "metadata": {},
     "output_type": "display_data"
    },
    {
     "name": "stdout",
     "output_type": "stream",
     "text": [
      "service_type: \n"
     ]
    },
    {
     "data": {
      "text/plain": [
       "стандарт     914\n",
       "премиум      376\n",
       "стандартт     10\n",
       "Name: service_type, dtype: int64"
      ]
     },
     "metadata": {},
     "output_type": "display_data"
    },
    {
     "name": "stdout",
     "output_type": "stream",
     "text": [
      "allow_notifications: \n"
     ]
    },
    {
     "data": {
      "text/plain": [
       "да     962\n",
       "нет    338\n",
       "Name: allow_notifications, dtype: int64"
      ]
     },
     "execution_count": 14,
     "metadata": {},
     "output_type": "execute_result"
    }
   ],
   "source": [
    "# Проверяем датафрейм market_df на дубликаты \n",
    "print('customer_activity: ')\n",
    "display(market_df['customer_activity'].value_counts())\n",
    "\n",
    "print('service_type: ')\n",
    "display(market_df['service_type'].value_counts())\n",
    "\n",
    "print('allow_notifications: ')\n",
    "market_df['allow_notifications'].value_counts()"
   ]
  },
  {
   "cell_type": "markdown",
   "id": "c8bb2c52",
   "metadata": {},
   "source": [
    "Найдены 10 явных дубликатов в столбце `service_type` - значение `стандартт`"
   ]
  },
  {
   "cell_type": "code",
   "execution_count": 15,
   "id": "8afa4426",
   "metadata": {},
   "outputs": [
    {
     "data": {
      "text/plain": [
       "стандарт    924\n",
       "премиум     376\n",
       "Name: service_type, dtype: int64"
      ]
     },
     "metadata": {},
     "output_type": "display_data"
    }
   ],
   "source": [
    "market_df['service_type'] = market_df['service_type'].replace({'стандартт': 'стандарт'})\n",
    "display(market_df['service_type'].value_counts())"
   ]
  },
  {
   "cell_type": "markdown",
   "id": "7e001de7",
   "metadata": {},
   "source": [
    "Значения явных дубликатов изменены на корректные"
   ]
  },
  {
   "cell_type": "code",
   "execution_count": 16,
   "id": "3720e566",
   "metadata": {},
   "outputs": [],
   "source": [
    "service_type_replacement = {'премиум': 1, 'стандарт': 0}\n",
    "allow_notifications_replacement = {'да': 1, 'нет': 0}\n",
    "\n",
    "\n",
    "market_df['service_type'] = (\n",
    "    market_df['service_type'].replace(service_type_replacement)\n",
    ")\n",
    "\n",
    "market_df['allow_notifications'] = (\n",
    "    market_df['allow_notifications'].replace(allow_notifications_replacement)\n",
    ")"
   ]
  },
  {
   "cell_type": "markdown",
   "id": "a38276e2",
   "metadata": {},
   "source": [
    "**Описание к изменениям значений столбцов датафрейма market_df:**\n",
    "\n",
    "Столбец `service_type`: \n",
    "- стандарт   - 0\n",
    "- премиум    - 1 \n",
    "\n",
    "Столбец `allow_notifications`: \n",
    "- да     - 1\n",
    "- нет    - 0 \n"
   ]
  },
  {
   "cell_type": "code",
   "execution_count": 17,
   "id": "4459a7b2",
   "metadata": {},
   "outputs": [
    {
     "data": {
      "text/html": [
       "<div>\n",
       "<style scoped>\n",
       "    .dataframe tbody tr th:only-of-type {\n",
       "        vertical-align: middle;\n",
       "    }\n",
       "\n",
       "    .dataframe tbody tr th {\n",
       "        vertical-align: top;\n",
       "    }\n",
       "\n",
       "    .dataframe thead th {\n",
       "        text-align: right;\n",
       "    }\n",
       "</style>\n",
       "<table border=\"1\" class=\"dataframe\">\n",
       "  <thead>\n",
       "    <tr style=\"text-align: right;\">\n",
       "      <th></th>\n",
       "      <th>id</th>\n",
       "      <th>customer_activity</th>\n",
       "      <th>service_type</th>\n",
       "      <th>allow_notifications</th>\n",
       "      <th>market_activ_6_months</th>\n",
       "      <th>market_activ_curr_month</th>\n",
       "      <th>duration</th>\n",
       "      <th>promotional_purchases</th>\n",
       "      <th>popular_category</th>\n",
       "      <th>average_cat_views_per_visit</th>\n",
       "      <th>unpaid_products_quarterly</th>\n",
       "      <th>service_errors</th>\n",
       "      <th>pages_per_visit</th>\n",
       "    </tr>\n",
       "  </thead>\n",
       "  <tbody>\n",
       "    <tr>\n",
       "      <th>0</th>\n",
       "      <td>215348</td>\n",
       "      <td>Снизилась</td>\n",
       "      <td>1</td>\n",
       "      <td>1</td>\n",
       "      <td>3.400</td>\n",
       "      <td>5</td>\n",
       "      <td>121</td>\n",
       "      <td>0.000</td>\n",
       "      <td>Товары для детей</td>\n",
       "      <td>6</td>\n",
       "      <td>2</td>\n",
       "      <td>1</td>\n",
       "      <td>5</td>\n",
       "    </tr>\n",
       "    <tr>\n",
       "      <th>1</th>\n",
       "      <td>215349</td>\n",
       "      <td>Снизилась</td>\n",
       "      <td>1</td>\n",
       "      <td>1</td>\n",
       "      <td>4.400</td>\n",
       "      <td>4</td>\n",
       "      <td>819</td>\n",
       "      <td>0.750</td>\n",
       "      <td>Товары для детей</td>\n",
       "      <td>4</td>\n",
       "      <td>4</td>\n",
       "      <td>2</td>\n",
       "      <td>5</td>\n",
       "    </tr>\n",
       "    <tr>\n",
       "      <th>2</th>\n",
       "      <td>215350</td>\n",
       "      <td>Снизилась</td>\n",
       "      <td>0</td>\n",
       "      <td>0</td>\n",
       "      <td>4.900</td>\n",
       "      <td>3</td>\n",
       "      <td>539</td>\n",
       "      <td>0.140</td>\n",
       "      <td>Домашний текстиль</td>\n",
       "      <td>5</td>\n",
       "      <td>2</td>\n",
       "      <td>1</td>\n",
       "      <td>5</td>\n",
       "    </tr>\n",
       "    <tr>\n",
       "      <th>3</th>\n",
       "      <td>215351</td>\n",
       "      <td>Снизилась</td>\n",
       "      <td>0</td>\n",
       "      <td>1</td>\n",
       "      <td>3.200</td>\n",
       "      <td>5</td>\n",
       "      <td>896</td>\n",
       "      <td>0.990</td>\n",
       "      <td>Товары для детей</td>\n",
       "      <td>5</td>\n",
       "      <td>0</td>\n",
       "      <td>6</td>\n",
       "      <td>4</td>\n",
       "    </tr>\n",
       "    <tr>\n",
       "      <th>4</th>\n",
       "      <td>215352</td>\n",
       "      <td>Снизилась</td>\n",
       "      <td>0</td>\n",
       "      <td>0</td>\n",
       "      <td>5.100</td>\n",
       "      <td>3</td>\n",
       "      <td>1064</td>\n",
       "      <td>0.940</td>\n",
       "      <td>Товары для детей</td>\n",
       "      <td>3</td>\n",
       "      <td>2</td>\n",
       "      <td>3</td>\n",
       "      <td>2</td>\n",
       "    </tr>\n",
       "  </tbody>\n",
       "</table>\n",
       "</div>"
      ],
      "text/plain": [
       "       id customer_activity  service_type  allow_notifications  \\\n",
       "0  215348         Снизилась             1                    1   \n",
       "1  215349         Снизилась             1                    1   \n",
       "2  215350         Снизилась             0                    0   \n",
       "3  215351         Снизилась             0                    1   \n",
       "4  215352         Снизилась             0                    0   \n",
       "\n",
       "   market_activ_6_months  market_activ_curr_month  duration  \\\n",
       "0                  3.400                        5       121   \n",
       "1                  4.400                        4       819   \n",
       "2                  4.900                        3       539   \n",
       "3                  3.200                        5       896   \n",
       "4                  5.100                        3      1064   \n",
       "\n",
       "   promotional_purchases   popular_category  average_cat_views_per_visit  \\\n",
       "0                  0.000   Товары для детей                            6   \n",
       "1                  0.750   Товары для детей                            4   \n",
       "2                  0.140  Домашний текстиль                            5   \n",
       "3                  0.990   Товары для детей                            5   \n",
       "4                  0.940   Товары для детей                            3   \n",
       "\n",
       "   unpaid_products_quarterly  service_errors  pages_per_visit  \n",
       "0                          2               1                5  \n",
       "1                          4               2                5  \n",
       "2                          2               1                5  \n",
       "3                          0               6                4  \n",
       "4                          2               3                2  "
      ]
     },
     "execution_count": 17,
     "metadata": {},
     "output_type": "execute_result"
    }
   ],
   "source": [
    "market_df.head()"
   ]
  },
  {
   "cell_type": "code",
   "execution_count": 18,
   "id": "c1a75395",
   "metadata": {},
   "outputs": [
    {
     "name": "stdout",
     "output_type": "stream",
     "text": [
      "<class 'pandas.core.frame.DataFrame'>\n",
      "RangeIndex: 3900 entries, 0 to 3899\n",
      "Data columns (total 3 columns):\n",
      " #   Column   Non-Null Count  Dtype  \n",
      "---  ------   --------------  -----  \n",
      " 0   id       3900 non-null   int64  \n",
      " 1   Период   3900 non-null   object \n",
      " 2   Выручка  3900 non-null   float64\n",
      "dtypes: float64(1), int64(1), object(1)\n",
      "memory usage: 91.5+ KB\n"
     ]
    }
   ],
   "source": [
    "market_money_df.info()"
   ]
  },
  {
   "cell_type": "code",
   "execution_count": 19,
   "id": "82b3a5c6",
   "metadata": {},
   "outputs": [
    {
     "name": "stdout",
     "output_type": "stream",
     "text": [
      "Пропущенные значения: \n"
     ]
    },
    {
     "data": {
      "text/plain": [
       "id         0\n",
       "Период     0\n",
       "Выручка    0\n",
       "dtype: int64"
      ]
     },
     "metadata": {},
     "output_type": "display_data"
    },
    {
     "name": "stdout",
     "output_type": "stream",
     "text": [
      "Количество уникальных значений: \n"
     ]
    },
    {
     "data": {
      "text/plain": [
       "id         1300\n",
       "Период        3\n",
       "Выручка    2776\n",
       "dtype: int64"
      ]
     },
     "metadata": {},
     "output_type": "display_data"
    },
    {
     "data": {
      "text/plain": [
       "препредыдущий_месяц    1300\n",
       "текущий_месяц          1300\n",
       "предыдущий_месяц       1300\n",
       "Name: Период, dtype: int64"
      ]
     },
     "execution_count": 19,
     "metadata": {},
     "output_type": "execute_result"
    }
   ],
   "source": [
    "# Проверяем датафрейм market_money_df на пропущенные значения\n",
    "print(\"Пропущенные значения: \")\n",
    "display(market_money_df.isna().sum())\n",
    "# Выводим количество уникальных значений датафрейма market_money_df\n",
    "print(\"Количество уникальных значений: \")\n",
    "display(market_money_df.nunique())\n",
    "\n",
    "# Выводим количество значений датафрейма market_money_df\n",
    "# столбца Период\n",
    "market_money_df['Период'].value_counts()"
   ]
  },
  {
   "cell_type": "code",
   "execution_count": 20,
   "id": "9495a633",
   "metadata": {},
   "outputs": [],
   "source": [
    "# Приводим названия столбцов датафрейма \n",
    "# market_money_df к единому порядку\n",
    "market_money_df = market_money_df.rename(columns={'Период': 'period', 'Выручка': 'revenue'})\n"
   ]
  },
  {
   "cell_type": "markdown",
   "id": "1750f981",
   "metadata": {},
   "source": [
    "**Описание изменений к столбцам датафрейма market_money_df**\n",
    "\n",
    "- период — period\n",
    "- выручка — revenue"
   ]
  },
  {
   "cell_type": "code",
   "execution_count": 21,
   "id": "1b00e5a7",
   "metadata": {},
   "outputs": [
    {
     "name": "stdout",
     "output_type": "stream",
     "text": [
      "<class 'pandas.core.frame.DataFrame'>\n",
      "RangeIndex: 3900 entries, 0 to 3899\n",
      "Data columns (total 3 columns):\n",
      " #   Column   Non-Null Count  Dtype  \n",
      "---  ------   --------------  -----  \n",
      " 0   id       3900 non-null   int64  \n",
      " 1   period   3900 non-null   object \n",
      " 2   revenue  3900 non-null   float64\n",
      "dtypes: float64(1), int64(1), object(1)\n",
      "memory usage: 91.5+ KB\n"
     ]
    }
   ],
   "source": [
    "market_money_df.info()"
   ]
  },
  {
   "cell_type": "code",
   "execution_count": null,
   "id": "ddaefa41",
   "metadata": {},
   "outputs": [],
   "source": []
  },
  {
   "cell_type": "code",
   "execution_count": 22,
   "id": "6de12446",
   "metadata": {},
   "outputs": [
    {
     "name": "stdout",
     "output_type": "stream",
     "text": [
      "<class 'pandas.core.frame.DataFrame'>\n",
      "RangeIndex: 2600 entries, 0 to 2599\n",
      "Data columns (total 3 columns):\n",
      " #   Column  Non-Null Count  Dtype \n",
      "---  ------  --------------  ----- \n",
      " 0   id      2600 non-null   int64 \n",
      " 1   Период  2600 non-null   object\n",
      " 2   минут   2600 non-null   int64 \n",
      "dtypes: int64(2), object(1)\n",
      "memory usage: 61.1+ KB\n"
     ]
    }
   ],
   "source": [
    "market_time_df.info()"
   ]
  },
  {
   "cell_type": "code",
   "execution_count": 23,
   "id": "4b4b8a49",
   "metadata": {
    "scrolled": false
   },
   "outputs": [
    {
     "name": "stdout",
     "output_type": "stream",
     "text": [
      "Пропущенные значения: \n"
     ]
    },
    {
     "data": {
      "text/plain": [
       "id        0\n",
       "Период    0\n",
       "минут     0\n",
       "dtype: int64"
      ]
     },
     "metadata": {},
     "output_type": "display_data"
    },
    {
     "name": "stdout",
     "output_type": "stream",
     "text": [
      "Количество уникальных значений: \n"
     ]
    },
    {
     "data": {
      "text/plain": [
       "id        1300\n",
       "Период       2\n",
       "минут       20\n",
       "dtype: int64"
      ]
     },
     "metadata": {},
     "output_type": "display_data"
    },
    {
     "data": {
      "text/plain": [
       "предыдцщий_месяц    1300\n",
       "текущий_месяц       1300\n",
       "Name: Период, dtype: int64"
      ]
     },
     "execution_count": 23,
     "metadata": {},
     "output_type": "execute_result"
    }
   ],
   "source": [
    "# Проверяем датафрейма market_time_df на пропущенные значения\n",
    "print(\"Пропущенные значения: \")\n",
    "display(market_time_df.isna().sum())\n",
    "# Выводим количество уникальных значений датафрейма market_time_df\n",
    "print(\"Количество уникальных значений: \")\n",
    "display(market_time_df.nunique())\n",
    "\n",
    "# Выводим количество значений датафрейма market_time_df\n",
    "# столбца Период\n",
    "market_time_df['Период'].value_counts()"
   ]
  },
  {
   "cell_type": "code",
   "execution_count": 24,
   "id": "b37f91a6",
   "metadata": {},
   "outputs": [],
   "source": [
    "market_time_df = market_time_df.rename(columns={'Период': 'period', 'минут': 'minute'})\n"
   ]
  },
  {
   "cell_type": "markdown",
   "id": "d1091b60",
   "metadata": {},
   "source": [
    "**Описание изменений к столбцам датафрейма market_time_df**\n",
    "\n",
    "- период — period\n",
    "- минут — minute"
   ]
  },
  {
   "cell_type": "code",
   "execution_count": 25,
   "id": "a224811d",
   "metadata": {},
   "outputs": [
    {
     "data": {
      "text/plain": [
       "текущий_месяц       1300\n",
       "предыдущий_месяц    1300\n",
       "Name: period, dtype: int64"
      ]
     },
     "metadata": {},
     "output_type": "display_data"
    }
   ],
   "source": [
    "# Исправляем ошибочное значение столбца period датафрейма market_time_df\n",
    "market_time_df['period'] = market_time_df['period'].replace({'предыдцщий_месяц': 'предыдущий_месяц'})\n",
    "display(market_time_df['period'].value_counts())"
   ]
  },
  {
   "cell_type": "code",
   "execution_count": 26,
   "id": "e26affc1",
   "metadata": {},
   "outputs": [
    {
     "name": "stdout",
     "output_type": "stream",
     "text": [
      "<class 'pandas.core.frame.DataFrame'>\n",
      "RangeIndex: 1300 entries, 0 to 1299\n",
      "Data columns (total 2 columns):\n",
      " #   Column   Non-Null Count  Dtype  \n",
      "---  ------   --------------  -----  \n",
      " 0   id       1300 non-null   int64  \n",
      " 1   Прибыль  1300 non-null   float64\n",
      "dtypes: float64(1), int64(1)\n",
      "memory usage: 20.4 KB\n"
     ]
    },
    {
     "data": {
      "text/plain": [
       "id         0\n",
       "Прибыль    0\n",
       "dtype: int64"
      ]
     },
     "metadata": {},
     "output_type": "display_data"
    }
   ],
   "source": [
    "# Проверяем датафрейм money_df на пропущенные значения\n",
    "money_df.info()\n",
    "\n",
    "# Выводим количество уникальных значений датафрейма money_df\n",
    "display(money_df.isna().sum())"
   ]
  },
  {
   "cell_type": "code",
   "execution_count": 27,
   "id": "1f9a8e26",
   "metadata": {},
   "outputs": [
    {
     "name": "stdout",
     "output_type": "stream",
     "text": [
      "<class 'pandas.core.frame.DataFrame'>\n",
      "RangeIndex: 1300 entries, 0 to 1299\n",
      "Data columns (total 2 columns):\n",
      " #   Column  Non-Null Count  Dtype  \n",
      "---  ------  --------------  -----  \n",
      " 0   id      1300 non-null   int64  \n",
      " 1   profit  1300 non-null   float64\n",
      "dtypes: float64(1), int64(1)\n",
      "memory usage: 20.4 KB\n"
     ]
    }
   ],
   "source": [
    "# Изменяем название столбцов датафрейма money_df\n",
    "money_df = money_df.rename(columns={'Прибыль': 'profit'})\n",
    "money_df.info()"
   ]
  },
  {
   "cell_type": "markdown",
   "id": "ed1923e1",
   "metadata": {},
   "source": [
    "**Итоги шага:**\n",
    "\n",
    "1. Датафреймы были проверены на пропущенные значения, неявные и явные дубликаты в значениях.\n",
    "2. Названия столбцов датафрейма `market_df` были приведени к единому порядку.\n",
    "3. Дубликаты были ликвидированы в датафрейме `market_df`.\n",
    "4. Значения следующих столбцов датафрейма `market_df` были преобразованы в бинарные:\n",
    "- `service_type`;\n",
    "- `allow_notifications`.\n",
    "5. Названия столбцов датафрейма `market_money_df` были приведены к единому порядку.\n",
    "6. Названия столбоцв датафрейма `market_time_df` были приведены к единому порядку.\n",
    "7. Допущенные ошибки в значениях датафрейма `market_time_df` были исправлены.\n",
    "8. Названия столбцов датафрейма `money_df` были приведены к единому порядку."
   ]
  },
  {
   "cell_type": "markdown",
   "id": "f56c210a",
   "metadata": {},
   "source": [
    "# Шаг 3. Исследовательский анализ данных"
   ]
  },
  {
   "cell_type": "code",
   "execution_count": 28,
   "id": "0ee8552e",
   "metadata": {
    "scrolled": false
   },
   "outputs": [
    {
     "data": {
      "text/html": [
       "<div>\n",
       "<style scoped>\n",
       "    .dataframe tbody tr th:only-of-type {\n",
       "        vertical-align: middle;\n",
       "    }\n",
       "\n",
       "    .dataframe tbody tr th {\n",
       "        vertical-align: top;\n",
       "    }\n",
       "\n",
       "    .dataframe thead th {\n",
       "        text-align: right;\n",
       "    }\n",
       "</style>\n",
       "<table border=\"1\" class=\"dataframe\">\n",
       "  <thead>\n",
       "    <tr style=\"text-align: right;\">\n",
       "      <th></th>\n",
       "      <th>id</th>\n",
       "      <th>customer_activity</th>\n",
       "      <th>service_type</th>\n",
       "      <th>allow_notifications</th>\n",
       "      <th>market_activ_6_months</th>\n",
       "      <th>market_activ_curr_month</th>\n",
       "      <th>duration</th>\n",
       "      <th>promotional_purchases</th>\n",
       "      <th>popular_category</th>\n",
       "      <th>average_cat_views_per_visit</th>\n",
       "      <th>unpaid_products_quarterly</th>\n",
       "      <th>service_errors</th>\n",
       "      <th>pages_per_visit</th>\n",
       "    </tr>\n",
       "  </thead>\n",
       "  <tbody>\n",
       "    <tr>\n",
       "      <th>0</th>\n",
       "      <td>215348</td>\n",
       "      <td>Снизилась</td>\n",
       "      <td>1</td>\n",
       "      <td>1</td>\n",
       "      <td>3.400</td>\n",
       "      <td>5</td>\n",
       "      <td>121</td>\n",
       "      <td>0.000</td>\n",
       "      <td>Товары для детей</td>\n",
       "      <td>6</td>\n",
       "      <td>2</td>\n",
       "      <td>1</td>\n",
       "      <td>5</td>\n",
       "    </tr>\n",
       "    <tr>\n",
       "      <th>1</th>\n",
       "      <td>215349</td>\n",
       "      <td>Снизилась</td>\n",
       "      <td>1</td>\n",
       "      <td>1</td>\n",
       "      <td>4.400</td>\n",
       "      <td>4</td>\n",
       "      <td>819</td>\n",
       "      <td>0.750</td>\n",
       "      <td>Товары для детей</td>\n",
       "      <td>4</td>\n",
       "      <td>4</td>\n",
       "      <td>2</td>\n",
       "      <td>5</td>\n",
       "    </tr>\n",
       "    <tr>\n",
       "      <th>2</th>\n",
       "      <td>215350</td>\n",
       "      <td>Снизилась</td>\n",
       "      <td>0</td>\n",
       "      <td>0</td>\n",
       "      <td>4.900</td>\n",
       "      <td>3</td>\n",
       "      <td>539</td>\n",
       "      <td>0.140</td>\n",
       "      <td>Домашний текстиль</td>\n",
       "      <td>5</td>\n",
       "      <td>2</td>\n",
       "      <td>1</td>\n",
       "      <td>5</td>\n",
       "    </tr>\n",
       "    <tr>\n",
       "      <th>3</th>\n",
       "      <td>215351</td>\n",
       "      <td>Снизилась</td>\n",
       "      <td>0</td>\n",
       "      <td>1</td>\n",
       "      <td>3.200</td>\n",
       "      <td>5</td>\n",
       "      <td>896</td>\n",
       "      <td>0.990</td>\n",
       "      <td>Товары для детей</td>\n",
       "      <td>5</td>\n",
       "      <td>0</td>\n",
       "      <td>6</td>\n",
       "      <td>4</td>\n",
       "    </tr>\n",
       "    <tr>\n",
       "      <th>4</th>\n",
       "      <td>215352</td>\n",
       "      <td>Снизилась</td>\n",
       "      <td>0</td>\n",
       "      <td>0</td>\n",
       "      <td>5.100</td>\n",
       "      <td>3</td>\n",
       "      <td>1064</td>\n",
       "      <td>0.940</td>\n",
       "      <td>Товары для детей</td>\n",
       "      <td>3</td>\n",
       "      <td>2</td>\n",
       "      <td>3</td>\n",
       "      <td>2</td>\n",
       "    </tr>\n",
       "  </tbody>\n",
       "</table>\n",
       "</div>"
      ],
      "text/plain": [
       "       id customer_activity  service_type  allow_notifications  \\\n",
       "0  215348         Снизилась             1                    1   \n",
       "1  215349         Снизилась             1                    1   \n",
       "2  215350         Снизилась             0                    0   \n",
       "3  215351         Снизилась             0                    1   \n",
       "4  215352         Снизилась             0                    0   \n",
       "\n",
       "   market_activ_6_months  market_activ_curr_month  duration  \\\n",
       "0                  3.400                        5       121   \n",
       "1                  4.400                        4       819   \n",
       "2                  4.900                        3       539   \n",
       "3                  3.200                        5       896   \n",
       "4                  5.100                        3      1064   \n",
       "\n",
       "   promotional_purchases   popular_category  average_cat_views_per_visit  \\\n",
       "0                  0.000   Товары для детей                            6   \n",
       "1                  0.750   Товары для детей                            4   \n",
       "2                  0.140  Домашний текстиль                            5   \n",
       "3                  0.990   Товары для детей                            5   \n",
       "4                  0.940   Товары для детей                            3   \n",
       "\n",
       "   unpaid_products_quarterly  service_errors  pages_per_visit  \n",
       "0                          2               1                5  \n",
       "1                          4               2                5  \n",
       "2                          2               1                5  \n",
       "3                          0               6                4  \n",
       "4                          2               3                2  "
      ]
     },
     "metadata": {},
     "output_type": "display_data"
    },
    {
     "data": {
      "text/html": [
       "<div>\n",
       "<style scoped>\n",
       "    .dataframe tbody tr th:only-of-type {\n",
       "        vertical-align: middle;\n",
       "    }\n",
       "\n",
       "    .dataframe tbody tr th {\n",
       "        vertical-align: top;\n",
       "    }\n",
       "\n",
       "    .dataframe thead th {\n",
       "        text-align: right;\n",
       "    }\n",
       "</style>\n",
       "<table border=\"1\" class=\"dataframe\">\n",
       "  <thead>\n",
       "    <tr style=\"text-align: right;\">\n",
       "      <th></th>\n",
       "      <th>id</th>\n",
       "      <th>service_type</th>\n",
       "      <th>allow_notifications</th>\n",
       "      <th>market_activ_6_months</th>\n",
       "      <th>market_activ_curr_month</th>\n",
       "      <th>duration</th>\n",
       "      <th>promotional_purchases</th>\n",
       "      <th>average_cat_views_per_visit</th>\n",
       "      <th>unpaid_products_quarterly</th>\n",
       "      <th>service_errors</th>\n",
       "      <th>pages_per_visit</th>\n",
       "    </tr>\n",
       "  </thead>\n",
       "  <tbody>\n",
       "    <tr>\n",
       "      <th>count</th>\n",
       "      <td>1300.000</td>\n",
       "      <td>1300.000</td>\n",
       "      <td>1300.000</td>\n",
       "      <td>1300.000</td>\n",
       "      <td>1300.000</td>\n",
       "      <td>1300.000</td>\n",
       "      <td>1300.000</td>\n",
       "      <td>1300.000</td>\n",
       "      <td>1300.000</td>\n",
       "      <td>1300.000</td>\n",
       "      <td>1300.000</td>\n",
       "    </tr>\n",
       "    <tr>\n",
       "      <th>mean</th>\n",
       "      <td>215997.500</td>\n",
       "      <td>0.289</td>\n",
       "      <td>0.740</td>\n",
       "      <td>4.254</td>\n",
       "      <td>4.012</td>\n",
       "      <td>601.898</td>\n",
       "      <td>0.320</td>\n",
       "      <td>3.270</td>\n",
       "      <td>2.840</td>\n",
       "      <td>4.185</td>\n",
       "      <td>8.177</td>\n",
       "    </tr>\n",
       "    <tr>\n",
       "      <th>std</th>\n",
       "      <td>375.422</td>\n",
       "      <td>0.454</td>\n",
       "      <td>0.439</td>\n",
       "      <td>1.015</td>\n",
       "      <td>0.697</td>\n",
       "      <td>249.856</td>\n",
       "      <td>0.250</td>\n",
       "      <td>1.355</td>\n",
       "      <td>1.971</td>\n",
       "      <td>1.955</td>\n",
       "      <td>3.978</td>\n",
       "    </tr>\n",
       "    <tr>\n",
       "      <th>min</th>\n",
       "      <td>215348.000</td>\n",
       "      <td>0.000</td>\n",
       "      <td>0.000</td>\n",
       "      <td>0.900</td>\n",
       "      <td>3.000</td>\n",
       "      <td>110.000</td>\n",
       "      <td>0.000</td>\n",
       "      <td>1.000</td>\n",
       "      <td>0.000</td>\n",
       "      <td>0.000</td>\n",
       "      <td>1.000</td>\n",
       "    </tr>\n",
       "    <tr>\n",
       "      <th>25%</th>\n",
       "      <td>215672.750</td>\n",
       "      <td>0.000</td>\n",
       "      <td>0.000</td>\n",
       "      <td>3.700</td>\n",
       "      <td>4.000</td>\n",
       "      <td>405.500</td>\n",
       "      <td>0.170</td>\n",
       "      <td>2.000</td>\n",
       "      <td>1.000</td>\n",
       "      <td>3.000</td>\n",
       "      <td>5.000</td>\n",
       "    </tr>\n",
       "    <tr>\n",
       "      <th>50%</th>\n",
       "      <td>215997.500</td>\n",
       "      <td>0.000</td>\n",
       "      <td>1.000</td>\n",
       "      <td>4.200</td>\n",
       "      <td>4.000</td>\n",
       "      <td>606.000</td>\n",
       "      <td>0.240</td>\n",
       "      <td>3.000</td>\n",
       "      <td>3.000</td>\n",
       "      <td>4.000</td>\n",
       "      <td>8.000</td>\n",
       "    </tr>\n",
       "    <tr>\n",
       "      <th>75%</th>\n",
       "      <td>216322.250</td>\n",
       "      <td>1.000</td>\n",
       "      <td>1.000</td>\n",
       "      <td>4.900</td>\n",
       "      <td>4.000</td>\n",
       "      <td>806.000</td>\n",
       "      <td>0.300</td>\n",
       "      <td>4.000</td>\n",
       "      <td>4.000</td>\n",
       "      <td>6.000</td>\n",
       "      <td>11.000</td>\n",
       "    </tr>\n",
       "    <tr>\n",
       "      <th>max</th>\n",
       "      <td>216647.000</td>\n",
       "      <td>1.000</td>\n",
       "      <td>1.000</td>\n",
       "      <td>6.600</td>\n",
       "      <td>5.000</td>\n",
       "      <td>1079.000</td>\n",
       "      <td>0.990</td>\n",
       "      <td>6.000</td>\n",
       "      <td>10.000</td>\n",
       "      <td>9.000</td>\n",
       "      <td>20.000</td>\n",
       "    </tr>\n",
       "  </tbody>\n",
       "</table>\n",
       "</div>"
      ],
      "text/plain": [
       "              id  service_type  allow_notifications  market_activ_6_months  \\\n",
       "count   1300.000      1300.000             1300.000               1300.000   \n",
       "mean  215997.500         0.289                0.740                  4.254   \n",
       "std      375.422         0.454                0.439                  1.015   \n",
       "min   215348.000         0.000                0.000                  0.900   \n",
       "25%   215672.750         0.000                0.000                  3.700   \n",
       "50%   215997.500         0.000                1.000                  4.200   \n",
       "75%   216322.250         1.000                1.000                  4.900   \n",
       "max   216647.000         1.000                1.000                  6.600   \n",
       "\n",
       "       market_activ_curr_month  duration  promotional_purchases  \\\n",
       "count                 1300.000  1300.000               1300.000   \n",
       "mean                     4.012   601.898                  0.320   \n",
       "std                      0.697   249.856                  0.250   \n",
       "min                      3.000   110.000                  0.000   \n",
       "25%                      4.000   405.500                  0.170   \n",
       "50%                      4.000   606.000                  0.240   \n",
       "75%                      4.000   806.000                  0.300   \n",
       "max                      5.000  1079.000                  0.990   \n",
       "\n",
       "       average_cat_views_per_visit  unpaid_products_quarterly  service_errors  \\\n",
       "count                     1300.000                   1300.000        1300.000   \n",
       "mean                         3.270                      2.840           4.185   \n",
       "std                          1.355                      1.971           1.955   \n",
       "min                          1.000                      0.000           0.000   \n",
       "25%                          2.000                      1.000           3.000   \n",
       "50%                          3.000                      3.000           4.000   \n",
       "75%                          4.000                      4.000           6.000   \n",
       "max                          6.000                     10.000           9.000   \n",
       "\n",
       "       pages_per_visit  \n",
       "count         1300.000  \n",
       "mean             8.177  \n",
       "std              3.978  \n",
       "min              1.000  \n",
       "25%              5.000  \n",
       "50%              8.000  \n",
       "75%             11.000  \n",
       "max             20.000  "
      ]
     },
     "execution_count": 28,
     "metadata": {},
     "output_type": "execute_result"
    }
   ],
   "source": [
    "# Выводим значения датафрейма market_df для исследования\n",
    "display(market_df.head())\n",
    "market_df.describe()"
   ]
  },
  {
   "cell_type": "code",
   "execution_count": 29,
   "id": "3a4874ec",
   "metadata": {},
   "outputs": [
    {
     "data": {
      "text/html": [
       "<div>\n",
       "<style scoped>\n",
       "    .dataframe tbody tr th:only-of-type {\n",
       "        vertical-align: middle;\n",
       "    }\n",
       "\n",
       "    .dataframe tbody tr th {\n",
       "        vertical-align: top;\n",
       "    }\n",
       "\n",
       "    .dataframe thead th {\n",
       "        text-align: right;\n",
       "    }\n",
       "</style>\n",
       "<table border=\"1\" class=\"dataframe\">\n",
       "  <thead>\n",
       "    <tr style=\"text-align: right;\">\n",
       "      <th></th>\n",
       "      <th>id</th>\n",
       "      <th>revenue</th>\n",
       "    </tr>\n",
       "  </thead>\n",
       "  <tbody>\n",
       "    <tr>\n",
       "      <th>count</th>\n",
       "      <td>3900.000</td>\n",
       "      <td>3900.000</td>\n",
       "    </tr>\n",
       "    <tr>\n",
       "      <th>mean</th>\n",
       "      <td>215997.500</td>\n",
       "      <td>5025.696</td>\n",
       "    </tr>\n",
       "    <tr>\n",
       "      <th>std</th>\n",
       "      <td>375.326</td>\n",
       "      <td>1777.704</td>\n",
       "    </tr>\n",
       "    <tr>\n",
       "      <th>min</th>\n",
       "      <td>215348.000</td>\n",
       "      <td>0.000</td>\n",
       "    </tr>\n",
       "    <tr>\n",
       "      <th>25%</th>\n",
       "      <td>215672.750</td>\n",
       "      <td>4590.150</td>\n",
       "    </tr>\n",
       "    <tr>\n",
       "      <th>50%</th>\n",
       "      <td>215997.500</td>\n",
       "      <td>4957.500</td>\n",
       "    </tr>\n",
       "    <tr>\n",
       "      <th>75%</th>\n",
       "      <td>216322.250</td>\n",
       "      <td>5363.000</td>\n",
       "    </tr>\n",
       "    <tr>\n",
       "      <th>max</th>\n",
       "      <td>216647.000</td>\n",
       "      <td>106862.200</td>\n",
       "    </tr>\n",
       "  </tbody>\n",
       "</table>\n",
       "</div>"
      ],
      "text/plain": [
       "              id    revenue\n",
       "count   3900.000   3900.000\n",
       "mean  215997.500   5025.696\n",
       "std      375.326   1777.704\n",
       "min   215348.000      0.000\n",
       "25%   215672.750   4590.150\n",
       "50%   215997.500   4957.500\n",
       "75%   216322.250   5363.000\n",
       "max   216647.000 106862.200"
      ]
     },
     "execution_count": 29,
     "metadata": {},
     "output_type": "execute_result"
    }
   ],
   "source": [
    "market_money_df.describe()"
   ]
  },
  {
   "cell_type": "code",
   "execution_count": 30,
   "id": "276d0ca5",
   "metadata": {},
   "outputs": [
    {
     "data": {
      "text/html": [
       "<div>\n",
       "<style scoped>\n",
       "    .dataframe tbody tr th:only-of-type {\n",
       "        vertical-align: middle;\n",
       "    }\n",
       "\n",
       "    .dataframe tbody tr th {\n",
       "        vertical-align: top;\n",
       "    }\n",
       "\n",
       "    .dataframe thead th {\n",
       "        text-align: right;\n",
       "    }\n",
       "</style>\n",
       "<table border=\"1\" class=\"dataframe\">\n",
       "  <thead>\n",
       "    <tr style=\"text-align: right;\">\n",
       "      <th></th>\n",
       "      <th>id</th>\n",
       "      <th>minute</th>\n",
       "    </tr>\n",
       "  </thead>\n",
       "  <tbody>\n",
       "    <tr>\n",
       "      <th>count</th>\n",
       "      <td>2600.000</td>\n",
       "      <td>2600.000</td>\n",
       "    </tr>\n",
       "    <tr>\n",
       "      <th>mean</th>\n",
       "      <td>215997.500</td>\n",
       "      <td>13.336</td>\n",
       "    </tr>\n",
       "    <tr>\n",
       "      <th>std</th>\n",
       "      <td>375.350</td>\n",
       "      <td>4.080</td>\n",
       "    </tr>\n",
       "    <tr>\n",
       "      <th>min</th>\n",
       "      <td>215348.000</td>\n",
       "      <td>4.000</td>\n",
       "    </tr>\n",
       "    <tr>\n",
       "      <th>25%</th>\n",
       "      <td>215672.750</td>\n",
       "      <td>10.000</td>\n",
       "    </tr>\n",
       "    <tr>\n",
       "      <th>50%</th>\n",
       "      <td>215997.500</td>\n",
       "      <td>13.000</td>\n",
       "    </tr>\n",
       "    <tr>\n",
       "      <th>75%</th>\n",
       "      <td>216322.250</td>\n",
       "      <td>16.000</td>\n",
       "    </tr>\n",
       "    <tr>\n",
       "      <th>max</th>\n",
       "      <td>216647.000</td>\n",
       "      <td>23.000</td>\n",
       "    </tr>\n",
       "  </tbody>\n",
       "</table>\n",
       "</div>"
      ],
      "text/plain": [
       "              id   minute\n",
       "count   2600.000 2600.000\n",
       "mean  215997.500   13.336\n",
       "std      375.350    4.080\n",
       "min   215348.000    4.000\n",
       "25%   215672.750   10.000\n",
       "50%   215997.500   13.000\n",
       "75%   216322.250   16.000\n",
       "max   216647.000   23.000"
      ]
     },
     "execution_count": 30,
     "metadata": {},
     "output_type": "execute_result"
    }
   ],
   "source": [
    "market_time_df.describe()"
   ]
  },
  {
   "cell_type": "code",
   "execution_count": 31,
   "id": "5c91d0e9",
   "metadata": {},
   "outputs": [
    {
     "data": {
      "text/html": [
       "<div>\n",
       "<style scoped>\n",
       "    .dataframe tbody tr th:only-of-type {\n",
       "        vertical-align: middle;\n",
       "    }\n",
       "\n",
       "    .dataframe tbody tr th {\n",
       "        vertical-align: top;\n",
       "    }\n",
       "\n",
       "    .dataframe thead th {\n",
       "        text-align: right;\n",
       "    }\n",
       "</style>\n",
       "<table border=\"1\" class=\"dataframe\">\n",
       "  <thead>\n",
       "    <tr style=\"text-align: right;\">\n",
       "      <th></th>\n",
       "      <th>id</th>\n",
       "      <th>profit</th>\n",
       "    </tr>\n",
       "  </thead>\n",
       "  <tbody>\n",
       "    <tr>\n",
       "      <th>count</th>\n",
       "      <td>1300.000</td>\n",
       "      <td>1300.000</td>\n",
       "    </tr>\n",
       "    <tr>\n",
       "      <th>mean</th>\n",
       "      <td>215997.500</td>\n",
       "      <td>3.997</td>\n",
       "    </tr>\n",
       "    <tr>\n",
       "      <th>std</th>\n",
       "      <td>375.422</td>\n",
       "      <td>1.014</td>\n",
       "    </tr>\n",
       "    <tr>\n",
       "      <th>min</th>\n",
       "      <td>215348.000</td>\n",
       "      <td>0.860</td>\n",
       "    </tr>\n",
       "    <tr>\n",
       "      <th>25%</th>\n",
       "      <td>215672.750</td>\n",
       "      <td>3.300</td>\n",
       "    </tr>\n",
       "    <tr>\n",
       "      <th>50%</th>\n",
       "      <td>215997.500</td>\n",
       "      <td>4.045</td>\n",
       "    </tr>\n",
       "    <tr>\n",
       "      <th>75%</th>\n",
       "      <td>216322.250</td>\n",
       "      <td>4.670</td>\n",
       "    </tr>\n",
       "    <tr>\n",
       "      <th>max</th>\n",
       "      <td>216647.000</td>\n",
       "      <td>7.430</td>\n",
       "    </tr>\n",
       "  </tbody>\n",
       "</table>\n",
       "</div>"
      ],
      "text/plain": [
       "              id   profit\n",
       "count   1300.000 1300.000\n",
       "mean  215997.500    3.997\n",
       "std      375.422    1.014\n",
       "min   215348.000    0.860\n",
       "25%   215672.750    3.300\n",
       "50%   215997.500    4.045\n",
       "75%   216322.250    4.670\n",
       "max   216647.000    7.430"
      ]
     },
     "execution_count": 31,
     "metadata": {},
     "output_type": "execute_result"
    }
   ],
   "source": [
    "money_df.describe()"
   ]
  },
  {
   "cell_type": "code",
   "execution_count": 32,
   "id": "555e26a7",
   "metadata": {},
   "outputs": [
    {
     "data": {
      "text/plain": [
       "array(['Снизилась', 'Прежний уровень'], dtype=object)"
      ]
     },
     "execution_count": 32,
     "metadata": {},
     "output_type": "execute_result"
    }
   ],
   "source": [
    "market_df.customer_activity.unique()"
   ]
  },
  {
   "cell_type": "code",
   "execution_count": 33,
   "id": "8128f759",
   "metadata": {
    "scrolled": false
   },
   "outputs": [
    {
     "data": {
      "text/html": [
       "<div>\n",
       "<style scoped>\n",
       "    .dataframe tbody tr th:only-of-type {\n",
       "        vertical-align: middle;\n",
       "    }\n",
       "\n",
       "    .dataframe tbody tr th {\n",
       "        vertical-align: top;\n",
       "    }\n",
       "\n",
       "    .dataframe thead th {\n",
       "        text-align: right;\n",
       "    }\n",
       "</style>\n",
       "<table border=\"1\" class=\"dataframe\">\n",
       "  <thead>\n",
       "    <tr style=\"text-align: right;\">\n",
       "      <th></th>\n",
       "      <th>id</th>\n",
       "      <th>customer_activity</th>\n",
       "      <th>service_type</th>\n",
       "      <th>allow_notifications</th>\n",
       "      <th>market_activ_6_months</th>\n",
       "      <th>market_activ_curr_month</th>\n",
       "      <th>duration</th>\n",
       "      <th>promotional_purchases</th>\n",
       "      <th>popular_category</th>\n",
       "      <th>average_cat_views_per_visit</th>\n",
       "      <th>unpaid_products_quarterly</th>\n",
       "      <th>service_errors</th>\n",
       "      <th>pages_per_visit</th>\n",
       "      <th>period</th>\n",
       "      <th>revenue</th>\n",
       "    </tr>\n",
       "  </thead>\n",
       "  <tbody>\n",
       "    <tr>\n",
       "      <th>0</th>\n",
       "      <td>215348</td>\n",
       "      <td>Снизилась</td>\n",
       "      <td>1</td>\n",
       "      <td>1</td>\n",
       "      <td>3.400</td>\n",
       "      <td>5</td>\n",
       "      <td>121</td>\n",
       "      <td>0.000</td>\n",
       "      <td>Товары для детей</td>\n",
       "      <td>6</td>\n",
       "      <td>2</td>\n",
       "      <td>1</td>\n",
       "      <td>5</td>\n",
       "      <td>препредыдущий_месяц</td>\n",
       "      <td>0.000</td>\n",
       "    </tr>\n",
       "    <tr>\n",
       "      <th>1</th>\n",
       "      <td>215348</td>\n",
       "      <td>Снизилась</td>\n",
       "      <td>1</td>\n",
       "      <td>1</td>\n",
       "      <td>3.400</td>\n",
       "      <td>5</td>\n",
       "      <td>121</td>\n",
       "      <td>0.000</td>\n",
       "      <td>Товары для детей</td>\n",
       "      <td>6</td>\n",
       "      <td>2</td>\n",
       "      <td>1</td>\n",
       "      <td>5</td>\n",
       "      <td>текущий_месяц</td>\n",
       "      <td>3293.100</td>\n",
       "    </tr>\n",
       "    <tr>\n",
       "      <th>2</th>\n",
       "      <td>215348</td>\n",
       "      <td>Снизилась</td>\n",
       "      <td>1</td>\n",
       "      <td>1</td>\n",
       "      <td>3.400</td>\n",
       "      <td>5</td>\n",
       "      <td>121</td>\n",
       "      <td>0.000</td>\n",
       "      <td>Товары для детей</td>\n",
       "      <td>6</td>\n",
       "      <td>2</td>\n",
       "      <td>1</td>\n",
       "      <td>5</td>\n",
       "      <td>предыдущий_месяц</td>\n",
       "      <td>0.000</td>\n",
       "    </tr>\n",
       "    <tr>\n",
       "      <th>3</th>\n",
       "      <td>215349</td>\n",
       "      <td>Снизилась</td>\n",
       "      <td>1</td>\n",
       "      <td>1</td>\n",
       "      <td>4.400</td>\n",
       "      <td>4</td>\n",
       "      <td>819</td>\n",
       "      <td>0.750</td>\n",
       "      <td>Товары для детей</td>\n",
       "      <td>4</td>\n",
       "      <td>4</td>\n",
       "      <td>2</td>\n",
       "      <td>5</td>\n",
       "      <td>препредыдущий_месяц</td>\n",
       "      <td>4472.000</td>\n",
       "    </tr>\n",
       "    <tr>\n",
       "      <th>4</th>\n",
       "      <td>215349</td>\n",
       "      <td>Снизилась</td>\n",
       "      <td>1</td>\n",
       "      <td>1</td>\n",
       "      <td>4.400</td>\n",
       "      <td>4</td>\n",
       "      <td>819</td>\n",
       "      <td>0.750</td>\n",
       "      <td>Товары для детей</td>\n",
       "      <td>4</td>\n",
       "      <td>4</td>\n",
       "      <td>2</td>\n",
       "      <td>5</td>\n",
       "      <td>текущий_месяц</td>\n",
       "      <td>4971.600</td>\n",
       "    </tr>\n",
       "  </tbody>\n",
       "</table>\n",
       "</div>"
      ],
      "text/plain": [
       "       id customer_activity  service_type  allow_notifications  \\\n",
       "0  215348         Снизилась             1                    1   \n",
       "1  215348         Снизилась             1                    1   \n",
       "2  215348         Снизилась             1                    1   \n",
       "3  215349         Снизилась             1                    1   \n",
       "4  215349         Снизилась             1                    1   \n",
       "\n",
       "   market_activ_6_months  market_activ_curr_month  duration  \\\n",
       "0                  3.400                        5       121   \n",
       "1                  3.400                        5       121   \n",
       "2                  3.400                        5       121   \n",
       "3                  4.400                        4       819   \n",
       "4                  4.400                        4       819   \n",
       "\n",
       "   promotional_purchases  popular_category  average_cat_views_per_visit  \\\n",
       "0                  0.000  Товары для детей                            6   \n",
       "1                  0.000  Товары для детей                            6   \n",
       "2                  0.000  Товары для детей                            6   \n",
       "3                  0.750  Товары для детей                            4   \n",
       "4                  0.750  Товары для детей                            4   \n",
       "\n",
       "   unpaid_products_quarterly  service_errors  pages_per_visit  \\\n",
       "0                          2               1                5   \n",
       "1                          2               1                5   \n",
       "2                          2               1                5   \n",
       "3                          4               2                5   \n",
       "4                          4               2                5   \n",
       "\n",
       "                period  revenue  \n",
       "0  препредыдущий_месяц    0.000  \n",
       "1        текущий_месяц 3293.100  \n",
       "2     предыдущий_месяц    0.000  \n",
       "3  препредыдущий_месяц 4472.000  \n",
       "4        текущий_месяц 4971.600  "
      ]
     },
     "metadata": {},
     "output_type": "display_data"
    },
    {
     "data": {
      "text/plain": [
       "count     3900.000\n",
       "mean      5025.696\n",
       "std       1777.704\n",
       "min          0.000\n",
       "25%       4590.150\n",
       "50%       4957.500\n",
       "75%       5363.000\n",
       "max     106862.200\n",
       "Name: revenue, dtype: float64"
      ]
     },
     "metadata": {},
     "output_type": "display_data"
    },
    {
     "data": {
      "image/png": "[encoded data removed]",
      "text/plain": [
       "<Figure size 432x288 with 1 Axes>"
      ]
     },
     "metadata": {
      "needs_background": "light"
     },
     "output_type": "display_data"
    },
    {
     "name": "stdout",
     "output_type": "stream",
     "text": [
      "Общее количество активных клиентов: 3900\n",
      "Общая прибыль: 19600214.6\n"
     ]
    }
   ],
   "source": [
    "# Фильтрация клиентов с покупательской активностью не менее трёх месяцев\n",
    "\n",
    "active_customers_finder = market_df[(market_df['customer_activity'] == 'Прежний уровень')\\\n",
    "                             | (market_df['customer_activity'] == 'Снизилась')]\n",
    "\n",
    "\n",
    "# Объединение данных с информацией о прибыли\n",
    "active_customers_with_revenue = active_customers_finder.merge(market_money_df, on='id', how='inner')\n",
    "\n",
    "# Вывод первых нескольких строк объединённого датафрейма\n",
    "display(active_customers_with_revenue.head())\n",
    "\n",
    "# Вывод основных статистических показателей по прибыли\n",
    "display(active_customers_with_revenue['revenue'].describe())\n",
    "\n",
    "# Визуализация данных, если необходимо\n",
    "# Например, гистограмма распределения прибыли\n",
    "plt.hist(active_customers_with_revenue['revenue'], bins=20)\n",
    "plt.xlabel('Выручка')\n",
    "plt.ylabel('Частота')\n",
    "plt.title('Распределение выручки')\n",
    "plt.grid()\n",
    "plt.show()\n",
    "\n",
    "# Вывод общего числа клиентов и их прибыли\n",
    "total_customers = len(active_customers_with_revenue)\n",
    "total_revenue = active_customers_with_revenue['revenue'].sum()\n",
    "print(f\"Общее количество активных клиентов: {total_customers}\")\n",
    "print(f\"Общая прибыль: {total_revenue}\")\n"
   ]
  },
  {
   "cell_type": "code",
   "execution_count": 34,
   "id": "333128bf",
   "metadata": {},
   "outputs": [
    {
     "data": {
      "text/plain": [
       "array(['препредыдущий_месяц', 'текущий_месяц', 'предыдущий_месяц'],\n",
       "      dtype=object)"
      ]
     },
     "execution_count": 34,
     "metadata": {},
     "output_type": "execute_result"
    }
   ],
   "source": [
    "active_customers_with_revenue.period.unique()"
   ]
  },
  {
   "cell_type": "code",
   "execution_count": null,
   "id": "525e4233",
   "metadata": {},
   "outputs": [],
   "source": []
  },
  {
   "cell_type": "code",
   "execution_count": 35,
   "id": "efbfb848",
   "metadata": {},
   "outputs": [
    {
     "data": {
      "image/png": "[encoded data removed]",
      "text/plain": [
       "<Figure size 576x432 with 1 Axes>"
      ]
     },
     "metadata": {
      "needs_background": "light"
     },
     "output_type": "display_data"
    }
   ],
   "source": [
    "# Ящик с усами\n",
    "plt.figure(figsize=(8, 6))\n",
    "sns.boxplot(y=active_customers_with_revenue['revenue'])\n",
    "plt.title(f'Boxplot of revenue')\n",
    "plt.ylabel('revenue')\n",
    "plt.grid(True)\n",
    "plt.show()"
   ]
  },
  {
   "cell_type": "markdown",
   "id": "3273784e",
   "metadata": {},
   "source": [
    "По построенному графику можно понять, что в столбец `revenue` есть выбросы в данных"
   ]
  },
  {
   "cell_type": "code",
   "execution_count": 36,
   "id": "1da7eb92",
   "metadata": {},
   "outputs": [
    {
     "data": {
      "text/plain": [
       "count     3900.000\n",
       "mean      5025.696\n",
       "std       1777.704\n",
       "min          0.000\n",
       "25%       4590.150\n",
       "50%       4957.500\n",
       "75%       5363.000\n",
       "max     106862.200\n",
       "Name: revenue, dtype: float64"
      ]
     },
     "execution_count": 36,
     "metadata": {},
     "output_type": "execute_result"
    }
   ],
   "source": [
    "active_customers_with_revenue['revenue'].describe()"
   ]
  },
  {
   "cell_type": "code",
   "execution_count": 37,
   "id": "f9c18928",
   "metadata": {},
   "outputs": [
    {
     "data": {
      "text/plain": [
       "count   3899.000\n",
       "mean    4999.577\n",
       "std      707.000\n",
       "min        0.000\n",
       "25%     4590.100\n",
       "50%     4957.000\n",
       "75%     5363.000\n",
       "max     7799.400\n",
       "Name: revenue, dtype: float64"
      ]
     },
     "execution_count": 37,
     "metadata": {},
     "output_type": "execute_result"
    }
   ],
   "source": [
    "# Создаем функцию удаления выбросов выше IQR\n",
    "def drop_of_outliers_in_revenue_above(dataframe, value):\n",
    "    dataframe.drop(dataframe[dataframe['revenue'] >= value].index, inplace=True)\n",
    "    return dataframe\n",
    "\n",
    "value_active_customers_with_revenue_above = 100000.0\n",
    "\n",
    "# active_customers_with_revenue = \n",
    "drop_of_outliers_in_revenue_above(\n",
    "    active_customers_with_revenue, \n",
    "    value_active_customers_with_revenue_above\n",
    ")\n",
    "active_customers_with_revenue.revenue.describe()"
   ]
  },
  {
   "cell_type": "code",
   "execution_count": 38,
   "id": "0e90cfa1",
   "metadata": {},
   "outputs": [
    {
     "data": {
      "text/plain": [
       "id                             6\n",
       "customer_activity              6\n",
       "service_type                   6\n",
       "allow_notifications            6\n",
       "market_activ_6_months          6\n",
       "market_activ_curr_month        6\n",
       "duration                       6\n",
       "promotional_purchases          6\n",
       "popular_category               6\n",
       "average_cat_views_per_visit    6\n",
       "unpaid_products_quarterly      6\n",
       "service_errors                 6\n",
       "pages_per_visit                6\n",
       "period                         6\n",
       "revenue                        6\n",
       "dtype: int64"
      ]
     },
     "execution_count": 38,
     "metadata": {},
     "output_type": "execute_result"
    }
   ],
   "source": [
    "# Проверяем количество выбросов ниже IQR\n",
    "active_customers_with_revenue[active_customers_with_revenue[\n",
    "    'revenue'\n",
    "] <= 2500\n",
    "].count()"
   ]
  },
  {
   "cell_type": "code",
   "execution_count": 39,
   "id": "b31c13f1",
   "metadata": {},
   "outputs": [
    {
     "data": {
      "text/plain": [
       "count   3893.000\n",
       "mean    5007.283\n",
       "std      679.725\n",
       "min     2758.700\n",
       "25%     4592.000\n",
       "50%     4959.000\n",
       "75%     5363.000\n",
       "max     7799.400\n",
       "Name: revenue, dtype: float64"
      ]
     },
     "execution_count": 39,
     "metadata": {},
     "output_type": "execute_result"
    }
   ],
   "source": [
    "# Создаем функцию удаления выбросов ниже IQR\n",
    "def drop_of_outliers_in_revenue_below(dataframe, value):\n",
    "    dataframe.drop(dataframe[dataframe['revenue'] <= value].index, inplace=True)\n",
    "    return dataframe\n",
    "\n",
    "value_active_customers_with_revenue_below = 2500\n",
    "\n",
    "drop_of_outliers_in_revenue_below(\n",
    "    active_customers_with_revenue, \n",
    "    value_active_customers_with_revenue_below\n",
    ")\n",
    "active_customers_with_revenue.revenue.describe()"
   ]
  },
  {
   "cell_type": "code",
   "execution_count": 40,
   "id": "9cf8c630",
   "metadata": {},
   "outputs": [
    {
     "data": {
      "text/plain": [
       "['market_df', 'market_money_df', 'market_time_df', 'money_df']"
      ]
     },
     "execution_count": 40,
     "metadata": {},
     "output_type": "execute_result"
    }
   ],
   "source": [
    "dfss_names"
   ]
  },
  {
   "cell_type": "code",
   "execution_count": 41,
   "id": "ef843467",
   "metadata": {},
   "outputs": [
    {
     "name": "stdout",
     "output_type": "stream",
     "text": [
      "<class 'pandas.core.frame.DataFrame'>\n",
      "RangeIndex: 3900 entries, 0 to 3899\n",
      "Data columns (total 3 columns):\n",
      " #   Column   Non-Null Count  Dtype  \n",
      "---  ------   --------------  -----  \n",
      " 0   id       3900 non-null   int64  \n",
      " 1   period   3900 non-null   object \n",
      " 2   revenue  3900 non-null   float64\n",
      "dtypes: float64(1), int64(1), object(1)\n",
      "memory usage: 91.5+ KB\n"
     ]
    },
    {
     "data": {
      "text/plain": [
       "id         0\n",
       "period     0\n",
       "revenue    0\n",
       "dtype: int64"
      ]
     },
     "execution_count": 41,
     "metadata": {},
     "output_type": "execute_result"
    }
   ],
   "source": [
    "# Удаляем значения с выбросами в исходном датафрейме\n",
    "# чтобы избавиться от них для последующего использования\n",
    "\n",
    "market_money_df.info()\n",
    "\n",
    "drop_of_outliers_in_revenue_above(\n",
    "    market_money_df,\n",
    "    value_active_customers_with_revenue_above\n",
    ")\n",
    "\n",
    "drop_of_outliers_in_revenue_below(\n",
    "    market_money_df,\n",
    "    value_active_customers_with_revenue_below\n",
    ")\n",
    "\n",
    "market_money_df[market_money_df[\n",
    "    'revenue'\n",
    "] >= 100000].count()"
   ]
  },
  {
   "cell_type": "code",
   "execution_count": 43,
   "id": "270049a0",
   "metadata": {},
   "outputs": [
    {
     "data": {
      "image/png": "[encoded data removed]",
      "text/plain": [
       "<Figure size 576x432 with 1 Axes>"
      ]
     },
     "metadata": {
      "needs_background": "light"
     },
     "output_type": "display_data"
    }
   ],
   "source": [
    "# Ящик с усами\n",
    "plt.figure(figsize=(8, 6))\n",
    "sns.boxplot(y=active_customers_with_revenue['revenue'])\n",
    "plt.title(f'Boxplot of revenue')\n",
    "plt.ylabel('revenue')\n",
    "plt.grid(True)\n",
    "plt.show()"
   ]
  },
  {
   "cell_type": "code",
   "execution_count": null,
   "id": "b8ab2688",
   "metadata": {},
   "outputs": [],
   "source": []
  },
  {
   "cell_type": "code",
   "execution_count": 44,
   "id": "33a8beaf",
   "metadata": {},
   "outputs": [
    {
     "name": "stdout",
     "output_type": "stream",
     "text": [
      "<class 'pandas.core.frame.DataFrame'>\n",
      "Int64Index: 3893 entries, 1 to 3899\n",
      "Data columns (total 15 columns):\n",
      " #   Column                       Non-Null Count  Dtype  \n",
      "---  ------                       --------------  -----  \n",
      " 0   id                           3893 non-null   int64  \n",
      " 1   customer_activity            3893 non-null   object \n",
      " 2   service_type                 3893 non-null   int64  \n",
      " 3   allow_notifications          3893 non-null   int64  \n",
      " 4   market_activ_6_months        3893 non-null   float64\n",
      " 5   market_activ_curr_month      3893 non-null   int64  \n",
      " 6   duration                     3893 non-null   int64  \n",
      " 7   promotional_purchases        3893 non-null   float64\n",
      " 8   popular_category             3893 non-null   object \n",
      " 9   average_cat_views_per_visit  3893 non-null   int64  \n",
      " 10  unpaid_products_quarterly    3893 non-null   int64  \n",
      " 11  service_errors               3893 non-null   int64  \n",
      " 12  pages_per_visit              3893 non-null   int64  \n",
      " 13  period                       3893 non-null   object \n",
      " 14  revenue                      3893 non-null   float64\n",
      "dtypes: float64(3), int64(9), object(3)\n",
      "memory usage: 486.6+ KB\n"
     ]
    },
    {
     "data": {
      "text/plain": [
       "count   3893.000\n",
       "mean    5007.283\n",
       "std      679.725\n",
       "min     2758.700\n",
       "25%     4592.000\n",
       "50%     4959.000\n",
       "75%     5363.000\n",
       "max     7799.400\n",
       "Name: revenue, dtype: float64"
      ]
     },
     "execution_count": 44,
     "metadata": {},
     "output_type": "execute_result"
    }
   ],
   "source": [
    "active_customers_with_revenue.info()\n",
    "\n",
    "active_customers_with_revenue.revenue.describe()"
   ]
  },
  {
   "cell_type": "code",
   "execution_count": 45,
   "id": "5874e857",
   "metadata": {},
   "outputs": [
    {
     "name": "stdout",
     "output_type": "stream",
     "text": [
      "Количество уникальных пользователей с покупками в хотя бы одном месяце: 1296\n"
     ]
    }
   ],
   "source": [
    "# Отфильтровать пользователей с активностью менее трех месяцев и с покупками хотя бы в одном из трех месяцев\n",
    "active_customers_at_least_3_months_with_purchase = active_customers_with_revenue.groupby('id').filter(lambda x: (len(x) >= 3) and (x['revenue'].sum() > 1))\n",
    "\n",
    "\n",
    "# Удалить пользователей без покупок хотя бы в одном из трех месяцев\n",
    "active_customers_with_purchase = active_customers_at_least_3_months_with_purchase[active_customers_at_least_3_months_with_purchase['revenue'] > 1]\n",
    "\n",
    "# Проверка результата\n",
    "print(\"Количество уникальных пользователей с покупками в хотя бы одном месяце:\", \n",
    "      active_customers_with_purchase['id'].nunique())\n"
   ]
  },
  {
   "cell_type": "code",
   "execution_count": 46,
   "id": "1c623c3f",
   "metadata": {},
   "outputs": [
    {
     "data": {
      "text/plain": [
       "2"
      ]
     },
     "execution_count": 46,
     "metadata": {},
     "output_type": "execute_result"
    }
   ],
   "source": [
    "active_customers_with_purchase.customer_activity.nunique()"
   ]
  },
  {
   "cell_type": "code",
   "execution_count": 47,
   "id": "787801e5",
   "metadata": {},
   "outputs": [
    {
     "data": {
      "text/plain": [
       "array(['препредыдущий_месяц', 'текущий_месяц', 'предыдущий_месяц'],\n",
       "      dtype=object)"
      ]
     },
     "execution_count": 47,
     "metadata": {},
     "output_type": "execute_result"
    }
   ],
   "source": [
    "active_customers_with_purchase.period.unique()"
   ]
  },
  {
   "cell_type": "markdown",
   "id": "d9219fac",
   "metadata": {},
   "source": [
    "**Вывод:**\n",
    "\n",
    "1. В итоге проведенного анализа, после отдельного вывода клиентов с пользовательской активностью, получились следующие:\n",
    "- Общее количество активных клиентов: `3900`\n",
    "- Общая прибыль составила `19600214.6`\n",
    "\n",
    "2. Средняя прибыль составила:\n",
    "- `4959`\n",
    "\n",
    "3. По графику распределения выручки можно сделать вывод, что распределение нормальное.\n",
    "\n",
    "4. Выбросы были выявлены и удалены в столбце `revenue`\n",
    "\n",
    "\n",
    "5. Был проведен анализ пользователей с покупками хотя бы в одном из последних 3-х месяцев.Уникальное количество составило `1296`\n"
   ]
  },
  {
   "cell_type": "code",
   "execution_count": null,
   "id": "98e1a3b4",
   "metadata": {},
   "outputs": [],
   "source": []
  },
  {
   "cell_type": "markdown",
   "id": "23b1b285",
   "metadata": {},
   "source": [
    "# Шаг 4. Объединение таблиц"
   ]
  },
  {
   "cell_type": "code",
   "execution_count": 49,
   "id": "fc85f61e",
   "metadata": {},
   "outputs": [
    {
     "name": "stdout",
     "output_type": "stream",
     "text": [
      "<class 'pandas.core.frame.DataFrame'>\n",
      "Int64Index: 3893 entries, 1 to 3899\n",
      "Data columns (total 3 columns):\n",
      " #   Column        Non-Null Count  Dtype  \n",
      "---  ------        --------------  -----  \n",
      " 0   id            3893 non-null   int64  \n",
      " 1   period_money  3893 non-null   object \n",
      " 2   revenue       3893 non-null   float64\n",
      "dtypes: float64(1), int64(1), object(1)\n",
      "memory usage: 121.7+ KB\n",
      "\n",
      "<class 'pandas.core.frame.DataFrame'>\n",
      "RangeIndex: 2600 entries, 0 to 2599\n",
      "Data columns (total 3 columns):\n",
      " #   Column       Non-Null Count  Dtype \n",
      "---  ------       --------------  ----- \n",
      " 0   id           2600 non-null   int64 \n",
      " 1   period_time  2600 non-null   object\n",
      " 2   minute       2600 non-null   int64 \n",
      "dtypes: int64(2), object(1)\n",
      "memory usage: 61.1+ KB\n"
     ]
    }
   ],
   "source": [
    "# Изменяем название столбца period датафрейма market_money_df\n",
    "market_money_df.rename(columns={'period': 'period_money'}, inplace=True)\n",
    "\n",
    "# Изменяем название столбца period датафрейма market_time_df\n",
    "market_time_df.rename(columns={'period': 'period_time'}, inplace=True)\n",
    "\n",
    "market_money_df.info()\n",
    "print()\n",
    "market_time_df.info()"
   ]
  },
  {
   "cell_type": "code",
   "execution_count": 50,
   "id": "c5d42144",
   "metadata": {},
   "outputs": [
    {
     "name": "stdout",
     "output_type": "stream",
     "text": [
      "<class 'pandas.core.frame.DataFrame'>\n",
      "RangeIndex: 2600 entries, 0 to 2599\n",
      "Data columns (total 3 columns):\n",
      " #   Column       Non-Null Count  Dtype \n",
      "---  ------       --------------  ----- \n",
      " 0   id           2600 non-null   int64 \n",
      " 1   period_time  2600 non-null   object\n",
      " 2   minute       2600 non-null   int64 \n",
      "dtypes: int64(2), object(1)\n",
      "memory usage: 61.1+ KB\n"
     ]
    }
   ],
   "source": [
    "market_time_df.info()"
   ]
  },
  {
   "cell_type": "code",
   "execution_count": 51,
   "id": "d4125121",
   "metadata": {},
   "outputs": [
    {
     "name": "stdout",
     "output_type": "stream",
     "text": [
      "<class 'pandas.core.frame.DataFrame'>\n",
      "Int64Index: 1300 entries, 215348 to 216647\n",
      "Data columns (total 3 columns):\n",
      " #   Column               Non-Null Count  Dtype  \n",
      "---  ------               --------------  -----  \n",
      " 0   предыдущий_месяц     1297 non-null   float64\n",
      " 1   препредыдущий_месяц  1297 non-null   float64\n",
      " 2   текущий_месяц        1299 non-null   float64\n",
      "dtypes: float64(3)\n",
      "memory usage: 40.6 KB\n"
     ]
    },
    {
     "data": {
      "text/html": [
       "<div>\n",
       "<style scoped>\n",
       "    .dataframe tbody tr th:only-of-type {\n",
       "        vertical-align: middle;\n",
       "    }\n",
       "\n",
       "    .dataframe tbody tr th {\n",
       "        vertical-align: top;\n",
       "    }\n",
       "\n",
       "    .dataframe thead th {\n",
       "        text-align: right;\n",
       "    }\n",
       "</style>\n",
       "<table border=\"1\" class=\"dataframe\">\n",
       "  <thead>\n",
       "    <tr style=\"text-align: right;\">\n",
       "      <th>period_money</th>\n",
       "      <th>предыдущий_месяц</th>\n",
       "      <th>препредыдущий_месяц</th>\n",
       "      <th>текущий_месяц</th>\n",
       "    </tr>\n",
       "    <tr>\n",
       "      <th>id</th>\n",
       "      <th></th>\n",
       "      <th></th>\n",
       "      <th></th>\n",
       "    </tr>\n",
       "  </thead>\n",
       "  <tbody>\n",
       "    <tr>\n",
       "      <th>215348</th>\n",
       "      <td>NaN</td>\n",
       "      <td>NaN</td>\n",
       "      <td>3293.100</td>\n",
       "    </tr>\n",
       "    <tr>\n",
       "      <th>215349</th>\n",
       "      <td>5216.000</td>\n",
       "      <td>4472.000</td>\n",
       "      <td>4971.600</td>\n",
       "    </tr>\n",
       "    <tr>\n",
       "      <th>215350</th>\n",
       "      <td>5457.500</td>\n",
       "      <td>4826.000</td>\n",
       "      <td>5058.400</td>\n",
       "    </tr>\n",
       "    <tr>\n",
       "      <th>215351</th>\n",
       "      <td>6158.000</td>\n",
       "      <td>4793.000</td>\n",
       "      <td>6610.400</td>\n",
       "    </tr>\n",
       "    <tr>\n",
       "      <th>215352</th>\n",
       "      <td>5807.500</td>\n",
       "      <td>4594.000</td>\n",
       "      <td>5872.500</td>\n",
       "    </tr>\n",
       "  </tbody>\n",
       "</table>\n",
       "</div>"
      ],
      "text/plain": [
       "period_money  предыдущий_месяц  препредыдущий_месяц  текущий_месяц\n",
       "id                                                                \n",
       "215348                     NaN                  NaN       3293.100\n",
       "215349                5216.000             4472.000       4971.600\n",
       "215350                5457.500             4826.000       5058.400\n",
       "215351                6158.000             4793.000       6610.400\n",
       "215352                5807.500             4594.000       5872.500"
      ]
     },
     "execution_count": 51,
     "metadata": {},
     "output_type": "execute_result"
    }
   ],
   "source": [
    "pivot_market_money_df = market_money_df.pivot_table(index='id', columns='period_money', values='revenue', aggfunc='mean')\n",
    "\n",
    "pivot_market_money_df.info()\n",
    "pivot_market_money_df.head()"
   ]
  },
  {
   "cell_type": "code",
   "execution_count": 52,
   "id": "edab66b8",
   "metadata": {},
   "outputs": [
    {
     "name": "stdout",
     "output_type": "stream",
     "text": [
      "<class 'pandas.core.frame.DataFrame'>\n",
      "Int64Index: 1296 entries, 215349 to 216647\n",
      "Data columns (total 3 columns):\n",
      " #   Column               Non-Null Count  Dtype  \n",
      "---  ------               --------------  -----  \n",
      " 0   предыдущий_месяц     1296 non-null   float64\n",
      " 1   препредыдущий_месяц  1296 non-null   float64\n",
      " 2   текущий_месяц        1296 non-null   float64\n",
      "dtypes: float64(3)\n",
      "memory usage: 40.5 KB\n"
     ]
    },
    {
     "data": {
      "text/plain": [
       "1296"
      ]
     },
     "execution_count": 52,
     "metadata": {},
     "output_type": "execute_result"
    }
   ],
   "source": [
    "pivot_market_money_df.dropna(inplace=True)\n",
    "pivot_market_money_df.info()\n",
    "pivot_market_money_df.shape[0]"
   ]
  },
  {
   "cell_type": "code",
   "execution_count": 53,
   "id": "26d67c57",
   "metadata": {},
   "outputs": [
    {
     "data": {
      "text/html": [
       "<div>\n",
       "<style scoped>\n",
       "    .dataframe tbody tr th:only-of-type {\n",
       "        vertical-align: middle;\n",
       "    }\n",
       "\n",
       "    .dataframe tbody tr th {\n",
       "        vertical-align: top;\n",
       "    }\n",
       "\n",
       "    .dataframe thead th {\n",
       "        text-align: right;\n",
       "    }\n",
       "</style>\n",
       "<table border=\"1\" class=\"dataframe\">\n",
       "  <thead>\n",
       "    <tr style=\"text-align: right;\">\n",
       "      <th>period_time</th>\n",
       "      <th>предыдущий_месяц</th>\n",
       "      <th>текущий_месяц</th>\n",
       "    </tr>\n",
       "    <tr>\n",
       "      <th>id</th>\n",
       "      <th></th>\n",
       "      <th></th>\n",
       "    </tr>\n",
       "  </thead>\n",
       "  <tbody>\n",
       "    <tr>\n",
       "      <th>215348</th>\n",
       "      <td>13</td>\n",
       "      <td>14</td>\n",
       "    </tr>\n",
       "    <tr>\n",
       "      <th>215349</th>\n",
       "      <td>12</td>\n",
       "      <td>10</td>\n",
       "    </tr>\n",
       "    <tr>\n",
       "      <th>215350</th>\n",
       "      <td>8</td>\n",
       "      <td>13</td>\n",
       "    </tr>\n",
       "    <tr>\n",
       "      <th>215351</th>\n",
       "      <td>11</td>\n",
       "      <td>13</td>\n",
       "    </tr>\n",
       "    <tr>\n",
       "      <th>215352</th>\n",
       "      <td>8</td>\n",
       "      <td>11</td>\n",
       "    </tr>\n",
       "  </tbody>\n",
       "</table>\n",
       "</div>"
      ],
      "text/plain": [
       "period_time  предыдущий_месяц  текущий_месяц\n",
       "id                                          \n",
       "215348                     13             14\n",
       "215349                     12             10\n",
       "215350                      8             13\n",
       "215351                     11             13\n",
       "215352                      8             11"
      ]
     },
     "execution_count": 53,
     "metadata": {},
     "output_type": "execute_result"
    }
   ],
   "source": [
    "pivot_market_time_df = market_time_df.pivot_table(index='id', columns='period_time', values='minute', aggfunc='mean')\n",
    "pivot_market_time_df.head()"
   ]
  },
  {
   "cell_type": "code",
   "execution_count": 54,
   "id": "2b65f618",
   "metadata": {},
   "outputs": [
    {
     "data": {
      "text/plain": [
       "period_time\n",
       "предыдущий_месяц    0\n",
       "текущий_месяц       0\n",
       "dtype: int64"
      ]
     },
     "execution_count": 54,
     "metadata": {},
     "output_type": "execute_result"
    }
   ],
   "source": [
    "pivot_market_time_df.isna().sum()"
   ]
  },
  {
   "cell_type": "code",
   "execution_count": 55,
   "id": "d6aba955",
   "metadata": {},
   "outputs": [
    {
     "name": "stdout",
     "output_type": "stream",
     "text": [
      "<class 'pandas.core.frame.DataFrame'>\n",
      "RangeIndex: 1300 entries, 0 to 1299\n",
      "Data columns (total 13 columns):\n",
      " #   Column                       Non-Null Count  Dtype  \n",
      "---  ------                       --------------  -----  \n",
      " 0   id                           1300 non-null   int64  \n",
      " 1   customer_activity            1300 non-null   object \n",
      " 2   service_type                 1300 non-null   int64  \n",
      " 3   allow_notifications          1300 non-null   int64  \n",
      " 4   market_activ_6_months        1300 non-null   float64\n",
      " 5   market_activ_curr_month      1300 non-null   int64  \n",
      " 6   duration                     1300 non-null   int64  \n",
      " 7   promotional_purchases        1300 non-null   float64\n",
      " 8   popular_category             1300 non-null   object \n",
      " 9   average_cat_views_per_visit  1300 non-null   int64  \n",
      " 10  unpaid_products_quarterly    1300 non-null   int64  \n",
      " 11  service_errors               1300 non-null   int64  \n",
      " 12  pages_per_visit              1300 non-null   int64  \n",
      "dtypes: float64(2), int64(9), object(2)\n",
      "memory usage: 132.2+ KB\n"
     ]
    },
    {
     "data": {
      "text/plain": [
       "id                             0\n",
       "customer_activity              0\n",
       "service_type                   0\n",
       "allow_notifications            0\n",
       "market_activ_6_months          0\n",
       "market_activ_curr_month        0\n",
       "duration                       0\n",
       "promotional_purchases          0\n",
       "popular_category               0\n",
       "average_cat_views_per_visit    0\n",
       "unpaid_products_quarterly      0\n",
       "service_errors                 0\n",
       "pages_per_visit                0\n",
       "dtype: int64"
      ]
     },
     "execution_count": 55,
     "metadata": {},
     "output_type": "execute_result"
    }
   ],
   "source": [
    "market_df.info()\n",
    "market_df.isna().sum()"
   ]
  },
  {
   "cell_type": "code",
   "execution_count": 57,
   "id": "c0a97327",
   "metadata": {},
   "outputs": [
    {
     "data": {
      "text/html": [
       "<div>\n",
       "<style scoped>\n",
       "    .dataframe tbody tr th:only-of-type {\n",
       "        vertical-align: middle;\n",
       "    }\n",
       "\n",
       "    .dataframe tbody tr th {\n",
       "        vertical-align: top;\n",
       "    }\n",
       "\n",
       "    .dataframe thead th {\n",
       "        text-align: right;\n",
       "    }\n",
       "</style>\n",
       "<table border=\"1\" class=\"dataframe\">\n",
       "  <thead>\n",
       "    <tr style=\"text-align: right;\">\n",
       "      <th>period_money</th>\n",
       "      <th>предыдущий_месяц_money</th>\n",
       "      <th>препредыдущий_месяц_money</th>\n",
       "      <th>текущий_месяц_money</th>\n",
       "    </tr>\n",
       "    <tr>\n",
       "      <th>id</th>\n",
       "      <th></th>\n",
       "      <th></th>\n",
       "      <th></th>\n",
       "    </tr>\n",
       "  </thead>\n",
       "  <tbody>\n",
       "    <tr>\n",
       "      <th>215349</th>\n",
       "      <td>5216.000</td>\n",
       "      <td>4472.000</td>\n",
       "      <td>4971.600</td>\n",
       "    </tr>\n",
       "    <tr>\n",
       "      <th>215350</th>\n",
       "      <td>5457.500</td>\n",
       "      <td>4826.000</td>\n",
       "      <td>5058.400</td>\n",
       "    </tr>\n",
       "    <tr>\n",
       "      <th>215351</th>\n",
       "      <td>6158.000</td>\n",
       "      <td>4793.000</td>\n",
       "      <td>6610.400</td>\n",
       "    </tr>\n",
       "    <tr>\n",
       "      <th>215352</th>\n",
       "      <td>5807.500</td>\n",
       "      <td>4594.000</td>\n",
       "      <td>5872.500</td>\n",
       "    </tr>\n",
       "    <tr>\n",
       "      <th>215353</th>\n",
       "      <td>4738.500</td>\n",
       "      <td>5124.000</td>\n",
       "      <td>5388.500</td>\n",
       "    </tr>\n",
       "  </tbody>\n",
       "</table>\n",
       "</div>"
      ],
      "text/plain": [
       "period_money  предыдущий_месяц_money  препредыдущий_месяц_money  \\\n",
       "id                                                                \n",
       "215349                      5216.000                   4472.000   \n",
       "215350                      5457.500                   4826.000   \n",
       "215351                      6158.000                   4793.000   \n",
       "215352                      5807.500                   4594.000   \n",
       "215353                      4738.500                   5124.000   \n",
       "\n",
       "period_money  текущий_месяц_money  \n",
       "id                                 \n",
       "215349                   4971.600  \n",
       "215350                   5058.400  \n",
       "215351                   6610.400  \n",
       "215352                   5872.500  \n",
       "215353                   5388.500  "
      ]
     },
     "execution_count": 57,
     "metadata": {},
     "output_type": "execute_result"
    }
   ],
   "source": [
    "pivot_market_money_df = pivot_market_money_df.rename(\n",
    "    columns={\n",
    "    'предыдущий_месяц': 'предыдущий_месяц_money',\\\n",
    "    'препредыдущий_месяц': 'препредыдущий_месяц_money',\\\n",
    "    'текущий_месяц': 'текущий_месяц_money'\n",
    "})\n",
    "pivot_market_money_df.head()"
   ]
  },
  {
   "cell_type": "code",
   "execution_count": 59,
   "id": "68c0ac7f",
   "metadata": {},
   "outputs": [
    {
     "data": {
      "text/html": [
       "<div>\n",
       "<style scoped>\n",
       "    .dataframe tbody tr th:only-of-type {\n",
       "        vertical-align: middle;\n",
       "    }\n",
       "\n",
       "    .dataframe tbody tr th {\n",
       "        vertical-align: top;\n",
       "    }\n",
       "\n",
       "    .dataframe thead th {\n",
       "        text-align: right;\n",
       "    }\n",
       "</style>\n",
       "<table border=\"1\" class=\"dataframe\">\n",
       "  <thead>\n",
       "    <tr style=\"text-align: right;\">\n",
       "      <th>period_time</th>\n",
       "      <th>предыдущий_месяц_period</th>\n",
       "      <th>текущий_месяц_period</th>\n",
       "    </tr>\n",
       "    <tr>\n",
       "      <th>id</th>\n",
       "      <th></th>\n",
       "      <th></th>\n",
       "    </tr>\n",
       "  </thead>\n",
       "  <tbody>\n",
       "    <tr>\n",
       "      <th>215348</th>\n",
       "      <td>13</td>\n",
       "      <td>14</td>\n",
       "    </tr>\n",
       "    <tr>\n",
       "      <th>215349</th>\n",
       "      <td>12</td>\n",
       "      <td>10</td>\n",
       "    </tr>\n",
       "    <tr>\n",
       "      <th>215350</th>\n",
       "      <td>8</td>\n",
       "      <td>13</td>\n",
       "    </tr>\n",
       "    <tr>\n",
       "      <th>215351</th>\n",
       "      <td>11</td>\n",
       "      <td>13</td>\n",
       "    </tr>\n",
       "    <tr>\n",
       "      <th>215352</th>\n",
       "      <td>8</td>\n",
       "      <td>11</td>\n",
       "    </tr>\n",
       "  </tbody>\n",
       "</table>\n",
       "</div>"
      ],
      "text/plain": [
       "period_time  предыдущий_месяц_period  текущий_месяц_period\n",
       "id                                                        \n",
       "215348                            13                    14\n",
       "215349                            12                    10\n",
       "215350                             8                    13\n",
       "215351                            11                    13\n",
       "215352                             8                    11"
      ]
     },
     "execution_count": 59,
     "metadata": {},
     "output_type": "execute_result"
    }
   ],
   "source": [
    "pivot_market_time_df = pivot_market_time_df.rename(\n",
    "    columns={\n",
    "        'предыдущий_месяц': 'предыдущий_месяц_period',\\\n",
    "        'текущий_месяц': 'текущий_месяц_period'\n",
    "    }\n",
    ")\n",
    "pivot_market_time_df.head()"
   ]
  },
  {
   "cell_type": "code",
   "execution_count": 61,
   "id": "72e54f54",
   "metadata": {},
   "outputs": [
    {
     "name": "stdout",
     "output_type": "stream",
     "text": [
      "<class 'pandas.core.frame.DataFrame'>\n",
      "Int64Index: 1296 entries, 215349 to 216647\n",
      "Data columns (total 5 columns):\n",
      " #   Column                     Non-Null Count  Dtype  \n",
      "---  ------                     --------------  -----  \n",
      " 0   предыдущий_месяц_money     1296 non-null   float64\n",
      " 1   препредыдущий_месяц_money  1296 non-null   float64\n",
      " 2   текущий_месяц_money        1296 non-null   float64\n",
      " 3   предыдущий_месяц_period    1296 non-null   int64  \n",
      " 4   текущий_месяц_period       1296 non-null   int64  \n",
      "dtypes: float64(3), int64(2)\n",
      "memory usage: 60.8 KB\n"
     ]
    }
   ],
   "source": [
    "merged_df = pd.merge(pivot_market_money_df, pivot_market_time_df, on='id', how='inner')\n",
    "\n",
    "merged_df.info()"
   ]
  },
  {
   "cell_type": "code",
   "execution_count": 62,
   "id": "a78870c8",
   "metadata": {},
   "outputs": [
    {
     "data": {
      "text/plain": [
       "1296"
      ]
     },
     "execution_count": 62,
     "metadata": {},
     "output_type": "execute_result"
    }
   ],
   "source": [
    "# Объединение датафрейма merged_df с основным датафреймом market_df\n",
    "# и объявление нового датафрейма final_df\n",
    "final_df = pd.merge(market_df, merged_df, on='id', how='inner')\n",
    "final_df.shape[0]"
   ]
  },
  {
   "cell_type": "code",
   "execution_count": 63,
   "id": "cf7a25ef",
   "metadata": {},
   "outputs": [
    {
     "data": {
      "text/html": [
       "<div>\n",
       "<style scoped>\n",
       "    .dataframe tbody tr th:only-of-type {\n",
       "        vertical-align: middle;\n",
       "    }\n",
       "\n",
       "    .dataframe tbody tr th {\n",
       "        vertical-align: top;\n",
       "    }\n",
       "\n",
       "    .dataframe thead th {\n",
       "        text-align: right;\n",
       "    }\n",
       "</style>\n",
       "<table border=\"1\" class=\"dataframe\">\n",
       "  <thead>\n",
       "    <tr style=\"text-align: right;\">\n",
       "      <th></th>\n",
       "      <th>id</th>\n",
       "      <th>customer_activity</th>\n",
       "      <th>service_type</th>\n",
       "      <th>allow_notifications</th>\n",
       "      <th>market_activ_6_months</th>\n",
       "      <th>market_activ_curr_month</th>\n",
       "      <th>duration</th>\n",
       "      <th>promotional_purchases</th>\n",
       "      <th>popular_category</th>\n",
       "      <th>average_cat_views_per_visit</th>\n",
       "      <th>unpaid_products_quarterly</th>\n",
       "      <th>service_errors</th>\n",
       "      <th>pages_per_visit</th>\n",
       "      <th>предыдущий_месяц_money</th>\n",
       "      <th>препредыдущий_месяц_money</th>\n",
       "      <th>текущий_месяц_money</th>\n",
       "      <th>предыдущий_месяц_period</th>\n",
       "      <th>текущий_месяц_period</th>\n",
       "    </tr>\n",
       "  </thead>\n",
       "  <tbody>\n",
       "    <tr>\n",
       "      <th>0</th>\n",
       "      <td>215349</td>\n",
       "      <td>Снизилась</td>\n",
       "      <td>1</td>\n",
       "      <td>1</td>\n",
       "      <td>4.400</td>\n",
       "      <td>4</td>\n",
       "      <td>819</td>\n",
       "      <td>0.750</td>\n",
       "      <td>Товары для детей</td>\n",
       "      <td>4</td>\n",
       "      <td>4</td>\n",
       "      <td>2</td>\n",
       "      <td>5</td>\n",
       "      <td>5216.000</td>\n",
       "      <td>4472.000</td>\n",
       "      <td>4971.600</td>\n",
       "      <td>12</td>\n",
       "      <td>10</td>\n",
       "    </tr>\n",
       "    <tr>\n",
       "      <th>1</th>\n",
       "      <td>215350</td>\n",
       "      <td>Снизилась</td>\n",
       "      <td>0</td>\n",
       "      <td>0</td>\n",
       "      <td>4.900</td>\n",
       "      <td>3</td>\n",
       "      <td>539</td>\n",
       "      <td>0.140</td>\n",
       "      <td>Домашний текстиль</td>\n",
       "      <td>5</td>\n",
       "      <td>2</td>\n",
       "      <td>1</td>\n",
       "      <td>5</td>\n",
       "      <td>5457.500</td>\n",
       "      <td>4826.000</td>\n",
       "      <td>5058.400</td>\n",
       "      <td>8</td>\n",
       "      <td>13</td>\n",
       "    </tr>\n",
       "    <tr>\n",
       "      <th>2</th>\n",
       "      <td>215351</td>\n",
       "      <td>Снизилась</td>\n",
       "      <td>0</td>\n",
       "      <td>1</td>\n",
       "      <td>3.200</td>\n",
       "      <td>5</td>\n",
       "      <td>896</td>\n",
       "      <td>0.990</td>\n",
       "      <td>Товары для детей</td>\n",
       "      <td>5</td>\n",
       "      <td>0</td>\n",
       "      <td>6</td>\n",
       "      <td>4</td>\n",
       "      <td>6158.000</td>\n",
       "      <td>4793.000</td>\n",
       "      <td>6610.400</td>\n",
       "      <td>11</td>\n",
       "      <td>13</td>\n",
       "    </tr>\n",
       "    <tr>\n",
       "      <th>3</th>\n",
       "      <td>215352</td>\n",
       "      <td>Снизилась</td>\n",
       "      <td>0</td>\n",
       "      <td>0</td>\n",
       "      <td>5.100</td>\n",
       "      <td>3</td>\n",
       "      <td>1064</td>\n",
       "      <td>0.940</td>\n",
       "      <td>Товары для детей</td>\n",
       "      <td>3</td>\n",
       "      <td>2</td>\n",
       "      <td>3</td>\n",
       "      <td>2</td>\n",
       "      <td>5807.500</td>\n",
       "      <td>4594.000</td>\n",
       "      <td>5872.500</td>\n",
       "      <td>8</td>\n",
       "      <td>11</td>\n",
       "    </tr>\n",
       "    <tr>\n",
       "      <th>4</th>\n",
       "      <td>215353</td>\n",
       "      <td>Снизилась</td>\n",
       "      <td>0</td>\n",
       "      <td>1</td>\n",
       "      <td>3.300</td>\n",
       "      <td>4</td>\n",
       "      <td>762</td>\n",
       "      <td>0.260</td>\n",
       "      <td>Домашний текстиль</td>\n",
       "      <td>4</td>\n",
       "      <td>1</td>\n",
       "      <td>1</td>\n",
       "      <td>4</td>\n",
       "      <td>4738.500</td>\n",
       "      <td>5124.000</td>\n",
       "      <td>5388.500</td>\n",
       "      <td>10</td>\n",
       "      <td>10</td>\n",
       "    </tr>\n",
       "  </tbody>\n",
       "</table>\n",
       "</div>"
      ],
      "text/plain": [
       "       id customer_activity  service_type  allow_notifications  \\\n",
       "0  215349         Снизилась             1                    1   \n",
       "1  215350         Снизилась             0                    0   \n",
       "2  215351         Снизилась             0                    1   \n",
       "3  215352         Снизилась             0                    0   \n",
       "4  215353         Снизилась             0                    1   \n",
       "\n",
       "   market_activ_6_months  market_activ_curr_month  duration  \\\n",
       "0                  4.400                        4       819   \n",
       "1                  4.900                        3       539   \n",
       "2                  3.200                        5       896   \n",
       "3                  5.100                        3      1064   \n",
       "4                  3.300                        4       762   \n",
       "\n",
       "   promotional_purchases   popular_category  average_cat_views_per_visit  \\\n",
       "0                  0.750   Товары для детей                            4   \n",
       "1                  0.140  Домашний текстиль                            5   \n",
       "2                  0.990   Товары для детей                            5   \n",
       "3                  0.940   Товары для детей                            3   \n",
       "4                  0.260  Домашний текстиль                            4   \n",
       "\n",
       "   unpaid_products_quarterly  service_errors  pages_per_visit  \\\n",
       "0                          4               2                5   \n",
       "1                          2               1                5   \n",
       "2                          0               6                4   \n",
       "3                          2               3                2   \n",
       "4                          1               1                4   \n",
       "\n",
       "   предыдущий_месяц_money  препредыдущий_месяц_money  текущий_месяц_money  \\\n",
       "0                5216.000                   4472.000             4971.600   \n",
       "1                5457.500                   4826.000             5058.400   \n",
       "2                6158.000                   4793.000             6610.400   \n",
       "3                5807.500                   4594.000             5872.500   \n",
       "4                4738.500                   5124.000             5388.500   \n",
       "\n",
       "   предыдущий_месяц_period  текущий_месяц_period  \n",
       "0                       12                    10  \n",
       "1                        8                    13  \n",
       "2                       11                    13  \n",
       "3                        8                    11  \n",
       "4                       10                    10  "
      ]
     },
     "execution_count": 63,
     "metadata": {},
     "output_type": "execute_result"
    }
   ],
   "source": [
    "final_df.head()"
   ]
  },
  {
   "cell_type": "code",
   "execution_count": 64,
   "id": "117817b3",
   "metadata": {},
   "outputs": [
    {
     "data": {
      "text/html": [
       "<div>\n",
       "<style scoped>\n",
       "    .dataframe tbody tr th:only-of-type {\n",
       "        vertical-align: middle;\n",
       "    }\n",
       "\n",
       "    .dataframe tbody tr th {\n",
       "        vertical-align: top;\n",
       "    }\n",
       "\n",
       "    .dataframe thead th {\n",
       "        text-align: right;\n",
       "    }\n",
       "</style>\n",
       "<table border=\"1\" class=\"dataframe\">\n",
       "  <thead>\n",
       "    <tr style=\"text-align: right;\">\n",
       "      <th></th>\n",
       "      <th>customer_activity</th>\n",
       "      <th>service_type</th>\n",
       "      <th>allow_notifications</th>\n",
       "      <th>market_activ_6_months</th>\n",
       "      <th>market_activ_curr_month</th>\n",
       "      <th>duration</th>\n",
       "      <th>promotional_purchases</th>\n",
       "      <th>popular_category</th>\n",
       "      <th>average_cat_views_per_visit</th>\n",
       "      <th>unpaid_products_quarterly</th>\n",
       "      <th>service_errors</th>\n",
       "      <th>pages_per_visit</th>\n",
       "      <th>предыдущий_месяц_money</th>\n",
       "      <th>препредыдущий_месяц_money</th>\n",
       "      <th>текущий_месяц_money</th>\n",
       "      <th>предыдущий_месяц_period</th>\n",
       "      <th>текущий_месяц_period</th>\n",
       "    </tr>\n",
       "  </thead>\n",
       "  <tbody>\n",
       "    <tr>\n",
       "      <th>0</th>\n",
       "      <td>Снизилась</td>\n",
       "      <td>1</td>\n",
       "      <td>1</td>\n",
       "      <td>4.400</td>\n",
       "      <td>4</td>\n",
       "      <td>819</td>\n",
       "      <td>0.750</td>\n",
       "      <td>Товары для детей</td>\n",
       "      <td>4</td>\n",
       "      <td>4</td>\n",
       "      <td>2</td>\n",
       "      <td>5</td>\n",
       "      <td>5216.000</td>\n",
       "      <td>4472.000</td>\n",
       "      <td>4971.600</td>\n",
       "      <td>12</td>\n",
       "      <td>10</td>\n",
       "    </tr>\n",
       "    <tr>\n",
       "      <th>1</th>\n",
       "      <td>Снизилась</td>\n",
       "      <td>0</td>\n",
       "      <td>0</td>\n",
       "      <td>4.900</td>\n",
       "      <td>3</td>\n",
       "      <td>539</td>\n",
       "      <td>0.140</td>\n",
       "      <td>Домашний текстиль</td>\n",
       "      <td>5</td>\n",
       "      <td>2</td>\n",
       "      <td>1</td>\n",
       "      <td>5</td>\n",
       "      <td>5457.500</td>\n",
       "      <td>4826.000</td>\n",
       "      <td>5058.400</td>\n",
       "      <td>8</td>\n",
       "      <td>13</td>\n",
       "    </tr>\n",
       "    <tr>\n",
       "      <th>2</th>\n",
       "      <td>Снизилась</td>\n",
       "      <td>0</td>\n",
       "      <td>1</td>\n",
       "      <td>3.200</td>\n",
       "      <td>5</td>\n",
       "      <td>896</td>\n",
       "      <td>0.990</td>\n",
       "      <td>Товары для детей</td>\n",
       "      <td>5</td>\n",
       "      <td>0</td>\n",
       "      <td>6</td>\n",
       "      <td>4</td>\n",
       "      <td>6158.000</td>\n",
       "      <td>4793.000</td>\n",
       "      <td>6610.400</td>\n",
       "      <td>11</td>\n",
       "      <td>13</td>\n",
       "    </tr>\n",
       "    <tr>\n",
       "      <th>3</th>\n",
       "      <td>Снизилась</td>\n",
       "      <td>0</td>\n",
       "      <td>0</td>\n",
       "      <td>5.100</td>\n",
       "      <td>3</td>\n",
       "      <td>1064</td>\n",
       "      <td>0.940</td>\n",
       "      <td>Товары для детей</td>\n",
       "      <td>3</td>\n",
       "      <td>2</td>\n",
       "      <td>3</td>\n",
       "      <td>2</td>\n",
       "      <td>5807.500</td>\n",
       "      <td>4594.000</td>\n",
       "      <td>5872.500</td>\n",
       "      <td>8</td>\n",
       "      <td>11</td>\n",
       "    </tr>\n",
       "    <tr>\n",
       "      <th>4</th>\n",
       "      <td>Снизилась</td>\n",
       "      <td>0</td>\n",
       "      <td>1</td>\n",
       "      <td>3.300</td>\n",
       "      <td>4</td>\n",
       "      <td>762</td>\n",
       "      <td>0.260</td>\n",
       "      <td>Домашний текстиль</td>\n",
       "      <td>4</td>\n",
       "      <td>1</td>\n",
       "      <td>1</td>\n",
       "      <td>4</td>\n",
       "      <td>4738.500</td>\n",
       "      <td>5124.000</td>\n",
       "      <td>5388.500</td>\n",
       "      <td>10</td>\n",
       "      <td>10</td>\n",
       "    </tr>\n",
       "  </tbody>\n",
       "</table>\n",
       "</div>"
      ],
      "text/plain": [
       "  customer_activity  service_type  allow_notifications  market_activ_6_months  \\\n",
       "0         Снизилась             1                    1                  4.400   \n",
       "1         Снизилась             0                    0                  4.900   \n",
       "2         Снизилась             0                    1                  3.200   \n",
       "3         Снизилась             0                    0                  5.100   \n",
       "4         Снизилась             0                    1                  3.300   \n",
       "\n",
       "   market_activ_curr_month  duration  promotional_purchases  \\\n",
       "0                        4       819                  0.750   \n",
       "1                        3       539                  0.140   \n",
       "2                        5       896                  0.990   \n",
       "3                        3      1064                  0.940   \n",
       "4                        4       762                  0.260   \n",
       "\n",
       "    popular_category  average_cat_views_per_visit  unpaid_products_quarterly  \\\n",
       "0   Товары для детей                            4                          4   \n",
       "1  Домашний текстиль                            5                          2   \n",
       "2   Товары для детей                            5                          0   \n",
       "3   Товары для детей                            3                          2   \n",
       "4  Домашний текстиль                            4                          1   \n",
       "\n",
       "   service_errors  pages_per_visit  предыдущий_месяц_money  \\\n",
       "0               2                5                5216.000   \n",
       "1               1                5                5457.500   \n",
       "2               6                4                6158.000   \n",
       "3               3                2                5807.500   \n",
       "4               1                4                4738.500   \n",
       "\n",
       "   препредыдущий_месяц_money  текущий_месяц_money  предыдущий_месяц_period  \\\n",
       "0                   4472.000             4971.600                       12   \n",
       "1                   4826.000             5058.400                        8   \n",
       "2                   4793.000             6610.400                       11   \n",
       "3                   4594.000             5872.500                        8   \n",
       "4                   5124.000             5388.500                       10   \n",
       "\n",
       "   текущий_месяц_period  \n",
       "0                    10  \n",
       "1                    13  \n",
       "2                    13  \n",
       "3                    11  \n",
       "4                    10  "
      ]
     },
     "execution_count": 64,
     "metadata": {},
     "output_type": "execute_result"
    }
   ],
   "source": [
    "# Создаем новый датафрейм без столбца 'id' финального датафрейма\n",
    "# для дальнейшего использования при корреляционном анализе\n",
    "final_df_no_id = final_df.drop(columns='id')\n",
    "final_df_no_id.head()"
   ]
  },
  {
   "cell_type": "code",
   "execution_count": 65,
   "id": "6810faba",
   "metadata": {},
   "outputs": [
    {
     "data": {
      "text/plain": [
       "(1296, 17)"
      ]
     },
     "execution_count": 65,
     "metadata": {},
     "output_type": "execute_result"
    }
   ],
   "source": [
    "final_df_no_id.shape"
   ]
  },
  {
   "cell_type": "markdown",
   "id": "0a2558e4",
   "metadata": {},
   "source": [
    "**Вывод:**\n",
    "\n",
    "Используемые обозначения:\n",
    "- СТ - сводная таблица\n",
    "- ИДФ - исходный датафрейм\n",
    "\n",
    "\n",
    "1. Для объединения данных была создана СТ `pivot_market_money_df` на основе ИДФ `market_money_df`. Индексом таблицы был выбран признак `id`, в то время как столбцы были сформированы на основе уникальных значений из столбца `period_money` ИДФ. Значения в ячейках СТ были взяты из столбца `revenue` ИДФ. Для агрегации данных в СТ был использован метод `mean`, представляющий среднее значение.\n",
    "\n",
    "2. В СТ `pivot_market_money_df` были удалены пропущенные значения, после чего количество значений СТ составило 1296.\n",
    "\n",
    "3. Для объединения данных была создана СТ `pivot_market_time_df` на основе ИДФ `market_time_df`. Индексом таблицы был выбран признак `id`, в то время как столбцы были сформированы на основе уникальных значений столбца `period_time` ИДФ. Значения в ячейках СТ были взяты из столбца `minute` ИДФ. Для агрегации данных в СТ был использован метод `mean`, представляющий среднее значение.\n",
    "\n",
    "4. СТ `pivot_market_time_df` был проверен на пропущенные значения. Количество значений СТ составило 1300.\n",
    "\n",
    "5. Названия столбцов СТ `pivot_market_money_df` были изменены на следующие:\n",
    "- `предыдущий_месяц` - `предыдущий_месяц_money`\n",
    "- `препредыдущий_месяц` - `препредыдущий_месяц_money`\n",
    "- `текущий_месяц` - `текущий_месяц_money`\n",
    "\n",
    "6. Названия столбцов СТ `pivot_market_time_df` были изменены на следующие:\n",
    "- `предыдущий_месяц` - `предыдущий_месяц_period`\n",
    "- `текущий_месяц` - `текущий_месяц_period`\n",
    "\n",
    "7. В конечном результате сводные таблицы `pivot_market_money_df`, `pivot_market_time_df` и исходный датафрейм `market_df` были объединены в датафрейм `final_df` по признаку `id`\n",
    "\n",
    "8. Был создан дополнительный датафрейм `final_df_no_id`, который не хранит в себе признак `id`, для корреляционного анализа в дальнейшем\n"
   ]
  },
  {
   "cell_type": "markdown",
   "id": "8bf045dc",
   "metadata": {},
   "source": [
    "# Шаг 5. Корреляционный анализ"
   ]
  },
  {
   "cell_type": "code",
   "execution_count": 67,
   "id": "df9cc240",
   "metadata": {},
   "outputs": [
    {
     "name": "stdout",
     "output_type": "stream",
     "text": [
      "<class 'pandas.core.frame.DataFrame'>\n",
      "Int64Index: 1296 entries, 0 to 1295\n",
      "Data columns (total 17 columns):\n",
      " #   Column                       Non-Null Count  Dtype  \n",
      "---  ------                       --------------  -----  \n",
      " 0   customer_activity            1296 non-null   object \n",
      " 1   service_type                 1296 non-null   int64  \n",
      " 2   allow_notifications          1296 non-null   int64  \n",
      " 3   market_activ_6_months        1296 non-null   float64\n",
      " 4   market_activ_curr_month      1296 non-null   int64  \n",
      " 5   duration                     1296 non-null   int64  \n",
      " 6   promotional_purchases        1296 non-null   float64\n",
      " 7   popular_category             1296 non-null   object \n",
      " 8   average_cat_views_per_visit  1296 non-null   int64  \n",
      " 9   unpaid_products_quarterly    1296 non-null   int64  \n",
      " 10  service_errors               1296 non-null   int64  \n",
      " 11  pages_per_visit              1296 non-null   int64  \n",
      " 12  предыдущий_месяц_money       1296 non-null   float64\n",
      " 13  препредыдущий_месяц_money    1296 non-null   float64\n",
      " 14  текущий_месяц_money          1296 non-null   float64\n",
      " 15  предыдущий_месяц_period      1296 non-null   int64  \n",
      " 16  текущий_месяц_period         1296 non-null   int64  \n",
      "dtypes: float64(5), int64(10), object(2)\n",
      "memory usage: 182.2+ KB\n"
     ]
    }
   ],
   "source": [
    "final_df_no_id.info()"
   ]
  },
  {
   "cell_type": "code",
   "execution_count": 68,
   "id": "3e467301",
   "metadata": {},
   "outputs": [],
   "source": [
    "### Примечание ###\n",
    "# Данная ячейка может отрабатываться больше чем обычно #\n",
    "\n",
    "# Список непрерывных признаков, которые необходимо исключить из анализа\n",
    "# interval_cols_final_df_no_id = ['service_type', 'allow_notifications', 'revenue']\n",
    "interval_cols_final_df_no_id = [\n",
    "    'предыдущий_месяц_money',\\\n",
    "    'market_activ_curr_month',\n",
    "    'duration',\n",
    "    'promotional_purchases',\n",
    "    'average_cat_views_per_visit',\n",
    "    'unpaid_products_quarterly',\n",
    "    'service_errors',\n",
    "    'pages_per_visit',\n",
    "    'препредыдущий_месяц_money',\\\n",
    "    'текущий_месяц_money',\n",
    "    'предыдущий_месяц_period',\n",
    "    'текущий_месяц_period'\n",
    "]\n",
    "\n",
    "# Вычисление матрицы phik с учетом непрерывных признаков\n",
    "phik_matrix = final_df_no_id.phik_matrix(interval_cols=interval_cols_final_df_no_id)\n",
    "# phik_matrix = final_df_no_id.phik_matrix"
   ]
  },
  {
   "cell_type": "code",
   "execution_count": 69,
   "id": "25639e53",
   "metadata": {},
   "outputs": [
    {
     "name": "stdout",
     "output_type": "stream",
     "text": [
      "<class 'pandas.core.frame.DataFrame'>\n",
      "Int64Index: 1296 entries, 0 to 1295\n",
      "Data columns (total 17 columns):\n",
      " #   Column                       Non-Null Count  Dtype  \n",
      "---  ------                       --------------  -----  \n",
      " 0   customer_activity            1296 non-null   object \n",
      " 1   service_type                 1296 non-null   int64  \n",
      " 2   allow_notifications          1296 non-null   int64  \n",
      " 3   market_activ_6_months        1296 non-null   float64\n",
      " 4   market_activ_curr_month      1296 non-null   int64  \n",
      " 5   duration                     1296 non-null   int64  \n",
      " 6   promotional_purchases        1296 non-null   float64\n",
      " 7   popular_category             1296 non-null   object \n",
      " 8   average_cat_views_per_visit  1296 non-null   int64  \n",
      " 9   unpaid_products_quarterly    1296 non-null   int64  \n",
      " 10  service_errors               1296 non-null   int64  \n",
      " 11  pages_per_visit              1296 non-null   int64  \n",
      " 12  предыдущий_месяц_money       1296 non-null   float64\n",
      " 13  препредыдущий_месяц_money    1296 non-null   float64\n",
      " 14  текущий_месяц_money          1296 non-null   float64\n",
      " 15  предыдущий_месяц_period      1296 non-null   int64  \n",
      " 16  текущий_месяц_period         1296 non-null   int64  \n",
      "dtypes: float64(5), int64(10), object(2)\n",
      "memory usage: 182.2+ KB\n"
     ]
    }
   ],
   "source": [
    "final_df_no_id.info()"
   ]
  },
  {
   "cell_type": "code",
   "execution_count": 70,
   "id": "ea0e567c",
   "metadata": {},
   "outputs": [
    {
     "data": {
      "image/png": "[encoded data removed]",
      "text/plain": [
       "<Figure size 720x576 with 2 Axes>"
      ]
     },
     "metadata": {
      "needs_background": "light"
     },
     "output_type": "display_data"
    }
   ],
   "source": [
    "# Создание тепловой карты для матрицы корреляции\n",
    "plt.figure(figsize=(10, 8))\n",
    "sns.heatmap(phik_matrix, annot=True, cmap='Greens', fmt=\".2f\")\n",
    "plt.title(\"Correlation Heatmap\")\n",
    "plt.show()"
   ]
  },
  {
   "cell_type": "markdown",
   "id": "dd9d6525",
   "metadata": {},
   "source": [
    "**Комментарий к тепловой карте корреляции**\n",
    "\n",
    "Как видно на вышепостроенной тепловой карте, можно понять, что между признаками `unpaid_products_quarterly` и `duration` наблюдается мультиколлинеарность, которых необходимо устранить."
   ]
  },
  {
   "cell_type": "code",
   "execution_count": 71,
   "id": "a501c17c",
   "metadata": {},
   "outputs": [
    {
     "name": "stdout",
     "output_type": "stream",
     "text": [
      "<class 'pandas.core.frame.DataFrame'>\n",
      "Int64Index: 1296 entries, 0 to 1295\n",
      "Data columns (total 17 columns):\n",
      " #   Column                       Non-Null Count  Dtype  \n",
      "---  ------                       --------------  -----  \n",
      " 0   customer_activity            1296 non-null   object \n",
      " 1   service_type                 1296 non-null   int64  \n",
      " 2   allow_notifications          1296 non-null   int64  \n",
      " 3   market_activ_6_months        1296 non-null   float64\n",
      " 4   market_activ_curr_month      1296 non-null   int64  \n",
      " 5   duration                     1296 non-null   int64  \n",
      " 6   promotional_purchases        1296 non-null   float64\n",
      " 7   popular_category             1296 non-null   object \n",
      " 8   average_cat_views_per_visit  1296 non-null   int64  \n",
      " 9   unpaid_products_quarterly    1296 non-null   int64  \n",
      " 10  service_errors               1296 non-null   int64  \n",
      " 11  pages_per_visit              1296 non-null   int64  \n",
      " 12  предыдущий_месяц_money       1296 non-null   float64\n",
      " 13  препредыдущий_месяц_money    1296 non-null   float64\n",
      " 14  текущий_месяц_money          1296 non-null   float64\n",
      " 15  предыдущий_месяц_period      1296 non-null   int64  \n",
      " 16  текущий_месяц_period         1296 non-null   int64  \n",
      "dtypes: float64(5), int64(10), object(2)\n",
      "memory usage: 182.2+ KB\n"
     ]
    }
   ],
   "source": [
    "correlated_columns_to_drop_no_id = ['unpaid_products_quarterly', 'duration']\n",
    "\n",
    "final_df_filtered_no_id = final_df_no_id#.drop(columns=correlated_columns_to_drop_no_id)\n",
    "final_df_filtered_no_id.info()"
   ]
  },
  {
   "cell_type": "code",
   "execution_count": 72,
   "id": "79bc4c8d",
   "metadata": {},
   "outputs": [
    {
     "data": {
      "image/png": "[encoded data removed]",
      "text/plain": [
       "<Figure size 720x576 with 2 Axes>"
      ]
     },
     "metadata": {
      "needs_background": "light"
     },
     "output_type": "display_data"
    }
   ],
   "source": [
    "final_df_filtered_phik_matrix = (\n",
    "    final_df_filtered_no_id.phik_matrix(\n",
    "        interval_cols=interval_cols_final_df_no_id\n",
    "                                 )\n",
    ")\n",
    "\n",
    "plt.figure(figsize=(10, 8))\n",
    "sns.heatmap(final_df_filtered_phik_matrix, annot=True, cmap='Greens', fmt=\".2f\")\n",
    "plt.title(\"Correlation Heatmap\")\n",
    "plt.show()"
   ]
  },
  {
   "cell_type": "code",
   "execution_count": 73,
   "id": "d32ed18f",
   "metadata": {},
   "outputs": [
    {
     "name": "stdout",
     "output_type": "stream",
     "text": [
      "<class 'pandas.core.frame.DataFrame'>\n",
      "Int64Index: 1296 entries, 0 to 1295\n",
      "Data columns (total 18 columns):\n",
      " #   Column                       Non-Null Count  Dtype  \n",
      "---  ------                       --------------  -----  \n",
      " 0   id                           1296 non-null   int64  \n",
      " 1   customer_activity            1296 non-null   object \n",
      " 2   service_type                 1296 non-null   int64  \n",
      " 3   allow_notifications          1296 non-null   int64  \n",
      " 4   market_activ_6_months        1296 non-null   float64\n",
      " 5   market_activ_curr_month      1296 non-null   int64  \n",
      " 6   duration                     1296 non-null   int64  \n",
      " 7   promotional_purchases        1296 non-null   float64\n",
      " 8   popular_category             1296 non-null   object \n",
      " 9   average_cat_views_per_visit  1296 non-null   int64  \n",
      " 10  unpaid_products_quarterly    1296 non-null   int64  \n",
      " 11  service_errors               1296 non-null   int64  \n",
      " 12  pages_per_visit              1296 non-null   int64  \n",
      " 13  предыдущий_месяц_money       1296 non-null   float64\n",
      " 14  препредыдущий_месяц_money    1296 non-null   float64\n",
      " 15  текущий_месяц_money          1296 non-null   float64\n",
      " 16  предыдущий_месяц_period      1296 non-null   int64  \n",
      " 17  текущий_месяц_period         1296 non-null   int64  \n",
      "dtypes: float64(5), int64(11), object(2)\n",
      "memory usage: 192.4+ KB\n"
     ]
    }
   ],
   "source": [
    "correlated_columns_to_drop_inplace = ['unpaid_products_quarterly', 'duration']\n",
    "\n",
    "final_df_filtered = final_df #.drop(columns=correlated_columns_to_drop_inplace)\n",
    "final_df_filtered.info()"
   ]
  },
  {
   "cell_type": "markdown",
   "id": "17fcbbe4",
   "metadata": {},
   "source": [
    "**Вывод:**\n",
    "\n",
    "1. Корреляционный анализ был проведен методом Фик\n",
    "2. Из корреляционного анализа были исключены следующие признаки:\n",
    "- `service_type`\n",
    "- `allow_notifications`\n",
    "- `предыдущий_месяц_money`\n",
    "- `препредыдущий_месяц_money`\n",
    "- `текущий_месяц_money`\n",
    "3. Была построена тепловая матрица корреляции для проведения корреляционного анализа\n",
    "4. Была выявлена мультиколлинеарность между признаками `unpaid_products_quarterly` и `duration`. Данные признаки были удалены"
   ]
  },
  {
   "cell_type": "markdown",
   "id": "32537ebc",
   "metadata": {},
   "source": [
    "# Шаг 6. Использование пайплайнов"
   ]
  },
  {
   "cell_type": "code",
   "execution_count": 75,
   "id": "3ff13435",
   "metadata": {},
   "outputs": [
    {
     "name": "stdout",
     "output_type": "stream",
     "text": [
      "<class 'pandas.core.frame.DataFrame'>\n",
      "Int64Index: 1296 entries, 0 to 1295\n",
      "Data columns (total 18 columns):\n",
      " #   Column                       Non-Null Count  Dtype  \n",
      "---  ------                       --------------  -----  \n",
      " 0   id                           1296 non-null   int64  \n",
      " 1   customer_activity            1296 non-null   object \n",
      " 2   service_type                 1296 non-null   int64  \n",
      " 3   allow_notifications          1296 non-null   int64  \n",
      " 4   market_activ_6_months        1296 non-null   float64\n",
      " 5   market_activ_curr_month      1296 non-null   int64  \n",
      " 6   duration                     1296 non-null   int64  \n",
      " 7   promotional_purchases        1296 non-null   float64\n",
      " 8   popular_category             1296 non-null   object \n",
      " 9   average_cat_views_per_visit  1296 non-null   int64  \n",
      " 10  unpaid_products_quarterly    1296 non-null   int64  \n",
      " 11  service_errors               1296 non-null   int64  \n",
      " 12  pages_per_visit              1296 non-null   int64  \n",
      " 13  предыдущий_месяц_money       1296 non-null   float64\n",
      " 14  препредыдущий_месяц_money    1296 non-null   float64\n",
      " 15  текущий_месяц_money          1296 non-null   float64\n",
      " 16  предыдущий_месяц_period      1296 non-null   int64  \n",
      " 17  текущий_месяц_period         1296 non-null   int64  \n",
      "dtypes: float64(5), int64(11), object(2)\n",
      "memory usage: 192.4+ KB\n"
     ]
    }
   ],
   "source": [
    "final_df_filtered.info()"
   ]
  },
  {
   "cell_type": "code",
   "execution_count": 76,
   "id": "2354cde8",
   "metadata": {},
   "outputs": [
    {
     "data": {
      "text/plain": [
       "0     премиум\n",
       "1    стандарт\n",
       "2    стандарт\n",
       "3    стандарт\n",
       "4    стандарт\n",
       "Name: service_type, dtype: object"
      ]
     },
     "execution_count": 76,
     "metadata": {},
     "output_type": "execute_result"
    }
   ],
   "source": [
    "final_df_filtered_mapping = {1: 'премиум', 0: 'стандарт'}\n",
    "\n",
    "final_df_filtered['service_type'] = final_df_filtered['service_type'].map(final_df_filtered_mapping)\n",
    "final_df_filtered.service_type.head()"
   ]
  },
  {
   "cell_type": "code",
   "execution_count": 77,
   "id": "d199f3cf",
   "metadata": {},
   "outputs": [
    {
     "data": {
      "text/plain": [
       "0"
      ]
     },
     "execution_count": 77,
     "metadata": {},
     "output_type": "execute_result"
    }
   ],
   "source": [
    "final_df_filtered['customer_activity'].isna().sum()"
   ]
  },
  {
   "cell_type": "code",
   "execution_count": 78,
   "id": "740e049f",
   "metadata": {},
   "outputs": [],
   "source": [
    "RANDOM_STATE = 42\n",
    "TEST_SIZE=0.25"
   ]
  },
  {
   "cell_type": "code",
   "execution_count": 79,
   "id": "97370107",
   "metadata": {},
   "outputs": [],
   "source": [
    "X_train, X_test, y_train, y_test = train_test_split(\n",
    "    final_df_filtered.drop(['customer_activity'], axis=1),\n",
    "    final_df_filtered['customer_activity'],\n",
    "    test_size=TEST_SIZE,\n",
    "    random_state=RANDOM_STATE,\n",
    "    stratify=final_df['customer_activity']\n",
    ")"
   ]
  },
  {
   "cell_type": "code",
   "execution_count": 80,
   "id": "8f684d84",
   "metadata": {},
   "outputs": [],
   "source": [
    "label_encoder = LabelEncoder()\n",
    "\n",
    "y_train = label_encoder.fit_transform(y_train)\n",
    "y_test = label_encoder.transform(y_test)"
   ]
  },
  {
   "cell_type": "code",
   "execution_count": 81,
   "id": "aae198c4",
   "metadata": {},
   "outputs": [],
   "source": [
    "ohe_columns = ['popular_category', 'allow_notifications']\n",
    "\n",
    "ord_columns = ['service_type']\n",
    "\n",
    "num_columns = ['allow_notifications', 'market_activ_6_months',\\\n",
    "               'market_activ_curr_month', 'promotional_purchases',\\\n",
    "               'average_cat_views_per_visit','service_errors', \\\n",
    "               'pages_per_visit', 'duration', 'unpaid_products_quarterly']"
   ]
  },
  {
   "cell_type": "code",
   "execution_count": 82,
   "id": "4d8cc555",
   "metadata": {},
   "outputs": [],
   "source": [
    "ohe_pipe = Pipeline(\n",
    "    [('simpleImputer_ohe', SimpleImputer(missing_values=np.nan, strategy='most_frequent')),\n",
    "    ('ohe', OneHotEncoder(drop='first', handle_unknown='error'))\n",
    "    ]\n",
    ")"
   ]
  },
  {
   "cell_type": "code",
   "execution_count": 83,
   "id": "fe523f9c",
   "metadata": {},
   "outputs": [
    {
     "name": "stdout",
     "output_type": "stream",
     "text": [
      "<class 'pandas.core.frame.DataFrame'>\n",
      "Int64Index: 1296 entries, 0 to 1295\n",
      "Data columns (total 18 columns):\n",
      " #   Column                       Non-Null Count  Dtype  \n",
      "---  ------                       --------------  -----  \n",
      " 0   id                           1296 non-null   int64  \n",
      " 1   customer_activity            1296 non-null   object \n",
      " 2   service_type                 1296 non-null   object \n",
      " 3   allow_notifications          1296 non-null   int64  \n",
      " 4   market_activ_6_months        1296 non-null   float64\n",
      " 5   market_activ_curr_month      1296 non-null   int64  \n",
      " 6   duration                     1296 non-null   int64  \n",
      " 7   promotional_purchases        1296 non-null   float64\n",
      " 8   popular_category             1296 non-null   object \n",
      " 9   average_cat_views_per_visit  1296 non-null   int64  \n",
      " 10  unpaid_products_quarterly    1296 non-null   int64  \n",
      " 11  service_errors               1296 non-null   int64  \n",
      " 12  pages_per_visit              1296 non-null   int64  \n",
      " 13  предыдущий_месяц_money       1296 non-null   float64\n",
      " 14  препредыдущий_месяц_money    1296 non-null   float64\n",
      " 15  текущий_месяц_money          1296 non-null   float64\n",
      " 16  предыдущий_месяц_period      1296 non-null   int64  \n",
      " 17  текущий_месяц_period         1296 non-null   int64  \n",
      "dtypes: float64(5), int64(10), object(3)\n",
      "memory usage: 192.4+ KB\n"
     ]
    }
   ],
   "source": [
    "final_df_filtered.info()"
   ]
  },
  {
   "cell_type": "code",
   "execution_count": 84,
   "id": "301eb097",
   "metadata": {},
   "outputs": [],
   "source": [
    "ord_pipe = Pipeline(\n",
    "    [('simpleImputer_before_ord', SimpleImputer(missing_values=np.nan, strategy='most_frequent')),\n",
    "    ('ord', OrdinalEncoder(\n",
    "        categories=[\n",
    "            ['премиум', 'стандарт']\n",
    "        ],\n",
    "        handle_unknown='use_encoded_value', unknown_value=np.nan\n",
    "    )),\n",
    "    ]\n",
    ")"
   ]
  },
  {
   "cell_type": "code",
   "execution_count": 85,
   "id": "47001eeb",
   "metadata": {},
   "outputs": [],
   "source": [
    "data_preprocessor = ColumnTransformer(\n",
    "    [\n",
    "        ('ohe', ohe_pipe, ohe_columns),\n",
    "        ('ord', ord_pipe, ord_columns),\n",
    "        ('num', MinMaxScaler(), num_columns)\n",
    "    ], remainder='passthrough'\n",
    ")"
   ]
  },
  {
   "cell_type": "code",
   "execution_count": 86,
   "id": "281d3b69",
   "metadata": {},
   "outputs": [],
   "source": [
    "pipe_final = Pipeline([\n",
    "    ('preprocessor', data_preprocessor),\n",
    "    ('models', DecisionTreeClassifier(random_state=RANDOM_STATE))\n",
    "])"
   ]
  },
  {
   "cell_type": "code",
   "execution_count": 87,
   "id": "229483b2",
   "metadata": {},
   "outputs": [],
   "source": [
    "param_grid = [\n",
    "    {\n",
    "        'models': [DecisionTreeClassifier(random_state=RANDOM_STATE)],\n",
    "        'models__max_depth': range(2, 6),\n",
    "        'models__max_features': range(2, 6),\n",
    "        'preprocessor__num': [StandardScaler(), MinMaxScaler(), 'passthrough']\n",
    "    },\n",
    "    {\n",
    "        'models': [KNeighborsClassifier()],\n",
    "        'models__n_neighbors': range(2, 6),\n",
    "        'preprocessor__num': [StandardScaler(), MinMaxScaler(), 'passthrough']\n",
    "    },\n",
    "    {\n",
    "        'models': [LogisticRegression(\n",
    "            random_state=RANDOM_STATE,\n",
    "            solver='liblinear',\n",
    "            penalty='l1'\n",
    "        )],\n",
    "        'models__C': range(1, 6),\n",
    "        'preprocessor__num': [StandardScaler(), MinMaxScaler(), 'passthrough']\n",
    "    },\n",
    "    {\n",
    "        'models': [SVC(kernel='linear', random_state=RANDOM_STATE, probability=True)],\n",
    "        'models__C': [0.1, 1, 10, 100],\n",
    "        'preprocessor__num': [StandardScaler(), MinMaxScaler(), 'passthrough']\n",
    "    }\n",
    "]"
   ]
  },
  {
   "cell_type": "code",
   "execution_count": 88,
   "id": "9c9b22c0",
   "metadata": {
    "scrolled": false
   },
   "outputs": [
    {
     "data": {
      "text/html": [
       "<style>#sk-container-id-1 {\n",
       "  /* Definition of color scheme common for light and dark mode */\n",
       "  --sklearn-color-text: black;\n",
       "  --sklearn-color-line: gray;\n",
       "  /* Definition of color scheme for unfitted estimators */\n",
       "  --sklearn-color-unfitted-level-0: #fff5e6;\n",
       "  --sklearn-color-unfitted-level-1: #f6e4d2;\n",
       "  --sklearn-color-unfitted-level-2: #ffe0b3;\n",
       "  --sklearn-color-unfitted-level-3: chocolate;\n",
       "  /* Definition of color scheme for fitted estimators */\n",
       "  --sklearn-color-fitted-level-0: #f0f8ff;\n",
       "  --sklearn-color-fitted-level-1: #d4ebff;\n",
       "  --sklearn-color-fitted-level-2: #b3dbfd;\n",
       "  --sklearn-color-fitted-level-3: cornflowerblue;\n",
       "\n",
       "  /* Specific color for light theme */\n",
       "  --sklearn-color-text-on-default-background: var(--sg-text-color, var(--theme-code-foreground, var(--jp-content-font-color1, black)));\n",
       "  --sklearn-color-background: var(--sg-background-color, var(--theme-background, var(--jp-layout-color0, white)));\n",
       "  --sklearn-color-border-box: var(--sg-text-color, var(--theme-code-foreground, var(--jp-content-font-color1, black)));\n",
       "  --sklearn-color-icon: #696969;\n",
       "\n",
       "  @media (prefers-color-scheme: dark) {\n",
       "    /* Redefinition of color scheme for dark theme */\n",
       "    --sklearn-color-text-on-default-background: var(--sg-text-color, var(--theme-code-foreground, var(--jp-content-font-color1, white)));\n",
       "    --sklearn-color-background: var(--sg-background-color, var(--theme-background, var(--jp-layout-color0, #111)));\n",
       "    --sklearn-color-border-box: var(--sg-text-color, var(--theme-code-foreground, var(--jp-content-font-color1, white)));\n",
       "    --sklearn-color-icon: #878787;\n",
       "  }\n",
       "}\n",
       "\n",
       "#sk-container-id-1 {\n",
       "  color: var(--sklearn-color-text);\n",
       "}\n",
       "\n",
       "#sk-container-id-1 pre {\n",
       "  padding: 0;\n",
       "}\n",
       "\n",
       "#sk-container-id-1 input.sk-hidden--visually {\n",
       "  border: 0;\n",
       "  clip: rect(1px 1px 1px 1px);\n",
       "  clip: rect(1px, 1px, 1px, 1px);\n",
       "  height: 1px;\n",
       "  margin: -1px;\n",
       "  overflow: hidden;\n",
       "  padding: 0;\n",
       "  position: absolute;\n",
       "  width: 1px;\n",
       "}\n",
       "\n",
       "#sk-container-id-1 div.sk-dashed-wrapped {\n",
       "  border: 1px dashed var(--sklearn-color-line);\n",
       "  margin: 0 0.4em 0.5em 0.4em;\n",
       "  box-sizing: border-box;\n",
       "  padding-bottom: 0.4em;\n",
       "  background-color: var(--sklearn-color-background);\n",
       "}\n",
       "\n",
       "#sk-container-id-1 div.sk-container {\n",
       "  /* jupyter's `normalize.less` sets `[hidden] { display: none; }`\n",
       "     but bootstrap.min.css set `[hidden] { display: none !important; }`\n",
       "     so we also need the `!important` here to be able to override the\n",
       "     default hidden behavior on the sphinx rendered scikit-learn.org.\n",
       "     See: https://github.com/scikit-learn/scikit-learn/issues/21755 */\n",
       "  display: inline-block !important;\n",
       "  position: relative;\n",
       "}\n",
       "\n",
       "#sk-container-id-1 div.sk-text-repr-fallback {\n",
       "  display: none;\n",
       "}\n",
       "\n",
       "div.sk-parallel-item,\n",
       "div.sk-serial,\n",
       "div.sk-item {\n",
       "  /* draw centered vertical line to link estimators */\n",
       "  background-image: linear-gradient(var(--sklearn-color-text-on-default-background), var(--sklearn-color-text-on-default-background));\n",
       "  background-size: 2px 100%;\n",
       "  background-repeat: no-repeat;\n",
       "  background-position: center center;\n",
       "}\n",
       "\n",
       "/* Parallel-specific style estimator block */\n",
       "\n",
       "#sk-container-id-1 div.sk-parallel-item::after {\n",
       "  content: \"\";\n",
       "  width: 100%;\n",
       "  border-bottom: 2px solid var(--sklearn-color-text-on-default-background);\n",
       "  flex-grow: 1;\n",
       "}\n",
       "\n",
       "#sk-container-id-1 div.sk-parallel {\n",
       "  display: flex;\n",
       "  align-items: stretch;\n",
       "  justify-content: center;\n",
       "  background-color: var(--sklearn-color-background);\n",
       "  position: relative;\n",
       "}\n",
       "\n",
       "#sk-container-id-1 div.sk-parallel-item {\n",
       "  display: flex;\n",
       "  flex-direction: column;\n",
       "}\n",
       "\n",
       "#sk-container-id-1 div.sk-parallel-item:first-child::after {\n",
       "  align-self: flex-end;\n",
       "  width: 50%;\n",
       "}\n",
       "\n",
       "#sk-container-id-1 div.sk-parallel-item:last-child::after {\n",
       "  align-self: flex-start;\n",
       "  width: 50%;\n",
       "}\n",
       "\n",
       "#sk-container-id-1 div.sk-parallel-item:only-child::after {\n",
       "  width: 0;\n",
       "}\n",
       "\n",
       "/* Serial-specific style estimator block */\n",
       "\n",
       "#sk-container-id-1 div.sk-serial {\n",
       "  display: flex;\n",
       "  flex-direction: column;\n",
       "  align-items: center;\n",
       "  background-color: var(--sklearn-color-background);\n",
       "  padding-right: 1em;\n",
       "  padding-left: 1em;\n",
       "}\n",
       "\n",
       "\n",
       "/* Toggleable style: style used for estimator/Pipeline/ColumnTransformer box that is\n",
       "clickable and can be expanded/collapsed.\n",
       "- Pipeline and ColumnTransformer use this feature and define the default style\n",
       "- Estimators will overwrite some part of the style using the `sk-estimator` class\n",
       "*/\n",
       "\n",
       "/* Pipeline and ColumnTransformer style (default) */\n",
       "\n",
       "#sk-container-id-1 div.sk-toggleable {\n",
       "  /* Default theme specific background. It is overwritten whether we have a\n",
       "  specific estimator or a Pipeline/ColumnTransformer */\n",
       "  background-color: var(--sklearn-color-background);\n",
       "}\n",
       "\n",
       "/* Toggleable label */\n",
       "#sk-container-id-1 label.sk-toggleable__label {\n",
       "  cursor: pointer;\n",
       "  display: block;\n",
       "  width: 100%;\n",
       "  margin-bottom: 0;\n",
       "  padding: 0.5em;\n",
       "  box-sizing: border-box;\n",
       "  text-align: center;\n",
       "}\n",
       "\n",
       "#sk-container-id-1 label.sk-toggleable__label-arrow:before {\n",
       "  /* Arrow on the left of the label */\n",
       "  content: \"▸\";\n",
       "  float: left;\n",
       "  margin-right: 0.25em;\n",
       "  color: var(--sklearn-color-icon);\n",
       "}\n",
       "\n",
       "#sk-container-id-1 label.sk-toggleable__label-arrow:hover:before {\n",
       "  color: var(--sklearn-color-text);\n",
       "}\n",
       "\n",
       "/* Toggleable content - dropdown */\n",
       "\n",
       "#sk-container-id-1 div.sk-toggleable__content {\n",
       "  max-height: 0;\n",
       "  max-width: 0;\n",
       "  overflow: hidden;\n",
       "  text-align: left;\n",
       "  /* unfitted */\n",
       "  background-color: var(--sklearn-color-unfitted-level-0);\n",
       "}\n",
       "\n",
       "#sk-container-id-1 div.sk-toggleable__content.fitted {\n",
       "  /* fitted */\n",
       "  background-color: var(--sklearn-color-fitted-level-0);\n",
       "}\n",
       "\n",
       "#sk-container-id-1 div.sk-toggleable__content pre {\n",
       "  margin: 0.2em;\n",
       "  border-radius: 0.25em;\n",
       "  color: var(--sklearn-color-text);\n",
       "  /* unfitted */\n",
       "  background-color: var(--sklearn-color-unfitted-level-0);\n",
       "}\n",
       "\n",
       "#sk-container-id-1 div.sk-toggleable__content.fitted pre {\n",
       "  /* unfitted */\n",
       "  background-color: var(--sklearn-color-fitted-level-0);\n",
       "}\n",
       "\n",
       "#sk-container-id-1 input.sk-toggleable__control:checked~div.sk-toggleable__content {\n",
       "  /* Expand drop-down */\n",
       "  max-height: 200px;\n",
       "  max-width: 100%;\n",
       "  overflow: auto;\n",
       "}\n",
       "\n",
       "#sk-container-id-1 input.sk-toggleable__control:checked~label.sk-toggleable__label-arrow:before {\n",
       "  content: \"▾\";\n",
       "}\n",
       "\n",
       "/* Pipeline/ColumnTransformer-specific style */\n",
       "\n",
       "#sk-container-id-1 div.sk-label input.sk-toggleable__control:checked~label.sk-toggleable__label {\n",
       "  color: var(--sklearn-color-text);\n",
       "  background-color: var(--sklearn-color-unfitted-level-2);\n",
       "}\n",
       "\n",
       "#sk-container-id-1 div.sk-label.fitted input.sk-toggleable__control:checked~label.sk-toggleable__label {\n",
       "  background-color: var(--sklearn-color-fitted-level-2);\n",
       "}\n",
       "\n",
       "/* Estimator-specific style */\n",
       "\n",
       "/* Colorize estimator box */\n",
       "#sk-container-id-1 div.sk-estimator input.sk-toggleable__control:checked~label.sk-toggleable__label {\n",
       "  /* unfitted */\n",
       "  background-color: var(--sklearn-color-unfitted-level-2);\n",
       "}\n",
       "\n",
       "#sk-container-id-1 div.sk-estimator.fitted input.sk-toggleable__control:checked~label.sk-toggleable__label {\n",
       "  /* fitted */\n",
       "  background-color: var(--sklearn-color-fitted-level-2);\n",
       "}\n",
       "\n",
       "#sk-container-id-1 div.sk-label label.sk-toggleable__label,\n",
       "#sk-container-id-1 div.sk-label label {\n",
       "  /* The background is the default theme color */\n",
       "  color: var(--sklearn-color-text-on-default-background);\n",
       "}\n",
       "\n",
       "/* On hover, darken the color of the background */\n",
       "#sk-container-id-1 div.sk-label:hover label.sk-toggleable__label {\n",
       "  color: var(--sklearn-color-text);\n",
       "  background-color: var(--sklearn-color-unfitted-level-2);\n",
       "}\n",
       "\n",
       "/* Label box, darken color on hover, fitted */\n",
       "#sk-container-id-1 div.sk-label.fitted:hover label.sk-toggleable__label.fitted {\n",
       "  color: var(--sklearn-color-text);\n",
       "  background-color: var(--sklearn-color-fitted-level-2);\n",
       "}\n",
       "\n",
       "/* Estimator label */\n",
       "\n",
       "#sk-container-id-1 div.sk-label label {\n",
       "  font-family: monospace;\n",
       "  font-weight: bold;\n",
       "  display: inline-block;\n",
       "  line-height: 1.2em;\n",
       "}\n",
       "\n",
       "#sk-container-id-1 div.sk-label-container {\n",
       "  text-align: center;\n",
       "}\n",
       "\n",
       "/* Estimator-specific */\n",
       "#sk-container-id-1 div.sk-estimator {\n",
       "  font-family: monospace;\n",
       "  border: 1px dotted var(--sklearn-color-border-box);\n",
       "  border-radius: 0.25em;\n",
       "  box-sizing: border-box;\n",
       "  margin-bottom: 0.5em;\n",
       "  /* unfitted */\n",
       "  background-color: var(--sklearn-color-unfitted-level-0);\n",
       "}\n",
       "\n",
       "#sk-container-id-1 div.sk-estimator.fitted {\n",
       "  /* fitted */\n",
       "  background-color: var(--sklearn-color-fitted-level-0);\n",
       "}\n",
       "\n",
       "/* on hover */\n",
       "#sk-container-id-1 div.sk-estimator:hover {\n",
       "  /* unfitted */\n",
       "  background-color: var(--sklearn-color-unfitted-level-2);\n",
       "}\n",
       "\n",
       "#sk-container-id-1 div.sk-estimator.fitted:hover {\n",
       "  /* fitted */\n",
       "  background-color: var(--sklearn-color-fitted-level-2);\n",
       "}\n",
       "\n",
       "/* Specification for estimator info (e.g. \"i\" and \"?\") */\n",
       "\n",
       "/* Common style for \"i\" and \"?\" */\n",
       "\n",
       ".sk-estimator-doc-link,\n",
       "a:link.sk-estimator-doc-link,\n",
       "a:visited.sk-estimator-doc-link {\n",
       "  float: right;\n",
       "  font-size: smaller;\n",
       "  line-height: 1em;\n",
       "  font-family: monospace;\n",
       "  background-color: var(--sklearn-color-background);\n",
       "  border-radius: 1em;\n",
       "  height: 1em;\n",
       "  width: 1em;\n",
       "  text-decoration: none !important;\n",
       "  margin-left: 1ex;\n",
       "  /* unfitted */\n",
       "  border: var(--sklearn-color-unfitted-level-1) 1pt solid;\n",
       "  color: var(--sklearn-color-unfitted-level-1);\n",
       "}\n",
       "\n",
       ".sk-estimator-doc-link.fitted,\n",
       "a:link.sk-estimator-doc-link.fitted,\n",
       "a:visited.sk-estimator-doc-link.fitted {\n",
       "  /* fitted */\n",
       "  border: var(--sklearn-color-fitted-level-1) 1pt solid;\n",
       "  color: var(--sklearn-color-fitted-level-1);\n",
       "}\n",
       "\n",
       "/* On hover */\n",
       "div.sk-estimator:hover .sk-estimator-doc-link:hover,\n",
       ".sk-estimator-doc-link:hover,\n",
       "div.sk-label-container:hover .sk-estimator-doc-link:hover,\n",
       ".sk-estimator-doc-link:hover {\n",
       "  /* unfitted */\n",
       "  background-color: var(--sklearn-color-unfitted-level-3);\n",
       "  color: var(--sklearn-color-background);\n",
       "  text-decoration: none;\n",
       "}\n",
       "\n",
       "div.sk-estimator.fitted:hover .sk-estimator-doc-link.fitted:hover,\n",
       ".sk-estimator-doc-link.fitted:hover,\n",
       "div.sk-label-container:hover .sk-estimator-doc-link.fitted:hover,\n",
       ".sk-estimator-doc-link.fitted:hover {\n",
       "  /* fitted */\n",
       "  background-color: var(--sklearn-color-fitted-level-3);\n",
       "  color: var(--sklearn-color-background);\n",
       "  text-decoration: none;\n",
       "}\n",
       "\n",
       "/* Span, style for the box shown on hovering the info icon */\n",
       ".sk-estimator-doc-link span {\n",
       "  display: none;\n",
       "  z-index: 9999;\n",
       "  position: relative;\n",
       "  font-weight: normal;\n",
       "  right: .2ex;\n",
       "  padding: .5ex;\n",
       "  margin: .5ex;\n",
       "  width: min-content;\n",
       "  min-width: 20ex;\n",
       "  max-width: 50ex;\n",
       "  color: var(--sklearn-color-text);\n",
       "  box-shadow: 2pt 2pt 4pt #999;\n",
       "  /* unfitted */\n",
       "  background: var(--sklearn-color-unfitted-level-0);\n",
       "  border: .5pt solid var(--sklearn-color-unfitted-level-3);\n",
       "}\n",
       "\n",
       ".sk-estimator-doc-link.fitted span {\n",
       "  /* fitted */\n",
       "  background: var(--sklearn-color-fitted-level-0);\n",
       "  border: var(--sklearn-color-fitted-level-3);\n",
       "}\n",
       "\n",
       ".sk-estimator-doc-link:hover span {\n",
       "  display: block;\n",
       "}\n",
       "\n",
       "/* \"?\"-specific style due to the `<a>` HTML tag */\n",
       "\n",
       "#sk-container-id-1 a.estimator_doc_link {\n",
       "  float: right;\n",
       "  font-size: 1rem;\n",
       "  line-height: 1em;\n",
       "  font-family: monospace;\n",
       "  background-color: var(--sklearn-color-background);\n",
       "  border-radius: 1rem;\n",
       "  height: 1rem;\n",
       "  width: 1rem;\n",
       "  text-decoration: none;\n",
       "  /* unfitted */\n",
       "  color: var(--sklearn-color-unfitted-level-1);\n",
       "  border: var(--sklearn-color-unfitted-level-1) 1pt solid;\n",
       "}\n",
       "\n",
       "#sk-container-id-1 a.estimator_doc_link.fitted {\n",
       "  /* fitted */\n",
       "  border: var(--sklearn-color-fitted-level-1) 1pt solid;\n",
       "  color: var(--sklearn-color-fitted-level-1);\n",
       "}\n",
       "\n",
       "/* On hover */\n",
       "#sk-container-id-1 a.estimator_doc_link:hover {\n",
       "  /* unfitted */\n",
       "  background-color: var(--sklearn-color-unfitted-level-3);\n",
       "  color: var(--sklearn-color-background);\n",
       "  text-decoration: none;\n",
       "}\n",
       "\n",
       "#sk-container-id-1 a.estimator_doc_link.fitted:hover {\n",
       "  /* fitted */\n",
       "  background-color: var(--sklearn-color-fitted-level-3);\n",
       "}\n",
       "</style><div id=\"sk-container-id-1\" class=\"sk-top-container\"><div class=\"sk-text-repr-fallback\"><pre>RandomizedSearchCV(cv=5, error_score=&#x27;raise&#x27;,\n",
       "                   estimator=Pipeline(steps=[(&#x27;preprocessor&#x27;,\n",
       "                                              ColumnTransformer(remainder=&#x27;passthrough&#x27;,\n",
       "                                                                transformers=[(&#x27;ohe&#x27;,\n",
       "                                                                               Pipeline(steps=[(&#x27;simpleImputer_ohe&#x27;,\n",
       "                                                                                                SimpleImputer(strategy=&#x27;most_frequent&#x27;)),\n",
       "                                                                                               (&#x27;ohe&#x27;,\n",
       "                                                                                                OneHotEncoder(drop=&#x27;first&#x27;))]),\n",
       "                                                                               [&#x27;popular_category&#x27;,\n",
       "                                                                                &#x27;allow_notifications&#x27;]),\n",
       "                                                                              (&#x27;ord&#x27;,\n",
       "                                                                               Pipeline(steps=[(&#x27;simpleImputer_be...\n",
       "                                        {&#x27;models&#x27;: [LogisticRegression(penalty=&#x27;l1&#x27;,\n",
       "                                                                       random_state=42,\n",
       "                                                                       solver=&#x27;liblinear&#x27;)],\n",
       "                                         &#x27;models__C&#x27;: range(1, 6),\n",
       "                                         &#x27;preprocessor__num&#x27;: [StandardScaler(),\n",
       "                                                               MinMaxScaler(),\n",
       "                                                               &#x27;passthrough&#x27;]},\n",
       "                                        {&#x27;models&#x27;: [SVC(kernel=&#x27;linear&#x27;,\n",
       "                                                        probability=True,\n",
       "                                                        random_state=42)],\n",
       "                                         &#x27;models__C&#x27;: [0.1, 1, 10, 100],\n",
       "                                         &#x27;preprocessor__num&#x27;: [StandardScaler(),\n",
       "                                                               MinMaxScaler(),\n",
       "                                                               &#x27;passthrough&#x27;]}],\n",
       "                   random_state=42, scoring=&#x27;roc_auc&#x27;)</pre><b>In a Jupyter environment, please rerun this cell to show the HTML representation or trust the notebook. <br />On GitHub, the HTML representation is unable to render, please try loading this page with nbviewer.org.</b></div><div class=\"sk-container\" hidden><div class=\"sk-item sk-dashed-wrapped\"><div class=\"sk-label-container\"><div class=\"sk-label fitted sk-toggleable\"><input class=\"sk-toggleable__control sk-hidden--visually\" id=\"sk-estimator-id-1\" type=\"checkbox\" ><label for=\"sk-estimator-id-1\" class=\"sk-toggleable__label fitted sk-toggleable__label-arrow fitted\">&nbsp;&nbsp;RandomizedSearchCV<a class=\"sk-estimator-doc-link fitted\" rel=\"noreferrer\" target=\"_blank\" href=\"https://scikit-learn.org/1.4/modules/generated/sklearn.model_selection.RandomizedSearchCV.html\">?<span>Documentation for RandomizedSearchCV</span></a><span class=\"sk-estimator-doc-link fitted\">i<span>Fitted</span></span></label><div class=\"sk-toggleable__content fitted\"><pre>RandomizedSearchCV(cv=5, error_score=&#x27;raise&#x27;,\n",
       "                   estimator=Pipeline(steps=[(&#x27;preprocessor&#x27;,\n",
       "                                              ColumnTransformer(remainder=&#x27;passthrough&#x27;,\n",
       "                                                                transformers=[(&#x27;ohe&#x27;,\n",
       "                                                                               Pipeline(steps=[(&#x27;simpleImputer_ohe&#x27;,\n",
       "                                                                                                SimpleImputer(strategy=&#x27;most_frequent&#x27;)),\n",
       "                                                                                               (&#x27;ohe&#x27;,\n",
       "                                                                                                OneHotEncoder(drop=&#x27;first&#x27;))]),\n",
       "                                                                               [&#x27;popular_category&#x27;,\n",
       "                                                                                &#x27;allow_notifications&#x27;]),\n",
       "                                                                              (&#x27;ord&#x27;,\n",
       "                                                                               Pipeline(steps=[(&#x27;simpleImputer_be...\n",
       "                                        {&#x27;models&#x27;: [LogisticRegression(penalty=&#x27;l1&#x27;,\n",
       "                                                                       random_state=42,\n",
       "                                                                       solver=&#x27;liblinear&#x27;)],\n",
       "                                         &#x27;models__C&#x27;: range(1, 6),\n",
       "                                         &#x27;preprocessor__num&#x27;: [StandardScaler(),\n",
       "                                                               MinMaxScaler(),\n",
       "                                                               &#x27;passthrough&#x27;]},\n",
       "                                        {&#x27;models&#x27;: [SVC(kernel=&#x27;linear&#x27;,\n",
       "                                                        probability=True,\n",
       "                                                        random_state=42)],\n",
       "                                         &#x27;models__C&#x27;: [0.1, 1, 10, 100],\n",
       "                                         &#x27;preprocessor__num&#x27;: [StandardScaler(),\n",
       "                                                               MinMaxScaler(),\n",
       "                                                               &#x27;passthrough&#x27;]}],\n",
       "                   random_state=42, scoring=&#x27;roc_auc&#x27;)</pre></div> </div></div><div class=\"sk-parallel\"><div class=\"sk-parallel-item\"><div class=\"sk-item\"><div class=\"sk-label-container\"><div class=\"sk-label fitted sk-toggleable\"><input class=\"sk-toggleable__control sk-hidden--visually\" id=\"sk-estimator-id-2\" type=\"checkbox\" ><label for=\"sk-estimator-id-2\" class=\"sk-toggleable__label fitted sk-toggleable__label-arrow fitted\">estimator: Pipeline</label><div class=\"sk-toggleable__content fitted\"><pre>Pipeline(steps=[(&#x27;preprocessor&#x27;,\n",
       "                 ColumnTransformer(remainder=&#x27;passthrough&#x27;,\n",
       "                                   transformers=[(&#x27;ohe&#x27;,\n",
       "                                                  Pipeline(steps=[(&#x27;simpleImputer_ohe&#x27;,\n",
       "                                                                   SimpleImputer(strategy=&#x27;most_frequent&#x27;)),\n",
       "                                                                  (&#x27;ohe&#x27;,\n",
       "                                                                   OneHotEncoder(drop=&#x27;first&#x27;))]),\n",
       "                                                  [&#x27;popular_category&#x27;,\n",
       "                                                   &#x27;allow_notifications&#x27;]),\n",
       "                                                 (&#x27;ord&#x27;,\n",
       "                                                  Pipeline(steps=[(&#x27;simpleImputer_before_ord&#x27;,\n",
       "                                                                   SimpleImputer(strategy=&#x27;most_frequent&#x27;)),\n",
       "                                                                  (&#x27;o...\n",
       "                                                                                  handle_unknown=&#x27;use_encoded_value&#x27;,\n",
       "                                                                                  unknown_value=nan))]),\n",
       "                                                  [&#x27;service_type&#x27;]),\n",
       "                                                 (&#x27;num&#x27;, MinMaxScaler(),\n",
       "                                                  [&#x27;allow_notifications&#x27;,\n",
       "                                                   &#x27;market_activ_6_months&#x27;,\n",
       "                                                   &#x27;market_activ_curr_month&#x27;,\n",
       "                                                   &#x27;promotional_purchases&#x27;,\n",
       "                                                   &#x27;average_cat_views_per_visit&#x27;,\n",
       "                                                   &#x27;service_errors&#x27;,\n",
       "                                                   &#x27;pages_per_visit&#x27;,\n",
       "                                                   &#x27;duration&#x27;,\n",
       "                                                   &#x27;unpaid_products_quarterly&#x27;])])),\n",
       "                (&#x27;models&#x27;, DecisionTreeClassifier(random_state=42))])</pre></div> </div></div><div class=\"sk-serial\"><div class=\"sk-item\"><div class=\"sk-serial\"><div class=\"sk-item sk-dashed-wrapped\"><div class=\"sk-label-container\"><div class=\"sk-label fitted sk-toggleable\"><input class=\"sk-toggleable__control sk-hidden--visually\" id=\"sk-estimator-id-3\" type=\"checkbox\" ><label for=\"sk-estimator-id-3\" class=\"sk-toggleable__label fitted sk-toggleable__label-arrow fitted\">&nbsp;preprocessor: ColumnTransformer<a class=\"sk-estimator-doc-link fitted\" rel=\"noreferrer\" target=\"_blank\" href=\"https://scikit-learn.org/1.4/modules/generated/sklearn.compose.ColumnTransformer.html\">?<span>Documentation for preprocessor: ColumnTransformer</span></a></label><div class=\"sk-toggleable__content fitted\"><pre>ColumnTransformer(remainder=&#x27;passthrough&#x27;,\n",
       "                  transformers=[(&#x27;ohe&#x27;,\n",
       "                                 Pipeline(steps=[(&#x27;simpleImputer_ohe&#x27;,\n",
       "                                                  SimpleImputer(strategy=&#x27;most_frequent&#x27;)),\n",
       "                                                 (&#x27;ohe&#x27;,\n",
       "                                                  OneHotEncoder(drop=&#x27;first&#x27;))]),\n",
       "                                 [&#x27;popular_category&#x27;, &#x27;allow_notifications&#x27;]),\n",
       "                                (&#x27;ord&#x27;,\n",
       "                                 Pipeline(steps=[(&#x27;simpleImputer_before_ord&#x27;,\n",
       "                                                  SimpleImputer(strategy=&#x27;most_frequent&#x27;)),\n",
       "                                                 (&#x27;ord&#x27;,\n",
       "                                                  OrdinalEncoder(categories=[[&#x27;премиум&#x27;,\n",
       "                                                                              &#x27;стандарт&#x27;]],\n",
       "                                                                 handle_unknown=&#x27;use_encoded_value&#x27;,\n",
       "                                                                 unknown_value=nan))]),\n",
       "                                 [&#x27;service_type&#x27;]),\n",
       "                                (&#x27;num&#x27;, MinMaxScaler(),\n",
       "                                 [&#x27;allow_notifications&#x27;,\n",
       "                                  &#x27;market_activ_6_months&#x27;,\n",
       "                                  &#x27;market_activ_curr_month&#x27;,\n",
       "                                  &#x27;promotional_purchases&#x27;,\n",
       "                                  &#x27;average_cat_views_per_visit&#x27;,\n",
       "                                  &#x27;service_errors&#x27;, &#x27;pages_per_visit&#x27;,\n",
       "                                  &#x27;duration&#x27;, &#x27;unpaid_products_quarterly&#x27;])])</pre></div> </div></div><div class=\"sk-parallel\"><div class=\"sk-parallel-item\"><div class=\"sk-item\"><div class=\"sk-label-container\"><div class=\"sk-label fitted sk-toggleable\"><input class=\"sk-toggleable__control sk-hidden--visually\" id=\"sk-estimator-id-4\" type=\"checkbox\" ><label for=\"sk-estimator-id-4\" class=\"sk-toggleable__label fitted sk-toggleable__label-arrow fitted\">ohe</label><div class=\"sk-toggleable__content fitted\"><pre>[&#x27;popular_category&#x27;, &#x27;allow_notifications&#x27;]</pre></div> </div></div><div class=\"sk-serial\"><div class=\"sk-item\"><div class=\"sk-serial\"><div class=\"sk-item\"><div class=\"sk-estimator fitted sk-toggleable\"><input class=\"sk-toggleable__control sk-hidden--visually\" id=\"sk-estimator-id-5\" type=\"checkbox\" ><label for=\"sk-estimator-id-5\" class=\"sk-toggleable__label fitted sk-toggleable__label-arrow fitted\">&nbsp;SimpleImputer<a class=\"sk-estimator-doc-link fitted\" rel=\"noreferrer\" target=\"_blank\" href=\"https://scikit-learn.org/1.4/modules/generated/sklearn.impute.SimpleImputer.html\">?<span>Documentation for SimpleImputer</span></a></label><div class=\"sk-toggleable__content fitted\"><pre>SimpleImputer(strategy=&#x27;most_frequent&#x27;)</pre></div> </div></div><div class=\"sk-item\"><div class=\"sk-estimator fitted sk-toggleable\"><input class=\"sk-toggleable__control sk-hidden--visually\" id=\"sk-estimator-id-6\" type=\"checkbox\" ><label for=\"sk-estimator-id-6\" class=\"sk-toggleable__label fitted sk-toggleable__label-arrow fitted\">&nbsp;OneHotEncoder<a class=\"sk-estimator-doc-link fitted\" rel=\"noreferrer\" target=\"_blank\" href=\"https://scikit-learn.org/1.4/modules/generated/sklearn.preprocessing.OneHotEncoder.html\">?<span>Documentation for OneHotEncoder</span></a></label><div class=\"sk-toggleable__content fitted\"><pre>OneHotEncoder(drop=&#x27;first&#x27;)</pre></div> </div></div></div></div></div></div></div><div class=\"sk-parallel-item\"><div class=\"sk-item\"><div class=\"sk-label-container\"><div class=\"sk-label fitted sk-toggleable\"><input class=\"sk-toggleable__control sk-hidden--visually\" id=\"sk-estimator-id-7\" type=\"checkbox\" ><label for=\"sk-estimator-id-7\" class=\"sk-toggleable__label fitted sk-toggleable__label-arrow fitted\">ord</label><div class=\"sk-toggleable__content fitted\"><pre>[&#x27;service_type&#x27;]</pre></div> </div></div><div class=\"sk-serial\"><div class=\"sk-item\"><div class=\"sk-serial\"><div class=\"sk-item\"><div class=\"sk-estimator fitted sk-toggleable\"><input class=\"sk-toggleable__control sk-hidden--visually\" id=\"sk-estimator-id-8\" type=\"checkbox\" ><label for=\"sk-estimator-id-8\" class=\"sk-toggleable__label fitted sk-toggleable__label-arrow fitted\">&nbsp;SimpleImputer<a class=\"sk-estimator-doc-link fitted\" rel=\"noreferrer\" target=\"_blank\" href=\"https://scikit-learn.org/1.4/modules/generated/sklearn.impute.SimpleImputer.html\">?<span>Documentation for SimpleImputer</span></a></label><div class=\"sk-toggleable__content fitted\"><pre>SimpleImputer(strategy=&#x27;most_frequent&#x27;)</pre></div> </div></div><div class=\"sk-item\"><div class=\"sk-estimator fitted sk-toggleable\"><input class=\"sk-toggleable__control sk-hidden--visually\" id=\"sk-estimator-id-9\" type=\"checkbox\" ><label for=\"sk-estimator-id-9\" class=\"sk-toggleable__label fitted sk-toggleable__label-arrow fitted\">&nbsp;OrdinalEncoder<a class=\"sk-estimator-doc-link fitted\" rel=\"noreferrer\" target=\"_blank\" href=\"https://scikit-learn.org/1.4/modules/generated/sklearn.preprocessing.OrdinalEncoder.html\">?<span>Documentation for OrdinalEncoder</span></a></label><div class=\"sk-toggleable__content fitted\"><pre>OrdinalEncoder(categories=[[&#x27;премиум&#x27;, &#x27;стандарт&#x27;]],\n",
       "               handle_unknown=&#x27;use_encoded_value&#x27;, unknown_value=nan)</pre></div> </div></div></div></div></div></div></div><div class=\"sk-parallel-item\"><div class=\"sk-item\"><div class=\"sk-label-container\"><div class=\"sk-label fitted sk-toggleable\"><input class=\"sk-toggleable__control sk-hidden--visually\" id=\"sk-estimator-id-10\" type=\"checkbox\" ><label for=\"sk-estimator-id-10\" class=\"sk-toggleable__label fitted sk-toggleable__label-arrow fitted\">num</label><div class=\"sk-toggleable__content fitted\"><pre>[&#x27;allow_notifications&#x27;, &#x27;market_activ_6_months&#x27;, &#x27;market_activ_curr_month&#x27;, &#x27;promotional_purchases&#x27;, &#x27;average_cat_views_per_visit&#x27;, &#x27;service_errors&#x27;, &#x27;pages_per_visit&#x27;, &#x27;duration&#x27;, &#x27;unpaid_products_quarterly&#x27;]</pre></div> </div></div><div class=\"sk-serial\"><div class=\"sk-item\"><div class=\"sk-estimator fitted sk-toggleable\"><input class=\"sk-toggleable__control sk-hidden--visually\" id=\"sk-estimator-id-11\" type=\"checkbox\" ><label for=\"sk-estimator-id-11\" class=\"sk-toggleable__label fitted sk-toggleable__label-arrow fitted\">&nbsp;MinMaxScaler<a class=\"sk-estimator-doc-link fitted\" rel=\"noreferrer\" target=\"_blank\" href=\"https://scikit-learn.org/1.4/modules/generated/sklearn.preprocessing.MinMaxScaler.html\">?<span>Documentation for MinMaxScaler</span></a></label><div class=\"sk-toggleable__content fitted\"><pre>MinMaxScaler()</pre></div> </div></div></div></div></div><div class=\"sk-parallel-item\"><div class=\"sk-item\"><div class=\"sk-label-container\"><div class=\"sk-label fitted sk-toggleable\"><input class=\"sk-toggleable__control sk-hidden--visually\" id=\"sk-estimator-id-12\" type=\"checkbox\" ><label for=\"sk-estimator-id-12\" class=\"sk-toggleable__label fitted sk-toggleable__label-arrow fitted\">remainder</label><div class=\"sk-toggleable__content fitted\"><pre></pre></div> </div></div><div class=\"sk-serial\"><div class=\"sk-item\"><div class=\"sk-estimator fitted sk-toggleable\"><input class=\"sk-toggleable__control sk-hidden--visually\" id=\"sk-estimator-id-13\" type=\"checkbox\" ><label for=\"sk-estimator-id-13\" class=\"sk-toggleable__label fitted sk-toggleable__label-arrow fitted\">passthrough</label><div class=\"sk-toggleable__content fitted\"><pre>passthrough</pre></div> </div></div></div></div></div></div></div><div class=\"sk-item\"><div class=\"sk-estimator fitted sk-toggleable\"><input class=\"sk-toggleable__control sk-hidden--visually\" id=\"sk-estimator-id-14\" type=\"checkbox\" ><label for=\"sk-estimator-id-14\" class=\"sk-toggleable__label fitted sk-toggleable__label-arrow fitted\">&nbsp;DecisionTreeClassifier<a class=\"sk-estimator-doc-link fitted\" rel=\"noreferrer\" target=\"_blank\" href=\"https://scikit-learn.org/1.4/modules/generated/sklearn.tree.DecisionTreeClassifier.html\">?<span>Documentation for DecisionTreeClassifier</span></a></label><div class=\"sk-toggleable__content fitted\"><pre>DecisionTreeClassifier(random_state=42)</pre></div> </div></div></div></div></div></div></div></div></div></div></div>"
      ],
      "text/plain": [
       "RandomizedSearchCV(cv=5, error_score='raise',\n",
       "                   estimator=Pipeline(steps=[('preprocessor',\n",
       "                                              ColumnTransformer(remainder='passthrough',\n",
       "                                                                transformers=[('ohe',\n",
       "                                                                               Pipeline(steps=[('simpleImputer_ohe',\n",
       "                                                                                                SimpleImputer(strategy='most_frequent')),\n",
       "                                                                                               ('ohe',\n",
       "                                                                                                OneHotEncoder(drop='first'))]),\n",
       "                                                                               ['popular_category',\n",
       "                                                                                'allow_notifications']),\n",
       "                                                                              ('ord',\n",
       "                                                                               Pipeline(steps=[('simpleImputer_be...\n",
       "                                        {'models': [LogisticRegression(penalty='l1',\n",
       "                                                                       random_state=42,\n",
       "                                                                       solver='liblinear')],\n",
       "                                         'models__C': range(1, 6),\n",
       "                                         'preprocessor__num': [StandardScaler(),\n",
       "                                                               MinMaxScaler(),\n",
       "                                                               'passthrough']},\n",
       "                                        {'models': [SVC(kernel='linear',\n",
       "                                                        probability=True,\n",
       "                                                        random_state=42)],\n",
       "                                         'models__C': [0.1, 1, 10, 100],\n",
       "                                         'preprocessor__num': [StandardScaler(),\n",
       "                                                               MinMaxScaler(),\n",
       "                                                               'passthrough']}],\n",
       "                   random_state=42, scoring='roc_auc')"
      ]
     },
     "execution_count": 88,
     "metadata": {},
     "output_type": "execute_result"
    }
   ],
   "source": [
    "randomized_search = RandomizedSearchCV(\n",
    "    pipe_final,\n",
    "    param_grid,\n",
    "    cv=5,\n",
    "    scoring='roc_auc',\n",
    "    random_state=RANDOM_STATE,\n",
    "    n_jobs=-1,\n",
    "    error_score='raise'\n",
    ")\n",
    "\n",
    "randomized_search.fit(X_train, y_train)"
   ]
  },
  {
   "cell_type": "code",
   "execution_count": 89,
   "id": "c746857c",
   "metadata": {
    "scrolled": false
   },
   "outputs": [
    {
     "name": "stdout",
     "output_type": "stream",
     "text": [
      "Лучшая модель и её параметры:\n",
      "\n",
      " Pipeline(steps=[('preprocessor',\n",
      "                 ColumnTransformer(remainder='passthrough',\n",
      "                                   transformers=[('ohe',\n",
      "                                                  Pipeline(steps=[('simpleImputer_ohe',\n",
      "                                                                   SimpleImputer(strategy='most_frequent')),\n",
      "                                                                  ('ohe',\n",
      "                                                                   OneHotEncoder(drop='first'))]),\n",
      "                                                  ['popular_category',\n",
      "                                                   'allow_notifications']),\n",
      "                                                 ('ord',\n",
      "                                                  Pipeline(steps=[('simpleImputer_before_ord',\n",
      "                                                                   SimpleImputer(strategy='most_frequent')),\n",
      "                                                                  ('o...\n",
      "                                                                                  handle_unknown='use_encoded_value',\n",
      "                                                                                  unknown_value=nan))]),\n",
      "                                                  ['service_type']),\n",
      "                                                 ('num', MinMaxScaler(),\n",
      "                                                  ['allow_notifications',\n",
      "                                                   'market_activ_6_months',\n",
      "                                                   'market_activ_curr_month',\n",
      "                                                   'promotional_purchases',\n",
      "                                                   'average_cat_views_per_visit',\n",
      "                                                   'service_errors',\n",
      "                                                   'pages_per_visit',\n",
      "                                                   'duration',\n",
      "                                                   'unpaid_products_quarterly'])])),\n",
      "                ('models',\n",
      "                 SVC(C=0.1, kernel='linear', probability=True,\n",
      "                     random_state=42))])\n",
      "Метрика лучшей модели на тренировочной выборке: 0.980765239619785\n",
      "Площадь ROC-кривой: 0.9843061117178337\n"
     ]
    }
   ],
   "source": [
    "print(\"Лучшая модель и её параметры:\\n\\n\", randomized_search.best_estimator_)\n",
    "print(\"Метрика лучшей модели на тренировочной выборке:\", randomized_search.best_score_)\n",
    "\n",
    "probabilities = randomized_search.predict_proba(X_test)\n",
    "probabilities_one = probabilities[:, 1]\n",
    "print('Площадь ROC-кривой:', roc_auc_score(y_test, probabilities_one))"
   ]
  },
  {
   "cell_type": "markdown",
   "id": "b0d13139",
   "metadata": {},
   "source": [
    "**Вывод:**\n",
    "\n",
    "1. По полученным результатам можно сделать вывод, что самой лучшей моделью является SVC модель, с такими параметрами как:\n",
    "- `SVC(C=0.1, kernel='linear', probability=True, random_state=42)`\n",
    "\n",
    "2. Значения метрики лучшей модели на тренировочной выборке: `0.8777629488993126`\n",
    "3. Метрика ROC-AUC на тестовой выборке: `0.8989604821421348`"
   ]
  },
  {
   "cell_type": "markdown",
   "id": "78a37638",
   "metadata": {},
   "source": [
    "# Шаг 7. Анализ важности признаков"
   ]
  },
  {
   "cell_type": "code",
   "execution_count": 91,
   "id": "0c8f9bb9",
   "metadata": {
    "scrolled": false
   },
   "outputs": [
    {
     "data": {
      "image/png": "[encoded data removed]",
      "text/plain": [
       "<Figure size 576x396 with 2 Axes>"
      ]
     },
     "metadata": {
      "needs_background": "light"
     },
     "output_type": "display_data"
    }
   ],
   "source": [
    "# Получение лучшей модели\n",
    "best_model = randomized_search.best_estimator_\n",
    "\n",
    "# Получение преобразователя из pipeline\n",
    "data_preprocessor = best_model.named_steps['preprocessor']\n",
    "\n",
    "# Применение преобразований к X_train\n",
    "X_train_transformed = data_preprocessor.transform(X_train)\n",
    "\n",
    "feature_names = data_preprocessor.get_feature_names_out()\n",
    "\n",
    "# Создание explainer с использованием преобразованного X_train\n",
    "explainer = shap.LinearExplainer(best_model.named_steps['models'], X_train_transformed, feature_names=feature_names)\n",
    "\n",
    "# Вычисление значений SHAP\n",
    "shap_values = explainer(X_train_transformed)\n",
    "\n",
    "# Визуализация\n",
    "shap.plots.beeswarm(shap_values)\n"
   ]
  },
  {
   "cell_type": "markdown",
   "id": "3d1d5295",
   "metadata": {},
   "source": [
    "**Вывод:**\n",
    "\n",
    "1. Самым мало значимым признаком для моделя является `num__market_activ_curr_month`, то есть количество маркетинговых коммуникаций в текущем месяце.\n",
    "\n",
    "2. Самым сильно влияющим признаком для модели являются следующие топ-3 признака:\n",
    "\n",
    "- `pages_per_visit` - среднее количество страниц, которые просмотрел покупатель за один визит на сайт за последние 3 месяца\n",
    "- `average_cat_views_per_visit` - показывает, сколько в среднем категорий покупатель просмотрел за визит в течение последнего месяца.\n",
    "- `promotional_purchases` - среднемесячная доля покупок по акции от общего числа покупок за последние 6 месяцев."
   ]
  },
  {
   "cell_type": "markdown",
   "id": "1504c2bc",
   "metadata": {},
   "source": [
    "\n",
    "# Шаг 8. Сегментация покупателей"
   ]
  },
  {
   "cell_type": "code",
   "execution_count": 92,
   "id": "1c5a8ca7",
   "metadata": {},
   "outputs": [
    {
     "data": {
      "text/html": [
       "<div>\n",
       "<style scoped>\n",
       "    .dataframe tbody tr th:only-of-type {\n",
       "        vertical-align: middle;\n",
       "    }\n",
       "\n",
       "    .dataframe tbody tr th {\n",
       "        vertical-align: top;\n",
       "    }\n",
       "\n",
       "    .dataframe thead th {\n",
       "        text-align: right;\n",
       "    }\n",
       "</style>\n",
       "<table border=\"1\" class=\"dataframe\">\n",
       "  <thead>\n",
       "    <tr style=\"text-align: right;\">\n",
       "      <th></th>\n",
       "      <th>id</th>\n",
       "      <th>customer_activity</th>\n",
       "      <th>service_type</th>\n",
       "      <th>allow_notifications</th>\n",
       "      <th>market_activ_6_months</th>\n",
       "      <th>market_activ_curr_month</th>\n",
       "      <th>duration</th>\n",
       "      <th>promotional_purchases</th>\n",
       "      <th>popular_category</th>\n",
       "      <th>average_cat_views_per_visit</th>\n",
       "      <th>unpaid_products_quarterly</th>\n",
       "      <th>service_errors</th>\n",
       "      <th>pages_per_visit</th>\n",
       "      <th>предыдущий_месяц_money</th>\n",
       "      <th>препредыдущий_месяц_money</th>\n",
       "      <th>текущий_месяц_money</th>\n",
       "      <th>предыдущий_месяц_period</th>\n",
       "      <th>текущий_месяц_period</th>\n",
       "    </tr>\n",
       "  </thead>\n",
       "  <tbody>\n",
       "    <tr>\n",
       "      <th>0</th>\n",
       "      <td>215349</td>\n",
       "      <td>Снизилась</td>\n",
       "      <td>премиум</td>\n",
       "      <td>1</td>\n",
       "      <td>4.400</td>\n",
       "      <td>4</td>\n",
       "      <td>819</td>\n",
       "      <td>0.750</td>\n",
       "      <td>Товары для детей</td>\n",
       "      <td>4</td>\n",
       "      <td>4</td>\n",
       "      <td>2</td>\n",
       "      <td>5</td>\n",
       "      <td>5216.000</td>\n",
       "      <td>4472.000</td>\n",
       "      <td>4971.600</td>\n",
       "      <td>12</td>\n",
       "      <td>10</td>\n",
       "    </tr>\n",
       "    <tr>\n",
       "      <th>1</th>\n",
       "      <td>215350</td>\n",
       "      <td>Снизилась</td>\n",
       "      <td>стандарт</td>\n",
       "      <td>0</td>\n",
       "      <td>4.900</td>\n",
       "      <td>3</td>\n",
       "      <td>539</td>\n",
       "      <td>0.140</td>\n",
       "      <td>Домашний текстиль</td>\n",
       "      <td>5</td>\n",
       "      <td>2</td>\n",
       "      <td>1</td>\n",
       "      <td>5</td>\n",
       "      <td>5457.500</td>\n",
       "      <td>4826.000</td>\n",
       "      <td>5058.400</td>\n",
       "      <td>8</td>\n",
       "      <td>13</td>\n",
       "    </tr>\n",
       "    <tr>\n",
       "      <th>2</th>\n",
       "      <td>215351</td>\n",
       "      <td>Снизилась</td>\n",
       "      <td>стандарт</td>\n",
       "      <td>1</td>\n",
       "      <td>3.200</td>\n",
       "      <td>5</td>\n",
       "      <td>896</td>\n",
       "      <td>0.990</td>\n",
       "      <td>Товары для детей</td>\n",
       "      <td>5</td>\n",
       "      <td>0</td>\n",
       "      <td>6</td>\n",
       "      <td>4</td>\n",
       "      <td>6158.000</td>\n",
       "      <td>4793.000</td>\n",
       "      <td>6610.400</td>\n",
       "      <td>11</td>\n",
       "      <td>13</td>\n",
       "    </tr>\n",
       "    <tr>\n",
       "      <th>3</th>\n",
       "      <td>215352</td>\n",
       "      <td>Снизилась</td>\n",
       "      <td>стандарт</td>\n",
       "      <td>0</td>\n",
       "      <td>5.100</td>\n",
       "      <td>3</td>\n",
       "      <td>1064</td>\n",
       "      <td>0.940</td>\n",
       "      <td>Товары для детей</td>\n",
       "      <td>3</td>\n",
       "      <td>2</td>\n",
       "      <td>3</td>\n",
       "      <td>2</td>\n",
       "      <td>5807.500</td>\n",
       "      <td>4594.000</td>\n",
       "      <td>5872.500</td>\n",
       "      <td>8</td>\n",
       "      <td>11</td>\n",
       "    </tr>\n",
       "    <tr>\n",
       "      <th>4</th>\n",
       "      <td>215353</td>\n",
       "      <td>Снизилась</td>\n",
       "      <td>стандарт</td>\n",
       "      <td>1</td>\n",
       "      <td>3.300</td>\n",
       "      <td>4</td>\n",
       "      <td>762</td>\n",
       "      <td>0.260</td>\n",
       "      <td>Домашний текстиль</td>\n",
       "      <td>4</td>\n",
       "      <td>1</td>\n",
       "      <td>1</td>\n",
       "      <td>4</td>\n",
       "      <td>4738.500</td>\n",
       "      <td>5124.000</td>\n",
       "      <td>5388.500</td>\n",
       "      <td>10</td>\n",
       "      <td>10</td>\n",
       "    </tr>\n",
       "  </tbody>\n",
       "</table>\n",
       "</div>"
      ],
      "text/plain": [
       "       id customer_activity service_type  allow_notifications  \\\n",
       "0  215349         Снизилась      премиум                    1   \n",
       "1  215350         Снизилась     стандарт                    0   \n",
       "2  215351         Снизилась     стандарт                    1   \n",
       "3  215352         Снизилась     стандарт                    0   \n",
       "4  215353         Снизилась     стандарт                    1   \n",
       "\n",
       "   market_activ_6_months  market_activ_curr_month  duration  \\\n",
       "0                  4.400                        4       819   \n",
       "1                  4.900                        3       539   \n",
       "2                  3.200                        5       896   \n",
       "3                  5.100                        3      1064   \n",
       "4                  3.300                        4       762   \n",
       "\n",
       "   promotional_purchases   popular_category  average_cat_views_per_visit  \\\n",
       "0                  0.750   Товары для детей                            4   \n",
       "1                  0.140  Домашний текстиль                            5   \n",
       "2                  0.990   Товары для детей                            5   \n",
       "3                  0.940   Товары для детей                            3   \n",
       "4                  0.260  Домашний текстиль                            4   \n",
       "\n",
       "   unpaid_products_quarterly  service_errors  pages_per_visit  \\\n",
       "0                          4               2                5   \n",
       "1                          2               1                5   \n",
       "2                          0               6                4   \n",
       "3                          2               3                2   \n",
       "4                          1               1                4   \n",
       "\n",
       "   предыдущий_месяц_money  препредыдущий_месяц_money  текущий_месяц_money  \\\n",
       "0                5216.000                   4472.000             4971.600   \n",
       "1                5457.500                   4826.000             5058.400   \n",
       "2                6158.000                   4793.000             6610.400   \n",
       "3                5807.500                   4594.000             5872.500   \n",
       "4                4738.500                   5124.000             5388.500   \n",
       "\n",
       "   предыдущий_месяц_period  текущий_месяц_period  \n",
       "0                       12                    10  \n",
       "1                        8                    13  \n",
       "2                       11                    13  \n",
       "3                        8                    11  \n",
       "4                       10                    10  "
      ]
     },
     "execution_count": 92,
     "metadata": {},
     "output_type": "execute_result"
    }
   ],
   "source": [
    "final_df_filtered.head()"
   ]
  },
  {
   "cell_type": "code",
   "execution_count": null,
   "id": "437bf028",
   "metadata": {},
   "outputs": [],
   "source": []
  },
  {
   "cell_type": "code",
   "execution_count": 93,
   "id": "ad3dc434",
   "metadata": {
    "scrolled": true
   },
   "outputs": [
    {
     "name": "stdout",
     "output_type": "stream",
     "text": [
      "<class 'pandas.core.frame.DataFrame'>\n",
      "RangeIndex: 1300 entries, 0 to 1299\n",
      "Data columns (total 2 columns):\n",
      " #   Column  Non-Null Count  Dtype  \n",
      "---  ------  --------------  -----  \n",
      " 0   id      1300 non-null   int64  \n",
      " 1   profit  1300 non-null   float64\n",
      "dtypes: float64(1), int64(1)\n",
      "memory usage: 20.4 KB\n"
     ]
    }
   ],
   "source": [
    "money_df.info()"
   ]
  },
  {
   "cell_type": "code",
   "execution_count": 94,
   "id": "cba2a4f1",
   "metadata": {},
   "outputs": [
    {
     "data": {
      "text/plain": [
       "1296.0"
      ]
     },
     "execution_count": 94,
     "metadata": {},
     "output_type": "execute_result"
    }
   ],
   "source": [
    "predicted_probabilities = best_model.predict_proba(final_df_filtered)\n",
    "predicted_probabilities.sum()"
   ]
  },
  {
   "cell_type": "code",
   "execution_count": 95,
   "id": "f7a39055",
   "metadata": {},
   "outputs": [
    {
     "data": {
      "text/plain": [
       "id        1296\n",
       "profit    1296\n",
       "dtype: int64"
      ]
     },
     "execution_count": 95,
     "metadata": {},
     "output_type": "execute_result"
    }
   ],
   "source": [
    "money_df_filtered = money_df[money_df['id'].isin(final_df_filtered['id'])]\n",
    "money_df_filtered.count()"
   ]
  },
  {
   "cell_type": "code",
   "execution_count": 96,
   "id": "1a61b606",
   "metadata": {},
   "outputs": [
    {
     "data": {
      "text/plain": [
       "424"
      ]
     },
     "metadata": {},
     "output_type": "display_data"
    },
    {
     "data": {
      "text/html": [
       "<div>\n",
       "<style scoped>\n",
       "    .dataframe tbody tr th:only-of-type {\n",
       "        vertical-align: middle;\n",
       "    }\n",
       "\n",
       "    .dataframe tbody tr th {\n",
       "        vertical-align: top;\n",
       "    }\n",
       "\n",
       "    .dataframe thead th {\n",
       "        text-align: right;\n",
       "    }\n",
       "</style>\n",
       "<table border=\"1\" class=\"dataframe\">\n",
       "  <thead>\n",
       "    <tr style=\"text-align: right;\">\n",
       "      <th></th>\n",
       "      <th>id</th>\n",
       "      <th>customer_activity</th>\n",
       "      <th>service_type</th>\n",
       "      <th>allow_notifications</th>\n",
       "      <th>market_activ_6_months</th>\n",
       "      <th>market_activ_curr_month</th>\n",
       "      <th>duration</th>\n",
       "      <th>promotional_purchases</th>\n",
       "      <th>popular_category</th>\n",
       "      <th>average_cat_views_per_visit</th>\n",
       "      <th>unpaid_products_quarterly</th>\n",
       "      <th>service_errors</th>\n",
       "      <th>pages_per_visit</th>\n",
       "      <th>предыдущий_месяц_money</th>\n",
       "      <th>препредыдущий_месяц_money</th>\n",
       "      <th>текущий_месяц_money</th>\n",
       "      <th>предыдущий_месяц_period</th>\n",
       "      <th>текущий_месяц_period</th>\n",
       "      <th>predicted_probability</th>\n",
       "      <th>profit</th>\n",
       "    </tr>\n",
       "  </thead>\n",
       "  <tbody>\n",
       "    <tr>\n",
       "      <th>1</th>\n",
       "      <td>215350</td>\n",
       "      <td>Снизилась</td>\n",
       "      <td>стандарт</td>\n",
       "      <td>0</td>\n",
       "      <td>4.900</td>\n",
       "      <td>3</td>\n",
       "      <td>539</td>\n",
       "      <td>0.140</td>\n",
       "      <td>Домашний текстиль</td>\n",
       "      <td>5</td>\n",
       "      <td>2</td>\n",
       "      <td>1</td>\n",
       "      <td>5</td>\n",
       "      <td>5457.500</td>\n",
       "      <td>4826.000</td>\n",
       "      <td>5058.400</td>\n",
       "      <td>8</td>\n",
       "      <td>13</td>\n",
       "      <td>1.000</td>\n",
       "      <td>4.160</td>\n",
       "    </tr>\n",
       "    <tr>\n",
       "      <th>2</th>\n",
       "      <td>215351</td>\n",
       "      <td>Снизилась</td>\n",
       "      <td>стандарт</td>\n",
       "      <td>1</td>\n",
       "      <td>3.200</td>\n",
       "      <td>5</td>\n",
       "      <td>896</td>\n",
       "      <td>0.990</td>\n",
       "      <td>Товары для детей</td>\n",
       "      <td>5</td>\n",
       "      <td>0</td>\n",
       "      <td>6</td>\n",
       "      <td>4</td>\n",
       "      <td>6158.000</td>\n",
       "      <td>4793.000</td>\n",
       "      <td>6610.400</td>\n",
       "      <td>11</td>\n",
       "      <td>13</td>\n",
       "      <td>1.000</td>\n",
       "      <td>3.130</td>\n",
       "    </tr>\n",
       "    <tr>\n",
       "      <th>3</th>\n",
       "      <td>215352</td>\n",
       "      <td>Снизилась</td>\n",
       "      <td>стандарт</td>\n",
       "      <td>0</td>\n",
       "      <td>5.100</td>\n",
       "      <td>3</td>\n",
       "      <td>1064</td>\n",
       "      <td>0.940</td>\n",
       "      <td>Товары для детей</td>\n",
       "      <td>3</td>\n",
       "      <td>2</td>\n",
       "      <td>3</td>\n",
       "      <td>2</td>\n",
       "      <td>5807.500</td>\n",
       "      <td>4594.000</td>\n",
       "      <td>5872.500</td>\n",
       "      <td>8</td>\n",
       "      <td>11</td>\n",
       "      <td>1.000</td>\n",
       "      <td>4.870</td>\n",
       "    </tr>\n",
       "    <tr>\n",
       "      <th>4</th>\n",
       "      <td>215353</td>\n",
       "      <td>Снизилась</td>\n",
       "      <td>стандарт</td>\n",
       "      <td>1</td>\n",
       "      <td>3.300</td>\n",
       "      <td>4</td>\n",
       "      <td>762</td>\n",
       "      <td>0.260</td>\n",
       "      <td>Домашний текстиль</td>\n",
       "      <td>4</td>\n",
       "      <td>1</td>\n",
       "      <td>1</td>\n",
       "      <td>4</td>\n",
       "      <td>4738.500</td>\n",
       "      <td>5124.000</td>\n",
       "      <td>5388.500</td>\n",
       "      <td>10</td>\n",
       "      <td>10</td>\n",
       "      <td>1.000</td>\n",
       "      <td>4.210</td>\n",
       "    </tr>\n",
       "    <tr>\n",
       "      <th>5</th>\n",
       "      <td>215354</td>\n",
       "      <td>Снизилась</td>\n",
       "      <td>стандарт</td>\n",
       "      <td>1</td>\n",
       "      <td>5.100</td>\n",
       "      <td>3</td>\n",
       "      <td>431</td>\n",
       "      <td>0.230</td>\n",
       "      <td>Косметика и аксесуары</td>\n",
       "      <td>2</td>\n",
       "      <td>3</td>\n",
       "      <td>7</td>\n",
       "      <td>2</td>\n",
       "      <td>5685.000</td>\n",
       "      <td>4503.000</td>\n",
       "      <td>5869.600</td>\n",
       "      <td>11</td>\n",
       "      <td>12</td>\n",
       "      <td>1.000</td>\n",
       "      <td>3.950</td>\n",
       "    </tr>\n",
       "  </tbody>\n",
       "</table>\n",
       "</div>"
      ],
      "text/plain": [
       "       id customer_activity service_type  allow_notifications  \\\n",
       "1  215350         Снизилась     стандарт                    0   \n",
       "2  215351         Снизилась     стандарт                    1   \n",
       "3  215352         Снизилась     стандарт                    0   \n",
       "4  215353         Снизилась     стандарт                    1   \n",
       "5  215354         Снизилась     стандарт                    1   \n",
       "\n",
       "   market_activ_6_months  market_activ_curr_month  duration  \\\n",
       "1                  4.900                        3       539   \n",
       "2                  3.200                        5       896   \n",
       "3                  5.100                        3      1064   \n",
       "4                  3.300                        4       762   \n",
       "5                  5.100                        3       431   \n",
       "\n",
       "   promotional_purchases       popular_category  average_cat_views_per_visit  \\\n",
       "1                  0.140      Домашний текстиль                            5   \n",
       "2                  0.990       Товары для детей                            5   \n",
       "3                  0.940       Товары для детей                            3   \n",
       "4                  0.260      Домашний текстиль                            4   \n",
       "5                  0.230  Косметика и аксесуары                            2   \n",
       "\n",
       "   unpaid_products_quarterly  service_errors  pages_per_visit  \\\n",
       "1                          2               1                5   \n",
       "2                          0               6                4   \n",
       "3                          2               3                2   \n",
       "4                          1               1                4   \n",
       "5                          3               7                2   \n",
       "\n",
       "   предыдущий_месяц_money  препредыдущий_месяц_money  текущий_месяц_money  \\\n",
       "1                5457.500                   4826.000             5058.400   \n",
       "2                6158.000                   4793.000             6610.400   \n",
       "3                5807.500                   4594.000             5872.500   \n",
       "4                4738.500                   5124.000             5388.500   \n",
       "5                5685.000                   4503.000             5869.600   \n",
       "\n",
       "   предыдущий_месяц_period  текущий_месяц_period  predicted_probability  \\\n",
       "1                        8                    13                  1.000   \n",
       "2                       11                    13                  1.000   \n",
       "3                        8                    11                  1.000   \n",
       "4                       10                    10                  1.000   \n",
       "5                       11                    12                  1.000   \n",
       "\n",
       "   profit  \n",
       "1   4.160  \n",
       "2   3.130  \n",
       "3   4.870  \n",
       "4   4.210  \n",
       "5   3.950  "
      ]
     },
     "execution_count": 96,
     "metadata": {},
     "output_type": "execute_result"
    }
   ],
   "source": [
    "# Предсказание вероятности снижения для каждого клиента\n",
    "predicted_probabilities = best_model.predict_proba(final_df_filtered)\n",
    "\n",
    "# Создание DataFrame с предсказаниями вероятности снижения и прибыли\n",
    "segmentation_df = pd.DataFrame({\n",
    "    'predicted_probability': predicted_probabilities[:, 1],  \n",
    "    'profit': money_df_filtered['profit']\n",
    "})\n",
    "\n",
    "threshold_probability = 0.7\n",
    "\n",
    "# Выбор сегмента\n",
    "segment = segmentation_df[(segmentation_df['predicted_probability'] > threshold_probability)]\n",
    "\n",
    "# Анализ данных по выбранному сегменту\n",
    "segment_data = final_df.merge(segment, left_index=True, right_index=True)\n",
    "\n",
    "display(segment_data.shape[0])\n",
    "\n",
    "segment_data.head()"
   ]
  },
  {
   "cell_type": "code",
   "execution_count": 97,
   "id": "38538821",
   "metadata": {},
   "outputs": [
    {
     "data": {
      "image/png": "[encoded data removed]",
      "text/plain": [
       "<Figure size 432x288 with 1 Axes>"
      ]
     },
     "metadata": {
      "needs_background": "light"
     },
     "output_type": "display_data"
    }
   ],
   "source": [
    "sns.scatterplot(data=segment_data, x='predicted_probability', y='profit')\n",
    "plt.axvline(x=0.7, color='red')\n",
    "plt.axhline(y=5, color='red')\n",
    "plt.grid(True)\n",
    "plt.show()"
   ]
  },
  {
   "cell_type": "code",
   "execution_count": 98,
   "id": "a89e5750",
   "metadata": {},
   "outputs": [
    {
     "data": {
      "text/html": [
       "<div>\n",
       "<style scoped>\n",
       "    .dataframe tbody tr th:only-of-type {\n",
       "        vertical-align: middle;\n",
       "    }\n",
       "\n",
       "    .dataframe tbody tr th {\n",
       "        vertical-align: top;\n",
       "    }\n",
       "\n",
       "    .dataframe thead th {\n",
       "        text-align: right;\n",
       "    }\n",
       "</style>\n",
       "<table border=\"1\" class=\"dataframe\">\n",
       "  <thead>\n",
       "    <tr style=\"text-align: right;\">\n",
       "      <th></th>\n",
       "      <th>id</th>\n",
       "      <th>customer_activity</th>\n",
       "      <th>service_type</th>\n",
       "      <th>allow_notifications</th>\n",
       "      <th>market_activ_6_months</th>\n",
       "      <th>market_activ_curr_month</th>\n",
       "      <th>duration</th>\n",
       "      <th>promotional_purchases</th>\n",
       "      <th>popular_category</th>\n",
       "      <th>average_cat_views_per_visit</th>\n",
       "      <th>unpaid_products_quarterly</th>\n",
       "      <th>service_errors</th>\n",
       "      <th>pages_per_visit</th>\n",
       "      <th>предыдущий_месяц_money</th>\n",
       "      <th>препредыдущий_месяц_money</th>\n",
       "      <th>текущий_месяц_money</th>\n",
       "      <th>предыдущий_месяц_period</th>\n",
       "      <th>текущий_месяц_period</th>\n",
       "      <th>predicted_probability</th>\n",
       "      <th>profit</th>\n",
       "    </tr>\n",
       "  </thead>\n",
       "  <tbody>\n",
       "    <tr>\n",
       "      <th>1</th>\n",
       "      <td>215350</td>\n",
       "      <td>Снизилась</td>\n",
       "      <td>стандарт</td>\n",
       "      <td>0</td>\n",
       "      <td>4.900</td>\n",
       "      <td>3</td>\n",
       "      <td>539</td>\n",
       "      <td>0.140</td>\n",
       "      <td>Домашний текстиль</td>\n",
       "      <td>5</td>\n",
       "      <td>2</td>\n",
       "      <td>1</td>\n",
       "      <td>5</td>\n",
       "      <td>5457.500</td>\n",
       "      <td>4826.000</td>\n",
       "      <td>5058.400</td>\n",
       "      <td>8</td>\n",
       "      <td>13</td>\n",
       "      <td>1.000</td>\n",
       "      <td>4.160</td>\n",
       "    </tr>\n",
       "    <tr>\n",
       "      <th>2</th>\n",
       "      <td>215351</td>\n",
       "      <td>Снизилась</td>\n",
       "      <td>стандарт</td>\n",
       "      <td>1</td>\n",
       "      <td>3.200</td>\n",
       "      <td>5</td>\n",
       "      <td>896</td>\n",
       "      <td>0.990</td>\n",
       "      <td>Товары для детей</td>\n",
       "      <td>5</td>\n",
       "      <td>0</td>\n",
       "      <td>6</td>\n",
       "      <td>4</td>\n",
       "      <td>6158.000</td>\n",
       "      <td>4793.000</td>\n",
       "      <td>6610.400</td>\n",
       "      <td>11</td>\n",
       "      <td>13</td>\n",
       "      <td>1.000</td>\n",
       "      <td>3.130</td>\n",
       "    </tr>\n",
       "    <tr>\n",
       "      <th>3</th>\n",
       "      <td>215352</td>\n",
       "      <td>Снизилась</td>\n",
       "      <td>стандарт</td>\n",
       "      <td>0</td>\n",
       "      <td>5.100</td>\n",
       "      <td>3</td>\n",
       "      <td>1064</td>\n",
       "      <td>0.940</td>\n",
       "      <td>Товары для детей</td>\n",
       "      <td>3</td>\n",
       "      <td>2</td>\n",
       "      <td>3</td>\n",
       "      <td>2</td>\n",
       "      <td>5807.500</td>\n",
       "      <td>4594.000</td>\n",
       "      <td>5872.500</td>\n",
       "      <td>8</td>\n",
       "      <td>11</td>\n",
       "      <td>1.000</td>\n",
       "      <td>4.870</td>\n",
       "    </tr>\n",
       "    <tr>\n",
       "      <th>4</th>\n",
       "      <td>215353</td>\n",
       "      <td>Снизилась</td>\n",
       "      <td>стандарт</td>\n",
       "      <td>1</td>\n",
       "      <td>3.300</td>\n",
       "      <td>4</td>\n",
       "      <td>762</td>\n",
       "      <td>0.260</td>\n",
       "      <td>Домашний текстиль</td>\n",
       "      <td>4</td>\n",
       "      <td>1</td>\n",
       "      <td>1</td>\n",
       "      <td>4</td>\n",
       "      <td>4738.500</td>\n",
       "      <td>5124.000</td>\n",
       "      <td>5388.500</td>\n",
       "      <td>10</td>\n",
       "      <td>10</td>\n",
       "      <td>1.000</td>\n",
       "      <td>4.210</td>\n",
       "    </tr>\n",
       "    <tr>\n",
       "      <th>5</th>\n",
       "      <td>215354</td>\n",
       "      <td>Снизилась</td>\n",
       "      <td>стандарт</td>\n",
       "      <td>1</td>\n",
       "      <td>5.100</td>\n",
       "      <td>3</td>\n",
       "      <td>431</td>\n",
       "      <td>0.230</td>\n",
       "      <td>Косметика и аксесуары</td>\n",
       "      <td>2</td>\n",
       "      <td>3</td>\n",
       "      <td>7</td>\n",
       "      <td>2</td>\n",
       "      <td>5685.000</td>\n",
       "      <td>4503.000</td>\n",
       "      <td>5869.600</td>\n",
       "      <td>11</td>\n",
       "      <td>12</td>\n",
       "      <td>1.000</td>\n",
       "      <td>3.950</td>\n",
       "    </tr>\n",
       "  </tbody>\n",
       "</table>\n",
       "</div>"
      ],
      "text/plain": [
       "       id customer_activity service_type  allow_notifications  \\\n",
       "1  215350         Снизилась     стандарт                    0   \n",
       "2  215351         Снизилась     стандарт                    1   \n",
       "3  215352         Снизилась     стандарт                    0   \n",
       "4  215353         Снизилась     стандарт                    1   \n",
       "5  215354         Снизилась     стандарт                    1   \n",
       "\n",
       "   market_activ_6_months  market_activ_curr_month  duration  \\\n",
       "1                  4.900                        3       539   \n",
       "2                  3.200                        5       896   \n",
       "3                  5.100                        3      1064   \n",
       "4                  3.300                        4       762   \n",
       "5                  5.100                        3       431   \n",
       "\n",
       "   promotional_purchases       popular_category  average_cat_views_per_visit  \\\n",
       "1                  0.140      Домашний текстиль                            5   \n",
       "2                  0.990       Товары для детей                            5   \n",
       "3                  0.940       Товары для детей                            3   \n",
       "4                  0.260      Домашний текстиль                            4   \n",
       "5                  0.230  Косметика и аксесуары                            2   \n",
       "\n",
       "   unpaid_products_quarterly  service_errors  pages_per_visit  \\\n",
       "1                          2               1                5   \n",
       "2                          0               6                4   \n",
       "3                          2               3                2   \n",
       "4                          1               1                4   \n",
       "5                          3               7                2   \n",
       "\n",
       "   предыдущий_месяц_money  препредыдущий_месяц_money  текущий_месяц_money  \\\n",
       "1                5457.500                   4826.000             5058.400   \n",
       "2                6158.000                   4793.000             6610.400   \n",
       "3                5807.500                   4594.000             5872.500   \n",
       "4                4738.500                   5124.000             5388.500   \n",
       "5                5685.000                   4503.000             5869.600   \n",
       "\n",
       "   предыдущий_месяц_period  текущий_месяц_period  predicted_probability  \\\n",
       "1                        8                    13                  1.000   \n",
       "2                       11                    13                  1.000   \n",
       "3                        8                    11                  1.000   \n",
       "4                       10                    10                  1.000   \n",
       "5                       11                    12                  1.000   \n",
       "\n",
       "   profit  \n",
       "1   4.160  \n",
       "2   3.130  \n",
       "3   4.870  \n",
       "4   4.210  \n",
       "5   3.950  "
      ]
     },
     "execution_count": 98,
     "metadata": {},
     "output_type": "execute_result"
    }
   ],
   "source": [
    "segment_data.head()"
   ]
  },
  {
   "cell_type": "code",
   "execution_count": null,
   "id": "4db171cf",
   "metadata": {},
   "outputs": [],
   "source": []
  },
  {
   "cell_type": "code",
   "execution_count": 99,
   "id": "48575872",
   "metadata": {},
   "outputs": [
    {
     "name": "stdout",
     "output_type": "stream",
     "text": [
      "<class 'pandas.core.frame.DataFrame'>\n",
      "Int64Index: 424 entries, 1 to 444\n",
      "Data columns (total 20 columns):\n",
      " #   Column                       Non-Null Count  Dtype  \n",
      "---  ------                       --------------  -----  \n",
      " 0   id                           424 non-null    int64  \n",
      " 1   customer_activity            424 non-null    object \n",
      " 2   service_type                 424 non-null    object \n",
      " 3   allow_notifications          424 non-null    int64  \n",
      " 4   market_activ_6_months        424 non-null    float64\n",
      " 5   market_activ_curr_month      424 non-null    int64  \n",
      " 6   duration                     424 non-null    int64  \n",
      " 7   promotional_purchases        424 non-null    float64\n",
      " 8   popular_category             424 non-null    object \n",
      " 9   average_cat_views_per_visit  424 non-null    int64  \n",
      " 10  unpaid_products_quarterly    424 non-null    int64  \n",
      " 11  service_errors               424 non-null    int64  \n",
      " 12  pages_per_visit              424 non-null    int64  \n",
      " 13  предыдущий_месяц_money       424 non-null    float64\n",
      " 14  препредыдущий_месяц_money    424 non-null    float64\n",
      " 15  текущий_месяц_money          424 non-null    float64\n",
      " 16  предыдущий_месяц_period      424 non-null    int64  \n",
      " 17  текущий_месяц_period         424 non-null    int64  \n",
      " 18  predicted_probability        424 non-null    float64\n",
      " 19  profit                       424 non-null    float64\n",
      "dtypes: float64(7), int64(10), object(3)\n",
      "memory usage: 69.6+ KB\n"
     ]
    }
   ],
   "source": [
    "segment_data.info()"
   ]
  },
  {
   "cell_type": "code",
   "execution_count": 100,
   "id": "4a8d300f",
   "metadata": {},
   "outputs": [
    {
     "data": {
      "image/png": "[encoded data removed]",
      "text/plain": [
       "<Figure size 576x432 with 1 Axes>"
      ]
     },
     "metadata": {
      "needs_background": "light"
     },
     "output_type": "display_data"
    }
   ],
   "source": [
    "# Построение гистограммы для признака 'pages_per_visit'\n",
    "plt.figure(figsize=(8, 6))\n",
    "sns.histplot(data=segment_data, x='pages_per_visit', bins=20, kde=True)\n",
    "plt.title('Распределение прибыли в выбранной группе покупателей')\n",
    "plt.xlabel('Прибыль')\n",
    "plt.ylabel('Частота')\n",
    "plt.grid(True)\n",
    "plt.show()\n"
   ]
  },
  {
   "cell_type": "code",
   "execution_count": 101,
   "id": "62a82b27",
   "metadata": {
    "scrolled": true
   },
   "outputs": [
    {
     "data": {
      "image/png": "[encoded data removed]",
      "text/plain": [
       "<Figure size 576x432 with 1 Axes>"
      ]
     },
     "metadata": {
      "needs_background": "light"
     },
     "output_type": "display_data"
    }
   ],
   "source": [
    "# Построение диаграммы рассеяния между признаками 'pages_per_visit' и 'revenue'\n",
    "plt.figure(figsize=(8, 6))\n",
    "sns.scatterplot(data=segment_data, x='pages_per_visit', y='profit')\n",
    "plt.title('Диаграмма рассеяния между количеством страниц и прибылью в выбранной группе покупателей')\n",
    "plt.xlabel(\"Количество страниц\")\n",
    "plt.ylabel('Прибыль')\n",
    "plt.grid(True)\n",
    "plt.show()"
   ]
  },
  {
   "cell_type": "code",
   "execution_count": 102,
   "id": "85eab976",
   "metadata": {
    "scrolled": true
   },
   "outputs": [
    {
     "data": {
      "image/png": "[encoded data removed]",
      "text/plain": [
       "<Figure size 576x432 with 1 Axes>"
      ]
     },
     "metadata": {
      "needs_background": "light"
     },
     "output_type": "display_data"
    }
   ],
   "source": [
    "# Построение диаграммы с усами между признаками 'customer_activity' и 'pages_per_visit'\n",
    "plt.figure(figsize=(8, 6))\n",
    "sns.boxplot(data=segment_data, x='customer_activity', y='pages_per_visit')\n",
    "plt.title('Диаграмма рассеяния между количеством страниц и прибылью в выбранной группе покупателей')\n",
    "plt.xlabel(\"Количество страниц\")\n",
    "plt.ylabel('Прибыль')\n",
    "plt.grid(True)\n",
    "plt.show()"
   ]
  },
  {
   "cell_type": "code",
   "execution_count": 103,
   "id": "0fb3878f",
   "metadata": {
    "scrolled": true
   },
   "outputs": [
    {
     "data": {
      "image/png": "[encoded data removed]",
      "text/plain": [
       "<Figure size 576x432 with 1 Axes>"
      ]
     },
     "metadata": {
      "needs_background": "light"
     },
     "output_type": "display_data"
    }
   ],
   "source": [
    "# Построение диаграммы рассеяния между признаками 'customer_activity' и 'revenue'\n",
    "plt.figure(figsize=(8, 6))\n",
    "sns.scatterplot(data=segment_data, x='customer_activity', y='profit')\n",
    "plt.title('Диаграмма рассеяния между длительностью и прибылью в выбранной группе покупателей')\n",
    "plt.xlabel('Длительность')\n",
    "plt.ylabel('Прибыль')\n",
    "plt.grid(True)\n",
    "plt.show()"
   ]
  },
  {
   "cell_type": "code",
   "execution_count": 104,
   "id": "612fd84b",
   "metadata": {
    "scrolled": true
   },
   "outputs": [
    {
     "data": {
      "image/png": "[encoded data removed]",
      "text/plain": [
       "<Figure size 576x432 with 1 Axes>"
      ]
     },
     "metadata": {
      "needs_background": "light"
     },
     "output_type": "display_data"
    }
   ],
   "source": [
    "# Построение диаграммы рассеяния между признаками 'market_activ_6_months' и 'revenue'\n",
    "plt.figure(figsize=(8, 6))\n",
    "sns.scatterplot(data=segment_data, x='market_activ_6_months', y='profit')\n",
    "plt.title('Диаграмма рассеяния между длительностью и прибылью в выбранной группе покупателей')\n",
    "plt.xlabel('Длительность')\n",
    "plt.ylabel('Прибыль')\n",
    "plt.grid(True)\n",
    "plt.show()"
   ]
  },
  {
   "cell_type": "markdown",
   "id": "8581b911",
   "metadata": {},
   "source": [
    "**Вывод:**\n",
    "\n",
    "1. Для данного сегмента были отобраны пользователи, имеющие платную подписку \"премиум\" к сервису (преобразованные в булевы значения).\n",
    "2. Для дальнейшего анализа можно выбрать аудиторию, включающую пользователей с платной подпиской \"премиум\".\n",
    "3. Для повышения привлекательности и привлечения пользователей к сервису, возможно рекомендовать увеличение количества маркетинговых коммуникаций со стороны компании."
   ]
  },
  {
   "cell_type": "markdown",
   "id": "5773c244",
   "metadata": {},
   "source": [
    "# Шаг 9. Общий вывод"
   ]
  },
  {
   "cell_type": "markdown",
   "id": "5c95f1a7",
   "metadata": {},
   "source": [
    "**Общий вывод проектной работы:**\n",
    "1. Задача проектной работы была разработать решение, которое позволит персонализировать предложения постоянным клиентам, чтобы увеличить их покупательскую активность.\n",
    "2. Были получены следующие исходящие данные для работы:\n",
    "- `/datasets/market_file.csv`;\n",
    "- `/datasets/market_money.csv`;\n",
    "- `/datasets/market_time.csv`;\n",
    "- `/datasets/money.csv`.\n",
    "\n",
    "- Были импортированы необходимые библиотеки\n",
    "- Файлы были загружены\n",
    "- Названия столбцов были приведены в единый нижний регистр\n",
    "- Датафреймы были проверены на пропущенные значения, неявные и явные дубликаты в значениях.\n",
    "- Названия столбцов датафрейма `market_df` были приведени к единому порядку.\n",
    "- Дубликаты были ликвидированы в датафрейме `market_df`.\n",
    "- Значения следующих столбцов датафрейма `market_df` были преобразованы в бинарные:\n",
    "- `service_type`;\n",
    "- `allow_notifications`.\n",
    "- Названия столбцов датафрейма `market_money_df` были приведены к единому порядку.\n",
    "- Названия столбоцв датафрейма `market_time_df` были приведены к единому порядку.\n",
    "- Допущенные ошибки в значениях датафрейма `market_time_df` были исправлены.\n",
    "- Названия столбцов датафрейма `money_df` были приведены к единому порядку.\n",
    "\n",
    "3. Для поиска лучшей модели, были использованы пайплайны, благодаря которым, была выведена лучшая модель\n",
    "4. Лучшей моделью стала \"LogisticRegression\" - модель логистической регрессии\n",
    "5. Для повышения привлекательности и привлечения пользователей к сервису, возможно рекомендовать увеличение количества маркетинговых коммуникаций со стороны компании."
   ]
  },
  {
   "cell_type": "code",
   "execution_count": null,
   "id": "a786123c",
   "metadata": {},
   "outputs": [],
   "source": []
  }
 ],
 "metadata": {
  "ExecuteTimeLog": [
   {
    "duration": 14172,
    "start_time": "2024-06-01T15:53:26.899Z"
   },
   {
    "duration": 1860,
    "start_time": "2024-06-01T15:53:41.073Z"
   },
   {
    "duration": 3,
    "start_time": "2024-06-01T15:53:42.935Z"
   },
   {
    "duration": 43,
    "start_time": "2024-06-01T15:53:42.939Z"
   },
   {
    "duration": 364,
    "start_time": "2024-06-01T15:53:42.983Z"
   },
   {
    "duration": 25,
    "start_time": "2024-06-01T15:53:43.349Z"
   },
   {
    "duration": 10,
    "start_time": "2024-06-01T15:53:43.376Z"
   },
   {
    "duration": 11,
    "start_time": "2024-06-01T15:53:43.389Z"
   },
   {
    "duration": 15,
    "start_time": "2024-06-01T15:53:43.401Z"
   },
   {
    "duration": 13,
    "start_time": "2024-06-01T15:53:43.420Z"
   },
   {
    "duration": 42,
    "start_time": "2024-06-01T15:53:43.435Z"
   },
   {
    "duration": 5,
    "start_time": "2024-06-01T15:53:43.478Z"
   },
   {
    "duration": 34,
    "start_time": "2024-06-01T15:53:43.484Z"
   },
   {
    "duration": 12,
    "start_time": "2024-06-01T15:53:43.520Z"
   },
   {
    "duration": 18,
    "start_time": "2024-06-01T15:53:43.534Z"
   },
   {
    "duration": 20,
    "start_time": "2024-06-01T15:53:43.555Z"
   },
   {
    "duration": 30,
    "start_time": "2024-06-01T15:53:43.577Z"
   },
   {
    "duration": 12,
    "start_time": "2024-06-01T15:53:43.608Z"
   },
   {
    "duration": 14,
    "start_time": "2024-06-01T15:53:43.622Z"
   },
   {
    "duration": 3,
    "start_time": "2024-06-01T15:53:43.638Z"
   },
   {
    "duration": 30,
    "start_time": "2024-06-01T15:53:43.643Z"
   },
   {
    "duration": 14,
    "start_time": "2024-06-01T15:53:43.675Z"
   },
   {
    "duration": 34,
    "start_time": "2024-06-01T15:53:43.691Z"
   },
   {
    "duration": 3,
    "start_time": "2024-06-01T15:53:43.726Z"
   },
   {
    "duration": 8,
    "start_time": "2024-06-01T15:53:43.731Z"
   },
   {
    "duration": 23,
    "start_time": "2024-06-01T15:53:43.741Z"
   },
   {
    "duration": 13,
    "start_time": "2024-06-01T15:53:43.765Z"
   },
   {
    "duration": 54,
    "start_time": "2024-06-01T15:53:43.782Z"
   },
   {
    "duration": 39,
    "start_time": "2024-06-01T15:53:43.837Z"
   },
   {
    "duration": 28,
    "start_time": "2024-06-01T15:53:43.878Z"
   },
   {
    "duration": 21,
    "start_time": "2024-06-01T15:53:43.908Z"
   },
   {
    "duration": 5,
    "start_time": "2024-06-01T15:53:43.931Z"
   },
   {
    "duration": 245,
    "start_time": "2024-06-01T15:53:43.938Z"
   },
   {
    "duration": 4,
    "start_time": "2024-06-01T15:53:44.184Z"
   },
   {
    "duration": 127,
    "start_time": "2024-06-01T15:53:44.190Z"
   },
   {
    "duration": 8,
    "start_time": "2024-06-01T15:53:44.319Z"
   },
   {
    "duration": 37,
    "start_time": "2024-06-01T15:53:44.329Z"
   },
   {
    "duration": 8,
    "start_time": "2024-06-01T15:53:44.368Z"
   },
   {
    "duration": 16,
    "start_time": "2024-06-01T15:53:44.378Z"
   },
   {
    "duration": 3,
    "start_time": "2024-06-01T15:53:44.396Z"
   },
   {
    "duration": 15,
    "start_time": "2024-06-01T15:53:44.401Z"
   },
   {
    "duration": 18,
    "start_time": "2024-06-01T15:53:44.417Z"
   },
   {
    "duration": 144,
    "start_time": "2024-06-01T15:53:44.436Z"
   },
   {
    "duration": 22,
    "start_time": "2024-06-01T15:53:44.582Z"
   },
   {
    "duration": 345,
    "start_time": "2024-06-01T15:53:44.606Z"
   },
   {
    "duration": 6,
    "start_time": "2024-06-01T15:53:44.952Z"
   },
   {
    "duration": 32,
    "start_time": "2024-06-01T15:53:44.960Z"
   },
   {
    "duration": 33,
    "start_time": "2024-06-01T15:53:45.004Z"
   },
   {
    "duration": 79,
    "start_time": "2024-06-01T15:53:45.039Z"
   },
   {
    "duration": 55,
    "start_time": "2024-06-01T15:53:45.120Z"
   },
   {
    "duration": 56,
    "start_time": "2024-06-01T15:53:45.176Z"
   },
   {
    "duration": 47,
    "start_time": "2024-06-01T15:53:45.233Z"
   },
   {
    "duration": 40,
    "start_time": "2024-06-01T15:53:45.281Z"
   },
   {
    "duration": 52,
    "start_time": "2024-06-01T15:53:45.323Z"
   },
   {
    "duration": 64,
    "start_time": "2024-06-01T15:53:45.376Z"
   },
   {
    "duration": 42,
    "start_time": "2024-06-01T15:53:45.441Z"
   },
   {
    "duration": 43,
    "start_time": "2024-06-01T15:53:45.485Z"
   },
   {
    "duration": 12,
    "start_time": "2024-06-01T15:53:45.529Z"
   },
   {
    "duration": 33,
    "start_time": "2024-06-01T15:53:45.543Z"
   },
   {
    "duration": 23,
    "start_time": "2024-06-01T15:53:45.578Z"
   },
   {
    "duration": 35,
    "start_time": "2024-06-01T15:53:45.602Z"
   },
   {
    "duration": 8,
    "start_time": "2024-06-01T15:53:45.639Z"
   },
   {
    "duration": 37,
    "start_time": "2024-06-01T15:53:45.648Z"
   },
   {
    "duration": 19,
    "start_time": "2024-06-01T15:53:45.687Z"
   },
   {
    "duration": 6,
    "start_time": "2024-06-01T15:53:45.708Z"
   },
   {
    "duration": 19,
    "start_time": "2024-06-01T15:53:45.715Z"
   },
   {
    "duration": 43,
    "start_time": "2024-06-01T15:53:45.735Z"
   },
   {
    "duration": 1074,
    "start_time": "2024-06-01T15:53:45.780Z"
   },
   {
    "duration": 17,
    "start_time": "2024-06-01T15:53:46.856Z"
   },
   {
    "duration": 2353,
    "start_time": "2024-06-01T15:53:46.875Z"
   },
   {
    "duration": 11,
    "start_time": "2024-06-01T15:53:49.229Z"
   },
   {
    "duration": 3517,
    "start_time": "2024-06-01T15:53:49.255Z"
   },
   {
    "duration": 13,
    "start_time": "2024-06-01T15:53:52.774Z"
   },
   {
    "duration": 10,
    "start_time": "2024-06-01T15:53:52.788Z"
   },
   {
    "duration": 28,
    "start_time": "2024-06-01T15:53:52.800Z"
   },
   {
    "duration": 11,
    "start_time": "2024-06-01T15:53:52.830Z"
   },
   {
    "duration": 19,
    "start_time": "2024-06-01T15:53:52.842Z"
   },
   {
    "duration": 15,
    "start_time": "2024-06-01T15:53:52.863Z"
   },
   {
    "duration": 33,
    "start_time": "2024-06-01T15:53:52.880Z"
   },
   {
    "duration": 26,
    "start_time": "2024-06-01T15:53:52.914Z"
   },
   {
    "duration": 19,
    "start_time": "2024-06-01T15:53:52.942Z"
   },
   {
    "duration": 35,
    "start_time": "2024-06-01T15:53:52.969Z"
   },
   {
    "duration": 14,
    "start_time": "2024-06-01T15:53:53.006Z"
   },
   {
    "duration": 7,
    "start_time": "2024-06-01T15:53:53.022Z"
   },
   {
    "duration": 6,
    "start_time": "2024-06-01T15:53:53.030Z"
   },
   {
    "duration": 5,
    "start_time": "2024-06-01T15:53:53.037Z"
   },
   {
    "duration": 18,
    "start_time": "2024-06-01T15:53:53.044Z"
   },
   {
    "duration": 4393,
    "start_time": "2024-06-01T15:53:53.064Z"
   },
   {
    "duration": 48,
    "start_time": "2024-06-01T15:53:57.459Z"
   },
   {
    "duration": 71,
    "start_time": "2024-06-01T15:53:57.509Z"
   },
   {
    "duration": 998,
    "start_time": "2024-06-01T15:53:57.582Z"
   },
   {
    "duration": 14,
    "start_time": "2024-06-01T15:53:58.581Z"
   },
   {
    "duration": 31,
    "start_time": "2024-06-01T15:53:58.596Z"
   },
   {
    "duration": 50,
    "start_time": "2024-06-01T15:53:58.629Z"
   },
   {
    "duration": 8,
    "start_time": "2024-06-01T15:53:58.681Z"
   },
   {
    "duration": 36,
    "start_time": "2024-06-01T15:53:58.691Z"
   },
   {
    "duration": 302,
    "start_time": "2024-06-01T15:53:58.728Z"
   },
   {
    "duration": 14,
    "start_time": "2024-06-01T15:53:59.031Z"
   },
   {
    "duration": 31,
    "start_time": "2024-06-01T15:53:59.046Z"
   },
   {
    "duration": 240,
    "start_time": "2024-06-01T15:53:59.079Z"
   },
   {
    "duration": 326,
    "start_time": "2024-06-01T15:53:59.322Z"
   },
   {
    "duration": 180,
    "start_time": "2024-06-01T15:53:59.650Z"
   },
   {
    "duration": 187,
    "start_time": "2024-06-01T15:53:59.832Z"
   },
   {
    "duration": 212,
    "start_time": "2024-06-01T15:54:00.021Z"
   }
  ],
  "kernelspec": {
   "display_name": "Python 3 (ipykernel)",
   "language": "python",
   "name": "python3"
  },
  "language_info": {
   "codemirror_mode": {
    "name": "ipython",
    "version": 3
   },
   "file_extension": ".py",
   "mimetype": "text/x-python",
   "name": "python",
   "nbconvert_exporter": "python",
   "pygments_lexer": "ipython3",
   "version": "3.9.5"
  },
  "toc": {
   "base_numbering": 1,
   "nav_menu": {},
   "number_sections": true,
   "sideBar": true,
   "skip_h1_title": false,
   "title_cell": "Table of Contents",
   "title_sidebar": "Contents",
   "toc_cell": false,
   "toc_position": {},
   "toc_section_display": true,
   "toc_window_display": false
  }
 },
 "nbformat": 4,
 "nbformat_minor": 5
}
